{
 "cells": [
  {
   "attachments": {},
   "cell_type": "markdown",
   "id": "3df9ce6e-3722-4334-abf9-703d62c27eab",
   "metadata": {},
   "source": [
    "# 入门教程\n",
    "\n",
    "本教程将介绍Cozo数据库的基本功能。\n",
    "\n",
    "建议一边学习一边在自己的环境中执行查询语句，也可以做一些修改，以加深印象。你可以用下面这些方式来执行查询：\n",
    "\n",
    "* 在浏览器中直接运行：请在新窗口中打开 [Cozo 网页版](https://www.cozodb.org/wasm-demo/)（[国内镜像](https://cozodb.gitee.io/site/wasm-demo/)）然后跟着教程做。\n",
    "* 你可以从 [发布页面](https://github.com/cozodb/cozo/releases)（[国内镜像](https://gitee.com/cozodb/cozo/releases)）下载名为 `cozo-*` 的可执行文件（请选择与你的操作系统以及 CPU 匹配的版本），解压缩，改名为 `cozo`，然后在终端中执行命令 `cozo repl` 以开启命令行模式。在执行中如果可以粘贴多行代码。如果要手动输入多行代码，则先输入空格，再输入回车，以进入多行模式。\n",
    "* 如果你熟悉Python数据科学栈，也可以先 [安装 PyCozo](https://github.com/cozodb/pycozo) ，然后在Jupyter中运行 [此文件](https://github.com/cozodb/cozo-docs/blob/main/source/tutorial.ipynb) 。\n",
    "* 还有其他 [很多方法](https://github.com/cozodb/cozo/blob/main/README-zh.md#%E5%AE%89%E8%A3%85-cozo)（[国内镜像](https://gitee.com/cozodb/cozo/blob/main/README-zh.md#%E5%AE%89%E8%A3%85-cozo)），不过上面列出的几种方法最简单。\n",
    "\n",
    "下面这个单元格是用来初始化Jupyter的：如果你使用的是其它方式，请忽略。"
   ]
  },
  {
   "cell_type": "code",
   "execution_count": 1,
   "id": "2e0d11d7-64d7-4577-a28d-7541ee8875fa",
   "metadata": {},
   "outputs": [],
   "source": [
    "%load_ext pycozo.ipyext_direct"
   ]
  },
  {
   "attachments": {},
   "cell_type": "markdown",
   "id": "545ed77c-eeb9-4008-972e-0bdc1d6b7478",
   "metadata": {},
   "source": [
    "## 基础知识\n",
    "\n",
    "Cozo是一个关系型数据库。以下是经典的“你好，世界”查询："
   ]
  },
  {
   "cell_type": "code",
   "execution_count": 2,
   "id": "30b8148b-4daa-4de0-a844-d8254a07d990",
   "metadata": {},
   "outputs": [
    {
     "data": {
      "text/html": [
       "<style type=\"text/css\">\n",
       "#T_5ae28_row0_col0, #T_5ae28_row0_col1, #T_5ae28_row0_col2 {\n",
       "  color: black;\n",
       "}\n",
       "</style>\n",
       "<table id=\"T_5ae28\">\n",
       "  <thead>\n",
       "    <tr>\n",
       "      <th class=\"blank level0\" >&nbsp;</th>\n",
       "      <th id=\"T_5ae28_level0_col0\" class=\"col_heading level0 col0\" >_0</th>\n",
       "      <th id=\"T_5ae28_level0_col1\" class=\"col_heading level0 col1\" >_1</th>\n",
       "      <th id=\"T_5ae28_level0_col2\" class=\"col_heading level0 col2\" >_2</th>\n",
       "    </tr>\n",
       "  </thead>\n",
       "  <tbody>\n",
       "    <tr>\n",
       "      <th id=\"T_5ae28_level0_row0\" class=\"row_heading level0 row0\" >0</th>\n",
       "      <td id=\"T_5ae28_row0_col0\" class=\"data row0 col0\" >hello</td>\n",
       "      <td id=\"T_5ae28_row0_col1\" class=\"data row0 col1\" >world</td>\n",
       "      <td id=\"T_5ae28_row0_col2\" class=\"data row0 col2\" >Cozo!</td>\n",
       "    </tr>\n",
       "  </tbody>\n",
       "</table>\n"
      ],
      "text/plain": [
       "<pandas.io.formats.style.Styler at 0x26c461cf610>"
      ]
     },
     "execution_count": 2,
     "metadata": {},
     "output_type": "execute_result"
    }
   ],
   "source": [
    "?[] <- [['hello', 'world', 'Cozo!']]"
   ]
  },
  {
   "attachments": {},
   "cell_type": "markdown",
   "id": "a7de1353-7970-41ee-843e-cbe6287ded8d",
   "metadata": {},
   "source": [
    "在这个查询中，我们将一个由列表的列表所表示的临时性表传递给了数据库，而数据库将其作为结果返回。\n",
    "\n",
    "可以传递更多行，或者列："
   ]
  },
  {
   "cell_type": "code",
   "execution_count": 3,
   "id": "27995b4b-35b3-427f-af32-c3945d177463",
   "metadata": {},
   "outputs": [
    {
     "data": {
      "text/html": [
       "<style type=\"text/css\">\n",
       "#T_fb2b2_row0_col0, #T_fb2b2_row0_col1, #T_fb2b2_row0_col2 {\n",
       "  color: #307fc1;\n",
       "}\n",
       "#T_fb2b2_row1_col0, #T_fb2b2_row1_col1, #T_fb2b2_row1_col2 {\n",
       "  color: black;\n",
       "}\n",
       "</style>\n",
       "<table id=\"T_fb2b2\">\n",
       "  <thead>\n",
       "    <tr>\n",
       "      <th class=\"blank level0\" >&nbsp;</th>\n",
       "      <th id=\"T_fb2b2_level0_col0\" class=\"col_heading level0 col0\" >_0</th>\n",
       "      <th id=\"T_fb2b2_level0_col1\" class=\"col_heading level0 col1\" >_1</th>\n",
       "      <th id=\"T_fb2b2_level0_col2\" class=\"col_heading level0 col2\" >_2</th>\n",
       "    </tr>\n",
       "  </thead>\n",
       "  <tbody>\n",
       "    <tr>\n",
       "      <th id=\"T_fb2b2_level0_row0\" class=\"row_heading level0 row0\" >0</th>\n",
       "      <td id=\"T_fb2b2_row0_col0\" class=\"data row0 col0\" >1</td>\n",
       "      <td id=\"T_fb2b2_row0_col1\" class=\"data row0 col1\" >2</td>\n",
       "      <td id=\"T_fb2b2_row0_col2\" class=\"data row0 col2\" >3</td>\n",
       "    </tr>\n",
       "    <tr>\n",
       "      <th id=\"T_fb2b2_level0_row1\" class=\"row_heading level0 row1\" >1</th>\n",
       "      <td id=\"T_fb2b2_row1_col0\" class=\"data row1 col0\" >a</td>\n",
       "      <td id=\"T_fb2b2_row1_col1\" class=\"data row1 col1\" >b</td>\n",
       "      <td id=\"T_fb2b2_row1_col2\" class=\"data row1 col2\" >c</td>\n",
       "    </tr>\n",
       "  </tbody>\n",
       "</table>\n"
      ],
      "text/plain": [
       "<pandas.io.formats.style.Styler at 0x26c44c7fc10>"
      ]
     },
     "execution_count": 3,
     "metadata": {},
     "output_type": "execute_result"
    }
   ],
   "source": [
    "?[] <- [[1, 2, 3], ['a', 'b', 'c']]"
   ]
  },
  {
   "attachments": {},
   "cell_type": "markdown",
   "id": "f56c15a0-8359-4d90-b35d-aa21991acb96",
   "metadata": {},
   "source": [
    "这个例子展示了如何输入数字、字符串、布尔值以及空值："
   ]
  },
  {
   "cell_type": "code",
   "execution_count": 4,
   "id": "54901c40-ff7e-4c26-bfed-0d38aa7a80dc",
   "metadata": {},
   "outputs": [
    {
     "data": {
      "text/html": [
       "<style type=\"text/css\">\n",
       "#T_ded37_row0_col0, #T_ded37_row0_col1, #T_ded37_row0_col3, #T_ded37_row1_col0, #T_ded37_row1_col1, #T_ded37_row1_col2, #T_ded37_row1_col3, #T_ded37_row1_col4 {\n",
       "  color: #307fc1;\n",
       "}\n",
       "#T_ded37_row0_col2 {\n",
       "  color: #bf5b3d;\n",
       "}\n",
       "#T_ded37_row0_col4, #T_ded37_row2_col0, #T_ded37_row2_col1, #T_ded37_row2_col2, #T_ded37_row2_col3, #T_ded37_row2_col4 {\n",
       "  color: black;\n",
       "}\n",
       "</style>\n",
       "<table id=\"T_ded37\">\n",
       "  <thead>\n",
       "    <tr>\n",
       "      <th class=\"blank level0\" >&nbsp;</th>\n",
       "      <th id=\"T_ded37_level0_col0\" class=\"col_heading level0 col0\" >_0</th>\n",
       "      <th id=\"T_ded37_level0_col1\" class=\"col_heading level0 col1\" >_1</th>\n",
       "      <th id=\"T_ded37_level0_col2\" class=\"col_heading level0 col2\" >_2</th>\n",
       "      <th id=\"T_ded37_level0_col3\" class=\"col_heading level0 col3\" >_3</th>\n",
       "      <th id=\"T_ded37_level0_col4\" class=\"col_heading level0 col4\" >_4</th>\n",
       "    </tr>\n",
       "  </thead>\n",
       "  <tbody>\n",
       "    <tr>\n",
       "      <th id=\"T_ded37_level0_row0\" class=\"row_heading level0 row0\" >0</th>\n",
       "      <td id=\"T_ded37_row0_col0\" class=\"data row0 col0\" >True</td>\n",
       "      <td id=\"T_ded37_row0_col1\" class=\"data row0 col1\" >False</td>\n",
       "      <td id=\"T_ded37_row0_col2\" class=\"data row0 col2\" >None</td>\n",
       "      <td id=\"T_ded37_row0_col3\" class=\"data row0 col3\" >-0.014000</td>\n",
       "      <td id=\"T_ded37_row0_col4\" class=\"data row0 col4\" >A string with double quotes</td>\n",
       "    </tr>\n",
       "    <tr>\n",
       "      <th id=\"T_ded37_level0_row1\" class=\"row_heading level0 row1\" >1</th>\n",
       "      <td id=\"T_ded37_row1_col0\" class=\"data row1 col0\" >1.500000</td>\n",
       "      <td id=\"T_ded37_row1_col1\" class=\"data row1 col1\" >2.500000</td>\n",
       "      <td id=\"T_ded37_row1_col2\" class=\"data row1 col2\" >3</td>\n",
       "      <td id=\"T_ded37_row1_col3\" class=\"data row1 col3\" >4</td>\n",
       "      <td id=\"T_ded37_row1_col4\" class=\"data row1 col4\" >5.500000</td>\n",
       "    </tr>\n",
       "    <tr>\n",
       "      <th id=\"T_ded37_level0_row2\" class=\"row_heading level0 row2\" >2</th>\n",
       "      <td id=\"T_ded37_row2_col0\" class=\"data row2 col0\" >aA</td>\n",
       "      <td id=\"T_ded37_row2_col1\" class=\"data row2 col1\" >bB</td>\n",
       "      <td id=\"T_ded37_row2_col2\" class=\"data row2 col2\" >cC</td>\n",
       "      <td id=\"T_ded37_row2_col3\" class=\"data row2 col3\" >dD</td>\n",
       "      <td id=\"T_ded37_row2_col4\" class=\"data row2 col4\" >eE</td>\n",
       "    </tr>\n",
       "  </tbody>\n",
       "</table>\n"
      ],
      "text/plain": [
       "<pandas.io.formats.style.Styler at 0x26c44c5c5d0>"
      ]
     },
     "execution_count": 4,
     "metadata": {},
     "output_type": "execute_result"
    }
   ],
   "source": [
    "?[] <- [[1.5, 2.5, 3, 4, 5.5], \n",
    "        ['aA', 'bB', 'cC', 'dD', 'eE'], \n",
    "        [true, false, null, -1.4e-2, \"A string with double quotes\"]]"
   ]
  },
  {
   "attachments": {},
   "cell_type": "markdown",
   "id": "615e35d7-f5c0-4d71-ac62-6934c658a715",
   "metadata": {},
   "source": [
    "可以看出，Cozo中的输入表达式与JavaScript中的类似。Cozo保证对双引号中的字符串的解析方式与JSON中字符串的解析方式完全相同。Cozo的查询结果以JSON格式传递给程序，但它们在屏幕上的显示方式可能不同于JSON，比如在Python中布尔运算会按照Python的类型显示为大写而不是JSON中的小写。\n",
    "\n",
    "在这个例子中，行返回的顺序与输入的顺序不一样。这是因为在Cozo中，表永远是以树的形式存储的，而树中所存数据是有序的。树在存储数据时每个键只能有一个值，因此Cozo所返回的结果也不会包含重复行："
   ]
  },
  {
   "cell_type": "code",
   "execution_count": 5,
   "id": "28ab3f6e-0e32-486d-83fb-4fd5581e20dc",
   "metadata": {},
   "outputs": [
    {
     "data": {
      "text/html": [
       "<style type=\"text/css\">\n",
       "#T_cf941_row0_col0, #T_cf941_row1_col0 {\n",
       "  color: #307fc1;\n",
       "}\n",
       "</style>\n",
       "<table id=\"T_cf941\">\n",
       "  <thead>\n",
       "    <tr>\n",
       "      <th class=\"blank level0\" >&nbsp;</th>\n",
       "      <th id=\"T_cf941_level0_col0\" class=\"col_heading level0 col0\" >_0</th>\n",
       "    </tr>\n",
       "  </thead>\n",
       "  <tbody>\n",
       "    <tr>\n",
       "      <th id=\"T_cf941_level0_row0\" class=\"row_heading level0 row0\" >0</th>\n",
       "      <td id=\"T_cf941_row0_col0\" class=\"data row0 col0\" >1</td>\n",
       "    </tr>\n",
       "    <tr>\n",
       "      <th id=\"T_cf941_level0_row1\" class=\"row_heading level0 row1\" >1</th>\n",
       "      <td id=\"T_cf941_row1_col0\" class=\"data row1 col0\" >2</td>\n",
       "    </tr>\n",
       "  </tbody>\n",
       "</table>\n"
      ],
      "text/plain": [
       "<pandas.io.formats.style.Styler at 0x26c461e2d90>"
      ]
     },
     "execution_count": 5,
     "metadata": {},
     "output_type": "execute_result"
    }
   ],
   "source": [
    "?[] <- [[1], [2], [1], [2], [1]]"
   ]
  },
  {
   "attachments": {},
   "cell_type": "markdown",
   "id": "5a5d9022-c9b2-48c9-b447-ae69a2fc3a21",
   "metadata": {},
   "source": [
    "也就是说，Cozo中的表遵循 **集合** 语义，会自动去重。相比之下，SQL通常遵循 **词袋** 语义。（数据库通常通过给每条记录赋一个唯一的内部键来实现词袋语义。在Cozo中如果需要重复行，则需要显性地这么做。）\n",
    "\n",
    "Cozo采用集合语义的原因是集合语义在处理表之间的递归时要方便得多。Cozo作为一个以图数据为基础的数据库，通常需要处理大量的递归。\n",
    "\n",
    "### 表达式\n",
    "\n",
    "以下例子展示了表达式和注释的使用："
   ]
  },
  {
   "cell_type": "code",
   "execution_count": 6,
   "id": "dff14dab-2cc1-4917-aaa5-8feb1f075cf9",
   "metadata": {},
   "outputs": [
    {
     "data": {
      "text/html": [
       "<style type=\"text/css\">\n",
       "#T_b057a_row0_col0, #T_b057a_row0_col1, #T_b057a_row0_col2, #T_b057a_row0_col3, #T_b057a_row0_col4, #T_b057a_row0_col5, #T_b057a_row0_col7 {\n",
       "  color: #307fc1;\n",
       "}\n",
       "#T_b057a_row0_col6 {\n",
       "  color: black;\n",
       "}\n",
       "#T_b057a_row0_col8 {\n",
       "  color: #bf5b3d;\n",
       "}\n",
       "</style>\n",
       "<table id=\"T_b057a\">\n",
       "  <thead>\n",
       "    <tr>\n",
       "      <th class=\"blank level0\" >&nbsp;</th>\n",
       "      <th id=\"T_b057a_level0_col0\" class=\"col_heading level0 col0\" >_0</th>\n",
       "      <th id=\"T_b057a_level0_col1\" class=\"col_heading level0 col1\" >_1</th>\n",
       "      <th id=\"T_b057a_level0_col2\" class=\"col_heading level0 col2\" >_2</th>\n",
       "      <th id=\"T_b057a_level0_col3\" class=\"col_heading level0 col3\" >_3</th>\n",
       "      <th id=\"T_b057a_level0_col4\" class=\"col_heading level0 col4\" >_4</th>\n",
       "      <th id=\"T_b057a_level0_col5\" class=\"col_heading level0 col5\" >_5</th>\n",
       "      <th id=\"T_b057a_level0_col6\" class=\"col_heading level0 col6\" >_6</th>\n",
       "      <th id=\"T_b057a_level0_col7\" class=\"col_heading level0 col7\" >_7</th>\n",
       "      <th id=\"T_b057a_level0_col8\" class=\"col_heading level0 col8\" >_8</th>\n",
       "    </tr>\n",
       "  </thead>\n",
       "  <tbody>\n",
       "    <tr>\n",
       "      <th id=\"T_b057a_level0_row0\" class=\"row_heading level0 row0\" >0</th>\n",
       "      <td id=\"T_b057a_row0_col0\" class=\"data row0 col0\" >3</td>\n",
       "      <td id=\"T_b057a_row0_col1\" class=\"data row0 col1\" >0.750000</td>\n",
       "      <td id=\"T_b057a_row0_col2\" class=\"data row0 col2\" >False</td>\n",
       "      <td id=\"T_b057a_row0_col3\" class=\"data row0 col3\" >False</td>\n",
       "      <td id=\"T_b057a_row0_col4\" class=\"data row0 col4\" >True</td>\n",
       "      <td id=\"T_b057a_row0_col5\" class=\"data row0 col5\" >False</td>\n",
       "      <td id=\"T_b057a_row0_col6\" class=\"data row0 col6\" >hello</td>\n",
       "      <td id=\"T_b057a_row0_col7\" class=\"data row0 col7\" >0.342518</td>\n",
       "      <td id=\"T_b057a_row0_col8\" class=\"data row0 col8\" >[1, 2, 3, 4, 5, 6, 7]</td>\n",
       "    </tr>\n",
       "  </tbody>\n",
       "</table>\n"
      ],
      "text/plain": [
       "<pandas.io.formats.style.Styler at 0x26c5d8ab5d0>"
      ]
     },
     "execution_count": 6,
     "metadata": {},
     "output_type": "execute_result"
    }
   ],
   "source": [
    "?[] <- [[\n",
    "            1 + 2, # 加法\n",
    "            3 / 4, # 减法\n",
    "            5 == 6, # 等于\n",
    "            7 > 8, # 大于\n",
    "            true || false, # 逻辑或\n",
    "            false && true, # 逻辑与\n",
    "            lowercase('HELLO'), # 函数\n",
    "            rand_float(), # 不需要参数的函数\n",
    "            union([1, 2, 3], [3, 4, 5], [5, 6, 7]), # 参数数量不定的函数\n",
    "        ]]"
   ]
  },
  {
   "attachments": {},
   "cell_type": "markdown",
   "id": "4c5ee182-2ca8-49b3-8937-19da63124143",
   "metadata": {},
   "source": [
    "可以在 [这里](functions.rst) 查阅所有的函数。函数的语法与类C语言的函数类似。\n",
    "\n",
    "### 规则与表\n",
    "\n",
    "之前的例子均以 `?[] <-` 开头。包含 `<-` 这种形式的 **规则** 叫做 **常量规则**。`?` 之后 `<-` 之前的部分是规则的 **头部**，`<-` 之后的部分是规则的 **正文**。\n",
    "\n",
    "每个规则均有名。名为 `?` 的规则是一个特殊的规则：其结果会作为整个查询的结果返回。\n",
    "\n",
    "在规则头部中我们可给出返回的每列 **绑定** 变量："
   ]
  },
  {
   "cell_type": "code",
   "execution_count": 7,
   "id": "2a35a414-7037-4a2a-a07b-086463a4d4ef",
   "metadata": {},
   "outputs": [
    {
     "data": {
      "text/html": [
       "<style type=\"text/css\">\n",
       "#T_8c8c0_row0_col0, #T_8c8c0_row0_col1, #T_8c8c0_row0_col2 {\n",
       "  color: #307fc1;\n",
       "}\n",
       "#T_8c8c0_row1_col0, #T_8c8c0_row1_col1, #T_8c8c0_row1_col2 {\n",
       "  color: black;\n",
       "}\n",
       "</style>\n",
       "<table id=\"T_8c8c0\">\n",
       "  <thead>\n",
       "    <tr>\n",
       "      <th class=\"blank level0\" >&nbsp;</th>\n",
       "      <th id=\"T_8c8c0_level0_col0\" class=\"col_heading level0 col0\" >first</th>\n",
       "      <th id=\"T_8c8c0_level0_col1\" class=\"col_heading level0 col1\" >second</th>\n",
       "      <th id=\"T_8c8c0_level0_col2\" class=\"col_heading level0 col2\" >third</th>\n",
       "    </tr>\n",
       "  </thead>\n",
       "  <tbody>\n",
       "    <tr>\n",
       "      <th id=\"T_8c8c0_level0_row0\" class=\"row_heading level0 row0\" >0</th>\n",
       "      <td id=\"T_8c8c0_row0_col0\" class=\"data row0 col0\" >1</td>\n",
       "      <td id=\"T_8c8c0_row0_col1\" class=\"data row0 col1\" >2</td>\n",
       "      <td id=\"T_8c8c0_row0_col2\" class=\"data row0 col2\" >3</td>\n",
       "    </tr>\n",
       "    <tr>\n",
       "      <th id=\"T_8c8c0_level0_row1\" class=\"row_heading level0 row1\" >1</th>\n",
       "      <td id=\"T_8c8c0_row1_col0\" class=\"data row1 col0\" >a</td>\n",
       "      <td id=\"T_8c8c0_row1_col1\" class=\"data row1 col1\" >b</td>\n",
       "      <td id=\"T_8c8c0_row1_col2\" class=\"data row1 col2\" >c</td>\n",
       "    </tr>\n",
       "  </tbody>\n",
       "</table>\n"
      ],
      "text/plain": [
       "<pandas.io.formats.style.Styler at 0x26c5cad58d0>"
      ]
     },
     "execution_count": 7,
     "metadata": {},
     "output_type": "execute_result"
    }
   ],
   "source": [
    "?[first, second, third] <- [[1, 2, 3], ['a', 'b', 'c']]"
   ]
  },
  {
   "attachments": {},
   "cell_type": "markdown",
   "id": "ba32d27c-0787-48d3-94fb-79e77a8cce0c",
   "metadata": {},
   "source": [
    "常量规则的绑定变量的数量必须与实际数据相匹配，否则将会报错："
   ]
  },
  {
   "cell_type": "code",
   "execution_count": 8,
   "id": "b25901e4-fc6a-4cb0-9ca2-b9aeac80cc83",
   "metadata": {},
   "outputs": [
    {
     "data": {
      "text/plain": [
       "\u001b[31mparser::fixed_rule_head_arity_mismatch\u001b[0m\n",
       "\n",
       "  \u001b[31m×\u001b[0m Fixed rule head arity mismatch\n",
       "   ╭────\n",
       " \u001b[2m1\u001b[0m │ ?[first, second] <- [[1, 2, 3], ['a', 'b', 'c']]\n",
       "   · \u001b[35;1m─────────────────────────────────────────────────\u001b[0m\n",
       "   ╰────\n",
       "\u001b[36m  help: \u001b[0mExpected arity: 3, number of arguments given: 2\n"
      ]
     },
     "execution_count": 8,
     "metadata": {},
     "output_type": "execute_result"
    }
   ],
   "source": [
    "?[first, second] <- [[1, 2, 3], ['a', 'b', 'c']]"
   ]
  },
  {
   "attachments": {},
   "cell_type": "markdown",
   "id": "c71fb449-6a9c-4a7e-bed9-44230a41d5dd",
   "metadata": {},
   "source": [
    "规则的正文中可以 **应用** 其它规则："
   ]
  },
  {
   "cell_type": "code",
   "execution_count": 9,
   "id": "bc63b0b2-fa28-4d02-be90-23690f6021aa",
   "metadata": {},
   "outputs": [
    {
     "data": {
      "text/html": [
       "<style type=\"text/css\">\n",
       "#T_d3052_row0_col0, #T_d3052_row0_col1, #T_d3052_row0_col2 {\n",
       "  color: #307fc1;\n",
       "}\n",
       "#T_d3052_row1_col0, #T_d3052_row1_col1, #T_d3052_row1_col2 {\n",
       "  color: black;\n",
       "}\n",
       "</style>\n",
       "<table id=\"T_d3052\">\n",
       "  <thead>\n",
       "    <tr>\n",
       "      <th class=\"blank level0\" >&nbsp;</th>\n",
       "      <th id=\"T_d3052_level0_col0\" class=\"col_heading level0 col0\" >a</th>\n",
       "      <th id=\"T_d3052_level0_col1\" class=\"col_heading level0 col1\" >b</th>\n",
       "      <th id=\"T_d3052_level0_col2\" class=\"col_heading level0 col2\" >c</th>\n",
       "    </tr>\n",
       "  </thead>\n",
       "  <tbody>\n",
       "    <tr>\n",
       "      <th id=\"T_d3052_level0_row0\" class=\"row_heading level0 row0\" >0</th>\n",
       "      <td id=\"T_d3052_row0_col0\" class=\"data row0 col0\" >1</td>\n",
       "      <td id=\"T_d3052_row0_col1\" class=\"data row0 col1\" >2</td>\n",
       "      <td id=\"T_d3052_row0_col2\" class=\"data row0 col2\" >3</td>\n",
       "    </tr>\n",
       "    <tr>\n",
       "      <th id=\"T_d3052_level0_row1\" class=\"row_heading level0 row1\" >1</th>\n",
       "      <td id=\"T_d3052_row1_col0\" class=\"data row1 col0\" >a</td>\n",
       "      <td id=\"T_d3052_row1_col1\" class=\"data row1 col1\" >b</td>\n",
       "      <td id=\"T_d3052_row1_col2\" class=\"data row1 col2\" >c</td>\n",
       "    </tr>\n",
       "  </tbody>\n",
       "</table>\n"
      ],
      "text/plain": [
       "<pandas.io.formats.style.Styler at 0x26c461d3a90>"
      ]
     },
     "execution_count": 9,
     "metadata": {},
     "output_type": "execute_result"
    }
   ],
   "source": [
    "rule[first, second, third] <- [[1, 2, 3], ['a', 'b', 'c']]\n",
    "?[a, b, c] := rule[a, b, c]"
   ]
  },
  {
   "attachments": {},
   "cell_type": "markdown",
   "id": "d86d57af-fadb-441a-926f-142c613ca1f7",
   "metadata": {},
   "source": [
    "在第一行中，我们定义了一个名为 `rule` 的常量规则。名为 `?` 规则是一个 **内联规则** ，用连接符号 `:=` 来表示。 在它的正文中，它应用了之前定义的固定规则：给出规则的名称与三个 **新的绑定** ，即变量 `a` 、 `b` 和 `c`。\n",
    "\n",
    "通过内联规则，可以指定返回哪些列，以及返回的列的顺序："
   ]
  },
  {
   "cell_type": "code",
   "execution_count": 10,
   "id": "d5d52704-e2ed-430c-b9da-939964f7b8e0",
   "metadata": {},
   "outputs": [
    {
     "data": {
      "text/html": [
       "<style type=\"text/css\">\n",
       "#T_026d3_row0_col0, #T_026d3_row0_col1 {\n",
       "  color: #307fc1;\n",
       "}\n",
       "#T_026d3_row1_col0, #T_026d3_row1_col1 {\n",
       "  color: black;\n",
       "}\n",
       "</style>\n",
       "<table id=\"T_026d3\">\n",
       "  <thead>\n",
       "    <tr>\n",
       "      <th class=\"blank level0\" >&nbsp;</th>\n",
       "      <th id=\"T_026d3_level0_col0\" class=\"col_heading level0 col0\" >c</th>\n",
       "      <th id=\"T_026d3_level0_col1\" class=\"col_heading level0 col1\" >b</th>\n",
       "    </tr>\n",
       "  </thead>\n",
       "  <tbody>\n",
       "    <tr>\n",
       "      <th id=\"T_026d3_level0_row0\" class=\"row_heading level0 row0\" >0</th>\n",
       "      <td id=\"T_026d3_row0_col0\" class=\"data row0 col0\" >3</td>\n",
       "      <td id=\"T_026d3_row0_col1\" class=\"data row0 col1\" >2</td>\n",
       "    </tr>\n",
       "    <tr>\n",
       "      <th id=\"T_026d3_level0_row1\" class=\"row_heading level0 row1\" >1</th>\n",
       "      <td id=\"T_026d3_row1_col0\" class=\"data row1 col0\" >c</td>\n",
       "      <td id=\"T_026d3_row1_col1\" class=\"data row1 col1\" >b</td>\n",
       "    </tr>\n",
       "  </tbody>\n",
       "</table>\n"
      ],
      "text/plain": [
       "<pandas.io.formats.style.Styler at 0x26c5d8a2110>"
      ]
     },
     "execution_count": 10,
     "metadata": {},
     "output_type": "execute_result"
    }
   ],
   "source": [
    "rule[first, second, third] <- [[1, 2, 3], ['a', 'b', 'c']]\n",
    "?[c, b] := rule[a, b, c]"
   ]
  },
  {
   "attachments": {},
   "cell_type": "markdown",
   "id": "fb8a68dc-ab27-494b-86cd-b38502ea1a7c",
   "metadata": {},
   "source": [
    "内联规则的正文由 **原子** 组成。在以上例子中，我们以唯一的一个 **规则应用原子** 作为规则的正文。如果有多个原子，则用逗号连接它们："
   ]
  },
  {
   "cell_type": "code",
   "execution_count": 11,
   "id": "657050ce-5c99-494b-b2e7-283ae73de8fe",
   "metadata": {},
   "outputs": [
    {
     "data": {
      "text/html": [
       "<style type=\"text/css\">\n",
       "#T_8f7cb_row0_col0, #T_8f7cb_row0_col1 {\n",
       "  color: #307fc1;\n",
       "}\n",
       "</style>\n",
       "<table id=\"T_8f7cb\">\n",
       "  <thead>\n",
       "    <tr>\n",
       "      <th class=\"blank level0\" >&nbsp;</th>\n",
       "      <th id=\"T_8f7cb_level0_col0\" class=\"col_heading level0 col0\" >c</th>\n",
       "      <th id=\"T_8f7cb_level0_col1\" class=\"col_heading level0 col1\" >b</th>\n",
       "    </tr>\n",
       "  </thead>\n",
       "  <tbody>\n",
       "    <tr>\n",
       "      <th id=\"T_8f7cb_level0_row0\" class=\"row_heading level0 row0\" >0</th>\n",
       "      <td id=\"T_8f7cb_row0_col0\" class=\"data row0 col0\" >3</td>\n",
       "      <td id=\"T_8f7cb_row0_col1\" class=\"data row0 col1\" >2</td>\n",
       "    </tr>\n",
       "  </tbody>\n",
       "</table>\n"
      ],
      "text/plain": [
       "<pandas.io.formats.style.Styler at 0x26c5d8aba50>"
      ]
     },
     "execution_count": 11,
     "metadata": {},
     "output_type": "execute_result"
    }
   ],
   "source": [
    "?[c, b] := rule[a, b, c], is_num(a)\n",
    "rule[first, second, third] <- [[1, 2, 3], ['a', 'b', 'c']]"
   ]
  },
  {
   "attachments": {},
   "cell_type": "markdown",
   "id": "15c68fce-5318-453d-9e59-aee862ed5036",
   "metadata": {},
   "source": [
    "这里第二个原子是一个 **表达式** `is_num(a)`。表达式原子的作用是过滤结果：只有表达式求值为“真”的行会被返回。如果一个查询包含多个规则，他们之间的顺序不重要。\n",
    "\n",
    "在规则应用原子中，参数也可以直接绑定为常量："
   ]
  },
  {
   "cell_type": "code",
   "execution_count": 12,
   "id": "44745ced-563b-41ce-aace-ce43f7ada7f7",
   "metadata": {},
   "outputs": [
    {
     "data": {
      "text/html": [
       "<style type=\"text/css\">\n",
       "#T_74381_row0_col0, #T_74381_row0_col1 {\n",
       "  color: black;\n",
       "}\n",
       "</style>\n",
       "<table id=\"T_74381\">\n",
       "  <thead>\n",
       "    <tr>\n",
       "      <th class=\"blank level0\" >&nbsp;</th>\n",
       "      <th id=\"T_74381_level0_col0\" class=\"col_heading level0 col0\" >c</th>\n",
       "      <th id=\"T_74381_level0_col1\" class=\"col_heading level0 col1\" >b</th>\n",
       "    </tr>\n",
       "  </thead>\n",
       "  <tbody>\n",
       "    <tr>\n",
       "      <th id=\"T_74381_level0_row0\" class=\"row_heading level0 row0\" >0</th>\n",
       "      <td id=\"T_74381_row0_col0\" class=\"data row0 col0\" >c</td>\n",
       "      <td id=\"T_74381_row0_col1\" class=\"data row0 col1\" >b</td>\n",
       "    </tr>\n",
       "  </tbody>\n",
       "</table>\n"
      ],
      "text/plain": [
       "<pandas.io.formats.style.Styler at 0x26c44c67e90>"
      ]
     },
     "execution_count": 12,
     "metadata": {},
     "output_type": "execute_result"
    }
   ],
   "source": [
    "rule[first, second, third] <- [[1, 2, 3], ['a', 'b', 'c']]\n",
    "?[c, b] := rule['a', b, c]"
   ]
  },
  {
   "attachments": {},
   "cell_type": "markdown",
   "id": "40b1fc69-c118-4876-a2d5-5fd2d8931811",
   "metadata": {},
   "source": [
    "**归一运算符** `=` 可用来引入新的绑定："
   ]
  },
  {
   "cell_type": "code",
   "execution_count": 13,
   "id": "cf32547a-7def-4dec-8d05-77c7c910be2c",
   "metadata": {},
   "outputs": [
    {
     "data": {
      "text/html": [
       "<style type=\"text/css\">\n",
       "#T_54bb7_row0_col0, #T_54bb7_row0_col1, #T_54bb7_row0_col2 {\n",
       "  color: #307fc1;\n",
       "}\n",
       "</style>\n",
       "<table id=\"T_54bb7\">\n",
       "  <thead>\n",
       "    <tr>\n",
       "      <th class=\"blank level0\" >&nbsp;</th>\n",
       "      <th id=\"T_54bb7_level0_col0\" class=\"col_heading level0 col0\" >c</th>\n",
       "      <th id=\"T_54bb7_level0_col1\" class=\"col_heading level0 col1\" >b</th>\n",
       "      <th id=\"T_54bb7_level0_col2\" class=\"col_heading level0 col2\" >d</th>\n",
       "    </tr>\n",
       "  </thead>\n",
       "  <tbody>\n",
       "    <tr>\n",
       "      <th id=\"T_54bb7_level0_row0\" class=\"row_heading level0 row0\" >0</th>\n",
       "      <td id=\"T_54bb7_row0_col0\" class=\"data row0 col0\" >3</td>\n",
       "      <td id=\"T_54bb7_row0_col1\" class=\"data row0 col1\" >2</td>\n",
       "      <td id=\"T_54bb7_row0_col2\" class=\"data row0 col2\" >9</td>\n",
       "    </tr>\n",
       "  </tbody>\n",
       "</table>\n"
      ],
      "text/plain": [
       "<pandas.io.formats.style.Styler at 0x26c5d8a9790>"
      ]
     },
     "execution_count": 13,
     "metadata": {},
     "output_type": "execute_result"
    }
   ],
   "source": [
    "rule[first, second, third] <- [[1, 2, 3], ['a', 'b', 'c']]\n",
    "?[c, b, d] := rule[a, b, c], is_num(a), d = a + b + 2*c"
   ]
  },
  {
   "attachments": {},
   "cell_type": "markdown",
   "id": "c5384db7-8cab-4262-94f5-a2b7298417e8",
   "metadata": {},
   "source": [
    "如果在规则正文中包含多个规则应用，返回结果为所有绑定的组合："
   ]
  },
  {
   "cell_type": "code",
   "execution_count": 14,
   "id": "59d2a912-50d6-474a-ae9b-74f024a58bdc",
   "metadata": {},
   "outputs": [
    {
     "data": {
      "text/html": [
       "<style type=\"text/css\">\n",
       "#T_c5785_row0_col0, #T_c5785_row0_col1, #T_c5785_row1_col0, #T_c5785_row1_col1, #T_c5785_row2_col0, #T_c5785_row2_col1, #T_c5785_row3_col0, #T_c5785_row3_col1 {\n",
       "  color: black;\n",
       "}\n",
       "</style>\n",
       "<table id=\"T_c5785\">\n",
       "  <thead>\n",
       "    <tr>\n",
       "      <th class=\"blank level0\" >&nbsp;</th>\n",
       "      <th id=\"T_c5785_level0_col0\" class=\"col_heading level0 col0\" >l1</th>\n",
       "      <th id=\"T_c5785_level0_col1\" class=\"col_heading level0 col1\" >l2</th>\n",
       "    </tr>\n",
       "  </thead>\n",
       "  <tbody>\n",
       "    <tr>\n",
       "      <th id=\"T_c5785_level0_row0\" class=\"row_heading level0 row0\" >0</th>\n",
       "      <td id=\"T_c5785_row0_col0\" class=\"data row0 col0\" >a</td>\n",
       "      <td id=\"T_c5785_row0_col1\" class=\"data row0 col1\" >B</td>\n",
       "    </tr>\n",
       "    <tr>\n",
       "      <th id=\"T_c5785_level0_row1\" class=\"row_heading level0 row1\" >1</th>\n",
       "      <td id=\"T_c5785_row1_col0\" class=\"data row1 col0\" >a</td>\n",
       "      <td id=\"T_c5785_row1_col1\" class=\"data row1 col1\" >C</td>\n",
       "    </tr>\n",
       "    <tr>\n",
       "      <th id=\"T_c5785_level0_row2\" class=\"row_heading level0 row2\" >2</th>\n",
       "      <td id=\"T_c5785_row2_col0\" class=\"data row2 col0\" >b</td>\n",
       "      <td id=\"T_c5785_row2_col1\" class=\"data row2 col1\" >B</td>\n",
       "    </tr>\n",
       "    <tr>\n",
       "      <th id=\"T_c5785_level0_row3\" class=\"row_heading level0 row3\" >3</th>\n",
       "      <td id=\"T_c5785_row3_col0\" class=\"data row3 col0\" >b</td>\n",
       "      <td id=\"T_c5785_row3_col1\" class=\"data row3 col1\" >C</td>\n",
       "    </tr>\n",
       "  </tbody>\n",
       "</table>\n"
      ],
      "text/plain": [
       "<pandas.io.formats.style.Styler at 0x26c5d8afad0>"
      ]
     },
     "execution_count": 14,
     "metadata": {},
     "output_type": "execute_result"
    }
   ],
   "source": [
    "r1[] <- [[1, 'a'], [2, 'b']]\n",
    "r2[] <- [[2, 'B'], [3, 'C']]\n",
    "\n",
    "?[l1, l2] := r1[a, l1], \n",
    "             r2[b, l2]"
   ]
  },
  {
   "attachments": {},
   "cell_type": "markdown",
   "id": "b26be73d-dc5c-400b-9af4-d3aa9af0c430",
   "metadata": {},
   "source": [
    "因为这里两个规则应用中所有的绑定都不同，所以结果给出了关系代数中的笛卡尔乘积。如果绑定被重复使用，就会引发 **隐式归一**，也就是关系代数中的内连："
   ]
  },
  {
   "cell_type": "code",
   "execution_count": 15,
   "id": "20256fd6-b5c0-4947-a860-021846bef5fa",
   "metadata": {},
   "outputs": [
    {
     "data": {
      "text/html": [
       "<style type=\"text/css\">\n",
       "#T_0b150_row0_col0, #T_0b150_row0_col1 {\n",
       "  color: black;\n",
       "}\n",
       "</style>\n",
       "<table id=\"T_0b150\">\n",
       "  <thead>\n",
       "    <tr>\n",
       "      <th class=\"blank level0\" >&nbsp;</th>\n",
       "      <th id=\"T_0b150_level0_col0\" class=\"col_heading level0 col0\" >l1</th>\n",
       "      <th id=\"T_0b150_level0_col1\" class=\"col_heading level0 col1\" >l2</th>\n",
       "    </tr>\n",
       "  </thead>\n",
       "  <tbody>\n",
       "    <tr>\n",
       "      <th id=\"T_0b150_level0_row0\" class=\"row_heading level0 row0\" >0</th>\n",
       "      <td id=\"T_0b150_row0_col0\" class=\"data row0 col0\" >b</td>\n",
       "      <td id=\"T_0b150_row0_col1\" class=\"data row0 col1\" >B</td>\n",
       "    </tr>\n",
       "  </tbody>\n",
       "</table>\n"
      ],
      "text/plain": [
       "<pandas.io.formats.style.Styler at 0x26c5d89ded0>"
      ]
     },
     "execution_count": 15,
     "metadata": {},
     "output_type": "execute_result"
    }
   ],
   "source": [
    "r1[] <- [[1, 'a'], [2, 'b']]\n",
    "r2[] <- [[2, 'B'], [3, 'C']]\n",
    "\n",
    "?[l1, l2] := r1[a, l1], \n",
    "             r2[a, l2] # reused `a`"
   ]
  },
  {
   "attachments": {},
   "cell_type": "markdown",
   "id": "bf4be53c-118f-46b8-9c42-cb259aed6e87",
   "metadata": {},
   "source": [
    "算符 `=` 表示与单一值的归一。如果要与列表中所有的值依次进行归一，则可用 `in` 算符："
   ]
  },
  {
   "cell_type": "code",
   "execution_count": 16,
   "id": "5c7d2b90-8494-4521-aac6-2445473e50d7",
   "metadata": {},
   "outputs": [
    {
     "data": {
      "text/html": [
       "<style type=\"text/css\">\n",
       "#T_e4af6_row0_col0, #T_e4af6_row1_col0, #T_e4af6_row2_col0, #T_e4af6_row3_col0, #T_e4af6_row4_col0, #T_e4af6_row5_col0 {\n",
       "  color: #307fc1;\n",
       "}\n",
       "#T_e4af6_row0_col1, #T_e4af6_row1_col1, #T_e4af6_row2_col1, #T_e4af6_row3_col1, #T_e4af6_row4_col1, #T_e4af6_row5_col1 {\n",
       "  color: black;\n",
       "}\n",
       "</style>\n",
       "<table id=\"T_e4af6\">\n",
       "  <thead>\n",
       "    <tr>\n",
       "      <th class=\"blank level0\" >&nbsp;</th>\n",
       "      <th id=\"T_e4af6_level0_col0\" class=\"col_heading level0 col0\" >x</th>\n",
       "      <th id=\"T_e4af6_level0_col1\" class=\"col_heading level0 col1\" >y</th>\n",
       "    </tr>\n",
       "  </thead>\n",
       "  <tbody>\n",
       "    <tr>\n",
       "      <th id=\"T_e4af6_level0_row0\" class=\"row_heading level0 row0\" >0</th>\n",
       "      <td id=\"T_e4af6_row0_col0\" class=\"data row0 col0\" >1</td>\n",
       "      <td id=\"T_e4af6_row0_col1\" class=\"data row0 col1\" >x</td>\n",
       "    </tr>\n",
       "    <tr>\n",
       "      <th id=\"T_e4af6_level0_row1\" class=\"row_heading level0 row1\" >1</th>\n",
       "      <td id=\"T_e4af6_row1_col0\" class=\"data row1 col0\" >1</td>\n",
       "      <td id=\"T_e4af6_row1_col1\" class=\"data row1 col1\" >y</td>\n",
       "    </tr>\n",
       "    <tr>\n",
       "      <th id=\"T_e4af6_level0_row2\" class=\"row_heading level0 row2\" >2</th>\n",
       "      <td id=\"T_e4af6_row2_col0\" class=\"data row2 col0\" >2</td>\n",
       "      <td id=\"T_e4af6_row2_col1\" class=\"data row2 col1\" >x</td>\n",
       "    </tr>\n",
       "    <tr>\n",
       "      <th id=\"T_e4af6_level0_row3\" class=\"row_heading level0 row3\" >3</th>\n",
       "      <td id=\"T_e4af6_row3_col0\" class=\"data row3 col0\" >2</td>\n",
       "      <td id=\"T_e4af6_row3_col1\" class=\"data row3 col1\" >y</td>\n",
       "    </tr>\n",
       "    <tr>\n",
       "      <th id=\"T_e4af6_level0_row4\" class=\"row_heading level0 row4\" >4</th>\n",
       "      <td id=\"T_e4af6_row4_col0\" class=\"data row4 col0\" >3</td>\n",
       "      <td id=\"T_e4af6_row4_col1\" class=\"data row4 col1\" >x</td>\n",
       "    </tr>\n",
       "    <tr>\n",
       "      <th id=\"T_e4af6_level0_row5\" class=\"row_heading level0 row5\" >5</th>\n",
       "      <td id=\"T_e4af6_row5_col0\" class=\"data row5 col0\" >3</td>\n",
       "      <td id=\"T_e4af6_row5_col1\" class=\"data row5 col1\" >y</td>\n",
       "    </tr>\n",
       "  </tbody>\n",
       "</table>\n"
      ],
      "text/plain": [
       "<pandas.io.formats.style.Styler at 0x26c5d8afb10>"
      ]
     },
     "execution_count": 16,
     "metadata": {},
     "output_type": "execute_result"
    }
   ],
   "source": [
    "?[x, y] := x in [1, 2, 3], y in ['x', 'y']"
   ]
  },
  {
   "attachments": {},
   "cell_type": "markdown",
   "id": "af092ab5-2692-4b12-a6a7-eae8def60cac",
   "metadata": {},
   "source": [
    "内联规则的头部不需要使用正文中出现的所有变量，但是头部中的任何变量都必须在主体中至少出现一次，这叫做 **安全规则**："
   ]
  },
  {
   "cell_type": "code",
   "execution_count": 17,
   "id": "5a13303d-4f61-4bc5-85d1-391773a9bc7b",
   "metadata": {},
   "outputs": [
    {
     "data": {
      "text/plain": [
       "\u001b[31meval::unbound_symb_in_head\u001b[0m\n",
       "\n",
       "  \u001b[31m×\u001b[0m Symbol 'x' in rule head is unbound\n",
       "   ╭─[3:1]\n",
       " \u001b[2m3\u001b[0m │ \n",
       " \u001b[2m4\u001b[0m │ ?[l1, l2, x] := r1[a, l1], \n",
       "   · \u001b[35;1m          ─\u001b[0m\n",
       " \u001b[2m5\u001b[0m │                 r2[a, l2]\n",
       "   ╰────\n",
       "\u001b[36m  help: \u001b[0mNote that symbols occurring only in negated positions are not considered bound\n"
      ]
     },
     "execution_count": 17,
     "metadata": {},
     "output_type": "execute_result"
    }
   ],
   "source": [
    "r1[] <- [[1, 'a'], [2, 'b']]\n",
    "r2[] <- [[2, 'B'], [3, 'C']]\n",
    "\n",
    "?[l1, l2, x] := r1[a, l1], \n",
    "                r2[a, l2]"
   ]
  },
  {
   "attachments": {},
   "cell_type": "markdown",
   "id": "e0c1b973-4ecf-459d-99d9-bab9665a7d23",
   "metadata": {},
   "source": [
    "### 存储表\n",
    "\n",
    "Cozo中，持久化的表叫做 **存储表**，创建起来很简单："
   ]
  },
  {
   "cell_type": "code",
   "execution_count": 18,
   "id": "2944f226-c865-4fd6-b412-cb34e2e50705",
   "metadata": {},
   "outputs": [
    {
     "data": {
      "text/html": [
       "<style type=\"text/css\">\n",
       "#T_7d03f_row0_col0 {\n",
       "  color: black;\n",
       "}\n",
       "</style>\n",
       "<table id=\"T_7d03f\">\n",
       "  <thead>\n",
       "    <tr>\n",
       "      <th class=\"blank level0\" >&nbsp;</th>\n",
       "      <th id=\"T_7d03f_level0_col0\" class=\"col_heading level0 col0\" >status</th>\n",
       "    </tr>\n",
       "  </thead>\n",
       "  <tbody>\n",
       "    <tr>\n",
       "      <th id=\"T_7d03f_level0_row0\" class=\"row_heading level0 row0\" >0</th>\n",
       "      <td id=\"T_7d03f_row0_col0\" class=\"data row0 col0\" >OK</td>\n",
       "    </tr>\n",
       "  </tbody>\n",
       "</table>\n"
      ],
      "text/plain": [
       "<pandas.io.formats.style.Styler at 0x26c5d894b10>"
      ]
     },
     "execution_count": 18,
     "metadata": {},
     "output_type": "execute_result"
    }
   ],
   "source": [
    "r1[] <- [[1, 'a'], [2, 'b']]\n",
    "r2[] <- [[2, 'B'], [3, 'C']]\n",
    "\n",
    "?[l1, l2] := r1[a, l1], \n",
    "             r2[a, l2]\n",
    "    \n",
    ":create stored {l1, l2}"
   ]
  },
  {
   "attachments": {},
   "cell_type": "markdown",
   "id": "6e911e87-a80e-4b1b-a878-613b61e339bc",
   "metadata": {},
   "source": [
    "在这个例子中，`:create` 查询选项声明将返回结果存储在一个名为 `stored` 的存储表中，包含列 `l1` 和 `l2`。\n",
    "\n",
    "注意：给表起名时不要以下划线 `_` 开头。如果你使用了下划线开头的表名，程序并不会报错，但是你会发现表并没有被存储：实际上你创建的是 _临时表_ 而非存储表。 [这里](stored.rst) 有详细的说明。\n",
    "\n",
    "如果只是想创建存储表而不添加任何数据，可以省略查询，只保留 `:create` 选项。\n",
    "\n",
    "可以通过运行一个 **系统操作符** 来验证目前系统中已经有刚刚创建的存储表："
   ]
  },
  {
   "cell_type": "code",
   "execution_count": 19,
   "id": "e151e2e6-f185-4659-89c6-a274c643a03a",
   "metadata": {},
   "outputs": [
    {
     "data": {
      "text/html": [
       "<style type=\"text/css\">\n",
       "#T_96944_row0_col0, #T_96944_row0_col2 {\n",
       "  color: black;\n",
       "}\n",
       "#T_96944_row0_col1, #T_96944_row0_col3, #T_96944_row0_col4, #T_96944_row0_col5, #T_96944_row0_col6, #T_96944_row0_col7 {\n",
       "  color: #307fc1;\n",
       "}\n",
       "</style>\n",
       "<table id=\"T_96944\">\n",
       "  <thead>\n",
       "    <tr>\n",
       "      <th class=\"blank level0\" >&nbsp;</th>\n",
       "      <th id=\"T_96944_level0_col0\" class=\"col_heading level0 col0\" >name</th>\n",
       "      <th id=\"T_96944_level0_col1\" class=\"col_heading level0 col1\" >arity</th>\n",
       "      <th id=\"T_96944_level0_col2\" class=\"col_heading level0 col2\" >access_level</th>\n",
       "      <th id=\"T_96944_level0_col3\" class=\"col_heading level0 col3\" >n_keys</th>\n",
       "      <th id=\"T_96944_level0_col4\" class=\"col_heading level0 col4\" >n_non_keys</th>\n",
       "      <th id=\"T_96944_level0_col5\" class=\"col_heading level0 col5\" >n_put_triggers</th>\n",
       "      <th id=\"T_96944_level0_col6\" class=\"col_heading level0 col6\" >n_rm_triggers</th>\n",
       "      <th id=\"T_96944_level0_col7\" class=\"col_heading level0 col7\" >n_replace_triggers</th>\n",
       "    </tr>\n",
       "  </thead>\n",
       "  <tbody>\n",
       "    <tr>\n",
       "      <th id=\"T_96944_level0_row0\" class=\"row_heading level0 row0\" >0</th>\n",
       "      <td id=\"T_96944_row0_col0\" class=\"data row0 col0\" >stored</td>\n",
       "      <td id=\"T_96944_row0_col1\" class=\"data row0 col1\" >2</td>\n",
       "      <td id=\"T_96944_row0_col2\" class=\"data row0 col2\" >normal</td>\n",
       "      <td id=\"T_96944_row0_col3\" class=\"data row0 col3\" >2</td>\n",
       "      <td id=\"T_96944_row0_col4\" class=\"data row0 col4\" >0</td>\n",
       "      <td id=\"T_96944_row0_col5\" class=\"data row0 col5\" >0</td>\n",
       "      <td id=\"T_96944_row0_col6\" class=\"data row0 col6\" >0</td>\n",
       "      <td id=\"T_96944_row0_col7\" class=\"data row0 col7\" >0</td>\n",
       "    </tr>\n",
       "  </tbody>\n",
       "</table>\n"
      ],
      "text/plain": [
       "<pandas.io.formats.style.Styler at 0x26c5d89ff10>"
      ]
     },
     "execution_count": 19,
     "metadata": {},
     "output_type": "execute_result"
    }
   ],
   "source": [
    "::relations"
   ]
  },
  {
   "attachments": {},
   "cell_type": "markdown",
   "id": "30d7999f-6939-497d-98d6-e5edc6af44a1",
   "metadata": {},
   "source": [
    "也可以列出存储表所包含的列："
   ]
  },
  {
   "cell_type": "code",
   "execution_count": 20,
   "id": "fd8c4f13-96c8-4f3c-b295-ea493d3875f6",
   "metadata": {},
   "outputs": [
    {
     "data": {
      "text/html": [
       "<style type=\"text/css\">\n",
       "#T_391fc_row0_col0, #T_391fc_row0_col3, #T_391fc_row1_col0, #T_391fc_row1_col3 {\n",
       "  color: black;\n",
       "}\n",
       "#T_391fc_row0_col1, #T_391fc_row0_col2, #T_391fc_row0_col4, #T_391fc_row1_col1, #T_391fc_row1_col2, #T_391fc_row1_col4 {\n",
       "  color: #307fc1;\n",
       "}\n",
       "</style>\n",
       "<table id=\"T_391fc\">\n",
       "  <thead>\n",
       "    <tr>\n",
       "      <th class=\"blank level0\" >&nbsp;</th>\n",
       "      <th id=\"T_391fc_level0_col0\" class=\"col_heading level0 col0\" >column</th>\n",
       "      <th id=\"T_391fc_level0_col1\" class=\"col_heading level0 col1\" >is_key</th>\n",
       "      <th id=\"T_391fc_level0_col2\" class=\"col_heading level0 col2\" >index</th>\n",
       "      <th id=\"T_391fc_level0_col3\" class=\"col_heading level0 col3\" >type</th>\n",
       "      <th id=\"T_391fc_level0_col4\" class=\"col_heading level0 col4\" >has_default</th>\n",
       "    </tr>\n",
       "  </thead>\n",
       "  <tbody>\n",
       "    <tr>\n",
       "      <th id=\"T_391fc_level0_row0\" class=\"row_heading level0 row0\" >0</th>\n",
       "      <td id=\"T_391fc_row0_col0\" class=\"data row0 col0\" >l1</td>\n",
       "      <td id=\"T_391fc_row0_col1\" class=\"data row0 col1\" >True</td>\n",
       "      <td id=\"T_391fc_row0_col2\" class=\"data row0 col2\" >0</td>\n",
       "      <td id=\"T_391fc_row0_col3\" class=\"data row0 col3\" >Any?</td>\n",
       "      <td id=\"T_391fc_row0_col4\" class=\"data row0 col4\" >False</td>\n",
       "    </tr>\n",
       "    <tr>\n",
       "      <th id=\"T_391fc_level0_row1\" class=\"row_heading level0 row1\" >1</th>\n",
       "      <td id=\"T_391fc_row1_col0\" class=\"data row1 col0\" >l2</td>\n",
       "      <td id=\"T_391fc_row1_col1\" class=\"data row1 col1\" >True</td>\n",
       "      <td id=\"T_391fc_row1_col2\" class=\"data row1 col2\" >1</td>\n",
       "      <td id=\"T_391fc_row1_col3\" class=\"data row1 col3\" >Any?</td>\n",
       "      <td id=\"T_391fc_row1_col4\" class=\"data row1 col4\" >False</td>\n",
       "    </tr>\n",
       "  </tbody>\n",
       "</table>\n"
      ],
      "text/plain": [
       "<pandas.io.formats.style.Styler at 0x26c5d8acf50>"
      ]
     },
     "execution_count": 20,
     "metadata": {},
     "output_type": "execute_result"
    }
   ],
   "source": [
    "::columns stored "
   ]
  },
  {
   "attachments": {},
   "cell_type": "markdown",
   "id": "79d320aa-bf41-4676-a778-7ff00b704ced",
   "metadata": {},
   "source": [
    "应用一个存储表时，在其名字前加一个 `*` 符号，以和内联规则的应用区分："
   ]
  },
  {
   "cell_type": "code",
   "execution_count": 21,
   "id": "3d4a2c70-7ed3-403b-9528-a696fe7b08a6",
   "metadata": {},
   "outputs": [
    {
     "data": {
      "text/html": [
       "<style type=\"text/css\">\n",
       "#T_23892_row0_col0, #T_23892_row0_col1 {\n",
       "  color: black;\n",
       "}\n",
       "</style>\n",
       "<table id=\"T_23892\">\n",
       "  <thead>\n",
       "    <tr>\n",
       "      <th class=\"blank level0\" >&nbsp;</th>\n",
       "      <th id=\"T_23892_level0_col0\" class=\"col_heading level0 col0\" >a</th>\n",
       "      <th id=\"T_23892_level0_col1\" class=\"col_heading level0 col1\" >b</th>\n",
       "    </tr>\n",
       "  </thead>\n",
       "  <tbody>\n",
       "    <tr>\n",
       "      <th id=\"T_23892_level0_row0\" class=\"row_heading level0 row0\" >0</th>\n",
       "      <td id=\"T_23892_row0_col0\" class=\"data row0 col0\" >b</td>\n",
       "      <td id=\"T_23892_row0_col1\" class=\"data row0 col1\" >B</td>\n",
       "    </tr>\n",
       "  </tbody>\n",
       "</table>\n"
      ],
      "text/plain": [
       "<pandas.io.formats.style.Styler at 0x26c5d8cee90>"
      ]
     },
     "execution_count": 21,
     "metadata": {},
     "output_type": "execute_result"
    }
   ],
   "source": [
    "?[a, b] := *stored[a, b]"
   ]
  },
  {
   "attachments": {},
   "cell_type": "markdown",
   "id": "821c1a1f-ef11-4429-ba99-c2599bc18857",
   "metadata": {},
   "source": [
    "与内联表不同，存储表的列有固定的名称。利用这一点，我们可以不必每次都列出所有的列名，而是有选择地通过名称引用列："
   ]
  },
  {
   "cell_type": "code",
   "execution_count": 22,
   "id": "dba56d3f-8162-4519-8934-12d5c6935239",
   "metadata": {},
   "outputs": [
    {
     "data": {
      "text/html": [
       "<style type=\"text/css\">\n",
       "#T_15f33_row0_col0, #T_15f33_row0_col1 {\n",
       "  color: black;\n",
       "}\n",
       "</style>\n",
       "<table id=\"T_15f33\">\n",
       "  <thead>\n",
       "    <tr>\n",
       "      <th class=\"blank level0\" >&nbsp;</th>\n",
       "      <th id=\"T_15f33_level0_col0\" class=\"col_heading level0 col0\" >a</th>\n",
       "      <th id=\"T_15f33_level0_col1\" class=\"col_heading level0 col1\" >b</th>\n",
       "    </tr>\n",
       "  </thead>\n",
       "  <tbody>\n",
       "    <tr>\n",
       "      <th id=\"T_15f33_level0_row0\" class=\"row_heading level0 row0\" >0</th>\n",
       "      <td id=\"T_15f33_row0_col0\" class=\"data row0 col0\" >b</td>\n",
       "      <td id=\"T_15f33_row0_col1\" class=\"data row0 col1\" >B</td>\n",
       "    </tr>\n",
       "  </tbody>\n",
       "</table>\n"
      ],
      "text/plain": [
       "<pandas.io.formats.style.Styler at 0x26c5d89ea10>"
      ]
     },
     "execution_count": 22,
     "metadata": {},
     "output_type": "execute_result"
    }
   ],
   "source": [
    "?[a, b] := *stored{l2: b, l1: a}"
   ]
  },
  {
   "attachments": {},
   "cell_type": "markdown",
   "id": "135b9fb5-96fd-444b-aa44-ad8dd754318d",
   "metadata": {},
   "source": [
    "如果列名与欲绑定的变量同名，我们可以使用简略的写法："
   ]
  },
  {
   "cell_type": "code",
   "execution_count": 23,
   "id": "a5a29a9c-5320-4c9f-a153-a96c662cf5d6",
   "metadata": {},
   "outputs": [
    {
     "data": {
      "text/html": [
       "<style type=\"text/css\">\n",
       "#T_941fb_row0_col0 {\n",
       "  color: black;\n",
       "}\n",
       "</style>\n",
       "<table id=\"T_941fb\">\n",
       "  <thead>\n",
       "    <tr>\n",
       "      <th class=\"blank level0\" >&nbsp;</th>\n",
       "      <th id=\"T_941fb_level0_col0\" class=\"col_heading level0 col0\" >l2</th>\n",
       "    </tr>\n",
       "  </thead>\n",
       "  <tbody>\n",
       "    <tr>\n",
       "      <th id=\"T_941fb_level0_row0\" class=\"row_heading level0 row0\" >0</th>\n",
       "      <td id=\"T_941fb_row0_col0\" class=\"data row0 col0\" >B</td>\n",
       "    </tr>\n",
       "  </tbody>\n",
       "</table>\n"
      ],
      "text/plain": [
       "<pandas.io.formats.style.Styler at 0x26c5d89fa50>"
      ]
     },
     "execution_count": 23,
     "metadata": {},
     "output_type": "execute_result"
    }
   ],
   "source": [
    "?[l2] := *stored{l2}"
   ]
  },
  {
   "attachments": {},
   "cell_type": "markdown",
   "id": "2424a684-89fb-449e-a5e6-931353bb482f",
   "metadata": {},
   "source": [
    "使用 `:put` 加入数据至存储表中："
   ]
  },
  {
   "cell_type": "code",
   "execution_count": 24,
   "id": "eb8b4f2c-a2e7-45e3-8c18-6b6b8329344c",
   "metadata": {},
   "outputs": [
    {
     "data": {
      "text/html": [
       "<style type=\"text/css\">\n",
       "#T_63a54_row0_col0 {\n",
       "  color: black;\n",
       "}\n",
       "</style>\n",
       "<table id=\"T_63a54\">\n",
       "  <thead>\n",
       "    <tr>\n",
       "      <th class=\"blank level0\" >&nbsp;</th>\n",
       "      <th id=\"T_63a54_level0_col0\" class=\"col_heading level0 col0\" >status</th>\n",
       "    </tr>\n",
       "  </thead>\n",
       "  <tbody>\n",
       "    <tr>\n",
       "      <th id=\"T_63a54_level0_row0\" class=\"row_heading level0 row0\" >0</th>\n",
       "      <td id=\"T_63a54_row0_col0\" class=\"data row0 col0\" >OK</td>\n",
       "    </tr>\n",
       "  </tbody>\n",
       "</table>\n"
      ],
      "text/plain": [
       "<pandas.io.formats.style.Styler at 0x26c5d8a0210>"
      ]
     },
     "execution_count": 24,
     "metadata": {},
     "output_type": "execute_result"
    }
   ],
   "source": [
    "?[l1, l2] <- [['e', 'E']]\n",
    "    \n",
    ":put stored {l1, l2}"
   ]
  },
  {
   "cell_type": "code",
   "execution_count": 25,
   "id": "ef21c6f3-ce5c-434c-a580-3d1442ebe7c6",
   "metadata": {},
   "outputs": [
    {
     "data": {
      "text/html": [
       "<style type=\"text/css\">\n",
       "#T_a7737_row0_col0, #T_a7737_row0_col1, #T_a7737_row1_col0, #T_a7737_row1_col1 {\n",
       "  color: black;\n",
       "}\n",
       "</style>\n",
       "<table id=\"T_a7737\">\n",
       "  <thead>\n",
       "    <tr>\n",
       "      <th class=\"blank level0\" >&nbsp;</th>\n",
       "      <th id=\"T_a7737_level0_col0\" class=\"col_heading level0 col0\" >l1</th>\n",
       "      <th id=\"T_a7737_level0_col1\" class=\"col_heading level0 col1\" >l2</th>\n",
       "    </tr>\n",
       "  </thead>\n",
       "  <tbody>\n",
       "    <tr>\n",
       "      <th id=\"T_a7737_level0_row0\" class=\"row_heading level0 row0\" >0</th>\n",
       "      <td id=\"T_a7737_row0_col0\" class=\"data row0 col0\" >b</td>\n",
       "      <td id=\"T_a7737_row0_col1\" class=\"data row0 col1\" >B</td>\n",
       "    </tr>\n",
       "    <tr>\n",
       "      <th id=\"T_a7737_level0_row1\" class=\"row_heading level0 row1\" >1</th>\n",
       "      <td id=\"T_a7737_row1_col0\" class=\"data row1 col0\" >e</td>\n",
       "      <td id=\"T_a7737_row1_col1\" class=\"data row1 col1\" >E</td>\n",
       "    </tr>\n",
       "  </tbody>\n",
       "</table>\n"
      ],
      "text/plain": [
       "<pandas.io.formats.style.Styler at 0x26c5d89f750>"
      ]
     },
     "execution_count": 25,
     "metadata": {},
     "output_type": "execute_result"
    }
   ],
   "source": [
    "?[l1, l2] := *stored[l1, l2]"
   ]
  },
  {
   "attachments": {},
   "cell_type": "markdown",
   "id": "a58b487a-6a44-43c7-9351-b78a49770a46",
   "metadata": {},
   "source": [
    "使用 `:rm` 删除数据："
   ]
  },
  {
   "cell_type": "code",
   "execution_count": 26,
   "id": "2c1d522b-286f-41be-9796-da165999e1df",
   "metadata": {},
   "outputs": [
    {
     "data": {
      "text/html": [
       "<style type=\"text/css\">\n",
       "#T_1271a_row0_col0 {\n",
       "  color: black;\n",
       "}\n",
       "</style>\n",
       "<table id=\"T_1271a\">\n",
       "  <thead>\n",
       "    <tr>\n",
       "      <th class=\"blank level0\" >&nbsp;</th>\n",
       "      <th id=\"T_1271a_level0_col0\" class=\"col_heading level0 col0\" >status</th>\n",
       "    </tr>\n",
       "  </thead>\n",
       "  <tbody>\n",
       "    <tr>\n",
       "      <th id=\"T_1271a_level0_row0\" class=\"row_heading level0 row0\" >0</th>\n",
       "      <td id=\"T_1271a_row0_col0\" class=\"data row0 col0\" >OK</td>\n",
       "    </tr>\n",
       "  </tbody>\n",
       "</table>\n"
      ],
      "text/plain": [
       "<pandas.io.formats.style.Styler at 0x26c5d564850>"
      ]
     },
     "execution_count": 26,
     "metadata": {},
     "output_type": "execute_result"
    }
   ],
   "source": [
    "?[l1, l2] <- [['e', 'E']]\n",
    "    \n",
    ":rm stored {l1, l2}"
   ]
  },
  {
   "cell_type": "code",
   "execution_count": 27,
   "id": "d9ce93f8-dc37-4c37-9f47-904066c1341a",
   "metadata": {},
   "outputs": [
    {
     "data": {
      "text/html": [
       "<style type=\"text/css\">\n",
       "#T_e4157_row0_col0, #T_e4157_row0_col1 {\n",
       "  color: black;\n",
       "}\n",
       "</style>\n",
       "<table id=\"T_e4157\">\n",
       "  <thead>\n",
       "    <tr>\n",
       "      <th class=\"blank level0\" >&nbsp;</th>\n",
       "      <th id=\"T_e4157_level0_col0\" class=\"col_heading level0 col0\" >l1</th>\n",
       "      <th id=\"T_e4157_level0_col1\" class=\"col_heading level0 col1\" >l2</th>\n",
       "    </tr>\n",
       "  </thead>\n",
       "  <tbody>\n",
       "    <tr>\n",
       "      <th id=\"T_e4157_level0_row0\" class=\"row_heading level0 row0\" >0</th>\n",
       "      <td id=\"T_e4157_row0_col0\" class=\"data row0 col0\" >b</td>\n",
       "      <td id=\"T_e4157_row0_col1\" class=\"data row0 col1\" >B</td>\n",
       "    </tr>\n",
       "  </tbody>\n",
       "</table>\n"
      ],
      "text/plain": [
       "<pandas.io.formats.style.Styler at 0x26c5d8cf9d0>"
      ]
     },
     "execution_count": 27,
     "metadata": {},
     "output_type": "execute_result"
    }
   ],
   "source": [
    "?[l1, l2] := *stored[l1, l2]"
   ]
  },
  {
   "attachments": {},
   "cell_type": "markdown",
   "id": "1f70e3b5-0b96-42ce-8a34-9d45beaf1772",
   "metadata": {},
   "source": [
    "使用 `::remove` （注意：两个冒号）删除整个存储表："
   ]
  },
  {
   "cell_type": "code",
   "execution_count": 28,
   "id": "f27e0eb3-711f-4d68-bd02-1e4cfddfd9ac",
   "metadata": {},
   "outputs": [
    {
     "data": {
      "text/html": [
       "<style type=\"text/css\">\n",
       "#T_31db8_row0_col0 {\n",
       "  color: black;\n",
       "}\n",
       "</style>\n",
       "<table id=\"T_31db8\">\n",
       "  <thead>\n",
       "    <tr>\n",
       "      <th class=\"blank level0\" >&nbsp;</th>\n",
       "      <th id=\"T_31db8_level0_col0\" class=\"col_heading level0 col0\" >status</th>\n",
       "    </tr>\n",
       "  </thead>\n",
       "  <tbody>\n",
       "    <tr>\n",
       "      <th id=\"T_31db8_level0_row0\" class=\"row_heading level0 row0\" >0</th>\n",
       "      <td id=\"T_31db8_row0_col0\" class=\"data row0 col0\" >OK</td>\n",
       "    </tr>\n",
       "  </tbody>\n",
       "</table>\n"
      ],
      "text/plain": [
       "<pandas.io.formats.style.Styler at 0x26c5d8ccc10>"
      ]
     },
     "execution_count": 28,
     "metadata": {},
     "output_type": "execute_result"
    }
   ],
   "source": [
    "::remove stored"
   ]
  },
  {
   "cell_type": "code",
   "execution_count": 29,
   "id": "c938ecd5-8166-4f78-8fa1-234c75691d5e",
   "metadata": {},
   "outputs": [
    {
     "data": {
      "text/html": [
       "<style type=\"text/css\">\n",
       "</style>\n",
       "<table id=\"T_c15ce\">\n",
       "  <thead>\n",
       "    <tr>\n",
       "      <th class=\"blank level0\" >&nbsp;</th>\n",
       "      <th id=\"T_c15ce_level0_col0\" class=\"col_heading level0 col0\" >name</th>\n",
       "      <th id=\"T_c15ce_level0_col1\" class=\"col_heading level0 col1\" >arity</th>\n",
       "      <th id=\"T_c15ce_level0_col2\" class=\"col_heading level0 col2\" >access_level</th>\n",
       "      <th id=\"T_c15ce_level0_col3\" class=\"col_heading level0 col3\" >n_keys</th>\n",
       "      <th id=\"T_c15ce_level0_col4\" class=\"col_heading level0 col4\" >n_non_keys</th>\n",
       "      <th id=\"T_c15ce_level0_col5\" class=\"col_heading level0 col5\" >n_put_triggers</th>\n",
       "      <th id=\"T_c15ce_level0_col6\" class=\"col_heading level0 col6\" >n_rm_triggers</th>\n",
       "      <th id=\"T_c15ce_level0_col7\" class=\"col_heading level0 col7\" >n_replace_triggers</th>\n",
       "    </tr>\n",
       "  </thead>\n",
       "  <tbody>\n",
       "  </tbody>\n",
       "</table>\n"
      ],
      "text/plain": [
       "<pandas.io.formats.style.Styler at 0x26c461eec90>"
      ]
     },
     "execution_count": 29,
     "metadata": {},
     "output_type": "execute_result"
    }
   ],
   "source": [
    "::relations"
   ]
  },
  {
   "attachments": {},
   "cell_type": "markdown",
   "id": "df2bff7d-3164-409a-a7fd-4e074be7ecbc",
   "metadata": {},
   "source": [
    "到目前为止，所有存储表的数据都存在了其键中。我们可以指示Cozo只将一部分列数据作为键，从而声明数据的 **函数性依赖**："
   ]
  },
  {
   "cell_type": "code",
   "execution_count": 30,
   "id": "3a133dc0-5334-4acb-972a-305b5927941a",
   "metadata": {},
   "outputs": [
    {
     "data": {
      "text/html": [
       "<style type=\"text/css\">\n",
       "#T_99cf0_row0_col0 {\n",
       "  color: black;\n",
       "}\n",
       "</style>\n",
       "<table id=\"T_99cf0\">\n",
       "  <thead>\n",
       "    <tr>\n",
       "      <th class=\"blank level0\" >&nbsp;</th>\n",
       "      <th id=\"T_99cf0_level0_col0\" class=\"col_heading level0 col0\" >status</th>\n",
       "    </tr>\n",
       "  </thead>\n",
       "  <tbody>\n",
       "    <tr>\n",
       "      <th id=\"T_99cf0_level0_row0\" class=\"row_heading level0 row0\" >0</th>\n",
       "      <td id=\"T_99cf0_row0_col0\" class=\"data row0 col0\" >OK</td>\n",
       "    </tr>\n",
       "  </tbody>\n",
       "</table>\n"
      ],
      "text/plain": [
       "<pandas.io.formats.style.Styler at 0x26c5d8ae0d0>"
      ]
     },
     "execution_count": 30,
     "metadata": {},
     "output_type": "execute_result"
    }
   ],
   "source": [
    "?[a, b, c] <- [[1, 'a', 'A'],\n",
    "               [2, 'b', 'B'],\n",
    "               [3, 'c', 'C'],\n",
    "               [4, 'd', 'D']]\n",
    "\n",
    ":create fd {a, b => c}"
   ]
  },
  {
   "cell_type": "code",
   "execution_count": 31,
   "id": "3ff9ac04-531d-4726-aeb2-d8feab7bc149",
   "metadata": {},
   "outputs": [
    {
     "data": {
      "text/html": [
       "<style type=\"text/css\">\n",
       "#T_5234f_row0_col0, #T_5234f_row1_col0, #T_5234f_row2_col0, #T_5234f_row3_col0 {\n",
       "  color: #307fc1;\n",
       "}\n",
       "#T_5234f_row0_col1, #T_5234f_row0_col2, #T_5234f_row1_col1, #T_5234f_row1_col2, #T_5234f_row2_col1, #T_5234f_row2_col2, #T_5234f_row3_col1, #T_5234f_row3_col2 {\n",
       "  color: black;\n",
       "}\n",
       "</style>\n",
       "<table id=\"T_5234f\">\n",
       "  <thead>\n",
       "    <tr>\n",
       "      <th class=\"blank level0\" >&nbsp;</th>\n",
       "      <th id=\"T_5234f_level0_col0\" class=\"col_heading level0 col0\" >a</th>\n",
       "      <th id=\"T_5234f_level0_col1\" class=\"col_heading level0 col1\" >b</th>\n",
       "      <th id=\"T_5234f_level0_col2\" class=\"col_heading level0 col2\" >c</th>\n",
       "    </tr>\n",
       "  </thead>\n",
       "  <tbody>\n",
       "    <tr>\n",
       "      <th id=\"T_5234f_level0_row0\" class=\"row_heading level0 row0\" >0</th>\n",
       "      <td id=\"T_5234f_row0_col0\" class=\"data row0 col0\" >1</td>\n",
       "      <td id=\"T_5234f_row0_col1\" class=\"data row0 col1\" >a</td>\n",
       "      <td id=\"T_5234f_row0_col2\" class=\"data row0 col2\" >A</td>\n",
       "    </tr>\n",
       "    <tr>\n",
       "      <th id=\"T_5234f_level0_row1\" class=\"row_heading level0 row1\" >1</th>\n",
       "      <td id=\"T_5234f_row1_col0\" class=\"data row1 col0\" >2</td>\n",
       "      <td id=\"T_5234f_row1_col1\" class=\"data row1 col1\" >b</td>\n",
       "      <td id=\"T_5234f_row1_col2\" class=\"data row1 col2\" >B</td>\n",
       "    </tr>\n",
       "    <tr>\n",
       "      <th id=\"T_5234f_level0_row2\" class=\"row_heading level0 row2\" >2</th>\n",
       "      <td id=\"T_5234f_row2_col0\" class=\"data row2 col0\" >3</td>\n",
       "      <td id=\"T_5234f_row2_col1\" class=\"data row2 col1\" >c</td>\n",
       "      <td id=\"T_5234f_row2_col2\" class=\"data row2 col2\" >C</td>\n",
       "    </tr>\n",
       "    <tr>\n",
       "      <th id=\"T_5234f_level0_row3\" class=\"row_heading level0 row3\" >3</th>\n",
       "      <td id=\"T_5234f_row3_col0\" class=\"data row3 col0\" >4</td>\n",
       "      <td id=\"T_5234f_row3_col1\" class=\"data row3 col1\" >d</td>\n",
       "      <td id=\"T_5234f_row3_col2\" class=\"data row3 col2\" >D</td>\n",
       "    </tr>\n",
       "  </tbody>\n",
       "</table>\n"
      ],
      "text/plain": [
       "<pandas.io.formats.style.Styler at 0x26c5ca4ed50>"
      ]
     },
     "execution_count": 31,
     "metadata": {},
     "output_type": "execute_result"
    }
   ],
   "source": [
    "?[a, b, c] := *fd[a, b, c]"
   ]
  },
  {
   "attachments": {},
   "cell_type": "markdown",
   "id": "53128ced-3edb-4f8a-bbff-506e7139711f",
   "metadata": {},
   "source": [
    "在这个表中，插入一条包含已有键的数据，该行的值会被更新："
   ]
  },
  {
   "cell_type": "code",
   "execution_count": 32,
   "id": "fd442640-4664-4f1c-a0a7-0a265d19ca74",
   "metadata": {},
   "outputs": [
    {
     "data": {
      "text/html": [
       "<style type=\"text/css\">\n",
       "#T_b44a9_row0_col0 {\n",
       "  color: black;\n",
       "}\n",
       "</style>\n",
       "<table id=\"T_b44a9\">\n",
       "  <thead>\n",
       "    <tr>\n",
       "      <th class=\"blank level0\" >&nbsp;</th>\n",
       "      <th id=\"T_b44a9_level0_col0\" class=\"col_heading level0 col0\" >status</th>\n",
       "    </tr>\n",
       "  </thead>\n",
       "  <tbody>\n",
       "    <tr>\n",
       "      <th id=\"T_b44a9_level0_row0\" class=\"row_heading level0 row0\" >0</th>\n",
       "      <td id=\"T_b44a9_row0_col0\" class=\"data row0 col0\" >OK</td>\n",
       "    </tr>\n",
       "  </tbody>\n",
       "</table>\n"
      ],
      "text/plain": [
       "<pandas.io.formats.style.Styler at 0x26c5d894710>"
      ]
     },
     "execution_count": 32,
     "metadata": {},
     "output_type": "execute_result"
    }
   ],
   "source": [
    "?[a, b, c] <- [[3, 'c', 'CCCCCCC']]\n",
    "\n",
    ":put fd {a, b => c}"
   ]
  },
  {
   "cell_type": "code",
   "execution_count": 33,
   "id": "980e4530-baec-40c5-9d68-e60d3dd8fb73",
   "metadata": {},
   "outputs": [
    {
     "data": {
      "text/html": [
       "<style type=\"text/css\">\n",
       "#T_597df_row0_col0, #T_597df_row1_col0, #T_597df_row2_col0, #T_597df_row3_col0 {\n",
       "  color: #307fc1;\n",
       "}\n",
       "#T_597df_row0_col1, #T_597df_row0_col2, #T_597df_row1_col1, #T_597df_row1_col2, #T_597df_row2_col1, #T_597df_row2_col2, #T_597df_row3_col1, #T_597df_row3_col2 {\n",
       "  color: black;\n",
       "}\n",
       "</style>\n",
       "<table id=\"T_597df\">\n",
       "  <thead>\n",
       "    <tr>\n",
       "      <th class=\"blank level0\" >&nbsp;</th>\n",
       "      <th id=\"T_597df_level0_col0\" class=\"col_heading level0 col0\" >a</th>\n",
       "      <th id=\"T_597df_level0_col1\" class=\"col_heading level0 col1\" >b</th>\n",
       "      <th id=\"T_597df_level0_col2\" class=\"col_heading level0 col2\" >c</th>\n",
       "    </tr>\n",
       "  </thead>\n",
       "  <tbody>\n",
       "    <tr>\n",
       "      <th id=\"T_597df_level0_row0\" class=\"row_heading level0 row0\" >0</th>\n",
       "      <td id=\"T_597df_row0_col0\" class=\"data row0 col0\" >1</td>\n",
       "      <td id=\"T_597df_row0_col1\" class=\"data row0 col1\" >a</td>\n",
       "      <td id=\"T_597df_row0_col2\" class=\"data row0 col2\" >A</td>\n",
       "    </tr>\n",
       "    <tr>\n",
       "      <th id=\"T_597df_level0_row1\" class=\"row_heading level0 row1\" >1</th>\n",
       "      <td id=\"T_597df_row1_col0\" class=\"data row1 col0\" >2</td>\n",
       "      <td id=\"T_597df_row1_col1\" class=\"data row1 col1\" >b</td>\n",
       "      <td id=\"T_597df_row1_col2\" class=\"data row1 col2\" >B</td>\n",
       "    </tr>\n",
       "    <tr>\n",
       "      <th id=\"T_597df_level0_row2\" class=\"row_heading level0 row2\" >2</th>\n",
       "      <td id=\"T_597df_row2_col0\" class=\"data row2 col0\" >3</td>\n",
       "      <td id=\"T_597df_row2_col1\" class=\"data row2 col1\" >c</td>\n",
       "      <td id=\"T_597df_row2_col2\" class=\"data row2 col2\" >CCCCCCC</td>\n",
       "    </tr>\n",
       "    <tr>\n",
       "      <th id=\"T_597df_level0_row3\" class=\"row_heading level0 row3\" >3</th>\n",
       "      <td id=\"T_597df_row3_col0\" class=\"data row3 col0\" >4</td>\n",
       "      <td id=\"T_597df_row3_col1\" class=\"data row3 col1\" >d</td>\n",
       "      <td id=\"T_597df_row3_col2\" class=\"data row3 col2\" >D</td>\n",
       "    </tr>\n",
       "  </tbody>\n",
       "</table>\n"
      ],
      "text/plain": [
       "<pandas.io.formats.style.Styler at 0x26c5d791110>"
      ]
     },
     "execution_count": 33,
     "metadata": {},
     "output_type": "execute_result"
    }
   ],
   "source": [
    "?[a, b, c] := *fd[a, b, c]"
   ]
  },
  {
   "attachments": {},
   "cell_type": "markdown",
   "id": "4f84ee9b-46b2-448a-b399-914cf5d4d810",
   "metadata": {},
   "source": [
    "以下命令返回的 `is_key` 列显示了存储表中每列是否为键："
   ]
  },
  {
   "cell_type": "code",
   "execution_count": 34,
   "id": "07bdf041-6b4f-4686-9aa5-3d95f323a397",
   "metadata": {},
   "outputs": [
    {
     "data": {
      "text/html": [
       "<style type=\"text/css\">\n",
       "#T_d34cc_row0_col0, #T_d34cc_row0_col3, #T_d34cc_row1_col0, #T_d34cc_row1_col3, #T_d34cc_row2_col0, #T_d34cc_row2_col3 {\n",
       "  color: black;\n",
       "}\n",
       "#T_d34cc_row0_col1, #T_d34cc_row0_col2, #T_d34cc_row0_col4, #T_d34cc_row1_col1, #T_d34cc_row1_col2, #T_d34cc_row1_col4, #T_d34cc_row2_col1, #T_d34cc_row2_col2, #T_d34cc_row2_col4 {\n",
       "  color: #307fc1;\n",
       "}\n",
       "</style>\n",
       "<table id=\"T_d34cc\">\n",
       "  <thead>\n",
       "    <tr>\n",
       "      <th class=\"blank level0\" >&nbsp;</th>\n",
       "      <th id=\"T_d34cc_level0_col0\" class=\"col_heading level0 col0\" >column</th>\n",
       "      <th id=\"T_d34cc_level0_col1\" class=\"col_heading level0 col1\" >is_key</th>\n",
       "      <th id=\"T_d34cc_level0_col2\" class=\"col_heading level0 col2\" >index</th>\n",
       "      <th id=\"T_d34cc_level0_col3\" class=\"col_heading level0 col3\" >type</th>\n",
       "      <th id=\"T_d34cc_level0_col4\" class=\"col_heading level0 col4\" >has_default</th>\n",
       "    </tr>\n",
       "  </thead>\n",
       "  <tbody>\n",
       "    <tr>\n",
       "      <th id=\"T_d34cc_level0_row0\" class=\"row_heading level0 row0\" >0</th>\n",
       "      <td id=\"T_d34cc_row0_col0\" class=\"data row0 col0\" >a</td>\n",
       "      <td id=\"T_d34cc_row0_col1\" class=\"data row0 col1\" >True</td>\n",
       "      <td id=\"T_d34cc_row0_col2\" class=\"data row0 col2\" >0</td>\n",
       "      <td id=\"T_d34cc_row0_col3\" class=\"data row0 col3\" >Any?</td>\n",
       "      <td id=\"T_d34cc_row0_col4\" class=\"data row0 col4\" >False</td>\n",
       "    </tr>\n",
       "    <tr>\n",
       "      <th id=\"T_d34cc_level0_row1\" class=\"row_heading level0 row1\" >1</th>\n",
       "      <td id=\"T_d34cc_row1_col0\" class=\"data row1 col0\" >b</td>\n",
       "      <td id=\"T_d34cc_row1_col1\" class=\"data row1 col1\" >True</td>\n",
       "      <td id=\"T_d34cc_row1_col2\" class=\"data row1 col2\" >1</td>\n",
       "      <td id=\"T_d34cc_row1_col3\" class=\"data row1 col3\" >Any?</td>\n",
       "      <td id=\"T_d34cc_row1_col4\" class=\"data row1 col4\" >False</td>\n",
       "    </tr>\n",
       "    <tr>\n",
       "      <th id=\"T_d34cc_level0_row2\" class=\"row_heading level0 row2\" >2</th>\n",
       "      <td id=\"T_d34cc_row2_col0\" class=\"data row2 col0\" >c</td>\n",
       "      <td id=\"T_d34cc_row2_col1\" class=\"data row2 col1\" >False</td>\n",
       "      <td id=\"T_d34cc_row2_col2\" class=\"data row2 col2\" >2</td>\n",
       "      <td id=\"T_d34cc_row2_col3\" class=\"data row2 col3\" >Any?</td>\n",
       "      <td id=\"T_d34cc_row2_col4\" class=\"data row2 col4\" >False</td>\n",
       "    </tr>\n",
       "  </tbody>\n",
       "</table>\n"
      ],
      "text/plain": [
       "<pandas.io.formats.style.Styler at 0x26c5d8a1b10>"
      ]
     },
     "execution_count": 34,
     "metadata": {},
     "output_type": "execute_result"
    }
   ],
   "source": [
    "::columns fd"
   ]
  },
  {
   "attachments": {},
   "cell_type": "markdown",
   "id": "183002b2-1041-4843-a3a8-d1496ec6a4b6",
   "metadata": {},
   "source": [
    "我们也可以看到，每列都有其声明的类型与默认值，而且每个存储表可以有关联的 **触发器**。[此章节](stored.rst) 将详述这些问题。\n",
    "\n",
    "在进入下一小节前，我们先删除之前创建的存储表："
   ]
  },
  {
   "cell_type": "code",
   "execution_count": 35,
   "id": "8e70a093-600c-48c5-90f5-ff3f340287d2",
   "metadata": {},
   "outputs": [
    {
     "data": {
      "text/html": [
       "<style type=\"text/css\">\n",
       "#T_a3ec2_row0_col0 {\n",
       "  color: black;\n",
       "}\n",
       "</style>\n",
       "<table id=\"T_a3ec2\">\n",
       "  <thead>\n",
       "    <tr>\n",
       "      <th class=\"blank level0\" >&nbsp;</th>\n",
       "      <th id=\"T_a3ec2_level0_col0\" class=\"col_heading level0 col0\" >status</th>\n",
       "    </tr>\n",
       "  </thead>\n",
       "  <tbody>\n",
       "    <tr>\n",
       "      <th id=\"T_a3ec2_level0_row0\" class=\"row_heading level0 row0\" >0</th>\n",
       "      <td id=\"T_a3ec2_row0_col0\" class=\"data row0 col0\" >OK</td>\n",
       "    </tr>\n",
       "  </tbody>\n",
       "</table>\n"
      ],
      "text/plain": [
       "<pandas.io.formats.style.Styler at 0x26c5d89e5d0>"
      ]
     },
     "execution_count": 35,
     "metadata": {},
     "output_type": "execute_result"
    }
   ],
   "source": [
    "::remove fd"
   ]
  },
  {
   "attachments": {},
   "cell_type": "markdown",
   "id": "4b702c08-b59a-451c-826c-919a533b9094",
   "metadata": {},
   "source": [
    "### 图\n",
    "\n",
    "下面我们将一张 **图** （也叫 **网络**）存入一个存储表："
   ]
  },
  {
   "cell_type": "code",
   "execution_count": 36,
   "id": "fba82f6e-124b-478d-893d-b69bc79680cc",
   "metadata": {},
   "outputs": [
    {
     "data": {
      "text/html": [
       "<style type=\"text/css\">\n",
       "#T_67ef8_row0_col0 {\n",
       "  color: black;\n",
       "}\n",
       "</style>\n",
       "<table id=\"T_67ef8\">\n",
       "  <thead>\n",
       "    <tr>\n",
       "      <th class=\"blank level0\" >&nbsp;</th>\n",
       "      <th id=\"T_67ef8_level0_col0\" class=\"col_heading level0 col0\" >status</th>\n",
       "    </tr>\n",
       "  </thead>\n",
       "  <tbody>\n",
       "    <tr>\n",
       "      <th id=\"T_67ef8_level0_row0\" class=\"row_heading level0 row0\" >0</th>\n",
       "      <td id=\"T_67ef8_row0_col0\" class=\"data row0 col0\" >OK</td>\n",
       "    </tr>\n",
       "  </tbody>\n",
       "</table>\n"
      ],
      "text/plain": [
       "<pandas.io.formats.style.Styler at 0x26c5d88dad0>"
      ]
     },
     "execution_count": 36,
     "metadata": {},
     "output_type": "execute_result"
    }
   ],
   "source": [
    "?[loving, loved] <- [['alice', 'eve'],\n",
    "                     ['bob', 'alice'],\n",
    "                     ['eve', 'alice'],\n",
    "                     ['eve', 'bob'],\n",
    "                     ['eve', 'charlie'],\n",
    "                     ['charlie', 'eve'],\n",
    "                     ['david', 'george'],\n",
    "                     ['george', 'george']]\n",
    "\n",
    ":replace love {loving, loved}"
   ]
  },
  {
   "attachments": {},
   "cell_type": "markdown",
   "id": "8b1cf760-0989-48b3-aaed-3270c2d188bf",
   "metadata": {},
   "source": [
    "这个图表述了一段复杂的恋爱关系：Alice爱Eve，Bob爱Alice；没人爱David，但David爱George，而George只爱自己，等等。创建此存储表时我们使用了 `:replace` 而不是 `:create`，其区别在于，如果已经存在名为 `love` 的存储表，则将其现有数据抹去，再加入新的数据。\n",
    "\n",
    "有了这张图，我们就可以研究一些恋爱中的竞争关系："
   ]
  },
  {
   "cell_type": "code",
   "execution_count": 37,
   "id": "64fb79e4-381e-4190-ac19-05b53e76cf6b",
   "metadata": {},
   "outputs": [
    {
     "data": {
      "text/html": [
       "<style type=\"text/css\">\n",
       "#T_60452_row0_col0 {\n",
       "  color: black;\n",
       "}\n",
       "</style>\n",
       "<table id=\"T_60452\">\n",
       "  <thead>\n",
       "    <tr>\n",
       "      <th class=\"blank level0\" >&nbsp;</th>\n",
       "      <th id=\"T_60452_level0_col0\" class=\"col_heading level0 col0\" >loved_by_b_e</th>\n",
       "    </tr>\n",
       "  </thead>\n",
       "  <tbody>\n",
       "    <tr>\n",
       "      <th id=\"T_60452_level0_row0\" class=\"row_heading level0 row0\" >0</th>\n",
       "      <td id=\"T_60452_row0_col0\" class=\"data row0 col0\" >alice</td>\n",
       "    </tr>\n",
       "  </tbody>\n",
       "</table>\n"
      ],
      "text/plain": [
       "<pandas.io.formats.style.Styler at 0x26c5d88d290>"
      ]
     },
     "execution_count": 37,
     "metadata": {},
     "output_type": "execute_result"
    }
   ],
   "source": [
    "?[loved_by_b_e] := *love['eve', loved_by_b_e], \n",
    "                   *love['bob', loved_by_b_e]"
   ]
  },
  {
   "attachments": {},
   "cell_type": "markdown",
   "id": "48fa9636-5727-4984-af6e-f318c3e98b85",
   "metadata": {},
   "source": [
    "到目前为止所有规则的正文都只包含了原子间的 **结合**（类似于“与关系”）。通过 `or` 算符，我们也可以表达原子之间的 **析取**（类似于“或”关系）："
   ]
  },
  {
   "cell_type": "code",
   "execution_count": 38,
   "id": "132c8855-cca2-4cb3-ae53-53d2ff92f4a9",
   "metadata": {},
   "outputs": [
    {
     "data": {
      "text/html": [
       "<style type=\"text/css\">\n",
       "#T_0431c_row0_col0, #T_0431c_row1_col0 {\n",
       "  color: black;\n",
       "}\n",
       "</style>\n",
       "<table id=\"T_0431c\">\n",
       "  <thead>\n",
       "    <tr>\n",
       "      <th class=\"blank level0\" >&nbsp;</th>\n",
       "      <th id=\"T_0431c_level0_col0\" class=\"col_heading level0 col0\" >loved_by_b_e</th>\n",
       "    </tr>\n",
       "  </thead>\n",
       "  <tbody>\n",
       "    <tr>\n",
       "      <th id=\"T_0431c_level0_row0\" class=\"row_heading level0 row0\" >0</th>\n",
       "      <td id=\"T_0431c_row0_col0\" class=\"data row0 col0\" >alice</td>\n",
       "    </tr>\n",
       "    <tr>\n",
       "      <th id=\"T_0431c_level0_row1\" class=\"row_heading level0 row1\" >1</th>\n",
       "      <td id=\"T_0431c_row1_col0\" class=\"data row1 col0\" >charlie</td>\n",
       "    </tr>\n",
       "  </tbody>\n",
       "</table>\n"
      ],
      "text/plain": [
       "<pandas.io.formats.style.Styler at 0x26c5d88f4d0>"
      ]
     },
     "execution_count": 38,
     "metadata": {},
     "output_type": "execute_result"
    }
   ],
   "source": [
    "?[loved_by_b_e] := *love['eve', loved_by_b_e] or *love['bob', loved_by_b_e], \n",
    "                   loved_by_b_e != 'bob', \n",
    "                   loved_by_b_e != 'eve'"
   ]
  },
  {
   "attachments": {},
   "cell_type": "markdown",
   "id": "d8ebc9a1-356e-4ba1-952c-c66920551381",
   "metadata": {},
   "source": [
    "表达析取关系的另一种方式是给一条规则赋予多段不同的正文："
   ]
  },
  {
   "cell_type": "code",
   "execution_count": 39,
   "id": "4e7ba20f-2a10-41f0-9062-cc269b36554d",
   "metadata": {},
   "outputs": [
    {
     "data": {
      "text/html": [
       "<style type=\"text/css\">\n",
       "#T_60b5e_row0_col0, #T_60b5e_row1_col0 {\n",
       "  color: black;\n",
       "}\n",
       "</style>\n",
       "<table id=\"T_60b5e\">\n",
       "  <thead>\n",
       "    <tr>\n",
       "      <th class=\"blank level0\" >&nbsp;</th>\n",
       "      <th id=\"T_60b5e_level0_col0\" class=\"col_heading level0 col0\" >loved_by_b_e</th>\n",
       "    </tr>\n",
       "  </thead>\n",
       "  <tbody>\n",
       "    <tr>\n",
       "      <th id=\"T_60b5e_level0_row0\" class=\"row_heading level0 row0\" >0</th>\n",
       "      <td id=\"T_60b5e_row0_col0\" class=\"data row0 col0\" >alice</td>\n",
       "    </tr>\n",
       "    <tr>\n",
       "      <th id=\"T_60b5e_level0_row1\" class=\"row_heading level0 row1\" >1</th>\n",
       "      <td id=\"T_60b5e_row1_col0\" class=\"data row1 col0\" >charlie</td>\n",
       "    </tr>\n",
       "  </tbody>\n",
       "</table>\n"
      ],
      "text/plain": [
       "<pandas.io.formats.style.Styler at 0x26c5d8f0a90>"
      ]
     },
     "execution_count": 39,
     "metadata": {},
     "output_type": "execute_result"
    }
   ],
   "source": [
    "?[loved_by_b_e] := *love['eve', loved_by_b_e], \n",
    "                   loved_by_b_e != 'bob', \n",
    "                   loved_by_b_e != 'eve'\n",
    "?[loved_by_b_e] := *love['bob', loved_by_b_e], \n",
    "                   loved_by_b_e != 'bob', \n",
    "                   loved_by_b_e != 'eve'"
   ]
  },
  {
   "attachments": {},
   "cell_type": "markdown",
   "id": "0b859b50-a748-4e20-9900-7ee053078a7f",
   "metadata": {},
   "source": [
    "当同一内联规则有多条正文时，这一规则下的所有头部都必须兼容。只有内联规则可以有多条正文，常量规则不行。\n",
    "\n",
    "### 否定\n",
    "\n",
    "首先是用 `!` 算符对表达式进行否定："
   ]
  },
  {
   "cell_type": "code",
   "execution_count": 40,
   "id": "ff02b41d-d3aa-4267-b7e9-b56874f37bf9",
   "metadata": {},
   "outputs": [
    {
     "data": {
      "text/html": [
       "<style type=\"text/css\">\n",
       "#T_1c791_row0_col0, #T_1c791_row1_col0 {\n",
       "  color: black;\n",
       "}\n",
       "</style>\n",
       "<table id=\"T_1c791\">\n",
       "  <thead>\n",
       "    <tr>\n",
       "      <th class=\"blank level0\" >&nbsp;</th>\n",
       "      <th id=\"T_1c791_level0_col0\" class=\"col_heading level0 col0\" >loved</th>\n",
       "    </tr>\n",
       "  </thead>\n",
       "  <tbody>\n",
       "    <tr>\n",
       "      <th id=\"T_1c791_level0_row0\" class=\"row_heading level0 row0\" >0</th>\n",
       "      <td id=\"T_1c791_row0_col0\" class=\"data row0 col0\" >alice</td>\n",
       "    </tr>\n",
       "    <tr>\n",
       "      <th id=\"T_1c791_level0_row1\" class=\"row_heading level0 row1\" >1</th>\n",
       "      <td id=\"T_1c791_row1_col0\" class=\"data row1 col0\" >george</td>\n",
       "    </tr>\n",
       "  </tbody>\n",
       "</table>\n"
      ],
      "text/plain": [
       "<pandas.io.formats.style.Styler at 0x26c5d88dc50>"
      ]
     },
     "execution_count": 40,
     "metadata": {},
     "output_type": "execute_result"
    }
   ],
   "source": [
    "?[loved] := *love[person, loved], !ends_with(person, 'e')"
   ]
  },
  {
   "attachments": {},
   "cell_type": "markdown",
   "id": "433386de-59b5-4169-b0fb-20ad28df401b",
   "metadata": {},
   "source": [
    "我们也可以否定一条规则应用，但是不用算符 `!`，而使用 `not`："
   ]
  },
  {
   "cell_type": "code",
   "execution_count": 41,
   "id": "5eda38db-ddba-45e1-8bd5-4b39116fd81f",
   "metadata": {},
   "outputs": [
    {
     "data": {
      "text/html": [
       "<style type=\"text/css\">\n",
       "#T_59e18_row0_col0, #T_59e18_row1_col0 {\n",
       "  color: black;\n",
       "}\n",
       "</style>\n",
       "<table id=\"T_59e18\">\n",
       "  <thead>\n",
       "    <tr>\n",
       "      <th class=\"blank level0\" >&nbsp;</th>\n",
       "      <th id=\"T_59e18_level0_col0\" class=\"col_heading level0 col0\" >loved_by_e_not_b</th>\n",
       "    </tr>\n",
       "  </thead>\n",
       "  <tbody>\n",
       "    <tr>\n",
       "      <th id=\"T_59e18_level0_row0\" class=\"row_heading level0 row0\" >0</th>\n",
       "      <td id=\"T_59e18_row0_col0\" class=\"data row0 col0\" >bob</td>\n",
       "    </tr>\n",
       "    <tr>\n",
       "      <th id=\"T_59e18_level0_row1\" class=\"row_heading level0 row1\" >1</th>\n",
       "      <td id=\"T_59e18_row1_col0\" class=\"data row1 col0\" >charlie</td>\n",
       "    </tr>\n",
       "  </tbody>\n",
       "</table>\n"
      ],
      "text/plain": [
       "<pandas.io.formats.style.Styler at 0x26c5d88dc90>"
      ]
     },
     "execution_count": 41,
     "metadata": {},
     "output_type": "execute_result"
    }
   ],
   "source": [
    "?[loved_by_e_not_b] := *love['eve', loved_by_e_not_b], \n",
    "                       not *love['bob', loved_by_e_not_b]"
   ]
  },
  {
   "attachments": {},
   "cell_type": "markdown",
   "id": "5b2c4fa2-1f07-440a-a7fa-1f9a3cbfdc3c",
   "metadata": {},
   "source": [
    "在Cozo中有两个层次的逻辑运算，一层作用于表达式，另层作用于原子：\n",
    "\n",
    "* 原子：`,`，`and` 为“与”，`or` 为“或”，`not` 为“非”\n",
    "* 表达式：`&&` 为“与”，`||` 为“或”，`!` 为“非”\n",
    "\n",
    "`,` 与 `and` 的区别是他们的运算优先级：`and` 的优先级比 `or` 高，而 `or` 的优先级比 `,` 高。\n",
    "\n",
    "在对原子进行否定时，必须保证 **安全**："
   ]
  },
  {
   "cell_type": "code",
   "execution_count": 42,
   "id": "7db09fb7-25a5-424a-a66a-0bc24d6d4fc1",
   "metadata": {},
   "outputs": [
    {
     "data": {
      "text/plain": [
       "\u001b[31meval::unbound_symb_in_head\u001b[0m\n",
       "\n",
       "  \u001b[31m×\u001b[0m Symbol 'not_loved_by_b' in rule head is unbound\n",
       "   ╭────\n",
       " \u001b[2m1\u001b[0m │ ?[not_loved_by_b] := not *love['bob', not_loved_by_b]\n",
       "   · \u001b[35;1m  ──────────────\u001b[0m\n",
       "   ╰────\n",
       "\u001b[36m  help: \u001b[0mNote that symbols occurring only in negated positions are not considered bound\n"
      ]
     },
     "execution_count": 42,
     "metadata": {},
     "output_type": "execute_result"
    }
   ],
   "source": [
    "?[not_loved_by_b] := not *love['bob', not_loved_by_b]"
   ]
  },
  {
   "attachments": {},
   "cell_type": "markdown",
   "id": "44d83981-21eb-406c-9287-0e50aff5c423",
   "metadata": {},
   "source": [
    "这个查询因为不安全而被禁止。不安全的原因是，此查询的结果是一个无穷大的集合。例如，根据现有的数据，Bob没有明确表现出过对“钱”的兴趣，因此“钱”就应该包含在结果中。\n",
    "\n",
    "为了保证此查询能够返回有限的结果，我们必须明确地给出一个 **封闭的世界**："
   ]
  },
  {
   "cell_type": "code",
   "execution_count": 43,
   "id": "225a4625-b99a-41a8-a2ef-fa553065e8aa",
   "metadata": {},
   "outputs": [
    {
     "data": {
      "text/html": [
       "<style type=\"text/css\">\n",
       "#T_8cdda_row0_col0, #T_8cdda_row1_col0, #T_8cdda_row2_col0, #T_8cdda_row3_col0, #T_8cdda_row4_col0 {\n",
       "  color: black;\n",
       "}\n",
       "</style>\n",
       "<table id=\"T_8cdda\">\n",
       "  <thead>\n",
       "    <tr>\n",
       "      <th class=\"blank level0\" >&nbsp;</th>\n",
       "      <th id=\"T_8cdda_level0_col0\" class=\"col_heading level0 col0\" >not_loved_by_b</th>\n",
       "    </tr>\n",
       "  </thead>\n",
       "  <tbody>\n",
       "    <tr>\n",
       "      <th id=\"T_8cdda_level0_row0\" class=\"row_heading level0 row0\" >0</th>\n",
       "      <td id=\"T_8cdda_row0_col0\" class=\"data row0 col0\" >bob</td>\n",
       "    </tr>\n",
       "    <tr>\n",
       "      <th id=\"T_8cdda_level0_row1\" class=\"row_heading level0 row1\" >1</th>\n",
       "      <td id=\"T_8cdda_row1_col0\" class=\"data row1 col0\" >charlie</td>\n",
       "    </tr>\n",
       "    <tr>\n",
       "      <th id=\"T_8cdda_level0_row2\" class=\"row_heading level0 row2\" >2</th>\n",
       "      <td id=\"T_8cdda_row2_col0\" class=\"data row2 col0\" >david</td>\n",
       "    </tr>\n",
       "    <tr>\n",
       "      <th id=\"T_8cdda_level0_row3\" class=\"row_heading level0 row3\" >3</th>\n",
       "      <td id=\"T_8cdda_row3_col0\" class=\"data row3 col0\" >eve</td>\n",
       "    </tr>\n",
       "    <tr>\n",
       "      <th id=\"T_8cdda_level0_row4\" class=\"row_heading level0 row4\" >4</th>\n",
       "      <td id=\"T_8cdda_row4_col0\" class=\"data row4 col0\" >george</td>\n",
       "    </tr>\n",
       "  </tbody>\n",
       "</table>\n"
      ],
      "text/plain": [
       "<pandas.io.formats.style.Styler at 0x26c5d8f9410>"
      ]
     },
     "execution_count": 43,
     "metadata": {},
     "output_type": "execute_result"
    }
   ],
   "source": [
    "the_population[p] := *love[p, _a]\n",
    "the_population[p] := *love[_a, p]\n",
    "\n",
    "?[not_loved_by_b] := the_population[not_loved_by_b], \n",
    "                     not *love['bob', not_loved_by_b]"
   ]
  },
  {
   "attachments": {},
   "cell_type": "markdown",
   "id": "5ac5f2cd-5a05-4b84-898d-f5a08c15907a",
   "metadata": {},
   "source": [
    "### 递归\n",
    "\n",
    "内联规则可以应用其他规则，并且可以有多条正文。将此两者结合起来，便有了递归："
   ]
  },
  {
   "cell_type": "code",
   "execution_count": 44,
   "id": "7a63d36e-a03d-4b4a-a825-cdc3ed036f1b",
   "metadata": {},
   "outputs": [
    {
     "data": {
      "text/html": [
       "<style type=\"text/css\">\n",
       "#T_9fce8_row0_col0, #T_9fce8_row1_col0, #T_9fce8_row2_col0, #T_9fce8_row3_col0 {\n",
       "  color: black;\n",
       "}\n",
       "</style>\n",
       "<table id=\"T_9fce8\">\n",
       "  <thead>\n",
       "    <tr>\n",
       "      <th class=\"blank level0\" >&nbsp;</th>\n",
       "      <th id=\"T_9fce8_level0_col0\" class=\"col_heading level0 col0\" >chained</th>\n",
       "    </tr>\n",
       "  </thead>\n",
       "  <tbody>\n",
       "    <tr>\n",
       "      <th id=\"T_9fce8_level0_row0\" class=\"row_heading level0 row0\" >0</th>\n",
       "      <td id=\"T_9fce8_row0_col0\" class=\"data row0 col0\" >alice</td>\n",
       "    </tr>\n",
       "    <tr>\n",
       "      <th id=\"T_9fce8_level0_row1\" class=\"row_heading level0 row1\" >1</th>\n",
       "      <td id=\"T_9fce8_row1_col0\" class=\"data row1 col0\" >bob</td>\n",
       "    </tr>\n",
       "    <tr>\n",
       "      <th id=\"T_9fce8_level0_row2\" class=\"row_heading level0 row2\" >2</th>\n",
       "      <td id=\"T_9fce8_row2_col0\" class=\"data row2 col0\" >charlie</td>\n",
       "    </tr>\n",
       "    <tr>\n",
       "      <th id=\"T_9fce8_level0_row3\" class=\"row_heading level0 row3\" >3</th>\n",
       "      <td id=\"T_9fce8_row3_col0\" class=\"data row3 col0\" >eve</td>\n",
       "    </tr>\n",
       "  </tbody>\n",
       "</table>\n"
      ],
      "text/plain": [
       "<pandas.io.formats.style.Styler at 0x26c5d8aa050>"
      ]
     },
     "execution_count": 44,
     "metadata": {},
     "output_type": "execute_result"
    }
   ],
   "source": [
    "alice_love_chain[person] := *love['alice', person]\n",
    "alice_love_chain[person] := alice_love_chain[in_person], \n",
    "                            *love[in_person, person]\n",
    "\n",
    "?[chained] := alice_love_chain[chained]"
   ]
  },
  {
   "attachments": {},
   "cell_type": "markdown",
   "id": "1666bf8f-4e41-4428-bdc8-c1d05f6783df",
   "metadata": {},
   "source": [
    "实际上，只需要能够应用其他规则，而不需要多条正文，便可以递归。但只有单条正文的递归没什么实际作用："
   ]
  },
  {
   "cell_type": "code",
   "execution_count": 45,
   "id": "cbf96780-d71b-471e-8add-dbd2d0f13f24",
   "metadata": {},
   "outputs": [
    {
     "data": {
      "text/html": [
       "<style type=\"text/css\">\n",
       "</style>\n",
       "<table id=\"T_31444\">\n",
       "  <thead>\n",
       "    <tr>\n",
       "      <th class=\"blank level0\" >&nbsp;</th>\n",
       "      <th id=\"T_31444_level0_col0\" class=\"col_heading level0 col0\" >chained</th>\n",
       "    </tr>\n",
       "  </thead>\n",
       "  <tbody>\n",
       "  </tbody>\n",
       "</table>\n"
      ],
      "text/plain": [
       "<pandas.io.formats.style.Styler at 0x26c5d88d490>"
      ]
     },
     "execution_count": 45,
     "metadata": {},
     "output_type": "execute_result"
    }
   ],
   "source": [
    "alice_love_chain[person] := alice_love_chain[in_person], \n",
    "                            *love[in_person, person]\n",
    "\n",
    "?[chained] := alice_love_chain[chained]"
   ]
  },
  {
   "attachments": {},
   "cell_type": "markdown",
   "id": "ac4a9d13-3360-487d-81c8-8da33f781bae",
   "metadata": {},
   "source": [
    "与“否定”一节中的情况类似，如果没有办法从给定的事实中推导出一条事实，那么这条事实就被认为是“假”的。多条正文的作用在于给出一开始便为“真”的一些事实，以启动递归程序。\n",
    "\n",
    "\n",
    "### 聚合\n",
    "\n",
    "**聚合** 通常用于计算统计数据。在Cozo中，在内联规则的头部以函数的形式来表达聚合计算："
   ]
  },
  {
   "cell_type": "code",
   "execution_count": 46,
   "id": "70705529-80be-4990-9ea5-9f7842ba1543",
   "metadata": {},
   "outputs": [
    {
     "data": {
      "text/html": [
       "<style type=\"text/css\">\n",
       "#T_aa792_row0_col0, #T_aa792_row1_col0, #T_aa792_row2_col0, #T_aa792_row3_col0, #T_aa792_row4_col0 {\n",
       "  color: black;\n",
       "}\n",
       "#T_aa792_row0_col1, #T_aa792_row1_col1, #T_aa792_row2_col1, #T_aa792_row3_col1, #T_aa792_row4_col1 {\n",
       "  color: #307fc1;\n",
       "}\n",
       "</style>\n",
       "<table id=\"T_aa792\">\n",
       "  <thead>\n",
       "    <tr>\n",
       "      <th class=\"blank level0\" >&nbsp;</th>\n",
       "      <th id=\"T_aa792_level0_col0\" class=\"col_heading level0 col0\" >person</th>\n",
       "      <th id=\"T_aa792_level0_col1\" class=\"col_heading level0 col1\" >count(loved_by)</th>\n",
       "    </tr>\n",
       "  </thead>\n",
       "  <tbody>\n",
       "    <tr>\n",
       "      <th id=\"T_aa792_level0_row0\" class=\"row_heading level0 row0\" >0</th>\n",
       "      <td id=\"T_aa792_row0_col0\" class=\"data row0 col0\" >alice</td>\n",
       "      <td id=\"T_aa792_row0_col1\" class=\"data row0 col1\" >2</td>\n",
       "    </tr>\n",
       "    <tr>\n",
       "      <th id=\"T_aa792_level0_row1\" class=\"row_heading level0 row1\" >1</th>\n",
       "      <td id=\"T_aa792_row1_col0\" class=\"data row1 col0\" >bob</td>\n",
       "      <td id=\"T_aa792_row1_col1\" class=\"data row1 col1\" >1</td>\n",
       "    </tr>\n",
       "    <tr>\n",
       "      <th id=\"T_aa792_level0_row2\" class=\"row_heading level0 row2\" >2</th>\n",
       "      <td id=\"T_aa792_row2_col0\" class=\"data row2 col0\" >charlie</td>\n",
       "      <td id=\"T_aa792_row2_col1\" class=\"data row2 col1\" >1</td>\n",
       "    </tr>\n",
       "    <tr>\n",
       "      <th id=\"T_aa792_level0_row3\" class=\"row_heading level0 row3\" >3</th>\n",
       "      <td id=\"T_aa792_row3_col0\" class=\"data row3 col0\" >eve</td>\n",
       "      <td id=\"T_aa792_row3_col1\" class=\"data row3 col1\" >2</td>\n",
       "    </tr>\n",
       "    <tr>\n",
       "      <th id=\"T_aa792_level0_row4\" class=\"row_heading level0 row4\" >4</th>\n",
       "      <td id=\"T_aa792_row4_col0\" class=\"data row4 col0\" >george</td>\n",
       "      <td id=\"T_aa792_row4_col1\" class=\"data row4 col1\" >2</td>\n",
       "    </tr>\n",
       "  </tbody>\n",
       "</table>\n"
      ],
      "text/plain": [
       "<pandas.io.formats.style.Styler at 0x26c5d8fba10>"
      ]
     },
     "execution_count": 46,
     "metadata": {},
     "output_type": "execute_result"
    }
   ],
   "source": [
    "?[person, count(loved_by)] := *love[loved_by, person]"
   ]
  },
  {
   "attachments": {},
   "cell_type": "markdown",
   "id": "19f47c1e-ffb6-4531-b181-0995bfeb63df",
   "metadata": {},
   "source": [
    "Cozo支持诸如求和 `sum`、平均数 `mean` 等常见的聚合。在后面我们将看到，将聚合表达在规则的头部而不是正文中，使得查询语言的表达力更加强大。\n",
    "\n",
    "完整的聚合列表 [在此](aggregations.rst)。\n",
    "\n",
    "### 查询选项\n",
    "\n",
    "在上面我们已经见过了诸如 `:create`、`:put`、`:rm` 等操作存储表的查询选项。另一些查询选项可以改变返回值的各种方面，比如只返回一行："
   ]
  },
  {
   "cell_type": "code",
   "execution_count": 47,
   "id": "58f1d43f-3f50-42df-8e27-8f6e549cbc6e",
   "metadata": {},
   "outputs": [
    {
     "data": {
      "text/html": [
       "<style type=\"text/css\">\n",
       "#T_0b2ab_row0_col0, #T_0b2ab_row0_col1 {\n",
       "  color: black;\n",
       "}\n",
       "</style>\n",
       "<table id=\"T_0b2ab\">\n",
       "  <thead>\n",
       "    <tr>\n",
       "      <th class=\"blank level0\" >&nbsp;</th>\n",
       "      <th id=\"T_0b2ab_level0_col0\" class=\"col_heading level0 col0\" >loving</th>\n",
       "      <th id=\"T_0b2ab_level0_col1\" class=\"col_heading level0 col1\" >loved</th>\n",
       "    </tr>\n",
       "  </thead>\n",
       "  <tbody>\n",
       "    <tr>\n",
       "      <th id=\"T_0b2ab_level0_row0\" class=\"row_heading level0 row0\" >0</th>\n",
       "      <td id=\"T_0b2ab_row0_col0\" class=\"data row0 col0\" >alice</td>\n",
       "      <td id=\"T_0b2ab_row0_col1\" class=\"data row0 col1\" >eve</td>\n",
       "    </tr>\n",
       "  </tbody>\n",
       "</table>\n"
      ],
      "text/plain": [
       "<pandas.io.formats.style.Styler at 0x26c5d791650>"
      ]
     },
     "execution_count": 47,
     "metadata": {},
     "output_type": "execute_result"
    }
   ],
   "source": [
    "?[loving, loved] := *love{ loving, loved }\n",
    "\n",
    ":limit 1"
   ]
  },
  {
   "attachments": {},
   "cell_type": "markdown",
   "id": "fe622726-e0b0-4ea3-878a-75e7de93a669",
   "metadata": {},
   "source": [
    "在下面这个例子，我们要求返回值以 `love` 列正向排序，在顺序相同时再以 `loving` 列反向排序，然后省略结果里面的第一行："
   ]
  },
  {
   "cell_type": "code",
   "execution_count": 48,
   "id": "60f3673b-3273-49a3-b893-1236faf64490",
   "metadata": {},
   "outputs": [
    {
     "data": {
      "text/html": [
       "<style type=\"text/css\">\n",
       "#T_a4d49_row0_col0, #T_a4d49_row0_col1, #T_a4d49_row1_col0, #T_a4d49_row1_col1, #T_a4d49_row2_col0, #T_a4d49_row2_col1, #T_a4d49_row3_col0, #T_a4d49_row3_col1, #T_a4d49_row4_col0, #T_a4d49_row4_col1, #T_a4d49_row5_col0, #T_a4d49_row5_col1, #T_a4d49_row6_col0, #T_a4d49_row6_col1 {\n",
       "  color: black;\n",
       "}\n",
       "</style>\n",
       "<table id=\"T_a4d49\">\n",
       "  <thead>\n",
       "    <tr>\n",
       "      <th class=\"blank level0\" >&nbsp;</th>\n",
       "      <th id=\"T_a4d49_level0_col0\" class=\"col_heading level0 col0\" >loving</th>\n",
       "      <th id=\"T_a4d49_level0_col1\" class=\"col_heading level0 col1\" >loved</th>\n",
       "    </tr>\n",
       "  </thead>\n",
       "  <tbody>\n",
       "    <tr>\n",
       "      <th id=\"T_a4d49_level0_row0\" class=\"row_heading level0 row0\" >0</th>\n",
       "      <td id=\"T_a4d49_row0_col0\" class=\"data row0 col0\" >george</td>\n",
       "      <td id=\"T_a4d49_row0_col1\" class=\"data row0 col1\" >george</td>\n",
       "    </tr>\n",
       "    <tr>\n",
       "      <th id=\"T_a4d49_level0_row1\" class=\"row_heading level0 row1\" >1</th>\n",
       "      <td id=\"T_a4d49_row1_col0\" class=\"data row1 col0\" >alice</td>\n",
       "      <td id=\"T_a4d49_row1_col1\" class=\"data row1 col1\" >eve</td>\n",
       "    </tr>\n",
       "    <tr>\n",
       "      <th id=\"T_a4d49_level0_row2\" class=\"row_heading level0 row2\" >2</th>\n",
       "      <td id=\"T_a4d49_row2_col0\" class=\"data row2 col0\" >charlie</td>\n",
       "      <td id=\"T_a4d49_row2_col1\" class=\"data row2 col1\" >eve</td>\n",
       "    </tr>\n",
       "    <tr>\n",
       "      <th id=\"T_a4d49_level0_row3\" class=\"row_heading level0 row3\" >3</th>\n",
       "      <td id=\"T_a4d49_row3_col0\" class=\"data row3 col0\" >eve</td>\n",
       "      <td id=\"T_a4d49_row3_col1\" class=\"data row3 col1\" >charlie</td>\n",
       "    </tr>\n",
       "    <tr>\n",
       "      <th id=\"T_a4d49_level0_row4\" class=\"row_heading level0 row4\" >4</th>\n",
       "      <td id=\"T_a4d49_row4_col0\" class=\"data row4 col0\" >eve</td>\n",
       "      <td id=\"T_a4d49_row4_col1\" class=\"data row4 col1\" >bob</td>\n",
       "    </tr>\n",
       "    <tr>\n",
       "      <th id=\"T_a4d49_level0_row5\" class=\"row_heading level0 row5\" >5</th>\n",
       "      <td id=\"T_a4d49_row5_col0\" class=\"data row5 col0\" >bob</td>\n",
       "      <td id=\"T_a4d49_row5_col1\" class=\"data row5 col1\" >alice</td>\n",
       "    </tr>\n",
       "    <tr>\n",
       "      <th id=\"T_a4d49_level0_row6\" class=\"row_heading level0 row6\" >6</th>\n",
       "      <td id=\"T_a4d49_row6_col0\" class=\"data row6 col0\" >eve</td>\n",
       "      <td id=\"T_a4d49_row6_col1\" class=\"data row6 col1\" >alice</td>\n",
       "    </tr>\n",
       "  </tbody>\n",
       "</table>\n"
      ],
      "text/plain": [
       "<pandas.io.formats.style.Styler at 0x26c5d913fd0>"
      ]
     },
     "execution_count": 48,
     "metadata": {},
     "output_type": "execute_result"
    }
   ],
   "source": [
    "?[loving, loved] := *love{ loving, loved }\n",
    "\n",
    ":order -loved, loving\n",
    ":offset 1"
   ]
  },
  {
   "attachments": {},
   "cell_type": "markdown",
   "id": "2c481e69-9640-4246-8ab8-e66549653c0d",
   "metadata": {},
   "source": [
    "在 `:order` 选项子句中的变量前面加上 `-` 表示降序，`+` 或者不写表示升序。\n",
    "\n",
    "[这一章](queries.rst) 介绍了所有的查询选项。\n",
    "\n",
    "### 固定规则\n",
    "\n",
    "用于常量规则的 `<-` 语法是语法糖，去糖后的写法是："
   ]
  },
  {
   "cell_type": "code",
   "execution_count": 49,
   "id": "91414374-23cb-4310-ac36-a372e151ef6c",
   "metadata": {},
   "outputs": [
    {
     "data": {
      "text/html": [
       "<style type=\"text/css\">\n",
       "#T_7567b_row0_col0, #T_7567b_row0_col1, #T_7567b_row0_col2 {\n",
       "  color: black;\n",
       "}\n",
       "</style>\n",
       "<table id=\"T_7567b\">\n",
       "  <thead>\n",
       "    <tr>\n",
       "      <th class=\"blank level0\" >&nbsp;</th>\n",
       "      <th id=\"T_7567b_level0_col0\" class=\"col_heading level0 col0\" >_0</th>\n",
       "      <th id=\"T_7567b_level0_col1\" class=\"col_heading level0 col1\" >_1</th>\n",
       "      <th id=\"T_7567b_level0_col2\" class=\"col_heading level0 col2\" >_2</th>\n",
       "    </tr>\n",
       "  </thead>\n",
       "  <tbody>\n",
       "    <tr>\n",
       "      <th id=\"T_7567b_level0_row0\" class=\"row_heading level0 row0\" >0</th>\n",
       "      <td id=\"T_7567b_row0_col0\" class=\"data row0 col0\" >hello</td>\n",
       "      <td id=\"T_7567b_row0_col1\" class=\"data row0 col1\" >world</td>\n",
       "      <td id=\"T_7567b_row0_col2\" class=\"data row0 col2\" >Cozo!</td>\n",
       "    </tr>\n",
       "  </tbody>\n",
       "</table>\n"
      ],
      "text/plain": [
       "<pandas.io.formats.style.Styler at 0x26c5d911a50>"
      ]
     },
     "execution_count": 49,
     "metadata": {},
     "output_type": "execute_result"
    }
   ],
   "source": [
    "?[] <~ Constant(data: [['hello', 'world', 'Cozo!']])"
   ]
  },
  {
   "attachments": {},
   "cell_type": "markdown",
   "id": "5b836e0b-1b38-485a-ade2-69742b29d09f",
   "metadata": {},
   "source": [
    "这是一个名为 `Constant` 的 **固定规则**，其需要一个名为 `data` 的选项。“摇尾巴算符” `<~` 表示固定规则。\n",
    "\n",
    "固定规则除了选项外，也接受表作为参数，表可以是存储表也可以是内联表。固定规则对这些表进行计算并输出结果。上面我们介绍的固定规则 `Constant` 接受 0 个表作为参数。\n",
    "\n",
    "如果在浏览器中使用Cozo，则 `Constant` 是唯一可以使用的固定规则。其它平台的Cozo包含了图算法模块，其中所有的图算法都是作为固定规则来实现的。比如，我们可以使用PageRank算法来找出谁在上面的爱情大三角中最受欢迎："
   ]
  },
  {
   "cell_type": "code",
   "execution_count": 50,
   "id": "f596d73d-1879-49e7-834a-5c489752a152",
   "metadata": {},
   "outputs": [
    {
     "data": {
      "text/html": [
       "<style type=\"text/css\">\n",
       "#T_3eb42_row0_col0, #T_3eb42_row1_col0, #T_3eb42_row2_col0, #T_3eb42_row3_col0, #T_3eb42_row4_col0, #T_3eb42_row5_col0 {\n",
       "  color: black;\n",
       "}\n",
       "#T_3eb42_row0_col1, #T_3eb42_row1_col1, #T_3eb42_row2_col1, #T_3eb42_row3_col1, #T_3eb42_row4_col1, #T_3eb42_row5_col1 {\n",
       "  color: #307fc1;\n",
       "}\n",
       "</style>\n",
       "<table id=\"T_3eb42\">\n",
       "  <thead>\n",
       "    <tr>\n",
       "      <th class=\"blank level0\" >&nbsp;</th>\n",
       "      <th id=\"T_3eb42_level0_col0\" class=\"col_heading level0 col0\" >person</th>\n",
       "      <th id=\"T_3eb42_level0_col1\" class=\"col_heading level0 col1\" >page_rank</th>\n",
       "    </tr>\n",
       "  </thead>\n",
       "  <tbody>\n",
       "    <tr>\n",
       "      <th id=\"T_3eb42_level0_row0\" class=\"row_heading level0 row0\" >0</th>\n",
       "      <td id=\"T_3eb42_row0_col0\" class=\"data row0 col0\" >george</td>\n",
       "      <td id=\"T_3eb42_row0_col1\" class=\"data row0 col1\" >0.280443</td>\n",
       "    </tr>\n",
       "    <tr>\n",
       "      <th id=\"T_3eb42_level0_row1\" class=\"row_heading level0 row1\" >1</th>\n",
       "      <td id=\"T_3eb42_row1_col0\" class=\"data row1 col0\" >eve</td>\n",
       "      <td id=\"T_3eb42_row1_col1\" class=\"data row1 col1\" >0.275376</td>\n",
       "    </tr>\n",
       "    <tr>\n",
       "      <th id=\"T_3eb42_level0_row2\" class=\"row_heading level0 row2\" >2</th>\n",
       "      <td id=\"T_3eb42_row2_col0\" class=\"data row2 col0\" >alice</td>\n",
       "      <td id=\"T_3eb42_row2_col1\" class=\"data row2 col1\" >0.191205</td>\n",
       "    </tr>\n",
       "    <tr>\n",
       "      <th id=\"T_3eb42_level0_row3\" class=\"row_heading level0 row3\" >3</th>\n",
       "      <td id=\"T_3eb42_row3_col0\" class=\"data row3 col0\" >bob</td>\n",
       "      <td id=\"T_3eb42_row3_col1\" class=\"data row3 col1\" >0.103023</td>\n",
       "    </tr>\n",
       "    <tr>\n",
       "      <th id=\"T_3eb42_level0_row4\" class=\"row_heading level0 row4\" >4</th>\n",
       "      <td id=\"T_3eb42_row4_col0\" class=\"data row4 col0\" >charlie</td>\n",
       "      <td id=\"T_3eb42_row4_col1\" class=\"data row4 col1\" >0.103023</td>\n",
       "    </tr>\n",
       "    <tr>\n",
       "      <th id=\"T_3eb42_level0_row5\" class=\"row_heading level0 row5\" >5</th>\n",
       "      <td id=\"T_3eb42_row5_col0\" class=\"data row5 col0\" >david</td>\n",
       "      <td id=\"T_3eb42_row5_col1\" class=\"data row5 col1\" >0.025000</td>\n",
       "    </tr>\n",
       "  </tbody>\n",
       "</table>\n"
      ],
      "text/plain": [
       "<pandas.io.formats.style.Styler at 0x26c5d8cded0>"
      ]
     },
     "execution_count": 50,
     "metadata": {},
     "output_type": "execute_result"
    }
   ],
   "source": [
    "?[person, page_rank] <~ PageRank(*love[])\n",
    "\n",
    ":order -page_rank"
   ]
  },
  {
   "attachments": {},
   "cell_type": "markdown",
   "id": "394a62e3-ad1c-49a0-944f-f0de0150d2e0",
   "metadata": {},
   "source": [
    "在这个例子中，我们将存储表 `*love` 作为参数。如上所述，在浏览器中运行此查询将会报错。\n",
    "\n",
    "所有的固定规则 [见此](algorithms.rst)。"
   ]
  },
  {
   "cell_type": "code",
   "execution_count": 51,
   "id": "db73e2f7-61a1-4824-9c47-c6da461b632b",
   "metadata": {},
   "outputs": [
    {
     "data": {
      "text/html": [
       "<style type=\"text/css\">\n",
       "#T_cc6fe_row0_col0 {\n",
       "  color: black;\n",
       "}\n",
       "</style>\n",
       "<table id=\"T_cc6fe\">\n",
       "  <thead>\n",
       "    <tr>\n",
       "      <th class=\"blank level0\" >&nbsp;</th>\n",
       "      <th id=\"T_cc6fe_level0_col0\" class=\"col_heading level0 col0\" >status</th>\n",
       "    </tr>\n",
       "  </thead>\n",
       "  <tbody>\n",
       "    <tr>\n",
       "      <th id=\"T_cc6fe_level0_row0\" class=\"row_heading level0 row0\" >0</th>\n",
       "      <td id=\"T_cc6fe_row0_col0\" class=\"data row0 col0\" >OK</td>\n",
       "    </tr>\n",
       "  </tbody>\n",
       "</table>\n"
      ],
      "text/plain": [
       "<pandas.io.formats.style.Styler at 0x26c461b2210>"
      ]
     },
     "execution_count": 51,
     "metadata": {},
     "output_type": "execute_result"
    }
   ],
   "source": [
    "::remove love"
   ]
  },
  {
   "attachments": {},
   "cell_type": "markdown",
   "id": "0c7c209c-063e-4148-899d-8cba7d7f07cd",
   "metadata": {},
   "source": [
    "## 历史穿梭\n",
    "\n",
    "一般来说，当我们 `:put` 键值至一个表中时，旧的值会被覆盖，而我们 `:rm` 键时，该键值就被删除。如果这种操作的历史记录本身就具有价值，那我们就应当将其保存下来：参见 [这个小故事](releases/v0.4.md)。**历史穿梭** 就是 Cozo 对于这种场景的解决方案：存储表中的数据不单单是当前所有的事实，也同时包括所有事实完整的历史（对于还在不停产生的数据来说，到目前为止所有的历史）。\n",
    "\n",
    "当然确实并不是所有项目都需要这种功能。Cozo 奉行“零成本、零脑力开销的抽象”的理念，也就是说，如果你不使用某个功能（抽象），那你第一不需要承担这个功能所带来的性能损失，第二你也不用费脑力理解这个功能的任何东西。所以如果你不需要历史穿梭，可以直接跳到下一节继续阅读。\n",
    "\n",
    "从简单的例子开始：存储国家元首的表。首先我们创建这个表："
   ]
  },
  {
   "cell_type": "code",
   "execution_count": 52,
   "id": "82195e28-46ad-4eee-955a-c79879cce2cf",
   "metadata": {},
   "outputs": [
    {
     "data": {
      "text/html": [
       "<style type=\"text/css\">\n",
       "#T_ae0cb_row0_col0 {\n",
       "  color: black;\n",
       "}\n",
       "</style>\n",
       "<table id=\"T_ae0cb\">\n",
       "  <thead>\n",
       "    <tr>\n",
       "      <th class=\"blank level0\" >&nbsp;</th>\n",
       "      <th id=\"T_ae0cb_level0_col0\" class=\"col_heading level0 col0\" >status</th>\n",
       "    </tr>\n",
       "  </thead>\n",
       "  <tbody>\n",
       "    <tr>\n",
       "      <th id=\"T_ae0cb_level0_row0\" class=\"row_heading level0 row0\" >0</th>\n",
       "      <td id=\"T_ae0cb_row0_col0\" class=\"data row0 col0\" >OK</td>\n",
       "    </tr>\n",
       "  </tbody>\n",
       "</table>\n"
      ],
      "text/plain": [
       "<pandas.io.formats.style.Styler at 0x26c5d8accd0>"
      ]
     },
     "execution_count": 52,
     "metadata": {},
     "output_type": "execute_result"
    }
   ],
   "source": [
    ":create hos {state: String, year: Validity => hos: String}"
   ]
  },
  {
   "attachments": {},
   "cell_type": "markdown",
   "id": "caf6301f-b971-4aef-bef6-3ba052470e02",
   "metadata": {},
   "source": [
    "这里 `hos` 是“国家元首”的简写。与之前我们创建的表相比，这个表唯一特殊的地方是它年份 `year` 这一列的类型为 `Validity`（有效性）。有效性看作是一个包含两个元素的数组，其中第一个元素是一个整数，记录该行所表示事实的“时间戳”；第二个元素是一个布尔值，若为真，则表示该事实是从这个时间开始 **有效** 的断言，若为假，则表示前一个同键事实到此时间时不再有效。注意，这里的“时间戳”的具体意义由用户来决定，你可以将时间戳记录为秒，记录为年，甚至只是一个没有具体间隔的递增的数列。在这个存储表中，为了简单起见，我们的时间以年份记录。\n",
    "\n",
    "先插入一些数据："
   ]
  },
  {
   "cell_type": "code",
   "execution_count": 53,
   "id": "8b9d4a62-5be2-4999-ba3e-2b876cc859af",
   "metadata": {},
   "outputs": [
    {
     "data": {
      "text/html": [
       "<style type=\"text/css\">\n",
       "#T_2b3a5_row0_col0 {\n",
       "  color: black;\n",
       "}\n",
       "</style>\n",
       "<table id=\"T_2b3a5\">\n",
       "  <thead>\n",
       "    <tr>\n",
       "      <th class=\"blank level0\" >&nbsp;</th>\n",
       "      <th id=\"T_2b3a5_level0_col0\" class=\"col_heading level0 col0\" >status</th>\n",
       "    </tr>\n",
       "  </thead>\n",
       "  <tbody>\n",
       "    <tr>\n",
       "      <th id=\"T_2b3a5_level0_row0\" class=\"row_heading level0 row0\" >0</th>\n",
       "      <td id=\"T_2b3a5_row0_col0\" class=\"data row0 col0\" >OK</td>\n",
       "    </tr>\n",
       "  </tbody>\n",
       "</table>\n"
      ],
      "text/plain": [
       "<pandas.io.formats.style.Styler at 0x26c5d886210>"
      ]
     },
     "execution_count": 53,
     "metadata": {},
     "output_type": "execute_result"
    }
   ],
   "source": [
    "?[state, year, hos] <- [['US', [2001, true], 'Bush'],\n",
    "                        ['US', [2005, true], 'Bush'],\n",
    "                        ['US', [2009, true], 'Obama'],\n",
    "                        ['US', [2013, true], 'Obama'],\n",
    "                        ['US', [2017, true], 'Trump'],\n",
    "                        ['US', [2021, true], 'Biden']]\n",
    "\n",
    ":put hos {state, year => hos}"
   ]
  },
  {
   "attachments": {},
   "cell_type": "markdown",
   "id": "43dd7b21-d609-4d6d-8696-9d9ab3de0800",
   "metadata": {},
   "source": [
    "上面插入的 `2005` 的数据其实即使省略了，历史穿梭的查询结果也一样，因为其值与前一条相同。这个存储表可以当做一个普通的存储表使用："
   ]
  },
  {
   "cell_type": "code",
   "execution_count": 54,
   "id": "bc3bd0a7-8a34-478d-acca-0a961e139a1b",
   "metadata": {},
   "outputs": [
    {
     "data": {
      "text/html": [
       "<style type=\"text/css\">\n",
       "#T_e3056_row0_col0, #T_e3056_row0_col2, #T_e3056_row1_col0, #T_e3056_row1_col2, #T_e3056_row2_col0, #T_e3056_row2_col2, #T_e3056_row3_col0, #T_e3056_row3_col2, #T_e3056_row4_col0, #T_e3056_row4_col2, #T_e3056_row5_col0, #T_e3056_row5_col2 {\n",
       "  color: black;\n",
       "}\n",
       "#T_e3056_row0_col1, #T_e3056_row1_col1, #T_e3056_row2_col1, #T_e3056_row3_col1, #T_e3056_row4_col1, #T_e3056_row5_col1 {\n",
       "  color: #bf5b3d;\n",
       "}\n",
       "</style>\n",
       "<table id=\"T_e3056\">\n",
       "  <thead>\n",
       "    <tr>\n",
       "      <th class=\"blank level0\" >&nbsp;</th>\n",
       "      <th id=\"T_e3056_level0_col0\" class=\"col_heading level0 col0\" >state</th>\n",
       "      <th id=\"T_e3056_level0_col1\" class=\"col_heading level0 col1\" >year</th>\n",
       "      <th id=\"T_e3056_level0_col2\" class=\"col_heading level0 col2\" >hos</th>\n",
       "    </tr>\n",
       "  </thead>\n",
       "  <tbody>\n",
       "    <tr>\n",
       "      <th id=\"T_e3056_level0_row0\" class=\"row_heading level0 row0\" >0</th>\n",
       "      <td id=\"T_e3056_row0_col0\" class=\"data row0 col0\" >US</td>\n",
       "      <td id=\"T_e3056_row0_col1\" class=\"data row0 col1\" >[2021, True]</td>\n",
       "      <td id=\"T_e3056_row0_col2\" class=\"data row0 col2\" >Biden</td>\n",
       "    </tr>\n",
       "    <tr>\n",
       "      <th id=\"T_e3056_level0_row1\" class=\"row_heading level0 row1\" >1</th>\n",
       "      <td id=\"T_e3056_row1_col0\" class=\"data row1 col0\" >US</td>\n",
       "      <td id=\"T_e3056_row1_col1\" class=\"data row1 col1\" >[2017, True]</td>\n",
       "      <td id=\"T_e3056_row1_col2\" class=\"data row1 col2\" >Trump</td>\n",
       "    </tr>\n",
       "    <tr>\n",
       "      <th id=\"T_e3056_level0_row2\" class=\"row_heading level0 row2\" >2</th>\n",
       "      <td id=\"T_e3056_row2_col0\" class=\"data row2 col0\" >US</td>\n",
       "      <td id=\"T_e3056_row2_col1\" class=\"data row2 col1\" >[2013, True]</td>\n",
       "      <td id=\"T_e3056_row2_col2\" class=\"data row2 col2\" >Obama</td>\n",
       "    </tr>\n",
       "    <tr>\n",
       "      <th id=\"T_e3056_level0_row3\" class=\"row_heading level0 row3\" >3</th>\n",
       "      <td id=\"T_e3056_row3_col0\" class=\"data row3 col0\" >US</td>\n",
       "      <td id=\"T_e3056_row3_col1\" class=\"data row3 col1\" >[2009, True]</td>\n",
       "      <td id=\"T_e3056_row3_col2\" class=\"data row3 col2\" >Obama</td>\n",
       "    </tr>\n",
       "    <tr>\n",
       "      <th id=\"T_e3056_level0_row4\" class=\"row_heading level0 row4\" >4</th>\n",
       "      <td id=\"T_e3056_row4_col0\" class=\"data row4 col0\" >US</td>\n",
       "      <td id=\"T_e3056_row4_col1\" class=\"data row4 col1\" >[2005, True]</td>\n",
       "      <td id=\"T_e3056_row4_col2\" class=\"data row4 col2\" >Bush</td>\n",
       "    </tr>\n",
       "    <tr>\n",
       "      <th id=\"T_e3056_level0_row5\" class=\"row_heading level0 row5\" >5</th>\n",
       "      <td id=\"T_e3056_row5_col0\" class=\"data row5 col0\" >US</td>\n",
       "      <td id=\"T_e3056_row5_col1\" class=\"data row5 col1\" >[2001, True]</td>\n",
       "      <td id=\"T_e3056_row5_col2\" class=\"data row5 col2\" >Bush</td>\n",
       "    </tr>\n",
       "  </tbody>\n",
       "</table>\n"
      ],
      "text/plain": [
       "<pandas.io.formats.style.Styler at 0x26c5d90c810>"
      ]
     },
     "execution_count": 54,
     "metadata": {},
     "output_type": "execute_result"
    }
   ],
   "source": [
    "?[state, year, hos] := *hos{state, year, hos}"
   ]
  },
  {
   "attachments": {},
   "cell_type": "markdown",
   "id": "e83c4f50-4c87-47bb-bb41-c4a8c3dc32ad",
   "metadata": {},
   "source": [
    "以上我们看出，有效性类型并不是一个真正的数组，因为它是按时间降序排列的。\n",
    "\n",
    "如果一个存储表的最后一个键列具有显性的 `Validity` 类型，那这个表就支持历史穿梭查询。比如，我们忘了 2019 年美国元首是谁。那就查查："
   ]
  },
  {
   "cell_type": "code",
   "execution_count": 55,
   "id": "00544dd6-668a-48b5-911a-9e3547d7a88b",
   "metadata": {},
   "outputs": [
    {
     "data": {
      "text/html": [
       "<style type=\"text/css\">\n",
       "#T_6d3f2_row0_col0 {\n",
       "  color: black;\n",
       "}\n",
       "#T_6d3f2_row0_col1 {\n",
       "  color: #bf5b3d;\n",
       "}\n",
       "</style>\n",
       "<table id=\"T_6d3f2\">\n",
       "  <thead>\n",
       "    <tr>\n",
       "      <th class=\"blank level0\" >&nbsp;</th>\n",
       "      <th id=\"T_6d3f2_level0_col0\" class=\"col_heading level0 col0\" >hos</th>\n",
       "      <th id=\"T_6d3f2_level0_col1\" class=\"col_heading level0 col1\" >year</th>\n",
       "    </tr>\n",
       "  </thead>\n",
       "  <tbody>\n",
       "    <tr>\n",
       "      <th id=\"T_6d3f2_level0_row0\" class=\"row_heading level0 row0\" >0</th>\n",
       "      <td id=\"T_6d3f2_row0_col0\" class=\"data row0 col0\" >Trump</td>\n",
       "      <td id=\"T_6d3f2_row0_col1\" class=\"data row0 col1\" >[2017, True]</td>\n",
       "    </tr>\n",
       "  </tbody>\n",
       "</table>\n"
      ],
      "text/plain": [
       "<pandas.io.formats.style.Styler at 0x26c461ce990>"
      ]
     },
     "execution_count": 55,
     "metadata": {},
     "output_type": "execute_result"
    }
   ],
   "source": [
    "?[hos, year] := *hos{state: 'US', year, hos @ 2019}"
   ]
  },
  {
   "attachments": {},
   "cell_type": "markdown",
   "id": "f446b052-457e-4d9c-a84f-f6e5404d7923",
   "metadata": {},
   "source": [
    "这也能忘？结果中除了名字之外，还返回了行本身的有效性。\n",
    "\n",
    "2099 年的时候，美国元首是谁呢？"
   ]
  },
  {
   "cell_type": "code",
   "execution_count": 56,
   "id": "1f09aa4b-49ab-46b6-b68d-d2126ca59433",
   "metadata": {},
   "outputs": [
    {
     "data": {
      "text/html": [
       "<style type=\"text/css\">\n",
       "#T_50984_row0_col0 {\n",
       "  color: black;\n",
       "}\n",
       "#T_50984_row0_col1 {\n",
       "  color: #bf5b3d;\n",
       "}\n",
       "</style>\n",
       "<table id=\"T_50984\">\n",
       "  <thead>\n",
       "    <tr>\n",
       "      <th class=\"blank level0\" >&nbsp;</th>\n",
       "      <th id=\"T_50984_level0_col0\" class=\"col_heading level0 col0\" >hos</th>\n",
       "      <th id=\"T_50984_level0_col1\" class=\"col_heading level0 col1\" >year</th>\n",
       "    </tr>\n",
       "  </thead>\n",
       "  <tbody>\n",
       "    <tr>\n",
       "      <th id=\"T_50984_level0_row0\" class=\"row_heading level0 row0\" >0</th>\n",
       "      <td id=\"T_50984_row0_col0\" class=\"data row0 col0\" >Biden</td>\n",
       "      <td id=\"T_50984_row0_col1\" class=\"data row0 col1\" >[2021, True]</td>\n",
       "    </tr>\n",
       "  </tbody>\n",
       "</table>\n"
      ],
      "text/plain": [
       "<pandas.io.formats.style.Styler at 0x26c5d90dbd0>"
      ]
     },
     "execution_count": 56,
     "metadata": {},
     "output_type": "execute_result"
    }
   ],
   "source": [
    "?[hos, year] := *hos{state: 'US', year, hos @ 2099}"
   ]
  },
  {
   "attachments": {},
   "cell_type": "markdown",
   "id": "f53fabba-0a62-4dd8-a521-f5e20a89cf4b",
   "metadata": {},
   "source": [
    "这……可能不太对。其实 2025 年之后是谁，我们目前都 **不知道**。我们可以显性地表示我们这种无知："
   ]
  },
  {
   "cell_type": "code",
   "execution_count": 57,
   "id": "6c394078-8cab-4358-8e55-c0b19c401839",
   "metadata": {},
   "outputs": [
    {
     "data": {
      "text/html": [
       "<style type=\"text/css\">\n",
       "#T_a89fc_row0_col0 {\n",
       "  color: black;\n",
       "}\n",
       "</style>\n",
       "<table id=\"T_a89fc\">\n",
       "  <thead>\n",
       "    <tr>\n",
       "      <th class=\"blank level0\" >&nbsp;</th>\n",
       "      <th id=\"T_a89fc_level0_col0\" class=\"col_heading level0 col0\" >status</th>\n",
       "    </tr>\n",
       "  </thead>\n",
       "  <tbody>\n",
       "    <tr>\n",
       "      <th id=\"T_a89fc_level0_row0\" class=\"row_heading level0 row0\" >0</th>\n",
       "      <td id=\"T_a89fc_row0_col0\" class=\"data row0 col0\" >OK</td>\n",
       "    </tr>\n",
       "  </tbody>\n",
       "</table>\n"
      ],
      "text/plain": [
       "<pandas.io.formats.style.Styler at 0x26c5d90c450>"
      ]
     },
     "execution_count": 57,
     "metadata": {},
     "output_type": "execute_result"
    }
   ],
   "source": [
    "?[state, year, hos] <- [['US', [2025, false], '']]\n",
    "\n",
    ":put hos {state, year => hos}"
   ]
  },
  {
   "attachments": {},
   "cell_type": "markdown",
   "id": "62773cb8-8d98-4891-9435-2335d892846e",
   "metadata": {},
   "source": [
    "这种对于无知的表示对应于普通存储表中的 **删除** 操作。如果你想要你的存储表不可变，则永远只在其中 **插入** 数据，永远也不要 **删除** 或 **覆盖** 数据。由于有效性是键的一部分，所以只要两个键的有效性不同，它们之间就不构成覆盖。\n",
    "\n",
    "我们再执行一次上一个查询："
   ]
  },
  {
   "cell_type": "code",
   "execution_count": 58,
   "id": "2d9fbe09-c948-47e9-a342-2d3073f01920",
   "metadata": {},
   "outputs": [
    {
     "data": {
      "text/html": [
       "<style type=\"text/css\">\n",
       "</style>\n",
       "<table id=\"T_7ffd1\">\n",
       "  <thead>\n",
       "    <tr>\n",
       "      <th class=\"blank level0\" >&nbsp;</th>\n",
       "      <th id=\"T_7ffd1_level0_col0\" class=\"col_heading level0 col0\" >hos</th>\n",
       "      <th id=\"T_7ffd1_level0_col1\" class=\"col_heading level0 col1\" >year</th>\n",
       "    </tr>\n",
       "  </thead>\n",
       "  <tbody>\n",
       "  </tbody>\n",
       "</table>\n"
      ],
      "text/plain": [
       "<pandas.io.formats.style.Styler at 0x26c461ecb50>"
      ]
     },
     "execution_count": 58,
     "metadata": {},
     "output_type": "execute_result"
    }
   ],
   "source": [
    "?[hos, year] := *hos{state: 'US', year, hos @ 2099}"
   ]
  },
  {
   "attachments": {},
   "cell_type": "markdown",
   "id": "63fd32eb-6c95-4bca-834a-d8eaebd29893",
   "metadata": {},
   "source": [
    "由于我们明确地表示了我们的无知，数据库现在也说“不知道”。\n",
    "\n",
    "历史穿梭是作用于每一个存储表的应用的：我们可以在同一查询中对于同一个存储表给出不同的穿梭时间戳："
   ]
  },
  {
   "cell_type": "code",
   "execution_count": 59,
   "id": "0fae23e4-3c49-45f2-a4f8-98836ca19cad",
   "metadata": {},
   "outputs": [
    {
     "data": {
      "text/html": [
       "<style type=\"text/css\">\n",
       "#T_d73e3_row0_col0, #T_d73e3_row0_col1 {\n",
       "  color: black;\n",
       "}\n",
       "</style>\n",
       "<table id=\"T_d73e3\">\n",
       "  <thead>\n",
       "    <tr>\n",
       "      <th class=\"blank level0\" >&nbsp;</th>\n",
       "      <th id=\"T_d73e3_level0_col0\" class=\"col_heading level0 col0\" >hos2018</th>\n",
       "      <th id=\"T_d73e3_level0_col1\" class=\"col_heading level0 col1\" >hos2010</th>\n",
       "    </tr>\n",
       "  </thead>\n",
       "  <tbody>\n",
       "    <tr>\n",
       "      <th id=\"T_d73e3_level0_row0\" class=\"row_heading level0 row0\" >0</th>\n",
       "      <td id=\"T_d73e3_row0_col0\" class=\"data row0 col0\" >Trump</td>\n",
       "      <td id=\"T_d73e3_row0_col1\" class=\"data row0 col1\" >Obama</td>\n",
       "    </tr>\n",
       "  </tbody>\n",
       "</table>\n"
      ],
      "text/plain": [
       "<pandas.io.formats.style.Styler at 0x26c5d365890>"
      ]
     },
     "execution_count": 59,
     "metadata": {},
     "output_type": "execute_result"
    }
   ],
   "source": [
    "?[hos2018, hos2010] := *hos{state: 'US', hos: hos2018 @ 2018}, \n",
    "                       *hos{state: 'US', hos: hos2010 @ 2010}"
   ]
  },
  {
   "attachments": {},
   "cell_type": "markdown",
   "id": "0d57a946-2e11-47bb-ab53-46c8da9d6adf",
   "metadata": {},
   "source": [
    "我们已经说过，有效性中的时间戳如何解释由用户来定。而 Cozo 中有一些其他的功能，基于对这个时间戳的一种默认的解释。让我们先创建一个存储表，用来记录每个人的心情："
   ]
  },
  {
   "cell_type": "code",
   "execution_count": 60,
   "id": "62e68f01-1c86-4b3f-8650-5a7399974fd0",
   "metadata": {},
   "outputs": [
    {
     "data": {
      "text/html": [
       "<style type=\"text/css\">\n",
       "#T_fa8d8_row0_col0 {\n",
       "  color: black;\n",
       "}\n",
       "</style>\n",
       "<table id=\"T_fa8d8\">\n",
       "  <thead>\n",
       "    <tr>\n",
       "      <th class=\"blank level0\" >&nbsp;</th>\n",
       "      <th id=\"T_fa8d8_level0_col0\" class=\"col_heading level0 col0\" >status</th>\n",
       "    </tr>\n",
       "  </thead>\n",
       "  <tbody>\n",
       "    <tr>\n",
       "      <th id=\"T_fa8d8_level0_row0\" class=\"row_heading level0 row0\" >0</th>\n",
       "      <td id=\"T_fa8d8_row0_col0\" class=\"data row0 col0\" >OK</td>\n",
       "    </tr>\n",
       "  </tbody>\n",
       "</table>\n"
      ],
      "text/plain": [
       "<pandas.io.formats.style.Styler at 0x26c5d8a0850>"
      ]
     },
     "execution_count": 60,
     "metadata": {},
     "output_type": "execute_result"
    }
   ],
   "source": [
    ":create mood {name: String, at: Validity => mood: String}"
   ]
  },
  {
   "attachments": {},
   "cell_type": "markdown",
   "id": "db91c77f-e122-4867-8d83-15eb38b3d1a6",
   "metadata": {},
   "source": [
    "记录自己 **当前** 的心情："
   ]
  },
  {
   "cell_type": "code",
   "execution_count": 61,
   "id": "3296564d-500f-4bc7-b2ce-4a356275b13f",
   "metadata": {},
   "outputs": [
    {
     "data": {
      "text/html": [
       "<style type=\"text/css\">\n",
       "#T_935fd_row0_col0 {\n",
       "  color: black;\n",
       "}\n",
       "</style>\n",
       "<table id=\"T_935fd\">\n",
       "  <thead>\n",
       "    <tr>\n",
       "      <th class=\"blank level0\" >&nbsp;</th>\n",
       "      <th id=\"T_935fd_level0_col0\" class=\"col_heading level0 col0\" >status</th>\n",
       "    </tr>\n",
       "  </thead>\n",
       "  <tbody>\n",
       "    <tr>\n",
       "      <th id=\"T_935fd_level0_row0\" class=\"row_heading level0 row0\" >0</th>\n",
       "      <td id=\"T_935fd_row0_col0\" class=\"data row0 col0\" >OK</td>\n",
       "    </tr>\n",
       "  </tbody>\n",
       "</table>\n"
      ],
      "text/plain": [
       "<pandas.io.formats.style.Styler at 0x26c5d8cda90>"
      ]
     },
     "execution_count": 61,
     "metadata": {},
     "output_type": "execute_result"
    }
   ],
   "source": [
    "?[name, at, mood] <- [['me', 'ASSERT', 'curious']]\n",
    ":put mood {name, at => mood}"
   ]
  },
  {
   "attachments": {},
   "cell_type": "markdown",
   "id": "ac2ba14f-f7d6-49c1-8279-2ef355885265",
   "metadata": {},
   "source": [
    "注意这里我们给出的有效性不是一个二元数组，而是字符串 `ASSERT`，这意味着我们要求系统应用 **当前的** 时间戳，且有效性中的布尔值应为真。什么是“当前”呢？"
   ]
  },
  {
   "cell_type": "code",
   "execution_count": 62,
   "id": "42feef7d-7c96-4536-bfd5-ade0c3e4134b",
   "metadata": {},
   "outputs": [
    {
     "data": {
      "text/html": [
       "<style type=\"text/css\">\n",
       "#T_c7b4c_row0_col0, #T_c7b4c_row0_col2 {\n",
       "  color: black;\n",
       "}\n",
       "#T_c7b4c_row0_col1 {\n",
       "  color: #bf5b3d;\n",
       "}\n",
       "</style>\n",
       "<table id=\"T_c7b4c\">\n",
       "  <thead>\n",
       "    <tr>\n",
       "      <th class=\"blank level0\" >&nbsp;</th>\n",
       "      <th id=\"T_c7b4c_level0_col0\" class=\"col_heading level0 col0\" >name</th>\n",
       "      <th id=\"T_c7b4c_level0_col1\" class=\"col_heading level0 col1\" >at</th>\n",
       "      <th id=\"T_c7b4c_level0_col2\" class=\"col_heading level0 col2\" >mood</th>\n",
       "    </tr>\n",
       "  </thead>\n",
       "  <tbody>\n",
       "    <tr>\n",
       "      <th id=\"T_c7b4c_level0_row0\" class=\"row_heading level0 row0\" >0</th>\n",
       "      <td id=\"T_c7b4c_row0_col0\" class=\"data row0 col0\" >me</td>\n",
       "      <td id=\"T_c7b4c_row0_col1\" class=\"data row0 col1\" >[1672047587447466, True]</td>\n",
       "      <td id=\"T_c7b4c_row0_col2\" class=\"data row0 col2\" >curious</td>\n",
       "    </tr>\n",
       "  </tbody>\n",
       "</table>\n"
      ],
      "text/plain": [
       "<pandas.io.formats.style.Styler at 0x26c5d9119d0>"
      ]
     },
     "execution_count": 62,
     "metadata": {},
     "output_type": "execute_result"
    }
   ],
   "source": [
    "?[name, at, mood] := *mood{name, at, mood}"
   ]
  },
  {
   "attachments": {},
   "cell_type": "markdown",
   "id": "054e2f27-47e3-4ac9-ac7b-1bde6d0a8ca7",
   "metadata": {},
   "source": [
    "这个挺大的整数代表的意义是以 **微秒**（百万分之一秒）记录的 UNIX 时间戳。我们可以把它转化成更易读的字符串形式："
   ]
  },
  {
   "cell_type": "code",
   "execution_count": 63,
   "id": "7dd7a9a9-95cf-41cf-9ee6-3af5f526c0c9",
   "metadata": {},
   "outputs": [
    {
     "data": {
      "text/html": [
       "<style type=\"text/css\">\n",
       "#T_3da66_row0_col0, #T_3da66_row0_col1, #T_3da66_row0_col2 {\n",
       "  color: black;\n",
       "}\n",
       "</style>\n",
       "<table id=\"T_3da66\">\n",
       "  <thead>\n",
       "    <tr>\n",
       "      <th class=\"blank level0\" >&nbsp;</th>\n",
       "      <th id=\"T_3da66_level0_col0\" class=\"col_heading level0 col0\" >name</th>\n",
       "      <th id=\"T_3da66_level0_col1\" class=\"col_heading level0 col1\" >time</th>\n",
       "      <th id=\"T_3da66_level0_col2\" class=\"col_heading level0 col2\" >mood</th>\n",
       "    </tr>\n",
       "  </thead>\n",
       "  <tbody>\n",
       "    <tr>\n",
       "      <th id=\"T_3da66_level0_row0\" class=\"row_heading level0 row0\" >0</th>\n",
       "      <td id=\"T_3da66_row0_col0\" class=\"data row0 col0\" >me</td>\n",
       "      <td id=\"T_3da66_row0_col1\" class=\"data row0 col1\" >2022-12-26T09:39:47.447+00:00</td>\n",
       "      <td id=\"T_3da66_row0_col2\" class=\"data row0 col2\" >curious</td>\n",
       "    </tr>\n",
       "  </tbody>\n",
       "</table>\n"
      ],
      "text/plain": [
       "<pandas.io.formats.style.Styler at 0x26c5d8ab2d0>"
      ]
     },
     "execution_count": 63,
     "metadata": {},
     "output_type": "execute_result"
    }
   ],
   "source": [
    "?[name, time, mood] := *mood{name, at, mood}, \n",
    "                       time = format_timestamp(at)"
   ]
  },
  {
   "attachments": {},
   "cell_type": "markdown",
   "id": "f63694d1-ab79-4841-931c-cf2a48b07383",
   "metadata": {},
   "source": [
    "想知道 **现在** 的事实，我们可以用字符串 `NOW` 作为有效性的时间戳："
   ]
  },
  {
   "cell_type": "code",
   "execution_count": 64,
   "id": "4958267d-ceb7-44c7-84c5-dea5916620b9",
   "metadata": {},
   "outputs": [
    {
     "data": {
      "text/html": [
       "<style type=\"text/css\">\n",
       "#T_17163_row0_col0, #T_17163_row0_col1, #T_17163_row0_col2 {\n",
       "  color: black;\n",
       "}\n",
       "</style>\n",
       "<table id=\"T_17163\">\n",
       "  <thead>\n",
       "    <tr>\n",
       "      <th class=\"blank level0\" >&nbsp;</th>\n",
       "      <th id=\"T_17163_level0_col0\" class=\"col_heading level0 col0\" >name</th>\n",
       "      <th id=\"T_17163_level0_col1\" class=\"col_heading level0 col1\" >time</th>\n",
       "      <th id=\"T_17163_level0_col2\" class=\"col_heading level0 col2\" >mood</th>\n",
       "    </tr>\n",
       "  </thead>\n",
       "  <tbody>\n",
       "    <tr>\n",
       "      <th id=\"T_17163_level0_row0\" class=\"row_heading level0 row0\" >0</th>\n",
       "      <td id=\"T_17163_row0_col0\" class=\"data row0 col0\" >me</td>\n",
       "      <td id=\"T_17163_row0_col1\" class=\"data row0 col1\" >2022-12-26T09:39:47.447+00:00</td>\n",
       "      <td id=\"T_17163_row0_col2\" class=\"data row0 col2\" >curious</td>\n",
       "    </tr>\n",
       "  </tbody>\n",
       "</table>\n"
      ],
      "text/plain": [
       "<pandas.io.formats.style.Styler at 0x26c5d924ad0>"
      ]
     },
     "execution_count": 64,
     "metadata": {},
     "output_type": "execute_result"
    }
   ],
   "source": [
    "?[name, time, mood] := *mood{name, at, mood @ 'NOW'}, \n",
    "                       time = format_timestamp(at)"
   ]
  },
  {
   "attachments": {},
   "cell_type": "markdown",
   "id": "0e539cbe-2926-4d66-b705-6e0044fe8331",
   "metadata": {},
   "source": [
    "我们同样也可以在插入数据时手动给出未来的时间戳。由于以微秒计的时间戳不易读，系统同时也接受表示时间的字符串作为有效性："
   ]
  },
  {
   "cell_type": "code",
   "execution_count": 65,
   "id": "caa9d805-0883-472d-a582-8680d1de8b0c",
   "metadata": {},
   "outputs": [
    {
     "data": {
      "text/html": [
       "<style type=\"text/css\">\n",
       "#T_2b63d_row0_col0 {\n",
       "  color: black;\n",
       "}\n",
       "</style>\n",
       "<table id=\"T_2b63d\">\n",
       "  <thead>\n",
       "    <tr>\n",
       "      <th class=\"blank level0\" >&nbsp;</th>\n",
       "      <th id=\"T_2b63d_level0_col0\" class=\"col_heading level0 col0\" >status</th>\n",
       "    </tr>\n",
       "  </thead>\n",
       "  <tbody>\n",
       "    <tr>\n",
       "      <th id=\"T_2b63d_level0_row0\" class=\"row_heading level0 row0\" >0</th>\n",
       "      <td id=\"T_2b63d_row0_col0\" class=\"data row0 col0\" >OK</td>\n",
       "    </tr>\n",
       "  </tbody>\n",
       "</table>\n"
      ],
      "text/plain": [
       "<pandas.io.formats.style.Styler at 0x26c5d8f1a10>"
      ]
     },
     "execution_count": 65,
     "metadata": {},
     "output_type": "execute_result"
    }
   ],
   "source": [
    "?[name, at, mood] <- [['me', '2030-01-01T00:00:00.000+00:00', 'hopeful']]\n",
    ":put mood {name, at => mood}"
   ]
  },
  {
   "attachments": {},
   "cell_type": "markdown",
   "id": "2d727869-f82d-45b7-8ff9-1bfee68e1dd3",
   "metadata": {},
   "source": [
    "未来的事实不改变当前的查询："
   ]
  },
  {
   "cell_type": "code",
   "execution_count": 66,
   "id": "35db6254-d8b9-4baf-b3dd-5a2a94078a9a",
   "metadata": {},
   "outputs": [
    {
     "data": {
      "text/html": [
       "<style type=\"text/css\">\n",
       "#T_ee053_row0_col0, #T_ee053_row0_col1, #T_ee053_row0_col2 {\n",
       "  color: black;\n",
       "}\n",
       "</style>\n",
       "<table id=\"T_ee053\">\n",
       "  <thead>\n",
       "    <tr>\n",
       "      <th class=\"blank level0\" >&nbsp;</th>\n",
       "      <th id=\"T_ee053_level0_col0\" class=\"col_heading level0 col0\" >name</th>\n",
       "      <th id=\"T_ee053_level0_col1\" class=\"col_heading level0 col1\" >time</th>\n",
       "      <th id=\"T_ee053_level0_col2\" class=\"col_heading level0 col2\" >mood</th>\n",
       "    </tr>\n",
       "  </thead>\n",
       "  <tbody>\n",
       "    <tr>\n",
       "      <th id=\"T_ee053_level0_row0\" class=\"row_heading level0 row0\" >0</th>\n",
       "      <td id=\"T_ee053_row0_col0\" class=\"data row0 col0\" >me</td>\n",
       "      <td id=\"T_ee053_row0_col1\" class=\"data row0 col1\" >2022-12-26T09:39:47.447+00:00</td>\n",
       "      <td id=\"T_ee053_row0_col2\" class=\"data row0 col2\" >curious</td>\n",
       "    </tr>\n",
       "  </tbody>\n",
       "</table>\n"
      ],
      "text/plain": [
       "<pandas.io.formats.style.Styler at 0x26c5d8ad850>"
      ]
     },
     "execution_count": 66,
     "metadata": {},
     "output_type": "execute_result"
    }
   ],
   "source": [
    "?[name, time, mood] := *mood{name, at, mood @ 'NOW'}, \n",
    "                       time = format_timestamp(at)"
   ]
  },
  {
   "attachments": {},
   "cell_type": "markdown",
   "id": "3f0f2d4a-4ca2-40a3-becd-e4a5f7044e61",
   "metadata": {},
   "source": [
    "除了 `NOW` 之外，我们也可以使用字符串 `END` 来作为查询时有效性的声明，其意义为我们想知道世界末日时的事实："
   ]
  },
  {
   "cell_type": "code",
   "execution_count": 67,
   "id": "4439a7c8-e8bd-4fac-a4ca-fb627f0c8701",
   "metadata": {},
   "outputs": [
    {
     "data": {
      "text/html": [
       "<style type=\"text/css\">\n",
       "#T_0d114_row0_col0, #T_0d114_row0_col1, #T_0d114_row0_col2 {\n",
       "  color: black;\n",
       "}\n",
       "</style>\n",
       "<table id=\"T_0d114\">\n",
       "  <thead>\n",
       "    <tr>\n",
       "      <th class=\"blank level0\" >&nbsp;</th>\n",
       "      <th id=\"T_0d114_level0_col0\" class=\"col_heading level0 col0\" >name</th>\n",
       "      <th id=\"T_0d114_level0_col1\" class=\"col_heading level0 col1\" >time</th>\n",
       "      <th id=\"T_0d114_level0_col2\" class=\"col_heading level0 col2\" >mood</th>\n",
       "    </tr>\n",
       "  </thead>\n",
       "  <tbody>\n",
       "    <tr>\n",
       "      <th id=\"T_0d114_level0_row0\" class=\"row_heading level0 row0\" >0</th>\n",
       "      <td id=\"T_0d114_row0_col0\" class=\"data row0 col0\" >me</td>\n",
       "      <td id=\"T_0d114_row0_col1\" class=\"data row0 col1\" >2030-01-01T00:00:00+00:00</td>\n",
       "      <td id=\"T_0d114_row0_col2\" class=\"data row0 col2\" >hopeful</td>\n",
       "    </tr>\n",
       "  </tbody>\n",
       "</table>\n"
      ],
      "text/plain": [
       "<pandas.io.formats.style.Styler at 0x26c5d897e10>"
      ]
     },
     "execution_count": 67,
     "metadata": {},
     "output_type": "execute_result"
    }
   ],
   "source": [
    "?[name, time, mood] := *mood{name, at, mood @ 'END'}, \n",
    "                       time = format_timestamp(at)"
   ]
  },
  {
   "attachments": {},
   "cell_type": "markdown",
   "id": "855aa241-bd10-469e-9450-7560d1590650",
   "metadata": {},
   "source": [
    "当我们想声明我们 **从现在开始** 对未来的无知时，可以使用 `RETRACT` 字符串："
   ]
  },
  {
   "cell_type": "code",
   "execution_count": 68,
   "id": "0f4f16b4-e0d2-4435-bf02-55b9f4e49715",
   "metadata": {},
   "outputs": [
    {
     "data": {
      "text/html": [
       "<style type=\"text/css\">\n",
       "#T_eb36f_row0_col0 {\n",
       "  color: black;\n",
       "}\n",
       "</style>\n",
       "<table id=\"T_eb36f\">\n",
       "  <thead>\n",
       "    <tr>\n",
       "      <th class=\"blank level0\" >&nbsp;</th>\n",
       "      <th id=\"T_eb36f_level0_col0\" class=\"col_heading level0 col0\" >status</th>\n",
       "    </tr>\n",
       "  </thead>\n",
       "  <tbody>\n",
       "    <tr>\n",
       "      <th id=\"T_eb36f_level0_row0\" class=\"row_heading level0 row0\" >0</th>\n",
       "      <td id=\"T_eb36f_row0_col0\" class=\"data row0 col0\" >OK</td>\n",
       "    </tr>\n",
       "  </tbody>\n",
       "</table>\n"
      ],
      "text/plain": [
       "<pandas.io.formats.style.Styler at 0x26c5d928e10>"
      ]
     },
     "execution_count": 68,
     "metadata": {},
     "output_type": "execute_result"
    }
   ],
   "source": [
    "?[name, at, mood] <- [['me', 'RETRACT', '']]\n",
    ":put mood {name, at => mood}"
   ]
  },
  {
   "attachments": {},
   "cell_type": "markdown",
   "id": "02f6dafb-3c67-4af6-bf2d-868bb145cac7",
   "metadata": {},
   "source": [
    "从某个时刻开始的无知，也可以用表示时间的字符串来声明：只需要在字符串前添加 `~` 符号："
   ]
  },
  {
   "cell_type": "code",
   "execution_count": 69,
   "id": "7541c1f3-2c00-42ae-9045-0950cc36618c",
   "metadata": {},
   "outputs": [
    {
     "data": {
      "text/html": [
       "<style type=\"text/css\">\n",
       "#T_774e4_row0_col0 {\n",
       "  color: black;\n",
       "}\n",
       "</style>\n",
       "<table id=\"T_774e4\">\n",
       "  <thead>\n",
       "    <tr>\n",
       "      <th class=\"blank level0\" >&nbsp;</th>\n",
       "      <th id=\"T_774e4_level0_col0\" class=\"col_heading level0 col0\" >status</th>\n",
       "    </tr>\n",
       "  </thead>\n",
       "  <tbody>\n",
       "    <tr>\n",
       "      <th id=\"T_774e4_level0_row0\" class=\"row_heading level0 row0\" >0</th>\n",
       "      <td id=\"T_774e4_row0_col0\" class=\"data row0 col0\" >OK</td>\n",
       "    </tr>\n",
       "  </tbody>\n",
       "</table>\n"
      ],
      "text/plain": [
       "<pandas.io.formats.style.Styler at 0x26c5d929190>"
      ]
     },
     "execution_count": 69,
     "metadata": {},
     "output_type": "execute_result"
    }
   ],
   "source": [
    "?[name, at, mood] <- [['me', '~9999-01-01T00:00:00.000+00:00', 'who cares']]\n",
    ":put mood {name, at => mood}"
   ]
  },
  {
   "attachments": {},
   "cell_type": "markdown",
   "id": "c9cda111-bd94-4e31-bc47-86c3c5788835",
   "metadata": {},
   "source": [
    "同时，作为一个普通的存储表，我们可以一次性查看历史的全局："
   ]
  },
  {
   "cell_type": "code",
   "execution_count": 70,
   "id": "e101acb3-9de6-4111-940d-74a397060e42",
   "metadata": {},
   "outputs": [
    {
     "data": {
      "text/html": [
       "<style type=\"text/css\">\n",
       "#T_6398e_row0_col0, #T_6398e_row0_col1, #T_6398e_row0_col3, #T_6398e_row1_col0, #T_6398e_row1_col1, #T_6398e_row1_col3, #T_6398e_row2_col0, #T_6398e_row2_col1, #T_6398e_row2_col3, #T_6398e_row3_col0, #T_6398e_row3_col1, #T_6398e_row3_col3 {\n",
       "  color: black;\n",
       "}\n",
       "#T_6398e_row0_col2, #T_6398e_row1_col2, #T_6398e_row2_col2, #T_6398e_row3_col2 {\n",
       "  color: #307fc1;\n",
       "}\n",
       "</style>\n",
       "<table id=\"T_6398e\">\n",
       "  <thead>\n",
       "    <tr>\n",
       "      <th class=\"blank level0\" >&nbsp;</th>\n",
       "      <th id=\"T_6398e_level0_col0\" class=\"col_heading level0 col0\" >name</th>\n",
       "      <th id=\"T_6398e_level0_col1\" class=\"col_heading level0 col1\" >time</th>\n",
       "      <th id=\"T_6398e_level0_col2\" class=\"col_heading level0 col2\" >is_assert</th>\n",
       "      <th id=\"T_6398e_level0_col3\" class=\"col_heading level0 col3\" >mood</th>\n",
       "    </tr>\n",
       "  </thead>\n",
       "  <tbody>\n",
       "    <tr>\n",
       "      <th id=\"T_6398e_level0_row0\" class=\"row_heading level0 row0\" >0</th>\n",
       "      <td id=\"T_6398e_row0_col0\" class=\"data row0 col0\" >me</td>\n",
       "      <td id=\"T_6398e_row0_col1\" class=\"data row0 col1\" >2022-12-26T09:39:47.447+00:00</td>\n",
       "      <td id=\"T_6398e_row0_col2\" class=\"data row0 col2\" >True</td>\n",
       "      <td id=\"T_6398e_row0_col3\" class=\"data row0 col3\" >curious</td>\n",
       "    </tr>\n",
       "    <tr>\n",
       "      <th id=\"T_6398e_level0_row1\" class=\"row_heading level0 row1\" >1</th>\n",
       "      <td id=\"T_6398e_row1_col0\" class=\"data row1 col0\" >me</td>\n",
       "      <td id=\"T_6398e_row1_col1\" class=\"data row1 col1\" >2022-12-26T09:40:19.999+00:00</td>\n",
       "      <td id=\"T_6398e_row1_col2\" class=\"data row1 col2\" >False</td>\n",
       "      <td id=\"T_6398e_row1_col3\" class=\"data row1 col3\" ></td>\n",
       "    </tr>\n",
       "    <tr>\n",
       "      <th id=\"T_6398e_level0_row2\" class=\"row_heading level0 row2\" >2</th>\n",
       "      <td id=\"T_6398e_row2_col0\" class=\"data row2 col0\" >me</td>\n",
       "      <td id=\"T_6398e_row2_col1\" class=\"data row2 col1\" >2030-01-01T00:00:00+00:00</td>\n",
       "      <td id=\"T_6398e_row2_col2\" class=\"data row2 col2\" >True</td>\n",
       "      <td id=\"T_6398e_row2_col3\" class=\"data row2 col3\" >hopeful</td>\n",
       "    </tr>\n",
       "    <tr>\n",
       "      <th id=\"T_6398e_level0_row3\" class=\"row_heading level0 row3\" >3</th>\n",
       "      <td id=\"T_6398e_row3_col0\" class=\"data row3 col0\" >me</td>\n",
       "      <td id=\"T_6398e_row3_col1\" class=\"data row3 col1\" >9999-01-01T00:00:00+00:00</td>\n",
       "      <td id=\"T_6398e_row3_col2\" class=\"data row3 col2\" >False</td>\n",
       "      <td id=\"T_6398e_row3_col3\" class=\"data row3 col3\" >who cares</td>\n",
       "    </tr>\n",
       "  </tbody>\n",
       "</table>\n"
      ],
      "text/plain": [
       "<pandas.io.formats.style.Styler at 0x26c5d92b1d0>"
      ]
     },
     "execution_count": 70,
     "metadata": {},
     "output_type": "execute_result"
    }
   ],
   "source": [
    "?[name, time, is_assert, mood] := *mood{name, at, mood}, \n",
    "                                  time = format_timestamp(at), \n",
    "                                  is_assert = to_bool(at)"
   ]
  },
  {
   "attachments": {},
   "cell_type": "markdown",
   "id": "301bef8b-f1a0-4f74-83f3-86d3fa41e813",
   "metadata": {},
   "source": [
    "是不是觉得历史穿梭还挺好使的？而且，由于这个功能是在底层实现的，这些查询运行起来比直接拿规则拼出来的等价查询 [快得多](releases/v0.4.md)。\n",
    "\n",
    "在 [此章节](timetravel.rst) 中有更多的关于历史穿梭的技术性论述。"
   ]
  },
  {
   "cell_type": "code",
   "execution_count": 71,
   "id": "f039769a-b897-431d-881e-8346ef3f5ed5",
   "metadata": {},
   "outputs": [
    {
     "data": {
      "text/html": [
       "<style type=\"text/css\">\n",
       "#T_e9929_row0_col0 {\n",
       "  color: black;\n",
       "}\n",
       "</style>\n",
       "<table id=\"T_e9929\">\n",
       "  <thead>\n",
       "    <tr>\n",
       "      <th class=\"blank level0\" >&nbsp;</th>\n",
       "      <th id=\"T_e9929_level0_col0\" class=\"col_heading level0 col0\" >status</th>\n",
       "    </tr>\n",
       "  </thead>\n",
       "  <tbody>\n",
       "    <tr>\n",
       "      <th id=\"T_e9929_level0_row0\" class=\"row_heading level0 row0\" >0</th>\n",
       "      <td id=\"T_e9929_row0_col0\" class=\"data row0 col0\" >OK</td>\n",
       "    </tr>\n",
       "  </tbody>\n",
       "</table>\n"
      ],
      "text/plain": [
       "<pandas.io.formats.style.Styler at 0x26c5d8afe90>"
      ]
     },
     "execution_count": 71,
     "metadata": {},
     "output_type": "execute_result"
    }
   ],
   "source": [
    "::remove mood, hos"
   ]
  },
  {
   "attachments": {},
   "cell_type": "markdown",
   "id": "a16bee55-9802-4089-a0c2-c6f85213cf13",
   "metadata": {},
   "source": [
    "## 延伸案例：航空路线数据集\n",
    "\n",
    "我们已经对 Cozo 的使用有了一个基本的了解。接下来我们会研究一个小型的真实数据集，这个数据集是一个图，有大约 3700 个节点和 57000 条边。\n",
    "\n",
    "这个数据集以及以下的不少具体例子，都改编自 [《实用Gremlin》](https://kelvinlawrence.net/book/Gremlin-Graph-Guide.html) 一书。Gremlin 是一种命令式的图查询语言，与声明式的 Datalog 有很大不同。\n",
    "\n",
    "我们先创建所需的存储表："
   ]
  },
  {
   "cell_type": "code",
   "execution_count": 52,
   "id": "936400d2-2ccf-41ce-88ae-4a8ca54039a2",
   "metadata": {},
   "outputs": [
    {
     "data": {
      "text/html": [
       "<style type=\"text/css\">\n",
       "#T_aa5bf_row0_col0 {\n",
       "  color: black;\n",
       "}\n",
       "</style>\n",
       "<table id=\"T_aa5bf\">\n",
       "  <thead>\n",
       "    <tr>\n",
       "      <th class=\"blank level0\" >&nbsp;</th>\n",
       "      <th id=\"T_aa5bf_level0_col0\" class=\"col_heading level0 col0\" >status</th>\n",
       "    </tr>\n",
       "  </thead>\n",
       "  <tbody>\n",
       "    <tr>\n",
       "      <th id=\"T_aa5bf_level0_row0\" class=\"row_heading level0 row0\" >0</th>\n",
       "      <td id=\"T_aa5bf_row0_col0\" class=\"data row0 col0\" >OK</td>\n",
       "    </tr>\n",
       "  </tbody>\n",
       "</table>\n"
      ],
      "text/plain": [
       "<pandas.io.formats.style.Styler at 0x2d6696208d0>"
      ]
     },
     "execution_count": 52,
     "metadata": {},
     "output_type": "execute_result"
    }
   ],
   "source": [
    "{:create airport {\n",
    "    code: String \n",
    "    => \n",
    "    icao: String, \n",
    "    desc: String, \n",
    "    region: String, \n",
    "    runways: Int, \n",
    "    longest: Float, \n",
    "    elev: Float, \n",
    "    country: String, \n",
    "    city: String, \n",
    "    lat: Float, \n",
    "    lon: Float\n",
    "}}\n",
    "{:create country {\n",
    "    code: String\n",
    "    =>\n",
    "    desc: String\n",
    "}}\n",
    "{:create continent {\n",
    "    code: String\n",
    "    =>\n",
    "    desc: String\n",
    "}}\n",
    "{:create contain { entity: String, contained: String }}\n",
    "{:create route { fr: String, to: String => dist: Float }}"
   ]
  },
  {
   "attachments": {},
   "cell_type": "markdown",
   "id": "e648b4a8-43cd-49a0-82c5-3f0397bc09ac",
   "metadata": {},
   "source": [
    "这里我们一次性执行了多条查询，每条查询都包含在一对花括号中。这多条查询构成了一个 **事务**：同一个事务中的所有查询对存储层的写入是 **原子化** 的，要么全部成功，要么全部失败，没有中间状态。\n",
    "\n",
    "以下命令仅限于使用 Jupyter 的情况：它下载一个包含了所有数据的 JSON 文件并将其导入数据库。注释的行干的也是类似的事情，只是使用了本地文件而不是网络文件。如果你是在浏览器中学习此教程，浏览器界面上有按钮可以让你导入网络或本地的文件。"
   ]
  },
  {
   "cell_type": "code",
   "execution_count": 53,
   "id": "fed6df19-43e4-4b75-81d5-056479abb6e6",
   "metadata": {},
   "outputs": [],
   "source": [
    "%cozo_import_remote_file 'https://raw.githubusercontent.com/cozodb/cozo/dev/cozo-core/tests/air-routes.json'\n",
    "# %cozo_import_local_file '../../cozo/cozo-core/tests/air-routes.json'"
   ]
  },
  {
   "attachments": {},
   "cell_type": "markdown",
   "id": "65cb9b9d-79ce-4814-8f75-e6c22fe1d98d",
   "metadata": {},
   "source": [
    "如果你是在 `cozo repl` 的命令行中执行查询的，则应当使用以下命令：\n",
    "\n",
    "```\n",
    "%import https://raw.githubusercontent.com/cozodb/cozo/dev/cozo-core/tests/air-routes.json\n",
    "```\n",
    "\n",
    "以上的网址可以替换为本地文件的路径，或国内镜像的地址（[见此](https://gitee.com/cozodb/cozo/blob/main/cozo-core/tests/air-routes.json)）。其他环境中也有达成同样事情的不同手段：请参阅各个环境自己的文档。\n",
    "\n",
    "当然，这个 JSON 文件是我们事先特地准备好的。一般来说原始的数据文件不长这样。在本教程的末尾，我们会介绍如何直接导入原始文件。\n",
    "\n",
    "现在我们先确认存储表都成功创建了："
   ]
  },
  {
   "cell_type": "code",
   "execution_count": 54,
   "id": "5c067dd0-7052-46c6-823b-ddf6cbb1b516",
   "metadata": {},
   "outputs": [
    {
     "data": {
      "text/html": [
       "<style type=\"text/css\">\n",
       "#T_68e72_row0_col0, #T_68e72_row0_col2, #T_68e72_row1_col0, #T_68e72_row1_col2, #T_68e72_row2_col0, #T_68e72_row2_col2, #T_68e72_row3_col0, #T_68e72_row3_col2, #T_68e72_row4_col0, #T_68e72_row4_col2 {\n",
       "  color: black;\n",
       "}\n",
       "#T_68e72_row0_col1, #T_68e72_row0_col3, #T_68e72_row0_col4, #T_68e72_row0_col5, #T_68e72_row0_col6, #T_68e72_row0_col7, #T_68e72_row1_col1, #T_68e72_row1_col3, #T_68e72_row1_col4, #T_68e72_row1_col5, #T_68e72_row1_col6, #T_68e72_row1_col7, #T_68e72_row2_col1, #T_68e72_row2_col3, #T_68e72_row2_col4, #T_68e72_row2_col5, #T_68e72_row2_col6, #T_68e72_row2_col7, #T_68e72_row3_col1, #T_68e72_row3_col3, #T_68e72_row3_col4, #T_68e72_row3_col5, #T_68e72_row3_col6, #T_68e72_row3_col7, #T_68e72_row4_col1, #T_68e72_row4_col3, #T_68e72_row4_col4, #T_68e72_row4_col5, #T_68e72_row4_col6, #T_68e72_row4_col7 {\n",
       "  color: #307fc1;\n",
       "}\n",
       "</style>\n",
       "<table id=\"T_68e72\">\n",
       "  <thead>\n",
       "    <tr>\n",
       "      <th class=\"blank level0\" >&nbsp;</th>\n",
       "      <th id=\"T_68e72_level0_col0\" class=\"col_heading level0 col0\" >name</th>\n",
       "      <th id=\"T_68e72_level0_col1\" class=\"col_heading level0 col1\" >arity</th>\n",
       "      <th id=\"T_68e72_level0_col2\" class=\"col_heading level0 col2\" >access_level</th>\n",
       "      <th id=\"T_68e72_level0_col3\" class=\"col_heading level0 col3\" >n_keys</th>\n",
       "      <th id=\"T_68e72_level0_col4\" class=\"col_heading level0 col4\" >n_non_keys</th>\n",
       "      <th id=\"T_68e72_level0_col5\" class=\"col_heading level0 col5\" >n_put_triggers</th>\n",
       "      <th id=\"T_68e72_level0_col6\" class=\"col_heading level0 col6\" >n_rm_triggers</th>\n",
       "      <th id=\"T_68e72_level0_col7\" class=\"col_heading level0 col7\" >n_replace_triggers</th>\n",
       "    </tr>\n",
       "  </thead>\n",
       "  <tbody>\n",
       "    <tr>\n",
       "      <th id=\"T_68e72_level0_row0\" class=\"row_heading level0 row0\" >0</th>\n",
       "      <td id=\"T_68e72_row0_col0\" class=\"data row0 col0\" >airport</td>\n",
       "      <td id=\"T_68e72_row0_col1\" class=\"data row0 col1\" >11</td>\n",
       "      <td id=\"T_68e72_row0_col2\" class=\"data row0 col2\" >normal</td>\n",
       "      <td id=\"T_68e72_row0_col3\" class=\"data row0 col3\" >1</td>\n",
       "      <td id=\"T_68e72_row0_col4\" class=\"data row0 col4\" >10</td>\n",
       "      <td id=\"T_68e72_row0_col5\" class=\"data row0 col5\" >0</td>\n",
       "      <td id=\"T_68e72_row0_col6\" class=\"data row0 col6\" >0</td>\n",
       "      <td id=\"T_68e72_row0_col7\" class=\"data row0 col7\" >0</td>\n",
       "    </tr>\n",
       "    <tr>\n",
       "      <th id=\"T_68e72_level0_row1\" class=\"row_heading level0 row1\" >1</th>\n",
       "      <td id=\"T_68e72_row1_col0\" class=\"data row1 col0\" >contain</td>\n",
       "      <td id=\"T_68e72_row1_col1\" class=\"data row1 col1\" >2</td>\n",
       "      <td id=\"T_68e72_row1_col2\" class=\"data row1 col2\" >normal</td>\n",
       "      <td id=\"T_68e72_row1_col3\" class=\"data row1 col3\" >2</td>\n",
       "      <td id=\"T_68e72_row1_col4\" class=\"data row1 col4\" >0</td>\n",
       "      <td id=\"T_68e72_row1_col5\" class=\"data row1 col5\" >0</td>\n",
       "      <td id=\"T_68e72_row1_col6\" class=\"data row1 col6\" >0</td>\n",
       "      <td id=\"T_68e72_row1_col7\" class=\"data row1 col7\" >0</td>\n",
       "    </tr>\n",
       "    <tr>\n",
       "      <th id=\"T_68e72_level0_row2\" class=\"row_heading level0 row2\" >2</th>\n",
       "      <td id=\"T_68e72_row2_col0\" class=\"data row2 col0\" >continent</td>\n",
       "      <td id=\"T_68e72_row2_col1\" class=\"data row2 col1\" >2</td>\n",
       "      <td id=\"T_68e72_row2_col2\" class=\"data row2 col2\" >normal</td>\n",
       "      <td id=\"T_68e72_row2_col3\" class=\"data row2 col3\" >1</td>\n",
       "      <td id=\"T_68e72_row2_col4\" class=\"data row2 col4\" >1</td>\n",
       "      <td id=\"T_68e72_row2_col5\" class=\"data row2 col5\" >0</td>\n",
       "      <td id=\"T_68e72_row2_col6\" class=\"data row2 col6\" >0</td>\n",
       "      <td id=\"T_68e72_row2_col7\" class=\"data row2 col7\" >0</td>\n",
       "    </tr>\n",
       "    <tr>\n",
       "      <th id=\"T_68e72_level0_row3\" class=\"row_heading level0 row3\" >3</th>\n",
       "      <td id=\"T_68e72_row3_col0\" class=\"data row3 col0\" >country</td>\n",
       "      <td id=\"T_68e72_row3_col1\" class=\"data row3 col1\" >2</td>\n",
       "      <td id=\"T_68e72_row3_col2\" class=\"data row3 col2\" >normal</td>\n",
       "      <td id=\"T_68e72_row3_col3\" class=\"data row3 col3\" >1</td>\n",
       "      <td id=\"T_68e72_row3_col4\" class=\"data row3 col4\" >1</td>\n",
       "      <td id=\"T_68e72_row3_col5\" class=\"data row3 col5\" >0</td>\n",
       "      <td id=\"T_68e72_row3_col6\" class=\"data row3 col6\" >0</td>\n",
       "      <td id=\"T_68e72_row3_col7\" class=\"data row3 col7\" >0</td>\n",
       "    </tr>\n",
       "    <tr>\n",
       "      <th id=\"T_68e72_level0_row4\" class=\"row_heading level0 row4\" >4</th>\n",
       "      <td id=\"T_68e72_row4_col0\" class=\"data row4 col0\" >route</td>\n",
       "      <td id=\"T_68e72_row4_col1\" class=\"data row4 col1\" >3</td>\n",
       "      <td id=\"T_68e72_row4_col2\" class=\"data row4 col2\" >normal</td>\n",
       "      <td id=\"T_68e72_row4_col3\" class=\"data row4 col3\" >2</td>\n",
       "      <td id=\"T_68e72_row4_col4\" class=\"data row4 col4\" >1</td>\n",
       "      <td id=\"T_68e72_row4_col5\" class=\"data row4 col5\" >0</td>\n",
       "      <td id=\"T_68e72_row4_col6\" class=\"data row4 col6\" >0</td>\n",
       "      <td id=\"T_68e72_row4_col7\" class=\"data row4 col7\" >0</td>\n",
       "    </tr>\n",
       "  </tbody>\n",
       "</table>\n"
      ],
      "text/plain": [
       "<pandas.io.formats.style.Styler at 0x2d6695623d0>"
      ]
     },
     "execution_count": 54,
     "metadata": {},
     "output_type": "execute_result"
    }
   ],
   "source": [
    "::relations"
   ]
  },
  {
   "attachments": {},
   "cell_type": "markdown",
   "id": "e3a13d9e-6ff0-445f-9a75-86f373de2b28",
   "metadata": {},
   "source": [
    "为了防止误操作，让我们把这些表都锁成只读状态："
   ]
  },
  {
   "cell_type": "code",
   "execution_count": 55,
   "id": "667b2099-a71e-423d-b0b2-9a35bc8c5a6d",
   "metadata": {},
   "outputs": [
    {
     "data": {
      "text/html": [
       "<style type=\"text/css\">\n",
       "#T_274db_row0_col0 {\n",
       "  color: black;\n",
       "}\n",
       "</style>\n",
       "<table id=\"T_274db\">\n",
       "  <thead>\n",
       "    <tr>\n",
       "      <th class=\"blank level0\" >&nbsp;</th>\n",
       "      <th id=\"T_274db_level0_col0\" class=\"col_heading level0 col0\" >status</th>\n",
       "    </tr>\n",
       "  </thead>\n",
       "  <tbody>\n",
       "    <tr>\n",
       "      <th id=\"T_274db_level0_row0\" class=\"row_heading level0 row0\" >0</th>\n",
       "      <td id=\"T_274db_row0_col0\" class=\"data row0 col0\" >OK</td>\n",
       "    </tr>\n",
       "  </tbody>\n",
       "</table>\n"
      ],
      "text/plain": [
       "<pandas.io.formats.style.Styler at 0x2d6695c02d0>"
      ]
     },
     "execution_count": 55,
     "metadata": {},
     "output_type": "execute_result"
    }
   ],
   "source": [
    "::access_level read_only airport, contain, continent, country, route"
   ]
  },
  {
   "attachments": {},
   "cell_type": "markdown",
   "id": "191c8f21-b8c0-4730-979f-c7135e762eff",
   "metadata": {},
   "source": [
    "更多关于状态的信息，参见 [这一章](sysops.rst)。\n",
    "\n",
    "我们先看看关于机场的存储表："
   ]
  },
  {
   "cell_type": "code",
   "execution_count": 56,
   "id": "fefbae3c-3b06-43ca-82b6-a10ee9174edf",
   "metadata": {},
   "outputs": [
    {
     "data": {
      "text/html": [
       "<style type=\"text/css\">\n",
       "#T_1c08d_row0_col0, #T_1c08d_row0_col1, #T_1c08d_row0_col2, #T_1c08d_row0_col3, #T_1c08d_row1_col0, #T_1c08d_row1_col1, #T_1c08d_row1_col2, #T_1c08d_row1_col3, #T_1c08d_row2_col0, #T_1c08d_row2_col1, #T_1c08d_row2_col2, #T_1c08d_row2_col3, #T_1c08d_row3_col0, #T_1c08d_row3_col1, #T_1c08d_row3_col2, #T_1c08d_row3_col3, #T_1c08d_row4_col0, #T_1c08d_row4_col1, #T_1c08d_row4_col2, #T_1c08d_row4_col3 {\n",
       "  color: black;\n",
       "}\n",
       "#T_1c08d_row0_col4, #T_1c08d_row0_col5, #T_1c08d_row0_col6, #T_1c08d_row1_col4, #T_1c08d_row1_col5, #T_1c08d_row1_col6, #T_1c08d_row2_col4, #T_1c08d_row2_col5, #T_1c08d_row2_col6, #T_1c08d_row3_col4, #T_1c08d_row3_col5, #T_1c08d_row3_col6, #T_1c08d_row4_col4, #T_1c08d_row4_col5, #T_1c08d_row4_col6 {\n",
       "  color: #307fc1;\n",
       "}\n",
       "</style>\n",
       "<table id=\"T_1c08d\">\n",
       "  <thead>\n",
       "    <tr>\n",
       "      <th class=\"blank level0\" >&nbsp;</th>\n",
       "      <th id=\"T_1c08d_level0_col0\" class=\"col_heading level0 col0\" >code</th>\n",
       "      <th id=\"T_1c08d_level0_col1\" class=\"col_heading level0 col1\" >city</th>\n",
       "      <th id=\"T_1c08d_level0_col2\" class=\"col_heading level0 col2\" >desc</th>\n",
       "      <th id=\"T_1c08d_level0_col3\" class=\"col_heading level0 col3\" >region</th>\n",
       "      <th id=\"T_1c08d_level0_col4\" class=\"col_heading level0 col4\" >runways</th>\n",
       "      <th id=\"T_1c08d_level0_col5\" class=\"col_heading level0 col5\" >lat</th>\n",
       "      <th id=\"T_1c08d_level0_col6\" class=\"col_heading level0 col6\" >lon</th>\n",
       "    </tr>\n",
       "  </thead>\n",
       "  <tbody>\n",
       "    <tr>\n",
       "      <th id=\"T_1c08d_level0_row0\" class=\"row_heading level0 row0\" >0</th>\n",
       "      <td id=\"T_1c08d_row0_col0\" class=\"data row0 col0\" >AAA</td>\n",
       "      <td id=\"T_1c08d_row0_col1\" class=\"data row0 col1\" >Anaa</td>\n",
       "      <td id=\"T_1c08d_row0_col2\" class=\"data row0 col2\" >Anaa Airport</td>\n",
       "      <td id=\"T_1c08d_row0_col3\" class=\"data row0 col3\" >PF-U-A</td>\n",
       "      <td id=\"T_1c08d_row0_col4\" class=\"data row0 col4\" >1</td>\n",
       "      <td id=\"T_1c08d_row0_col5\" class=\"data row0 col5\" >-17.352600</td>\n",
       "      <td id=\"T_1c08d_row0_col6\" class=\"data row0 col6\" >-145.509995</td>\n",
       "    </tr>\n",
       "    <tr>\n",
       "      <th id=\"T_1c08d_level0_row1\" class=\"row_heading level0 row1\" >1</th>\n",
       "      <td id=\"T_1c08d_row1_col0\" class=\"data row1 col0\" >AAE</td>\n",
       "      <td id=\"T_1c08d_row1_col1\" class=\"data row1 col1\" >Annabah</td>\n",
       "      <td id=\"T_1c08d_row1_col2\" class=\"data row1 col2\" >Annaba Airport</td>\n",
       "      <td id=\"T_1c08d_row1_col3\" class=\"data row1 col3\" >DZ-36</td>\n",
       "      <td id=\"T_1c08d_row1_col4\" class=\"data row1 col4\" >2</td>\n",
       "      <td id=\"T_1c08d_row1_col5\" class=\"data row1 col5\" >36.822201</td>\n",
       "      <td id=\"T_1c08d_row1_col6\" class=\"data row1 col6\" >7.809170</td>\n",
       "    </tr>\n",
       "    <tr>\n",
       "      <th id=\"T_1c08d_level0_row2\" class=\"row_heading level0 row2\" >2</th>\n",
       "      <td id=\"T_1c08d_row2_col0\" class=\"data row2 col0\" >AAL</td>\n",
       "      <td id=\"T_1c08d_row2_col1\" class=\"data row2 col1\" >Aalborg</td>\n",
       "      <td id=\"T_1c08d_row2_col2\" class=\"data row2 col2\" >Aalborg Airport</td>\n",
       "      <td id=\"T_1c08d_row2_col3\" class=\"data row2 col3\" >DK-81</td>\n",
       "      <td id=\"T_1c08d_row2_col4\" class=\"data row2 col4\" >2</td>\n",
       "      <td id=\"T_1c08d_row2_col5\" class=\"data row2 col5\" >57.092759</td>\n",
       "      <td id=\"T_1c08d_row2_col6\" class=\"data row2 col6\" >9.849243</td>\n",
       "    </tr>\n",
       "    <tr>\n",
       "      <th id=\"T_1c08d_level0_row3\" class=\"row_heading level0 row3\" >3</th>\n",
       "      <td id=\"T_1c08d_row3_col0\" class=\"data row3 col0\" >AAN</td>\n",
       "      <td id=\"T_1c08d_row3_col1\" class=\"data row3 col1\" >Al Ain</td>\n",
       "      <td id=\"T_1c08d_row3_col2\" class=\"data row3 col2\" >Al Ain International Airport</td>\n",
       "      <td id=\"T_1c08d_row3_col3\" class=\"data row3 col3\" >AE-AZ</td>\n",
       "      <td id=\"T_1c08d_row3_col4\" class=\"data row3 col4\" >1</td>\n",
       "      <td id=\"T_1c08d_row3_col5\" class=\"data row3 col5\" >24.261700</td>\n",
       "      <td id=\"T_1c08d_row3_col6\" class=\"data row3 col6\" >55.609200</td>\n",
       "    </tr>\n",
       "    <tr>\n",
       "      <th id=\"T_1c08d_level0_row4\" class=\"row_heading level0 row4\" >4</th>\n",
       "      <td id=\"T_1c08d_row4_col0\" class=\"data row4 col0\" >AAQ</td>\n",
       "      <td id=\"T_1c08d_row4_col1\" class=\"data row4 col1\" >Anapa</td>\n",
       "      <td id=\"T_1c08d_row4_col2\" class=\"data row4 col2\" >Anapa Airport</td>\n",
       "      <td id=\"T_1c08d_row4_col3\" class=\"data row4 col3\" >RU-KDA</td>\n",
       "      <td id=\"T_1c08d_row4_col4\" class=\"data row4 col4\" >1</td>\n",
       "      <td id=\"T_1c08d_row4_col5\" class=\"data row4 col5\" >45.002102</td>\n",
       "      <td id=\"T_1c08d_row4_col6\" class=\"data row4 col6\" >37.347301</td>\n",
       "    </tr>\n",
       "  </tbody>\n",
       "</table>\n"
      ],
      "text/plain": [
       "<pandas.io.formats.style.Styler at 0x2d66960aa50>"
      ]
     },
     "execution_count": 56,
     "metadata": {},
     "output_type": "execute_result"
    }
   ],
   "source": [
    "?[code, city, desc, region, runways, lat, lon] := *airport{code, city, desc, region, runways, lat, lon}\n",
    "    \n",
    ":limit 5"
   ]
  },
  {
   "attachments": {},
   "cell_type": "markdown",
   "id": "b645ed53-c80a-4b50-8e4d-f5080c48de2d",
   "metadata": {},
   "source": [
    "哪些机场跑道最多呢？"
   ]
  },
  {
   "cell_type": "code",
   "execution_count": 57,
   "id": "b733fffd-e292-4af9-9810-7010b87c2d09",
   "metadata": {},
   "outputs": [
    {
     "data": {
      "text/html": [
       "<style type=\"text/css\">\n",
       "#T_dc9c3_row0_col0, #T_dc9c3_row0_col1, #T_dc9c3_row0_col2, #T_dc9c3_row0_col3, #T_dc9c3_row1_col0, #T_dc9c3_row1_col1, #T_dc9c3_row1_col2, #T_dc9c3_row1_col3, #T_dc9c3_row2_col0, #T_dc9c3_row2_col1, #T_dc9c3_row2_col2, #T_dc9c3_row2_col3, #T_dc9c3_row3_col0, #T_dc9c3_row3_col1, #T_dc9c3_row3_col2, #T_dc9c3_row3_col3, #T_dc9c3_row4_col0, #T_dc9c3_row4_col1, #T_dc9c3_row4_col2, #T_dc9c3_row4_col3, #T_dc9c3_row5_col0, #T_dc9c3_row5_col1, #T_dc9c3_row5_col2, #T_dc9c3_row5_col3, #T_dc9c3_row6_col0, #T_dc9c3_row6_col1, #T_dc9c3_row6_col2, #T_dc9c3_row6_col3, #T_dc9c3_row7_col0, #T_dc9c3_row7_col1, #T_dc9c3_row7_col2, #T_dc9c3_row7_col3, #T_dc9c3_row8_col0, #T_dc9c3_row8_col1, #T_dc9c3_row8_col2, #T_dc9c3_row8_col3, #T_dc9c3_row9_col0, #T_dc9c3_row9_col1, #T_dc9c3_row9_col2, #T_dc9c3_row9_col3 {\n",
       "  color: black;\n",
       "}\n",
       "#T_dc9c3_row0_col4, #T_dc9c3_row0_col5, #T_dc9c3_row0_col6, #T_dc9c3_row1_col4, #T_dc9c3_row1_col5, #T_dc9c3_row1_col6, #T_dc9c3_row2_col4, #T_dc9c3_row2_col5, #T_dc9c3_row2_col6, #T_dc9c3_row3_col4, #T_dc9c3_row3_col5, #T_dc9c3_row3_col6, #T_dc9c3_row4_col4, #T_dc9c3_row4_col5, #T_dc9c3_row4_col6, #T_dc9c3_row5_col4, #T_dc9c3_row5_col5, #T_dc9c3_row5_col6, #T_dc9c3_row6_col4, #T_dc9c3_row6_col5, #T_dc9c3_row6_col6, #T_dc9c3_row7_col4, #T_dc9c3_row7_col5, #T_dc9c3_row7_col6, #T_dc9c3_row8_col4, #T_dc9c3_row8_col5, #T_dc9c3_row8_col6, #T_dc9c3_row9_col4, #T_dc9c3_row9_col5, #T_dc9c3_row9_col6 {\n",
       "  color: #307fc1;\n",
       "}\n",
       "</style>\n",
       "<table id=\"T_dc9c3\">\n",
       "  <thead>\n",
       "    <tr>\n",
       "      <th class=\"blank level0\" >&nbsp;</th>\n",
       "      <th id=\"T_dc9c3_level0_col0\" class=\"col_heading level0 col0\" >code</th>\n",
       "      <th id=\"T_dc9c3_level0_col1\" class=\"col_heading level0 col1\" >city</th>\n",
       "      <th id=\"T_dc9c3_level0_col2\" class=\"col_heading level0 col2\" >desc</th>\n",
       "      <th id=\"T_dc9c3_level0_col3\" class=\"col_heading level0 col3\" >region</th>\n",
       "      <th id=\"T_dc9c3_level0_col4\" class=\"col_heading level0 col4\" >runways</th>\n",
       "      <th id=\"T_dc9c3_level0_col5\" class=\"col_heading level0 col5\" >lat</th>\n",
       "      <th id=\"T_dc9c3_level0_col6\" class=\"col_heading level0 col6\" >lon</th>\n",
       "    </tr>\n",
       "  </thead>\n",
       "  <tbody>\n",
       "    <tr>\n",
       "      <th id=\"T_dc9c3_level0_row0\" class=\"row_heading level0 row0\" >0</th>\n",
       "      <td id=\"T_dc9c3_row0_col0\" class=\"data row0 col0\" >DFW</td>\n",
       "      <td id=\"T_dc9c3_row0_col1\" class=\"data row0 col1\" >Dallas</td>\n",
       "      <td id=\"T_dc9c3_row0_col2\" class=\"data row0 col2\" >Dallas/Fort Worth International Airport</td>\n",
       "      <td id=\"T_dc9c3_row0_col3\" class=\"data row0 col3\" >US-TX</td>\n",
       "      <td id=\"T_dc9c3_row0_col4\" class=\"data row0 col4\" >7</td>\n",
       "      <td id=\"T_dc9c3_row0_col5\" class=\"data row0 col5\" >32.896801</td>\n",
       "      <td id=\"T_dc9c3_row0_col6\" class=\"data row0 col6\" >-97.038002</td>\n",
       "    </tr>\n",
       "    <tr>\n",
       "      <th id=\"T_dc9c3_level0_row1\" class=\"row_heading level0 row1\" >1</th>\n",
       "      <td id=\"T_dc9c3_row1_col0\" class=\"data row1 col0\" >ORD</td>\n",
       "      <td id=\"T_dc9c3_row1_col1\" class=\"data row1 col1\" >Chicago</td>\n",
       "      <td id=\"T_dc9c3_row1_col2\" class=\"data row1 col2\" >Chicago O'Hare International Airport</td>\n",
       "      <td id=\"T_dc9c3_row1_col3\" class=\"data row1 col3\" >US-IL</td>\n",
       "      <td id=\"T_dc9c3_row1_col4\" class=\"data row1 col4\" >7</td>\n",
       "      <td id=\"T_dc9c3_row1_col5\" class=\"data row1 col5\" >41.978600</td>\n",
       "      <td id=\"T_dc9c3_row1_col6\" class=\"data row1 col6\" >-87.904800</td>\n",
       "    </tr>\n",
       "    <tr>\n",
       "      <th id=\"T_dc9c3_level0_row2\" class=\"row_heading level0 row2\" >2</th>\n",
       "      <td id=\"T_dc9c3_row2_col0\" class=\"data row2 col0\" >AMS</td>\n",
       "      <td id=\"T_dc9c3_row2_col1\" class=\"data row2 col1\" >Amsterdam</td>\n",
       "      <td id=\"T_dc9c3_row2_col2\" class=\"data row2 col2\" >Amsterdam Airport Schiphol</td>\n",
       "      <td id=\"T_dc9c3_row2_col3\" class=\"data row2 col3\" >NL-NH</td>\n",
       "      <td id=\"T_dc9c3_row2_col4\" class=\"data row2 col4\" >6</td>\n",
       "      <td id=\"T_dc9c3_row2_col5\" class=\"data row2 col5\" >52.308601</td>\n",
       "      <td id=\"T_dc9c3_row2_col6\" class=\"data row2 col6\" >4.763890</td>\n",
       "    </tr>\n",
       "    <tr>\n",
       "      <th id=\"T_dc9c3_level0_row3\" class=\"row_heading level0 row3\" >3</th>\n",
       "      <td id=\"T_dc9c3_row3_col0\" class=\"data row3 col0\" >BOS</td>\n",
       "      <td id=\"T_dc9c3_row3_col1\" class=\"data row3 col1\" >Boston</td>\n",
       "      <td id=\"T_dc9c3_row3_col2\" class=\"data row3 col2\" >Boston Logan</td>\n",
       "      <td id=\"T_dc9c3_row3_col3\" class=\"data row3 col3\" >US-MA</td>\n",
       "      <td id=\"T_dc9c3_row3_col4\" class=\"data row3 col4\" >6</td>\n",
       "      <td id=\"T_dc9c3_row3_col5\" class=\"data row3 col5\" >42.364300</td>\n",
       "      <td id=\"T_dc9c3_row3_col6\" class=\"data row3 col6\" >-71.005203</td>\n",
       "    </tr>\n",
       "    <tr>\n",
       "      <th id=\"T_dc9c3_level0_row4\" class=\"row_heading level0 row4\" >4</th>\n",
       "      <td id=\"T_dc9c3_row4_col0\" class=\"data row4 col0\" >DEN</td>\n",
       "      <td id=\"T_dc9c3_row4_col1\" class=\"data row4 col1\" >Denver</td>\n",
       "      <td id=\"T_dc9c3_row4_col2\" class=\"data row4 col2\" >Denver International Airport</td>\n",
       "      <td id=\"T_dc9c3_row4_col3\" class=\"data row4 col3\" >US-CO</td>\n",
       "      <td id=\"T_dc9c3_row4_col4\" class=\"data row4 col4\" >6</td>\n",
       "      <td id=\"T_dc9c3_row4_col5\" class=\"data row4 col5\" >39.861698</td>\n",
       "      <td id=\"T_dc9c3_row4_col6\" class=\"data row4 col6\" >-104.672997</td>\n",
       "    </tr>\n",
       "    <tr>\n",
       "      <th id=\"T_dc9c3_level0_row5\" class=\"row_heading level0 row5\" >5</th>\n",
       "      <td id=\"T_dc9c3_row5_col0\" class=\"data row5 col0\" >DTW</td>\n",
       "      <td id=\"T_dc9c3_row5_col1\" class=\"data row5 col1\" >Detroit</td>\n",
       "      <td id=\"T_dc9c3_row5_col2\" class=\"data row5 col2\" >Detroit Metropolitan, Wayne County</td>\n",
       "      <td id=\"T_dc9c3_row5_col3\" class=\"data row5 col3\" >US-MI</td>\n",
       "      <td id=\"T_dc9c3_row5_col4\" class=\"data row5 col4\" >6</td>\n",
       "      <td id=\"T_dc9c3_row5_col5\" class=\"data row5 col5\" >42.212399</td>\n",
       "      <td id=\"T_dc9c3_row5_col6\" class=\"data row5 col6\" >-83.353401</td>\n",
       "    </tr>\n",
       "    <tr>\n",
       "      <th id=\"T_dc9c3_level0_row6\" class=\"row_heading level0 row6\" >6</th>\n",
       "      <td id=\"T_dc9c3_row6_col0\" class=\"data row6 col0\" >ATL</td>\n",
       "      <td id=\"T_dc9c3_row6_col1\" class=\"data row6 col1\" >Atlanta</td>\n",
       "      <td id=\"T_dc9c3_row6_col2\" class=\"data row6 col2\" >Hartsfield - Jackson Atlanta International Airport</td>\n",
       "      <td id=\"T_dc9c3_row6_col3\" class=\"data row6 col3\" >US-GA</td>\n",
       "      <td id=\"T_dc9c3_row6_col4\" class=\"data row6 col4\" >5</td>\n",
       "      <td id=\"T_dc9c3_row6_col5\" class=\"data row6 col5\" >33.636700</td>\n",
       "      <td id=\"T_dc9c3_row6_col6\" class=\"data row6 col6\" >-84.428101</td>\n",
       "    </tr>\n",
       "    <tr>\n",
       "      <th id=\"T_dc9c3_level0_row7\" class=\"row_heading level0 row7\" >7</th>\n",
       "      <td id=\"T_dc9c3_row7_col0\" class=\"data row7 col0\" >GIS</td>\n",
       "      <td id=\"T_dc9c3_row7_col1\" class=\"data row7 col1\" >Gisborne</td>\n",
       "      <td id=\"T_dc9c3_row7_col2\" class=\"data row7 col2\" >Gisborne Airport</td>\n",
       "      <td id=\"T_dc9c3_row7_col3\" class=\"data row7 col3\" >NZ-GIS</td>\n",
       "      <td id=\"T_dc9c3_row7_col4\" class=\"data row7 col4\" >5</td>\n",
       "      <td id=\"T_dc9c3_row7_col5\" class=\"data row7 col5\" >-38.663300</td>\n",
       "      <td id=\"T_dc9c3_row7_col6\" class=\"data row7 col6\" >177.977997</td>\n",
       "    </tr>\n",
       "    <tr>\n",
       "      <th id=\"T_dc9c3_level0_row8\" class=\"row_heading level0 row8\" >8</th>\n",
       "      <td id=\"T_dc9c3_row8_col0\" class=\"data row8 col0\" >HLZ</td>\n",
       "      <td id=\"T_dc9c3_row8_col1\" class=\"data row8 col1\" >Hamilton</td>\n",
       "      <td id=\"T_dc9c3_row8_col2\" class=\"data row8 col2\" >Hamilton International Airport</td>\n",
       "      <td id=\"T_dc9c3_row8_col3\" class=\"data row8 col3\" >NZ-WKO</td>\n",
       "      <td id=\"T_dc9c3_row8_col4\" class=\"data row8 col4\" >5</td>\n",
       "      <td id=\"T_dc9c3_row8_col5\" class=\"data row8 col5\" >-37.866699</td>\n",
       "      <td id=\"T_dc9c3_row8_col6\" class=\"data row8 col6\" >175.332001</td>\n",
       "    </tr>\n",
       "    <tr>\n",
       "      <th id=\"T_dc9c3_level0_row9\" class=\"row_heading level0 row9\" >9</th>\n",
       "      <td id=\"T_dc9c3_row9_col0\" class=\"data row9 col0\" >IAH</td>\n",
       "      <td id=\"T_dc9c3_row9_col1\" class=\"data row9 col1\" >Houston</td>\n",
       "      <td id=\"T_dc9c3_row9_col2\" class=\"data row9 col2\" >George Bush Intercontinental</td>\n",
       "      <td id=\"T_dc9c3_row9_col3\" class=\"data row9 col3\" >US-TX</td>\n",
       "      <td id=\"T_dc9c3_row9_col4\" class=\"data row9 col4\" >5</td>\n",
       "      <td id=\"T_dc9c3_row9_col5\" class=\"data row9 col5\" >29.984400</td>\n",
       "      <td id=\"T_dc9c3_row9_col6\" class=\"data row9 col6\" >-95.341400</td>\n",
       "    </tr>\n",
       "  </tbody>\n",
       "</table>\n"
      ],
      "text/plain": [
       "<pandas.io.formats.style.Styler at 0x2d651f1a8d0>"
      ]
     },
     "execution_count": 57,
     "metadata": {},
     "output_type": "execute_result"
    }
   ],
   "source": [
    "?[code, city, desc, region, runways, lat, lon] := *airport{code, city, desc, region, runways, lat, lon}\n",
    "\n",
    ":order -runways\n",
    ":limit 10"
   ]
  },
  {
   "attachments": {},
   "cell_type": "markdown",
   "id": "db45f1d4-e89a-449e-beb8-a9301acfa86c",
   "metadata": {},
   "source": [
    "数据集里面一共有多少个机场？"
   ]
  },
  {
   "cell_type": "code",
   "execution_count": 58,
   "id": "9cd0a6ba-4808-4812-b760-ac389c435610",
   "metadata": {},
   "outputs": [
    {
     "data": {
      "text/html": [
       "<style type=\"text/css\">\n",
       "#T_e1801_row0_col0 {\n",
       "  color: #307fc1;\n",
       "}\n",
       "</style>\n",
       "<table id=\"T_e1801\">\n",
       "  <thead>\n",
       "    <tr>\n",
       "      <th class=\"blank level0\" >&nbsp;</th>\n",
       "      <th id=\"T_e1801_level0_col0\" class=\"col_heading level0 col0\" >count(code)</th>\n",
       "    </tr>\n",
       "  </thead>\n",
       "  <tbody>\n",
       "    <tr>\n",
       "      <th id=\"T_e1801_level0_row0\" class=\"row_heading level0 row0\" >0</th>\n",
       "      <td id=\"T_e1801_row0_col0\" class=\"data row0 col0\" >3504</td>\n",
       "    </tr>\n",
       "  </tbody>\n",
       "</table>\n"
      ],
      "text/plain": [
       "<pandas.io.formats.style.Styler at 0x2d6695d1450>"
      ]
     },
     "execution_count": 58,
     "metadata": {},
     "output_type": "execute_result"
    }
   ],
   "source": [
    "?[count(code)] := *airport{code}"
   ]
  },
  {
   "attachments": {},
   "cell_type": "markdown",
   "id": "e7bf2676-4e79-49f0-9401-4bf60f2dc313",
   "metadata": {},
   "source": [
    "通过以下查询我们可以看出，机场代码的首字母分布并不是均匀的："
   ]
  },
  {
   "cell_type": "code",
   "execution_count": 59,
   "id": "d9878f9c-1b43-426b-a8f5-5060f2476d86",
   "metadata": {},
   "outputs": [
    {
     "data": {
      "text/html": [
       "<style type=\"text/css\">\n",
       "#T_a5318_row0_col0, #T_a5318_row1_col0, #T_a5318_row2_col0, #T_a5318_row3_col0, #T_a5318_row4_col0, #T_a5318_row5_col0, #T_a5318_row6_col0, #T_a5318_row7_col0, #T_a5318_row8_col0, #T_a5318_row9_col0, #T_a5318_row10_col0, #T_a5318_row11_col0, #T_a5318_row12_col0, #T_a5318_row13_col0, #T_a5318_row14_col0, #T_a5318_row15_col0, #T_a5318_row16_col0, #T_a5318_row17_col0, #T_a5318_row18_col0, #T_a5318_row19_col0, #T_a5318_row20_col0, #T_a5318_row21_col0, #T_a5318_row22_col0, #T_a5318_row23_col0, #T_a5318_row24_col0, #T_a5318_row25_col0 {\n",
       "  color: #307fc1;\n",
       "}\n",
       "#T_a5318_row0_col1, #T_a5318_row1_col1, #T_a5318_row2_col1, #T_a5318_row3_col1, #T_a5318_row4_col1, #T_a5318_row5_col1, #T_a5318_row6_col1, #T_a5318_row7_col1, #T_a5318_row8_col1, #T_a5318_row9_col1, #T_a5318_row10_col1, #T_a5318_row11_col1, #T_a5318_row12_col1, #T_a5318_row13_col1, #T_a5318_row14_col1, #T_a5318_row15_col1, #T_a5318_row16_col1, #T_a5318_row17_col1, #T_a5318_row18_col1, #T_a5318_row19_col1, #T_a5318_row20_col1, #T_a5318_row21_col1, #T_a5318_row22_col1, #T_a5318_row23_col1, #T_a5318_row24_col1, #T_a5318_row25_col1 {\n",
       "  color: black;\n",
       "}\n",
       "</style>\n",
       "<table id=\"T_a5318\">\n",
       "  <thead>\n",
       "    <tr>\n",
       "      <th class=\"blank level0\" >&nbsp;</th>\n",
       "      <th id=\"T_a5318_level0_col0\" class=\"col_heading level0 col0\" >count(initial)</th>\n",
       "      <th id=\"T_a5318_level0_col1\" class=\"col_heading level0 col1\" >initial</th>\n",
       "    </tr>\n",
       "  </thead>\n",
       "  <tbody>\n",
       "    <tr>\n",
       "      <th id=\"T_a5318_level0_row0\" class=\"row_heading level0 row0\" >0</th>\n",
       "      <td id=\"T_a5318_row0_col0\" class=\"data row0 col0\" >212</td>\n",
       "      <td id=\"T_a5318_row0_col1\" class=\"data row0 col1\" >A</td>\n",
       "    </tr>\n",
       "    <tr>\n",
       "      <th id=\"T_a5318_level0_row1\" class=\"row_heading level0 row1\" >1</th>\n",
       "      <td id=\"T_a5318_row1_col0\" class=\"data row1 col0\" >235</td>\n",
       "      <td id=\"T_a5318_row1_col1\" class=\"data row1 col1\" >B</td>\n",
       "    </tr>\n",
       "    <tr>\n",
       "      <th id=\"T_a5318_level0_row2\" class=\"row_heading level0 row2\" >2</th>\n",
       "      <td id=\"T_a5318_row2_col0\" class=\"data row2 col0\" >214</td>\n",
       "      <td id=\"T_a5318_row2_col1\" class=\"data row2 col1\" >C</td>\n",
       "    </tr>\n",
       "    <tr>\n",
       "      <th id=\"T_a5318_level0_row3\" class=\"row_heading level0 row3\" >3</th>\n",
       "      <td id=\"T_a5318_row3_col0\" class=\"data row3 col0\" >116</td>\n",
       "      <td id=\"T_a5318_row3_col1\" class=\"data row3 col1\" >D</td>\n",
       "    </tr>\n",
       "    <tr>\n",
       "      <th id=\"T_a5318_level0_row4\" class=\"row_heading level0 row4\" >4</th>\n",
       "      <td id=\"T_a5318_row4_col0\" class=\"data row4 col0\" >95</td>\n",
       "      <td id=\"T_a5318_row4_col1\" class=\"data row4 col1\" >E</td>\n",
       "    </tr>\n",
       "    <tr>\n",
       "      <th id=\"T_a5318_level0_row5\" class=\"row_heading level0 row5\" >5</th>\n",
       "      <td id=\"T_a5318_row5_col0\" class=\"data row5 col0\" >76</td>\n",
       "      <td id=\"T_a5318_row5_col1\" class=\"data row5 col1\" >F</td>\n",
       "    </tr>\n",
       "    <tr>\n",
       "      <th id=\"T_a5318_level0_row6\" class=\"row_heading level0 row6\" >6</th>\n",
       "      <td id=\"T_a5318_row6_col0\" class=\"data row6 col0\" >135</td>\n",
       "      <td id=\"T_a5318_row6_col1\" class=\"data row6 col1\" >G</td>\n",
       "    </tr>\n",
       "    <tr>\n",
       "      <th id=\"T_a5318_level0_row7\" class=\"row_heading level0 row7\" >7</th>\n",
       "      <td id=\"T_a5318_row7_col0\" class=\"data row7 col0\" >129</td>\n",
       "      <td id=\"T_a5318_row7_col1\" class=\"data row7 col1\" >H</td>\n",
       "    </tr>\n",
       "    <tr>\n",
       "      <th id=\"T_a5318_level0_row8\" class=\"row_heading level0 row8\" >8</th>\n",
       "      <td id=\"T_a5318_row8_col0\" class=\"data row8 col0\" >112</td>\n",
       "      <td id=\"T_a5318_row8_col1\" class=\"data row8 col1\" >I</td>\n",
       "    </tr>\n",
       "    <tr>\n",
       "      <th id=\"T_a5318_level0_row9\" class=\"row_heading level0 row9\" >9</th>\n",
       "      <td id=\"T_a5318_row9_col0\" class=\"data row9 col0\" >80</td>\n",
       "      <td id=\"T_a5318_row9_col1\" class=\"data row9 col1\" >J</td>\n",
       "    </tr>\n",
       "    <tr>\n",
       "      <th id=\"T_a5318_level0_row10\" class=\"row_heading level0 row10\" >10</th>\n",
       "      <td id=\"T_a5318_row10_col0\" class=\"data row10 col0\" >197</td>\n",
       "      <td id=\"T_a5318_row10_col1\" class=\"data row10 col1\" >K</td>\n",
       "    </tr>\n",
       "    <tr>\n",
       "      <th id=\"T_a5318_level0_row11\" class=\"row_heading level0 row11\" >11</th>\n",
       "      <td id=\"T_a5318_row11_col0\" class=\"data row11 col0\" >184</td>\n",
       "      <td id=\"T_a5318_row11_col1\" class=\"data row11 col1\" >L</td>\n",
       "    </tr>\n",
       "    <tr>\n",
       "      <th id=\"T_a5318_level0_row12\" class=\"row_heading level0 row12\" >12</th>\n",
       "      <td id=\"T_a5318_row12_col0\" class=\"data row12 col0\" >228</td>\n",
       "      <td id=\"T_a5318_row12_col1\" class=\"data row12 col1\" >M</td>\n",
       "    </tr>\n",
       "    <tr>\n",
       "      <th id=\"T_a5318_level0_row13\" class=\"row_heading level0 row13\" >13</th>\n",
       "      <td id=\"T_a5318_row13_col0\" class=\"data row13 col0\" >111</td>\n",
       "      <td id=\"T_a5318_row13_col1\" class=\"data row13 col1\" >N</td>\n",
       "    </tr>\n",
       "    <tr>\n",
       "      <th id=\"T_a5318_level0_row14\" class=\"row_heading level0 row14\" >14</th>\n",
       "      <td id=\"T_a5318_row14_col0\" class=\"data row14 col0\" >89</td>\n",
       "      <td id=\"T_a5318_row14_col1\" class=\"data row14 col1\" >O</td>\n",
       "    </tr>\n",
       "    <tr>\n",
       "      <th id=\"T_a5318_level0_row15\" class=\"row_heading level0 row15\" >15</th>\n",
       "      <td id=\"T_a5318_row15_col0\" class=\"data row15 col0\" >203</td>\n",
       "      <td id=\"T_a5318_row15_col1\" class=\"data row15 col1\" >P</td>\n",
       "    </tr>\n",
       "    <tr>\n",
       "      <th id=\"T_a5318_level0_row16\" class=\"row_heading level0 row16\" >16</th>\n",
       "      <td id=\"T_a5318_row16_col0\" class=\"data row16 col0\" >7</td>\n",
       "      <td id=\"T_a5318_row16_col1\" class=\"data row16 col1\" >Q</td>\n",
       "    </tr>\n",
       "    <tr>\n",
       "      <th id=\"T_a5318_level0_row17\" class=\"row_heading level0 row17\" >17</th>\n",
       "      <td id=\"T_a5318_row17_col0\" class=\"data row17 col0\" >121</td>\n",
       "      <td id=\"T_a5318_row17_col1\" class=\"data row17 col1\" >R</td>\n",
       "    </tr>\n",
       "    <tr>\n",
       "      <th id=\"T_a5318_level0_row18\" class=\"row_heading level0 row18\" >18</th>\n",
       "      <td id=\"T_a5318_row18_col0\" class=\"data row18 col0\" >245</td>\n",
       "      <td id=\"T_a5318_row18_col1\" class=\"data row18 col1\" >S</td>\n",
       "    </tr>\n",
       "    <tr>\n",
       "      <th id=\"T_a5318_level0_row19\" class=\"row_heading level0 row19\" >19</th>\n",
       "      <td id=\"T_a5318_row19_col0\" class=\"data row19 col0\" >205</td>\n",
       "      <td id=\"T_a5318_row19_col1\" class=\"data row19 col1\" >T</td>\n",
       "    </tr>\n",
       "    <tr>\n",
       "      <th id=\"T_a5318_level0_row20\" class=\"row_heading level0 row20\" >20</th>\n",
       "      <td id=\"T_a5318_row20_col0\" class=\"data row20 col0\" >77</td>\n",
       "      <td id=\"T_a5318_row20_col1\" class=\"data row20 col1\" >U</td>\n",
       "    </tr>\n",
       "    <tr>\n",
       "      <th id=\"T_a5318_level0_row21\" class=\"row_heading level0 row21\" >21</th>\n",
       "      <td id=\"T_a5318_row21_col0\" class=\"data row21 col0\" >86</td>\n",
       "      <td id=\"T_a5318_row21_col1\" class=\"data row21 col1\" >V</td>\n",
       "    </tr>\n",
       "    <tr>\n",
       "      <th id=\"T_a5318_level0_row22\" class=\"row_heading level0 row22\" >22</th>\n",
       "      <td id=\"T_a5318_row22_col0\" class=\"data row22 col0\" >59</td>\n",
       "      <td id=\"T_a5318_row22_col1\" class=\"data row22 col1\" >W</td>\n",
       "    </tr>\n",
       "    <tr>\n",
       "      <th id=\"T_a5318_level0_row23\" class=\"row_heading level0 row23\" >23</th>\n",
       "      <td id=\"T_a5318_row23_col0\" class=\"data row23 col0\" >28</td>\n",
       "      <td id=\"T_a5318_row23_col1\" class=\"data row23 col1\" >X</td>\n",
       "    </tr>\n",
       "    <tr>\n",
       "      <th id=\"T_a5318_level0_row24\" class=\"row_heading level0 row24\" >24</th>\n",
       "      <td id=\"T_a5318_row24_col0\" class=\"data row24 col0\" >211</td>\n",
       "      <td id=\"T_a5318_row24_col1\" class=\"data row24 col1\" >Y</td>\n",
       "    </tr>\n",
       "    <tr>\n",
       "      <th id=\"T_a5318_level0_row25\" class=\"row_heading level0 row25\" >25</th>\n",
       "      <td id=\"T_a5318_row25_col0\" class=\"data row25 col0\" >49</td>\n",
       "      <td id=\"T_a5318_row25_col1\" class=\"data row25 col1\" >Z</td>\n",
       "    </tr>\n",
       "  </tbody>\n",
       "</table>\n"
      ],
      "text/plain": [
       "<pandas.io.formats.style.Styler at 0x2d66955f650>"
      ]
     },
     "execution_count": 59,
     "metadata": {},
     "output_type": "execute_result"
    }
   ],
   "source": [
    "?[count(initial), initial] := *airport{code}, initial = first(chars(code))\n",
    "\n",
    ":order initial"
   ]
  },
  {
   "attachments": {},
   "cell_type": "markdown",
   "id": "34283880-46bb-4759-965e-5e3de5128c15",
   "metadata": {},
   "source": [
    "以下是关于机场跑道数量的一些统计："
   ]
  },
  {
   "cell_type": "code",
   "execution_count": 60,
   "id": "4d509508-02fa-4ec3-94a9-905dde2dda41",
   "metadata": {},
   "outputs": [
    {
     "data": {
      "text/html": [
       "<style type=\"text/css\">\n",
       "#T_1f259_row0_col0, #T_1f259_row0_col1, #T_1f259_row0_col2, #T_1f259_row0_col3, #T_1f259_row0_col4, #T_1f259_row0_col5, #T_1f259_row0_col6 {\n",
       "  color: #307fc1;\n",
       "}\n",
       "</style>\n",
       "<table id=\"T_1f259\">\n",
       "  <thead>\n",
       "    <tr>\n",
       "      <th class=\"blank level0\" >&nbsp;</th>\n",
       "      <th id=\"T_1f259_level0_col0\" class=\"col_heading level0 col0\" >count(r)</th>\n",
       "      <th id=\"T_1f259_level0_col1\" class=\"col_heading level0 col1\" >count_unique(r)</th>\n",
       "      <th id=\"T_1f259_level0_col2\" class=\"col_heading level0 col2\" >sum(r)</th>\n",
       "      <th id=\"T_1f259_level0_col3\" class=\"col_heading level0 col3\" >min(r)</th>\n",
       "      <th id=\"T_1f259_level0_col4\" class=\"col_heading level0 col4\" >max(r)</th>\n",
       "      <th id=\"T_1f259_level0_col5\" class=\"col_heading level0 col5\" >mean(r)</th>\n",
       "      <th id=\"T_1f259_level0_col6\" class=\"col_heading level0 col6\" >std_dev(r)</th>\n",
       "    </tr>\n",
       "  </thead>\n",
       "  <tbody>\n",
       "    <tr>\n",
       "      <th id=\"T_1f259_level0_row0\" class=\"row_heading level0 row0\" >0</th>\n",
       "      <td id=\"T_1f259_row0_col0\" class=\"data row0 col0\" >3504</td>\n",
       "      <td id=\"T_1f259_row0_col1\" class=\"data row0 col1\" >7</td>\n",
       "      <td id=\"T_1f259_row0_col2\" class=\"data row0 col2\" >4980.000000</td>\n",
       "      <td id=\"T_1f259_row0_col3\" class=\"data row0 col3\" >1</td>\n",
       "      <td id=\"T_1f259_row0_col4\" class=\"data row0 col4\" >7</td>\n",
       "      <td id=\"T_1f259_row0_col5\" class=\"data row0 col5\" >1.421233</td>\n",
       "      <td id=\"T_1f259_row0_col6\" class=\"data row0 col6\" >0.743083</td>\n",
       "    </tr>\n",
       "  </tbody>\n",
       "</table>\n"
      ],
      "text/plain": [
       "<pandas.io.formats.style.Styler at 0x2d6695d2050>"
      ]
     },
     "execution_count": 60,
     "metadata": {},
     "output_type": "execute_result"
    }
   ],
   "source": [
    "?[count(r), count_unique(r), sum(r), min(r), max(r), mean(r), std_dev(r)] := \n",
    "    *airport{runways: r}"
   ]
  },
  {
   "attachments": {},
   "cell_type": "markdown",
   "id": "c62269c6-9c23-4766-918d-aedb5cfe4bc3",
   "metadata": {},
   "source": [
    "关联“国家”表之后，我们可以找出哪些国家一个机场都没有："
   ]
  },
  {
   "cell_type": "code",
   "execution_count": 61,
   "id": "739902f6-902f-4261-878f-826291596399",
   "metadata": {},
   "outputs": [
    {
     "data": {
      "text/html": [
       "<style type=\"text/css\">\n",
       "#T_69a40_row0_col0, #T_69a40_row1_col0, #T_69a40_row2_col0, #T_69a40_row3_col0, #T_69a40_row4_col0 {\n",
       "  color: black;\n",
       "}\n",
       "</style>\n",
       "<table id=\"T_69a40\">\n",
       "  <thead>\n",
       "    <tr>\n",
       "      <th class=\"blank level0\" >&nbsp;</th>\n",
       "      <th id=\"T_69a40_level0_col0\" class=\"col_heading level0 col0\" >desc</th>\n",
       "    </tr>\n",
       "  </thead>\n",
       "  <tbody>\n",
       "    <tr>\n",
       "      <th id=\"T_69a40_level0_row0\" class=\"row_heading level0 row0\" >0</th>\n",
       "      <td id=\"T_69a40_row0_col0\" class=\"data row0 col0\" >Andorra</td>\n",
       "    </tr>\n",
       "    <tr>\n",
       "      <th id=\"T_69a40_level0_row1\" class=\"row_heading level0 row1\" >1</th>\n",
       "      <td id=\"T_69a40_row1_col0\" class=\"data row1 col0\" >Liechtenstein</td>\n",
       "    </tr>\n",
       "    <tr>\n",
       "      <th id=\"T_69a40_level0_row2\" class=\"row_heading level0 row2\" >2</th>\n",
       "      <td id=\"T_69a40_row2_col0\" class=\"data row2 col0\" >Monaco</td>\n",
       "    </tr>\n",
       "    <tr>\n",
       "      <th id=\"T_69a40_level0_row3\" class=\"row_heading level0 row3\" >3</th>\n",
       "      <td id=\"T_69a40_row3_col0\" class=\"data row3 col0\" >Pitcairn</td>\n",
       "    </tr>\n",
       "    <tr>\n",
       "      <th id=\"T_69a40_level0_row4\" class=\"row_heading level0 row4\" >4</th>\n",
       "      <td id=\"T_69a40_row4_col0\" class=\"data row4 col0\" >San Marino</td>\n",
       "    </tr>\n",
       "  </tbody>\n",
       "</table>\n"
      ],
      "text/plain": [
       "<pandas.io.formats.style.Styler at 0x2d6695d0ad0>"
      ]
     },
     "execution_count": 61,
     "metadata": {},
     "output_type": "execute_result"
    }
   ],
   "source": [
    "?[desc] := *country{code, desc}, not *airport{country: code}"
   ]
  },
  {
   "attachments": {},
   "cell_type": "markdown",
   "id": "6f65e01a-b43f-48d2-9afa-0021262e6ada",
   "metadata": {},
   "source": [
    "“航线”表单独看起来信息量并不大："
   ]
  },
  {
   "cell_type": "code",
   "execution_count": 62,
   "id": "9d297cc5-ba50-44d7-b834-46ffaa6c748d",
   "metadata": {},
   "outputs": [
    {
     "data": {
      "text/html": [
       "<style type=\"text/css\">\n",
       "#T_ecce2_row0_col0, #T_ecce2_row0_col1, #T_ecce2_row1_col0, #T_ecce2_row1_col1, #T_ecce2_row2_col0, #T_ecce2_row2_col1, #T_ecce2_row3_col0, #T_ecce2_row3_col1, #T_ecce2_row4_col0, #T_ecce2_row4_col1, #T_ecce2_row5_col0, #T_ecce2_row5_col1, #T_ecce2_row6_col0, #T_ecce2_row6_col1, #T_ecce2_row7_col0, #T_ecce2_row7_col1, #T_ecce2_row8_col0, #T_ecce2_row8_col1, #T_ecce2_row9_col0, #T_ecce2_row9_col1 {\n",
       "  color: black;\n",
       "}\n",
       "#T_ecce2_row0_col2, #T_ecce2_row1_col2, #T_ecce2_row2_col2, #T_ecce2_row3_col2, #T_ecce2_row4_col2, #T_ecce2_row5_col2, #T_ecce2_row6_col2, #T_ecce2_row7_col2, #T_ecce2_row8_col2, #T_ecce2_row9_col2 {\n",
       "  color: #307fc1;\n",
       "}\n",
       "</style>\n",
       "<table id=\"T_ecce2\">\n",
       "  <thead>\n",
       "    <tr>\n",
       "      <th class=\"blank level0\" >&nbsp;</th>\n",
       "      <th id=\"T_ecce2_level0_col0\" class=\"col_heading level0 col0\" >fr</th>\n",
       "      <th id=\"T_ecce2_level0_col1\" class=\"col_heading level0 col1\" >to</th>\n",
       "      <th id=\"T_ecce2_level0_col2\" class=\"col_heading level0 col2\" >dist</th>\n",
       "    </tr>\n",
       "  </thead>\n",
       "  <tbody>\n",
       "    <tr>\n",
       "      <th id=\"T_ecce2_level0_row0\" class=\"row_heading level0 row0\" >0</th>\n",
       "      <td id=\"T_ecce2_row0_col0\" class=\"data row0 col0\" >AAA</td>\n",
       "      <td id=\"T_ecce2_row0_col1\" class=\"data row0 col1\" >FAC</td>\n",
       "      <td id=\"T_ecce2_row0_col2\" class=\"data row0 col2\" >48.000000</td>\n",
       "    </tr>\n",
       "    <tr>\n",
       "      <th id=\"T_ecce2_level0_row1\" class=\"row_heading level0 row1\" >1</th>\n",
       "      <td id=\"T_ecce2_row1_col0\" class=\"data row1 col0\" >AAA</td>\n",
       "      <td id=\"T_ecce2_row1_col1\" class=\"data row1 col1\" >MKP</td>\n",
       "      <td id=\"T_ecce2_row1_col2\" class=\"data row1 col2\" >133.000000</td>\n",
       "    </tr>\n",
       "    <tr>\n",
       "      <th id=\"T_ecce2_level0_row2\" class=\"row_heading level0 row2\" >2</th>\n",
       "      <td id=\"T_ecce2_row2_col0\" class=\"data row2 col0\" >AAA</td>\n",
       "      <td id=\"T_ecce2_row2_col1\" class=\"data row2 col1\" >PPT</td>\n",
       "      <td id=\"T_ecce2_row2_col2\" class=\"data row2 col2\" >270.000000</td>\n",
       "    </tr>\n",
       "    <tr>\n",
       "      <th id=\"T_ecce2_level0_row3\" class=\"row_heading level0 row3\" >3</th>\n",
       "      <td id=\"T_ecce2_row3_col0\" class=\"data row3 col0\" >AAA</td>\n",
       "      <td id=\"T_ecce2_row3_col1\" class=\"data row3 col1\" >RAR</td>\n",
       "      <td id=\"T_ecce2_row3_col2\" class=\"data row3 col2\" >968.000000</td>\n",
       "    </tr>\n",
       "    <tr>\n",
       "      <th id=\"T_ecce2_level0_row4\" class=\"row_heading level0 row4\" >4</th>\n",
       "      <td id=\"T_ecce2_row4_col0\" class=\"data row4 col0\" >AAE</td>\n",
       "      <td id=\"T_ecce2_row4_col1\" class=\"data row4 col1\" >ALG</td>\n",
       "      <td id=\"T_ecce2_row4_col2\" class=\"data row4 col2\" >254.000000</td>\n",
       "    </tr>\n",
       "    <tr>\n",
       "      <th id=\"T_ecce2_level0_row5\" class=\"row_heading level0 row5\" >5</th>\n",
       "      <td id=\"T_ecce2_row5_col0\" class=\"data row5 col0\" >AAE</td>\n",
       "      <td id=\"T_ecce2_row5_col1\" class=\"data row5 col1\" >CDG</td>\n",
       "      <td id=\"T_ecce2_row5_col2\" class=\"data row5 col2\" >882.000000</td>\n",
       "    </tr>\n",
       "    <tr>\n",
       "      <th id=\"T_ecce2_level0_row6\" class=\"row_heading level0 row6\" >6</th>\n",
       "      <td id=\"T_ecce2_row6_col0\" class=\"data row6 col0\" >AAE</td>\n",
       "      <td id=\"T_ecce2_row6_col1\" class=\"data row6 col1\" >IST</td>\n",
       "      <td id=\"T_ecce2_row6_col2\" class=\"data row6 col2\" >1161.000000</td>\n",
       "    </tr>\n",
       "    <tr>\n",
       "      <th id=\"T_ecce2_level0_row7\" class=\"row_heading level0 row7\" >7</th>\n",
       "      <td id=\"T_ecce2_row7_col0\" class=\"data row7 col0\" >AAE</td>\n",
       "      <td id=\"T_ecce2_row7_col1\" class=\"data row7 col1\" >LYS</td>\n",
       "      <td id=\"T_ecce2_row7_col2\" class=\"data row7 col2\" >631.000000</td>\n",
       "    </tr>\n",
       "    <tr>\n",
       "      <th id=\"T_ecce2_level0_row8\" class=\"row_heading level0 row8\" >8</th>\n",
       "      <td id=\"T_ecce2_row8_col0\" class=\"data row8 col0\" >AAE</td>\n",
       "      <td id=\"T_ecce2_row8_col1\" class=\"data row8 col1\" >MRS</td>\n",
       "      <td id=\"T_ecce2_row8_col2\" class=\"data row8 col2\" >477.000000</td>\n",
       "    </tr>\n",
       "    <tr>\n",
       "      <th id=\"T_ecce2_level0_row9\" class=\"row_heading level0 row9\" >9</th>\n",
       "      <td id=\"T_ecce2_row9_col0\" class=\"data row9 col0\" >AAE</td>\n",
       "      <td id=\"T_ecce2_row9_col1\" class=\"data row9 col1\" >ORN</td>\n",
       "      <td id=\"T_ecce2_row9_col2\" class=\"data row9 col2\" >477.000000</td>\n",
       "    </tr>\n",
       "  </tbody>\n",
       "</table>\n"
      ],
      "text/plain": [
       "<pandas.io.formats.style.Styler at 0x2d6695e7890>"
      ]
     },
     "execution_count": 62,
     "metadata": {},
     "output_type": "execute_result"
    }
   ],
   "source": [
    "?[fr, to, dist] := *route{fr, to, dist}\n",
    "\n",
    ":limit 10"
   ]
  },
  {
   "attachments": {},
   "cell_type": "markdown",
   "id": "9f037a30-6f67-4fd9-ba3a-968ebfe811ff",
   "metadata": {},
   "source": [
    "这个表有三列，分别记录了航线的始发机场、到达机场，以及此航线的实际距离（英里）。这个表记录了图数据里关于边的信息，所以只有在图查询中其中蕴含的内容才能显现出来。\n",
    "\n",
    "哪些机场没有任何航线："
   ]
  },
  {
   "cell_type": "code",
   "execution_count": 63,
   "id": "e58de060-2f75-46fb-9ce0-98068e338c09",
   "metadata": {},
   "outputs": [
    {
     "data": {
      "text/html": [
       "<style type=\"text/css\">\n",
       "#T_812d9_row0_col0, #T_812d9_row0_col1, #T_812d9_row1_col0, #T_812d9_row1_col1, #T_812d9_row2_col0, #T_812d9_row2_col1, #T_812d9_row3_col0, #T_812d9_row3_col1, #T_812d9_row4_col0, #T_812d9_row4_col1, #T_812d9_row5_col0, #T_812d9_row5_col1, #T_812d9_row6_col0, #T_812d9_row6_col1, #T_812d9_row7_col0, #T_812d9_row7_col1, #T_812d9_row8_col0, #T_812d9_row8_col1, #T_812d9_row9_col0, #T_812d9_row9_col1, #T_812d9_row10_col0, #T_812d9_row10_col1, #T_812d9_row11_col0, #T_812d9_row11_col1, #T_812d9_row12_col0, #T_812d9_row12_col1, #T_812d9_row13_col0, #T_812d9_row13_col1, #T_812d9_row14_col0, #T_812d9_row14_col1, #T_812d9_row15_col0, #T_812d9_row15_col1, #T_812d9_row16_col0, #T_812d9_row16_col1, #T_812d9_row17_col0, #T_812d9_row17_col1, #T_812d9_row18_col0, #T_812d9_row18_col1, #T_812d9_row19_col0, #T_812d9_row19_col1, #T_812d9_row20_col0, #T_812d9_row20_col1, #T_812d9_row21_col0, #T_812d9_row21_col1, #T_812d9_row22_col0, #T_812d9_row22_col1, #T_812d9_row23_col0, #T_812d9_row23_col1, #T_812d9_row24_col0, #T_812d9_row24_col1, #T_812d9_row25_col0, #T_812d9_row25_col1, #T_812d9_row26_col0, #T_812d9_row26_col1, #T_812d9_row27_col0, #T_812d9_row27_col1 {\n",
       "  color: black;\n",
       "}\n",
       "</style>\n",
       "<table id=\"T_812d9\">\n",
       "  <thead>\n",
       "    <tr>\n",
       "      <th class=\"blank level0\" >&nbsp;</th>\n",
       "      <th id=\"T_812d9_level0_col0\" class=\"col_heading level0 col0\" >code</th>\n",
       "      <th id=\"T_812d9_level0_col1\" class=\"col_heading level0 col1\" >desc</th>\n",
       "    </tr>\n",
       "  </thead>\n",
       "  <tbody>\n",
       "    <tr>\n",
       "      <th id=\"T_812d9_level0_row0\" class=\"row_heading level0 row0\" >0</th>\n",
       "      <td id=\"T_812d9_row0_col0\" class=\"data row0 col0\" >AFW</td>\n",
       "      <td id=\"T_812d9_row0_col1\" class=\"data row0 col1\" >Fort Worth Alliance Airport</td>\n",
       "    </tr>\n",
       "    <tr>\n",
       "      <th id=\"T_812d9_level0_row1\" class=\"row_heading level0 row1\" >1</th>\n",
       "      <td id=\"T_812d9_row1_col0\" class=\"data row1 col0\" >APA</td>\n",
       "      <td id=\"T_812d9_row1_col1\" class=\"data row1 col1\" >Centennial Airport</td>\n",
       "    </tr>\n",
       "    <tr>\n",
       "      <th id=\"T_812d9_level0_row2\" class=\"row_heading level0 row2\" >2</th>\n",
       "      <td id=\"T_812d9_row2_col0\" class=\"data row2 col0\" >APK</td>\n",
       "      <td id=\"T_812d9_row2_col1\" class=\"data row2 col1\" >Apataki Airport</td>\n",
       "    </tr>\n",
       "    <tr>\n",
       "      <th id=\"T_812d9_level0_row3\" class=\"row_heading level0 row3\" >3</th>\n",
       "      <td id=\"T_812d9_row3_col0\" class=\"data row3 col0\" >BID</td>\n",
       "      <td id=\"T_812d9_row3_col1\" class=\"data row3 col1\" >Block Island State Airport</td>\n",
       "    </tr>\n",
       "    <tr>\n",
       "      <th id=\"T_812d9_level0_row4\" class=\"row_heading level0 row4\" >4</th>\n",
       "      <td id=\"T_812d9_row4_col0\" class=\"data row4 col0\" >BVS</td>\n",
       "      <td id=\"T_812d9_row4_col1\" class=\"data row4 col1\" >Breves Airport</td>\n",
       "    </tr>\n",
       "    <tr>\n",
       "      <th id=\"T_812d9_level0_row5\" class=\"row_heading level0 row5\" >5</th>\n",
       "      <td id=\"T_812d9_row5_col0\" class=\"data row5 col0\" >BWU</td>\n",
       "      <td id=\"T_812d9_row5_col1\" class=\"data row5 col1\" >Sydney Bankstown Airport</td>\n",
       "    </tr>\n",
       "    <tr>\n",
       "      <th id=\"T_812d9_level0_row6\" class=\"row_heading level0 row6\" >6</th>\n",
       "      <td id=\"T_812d9_row6_col0\" class=\"data row6 col0\" >CRC</td>\n",
       "      <td id=\"T_812d9_row6_col1\" class=\"data row6 col1\" >Santa Ana Airport</td>\n",
       "    </tr>\n",
       "    <tr>\n",
       "      <th id=\"T_812d9_level0_row7\" class=\"row_heading level0 row7\" >7</th>\n",
       "      <td id=\"T_812d9_row7_col0\" class=\"data row7 col0\" >CVT</td>\n",
       "      <td id=\"T_812d9_row7_col1\" class=\"data row7 col1\" >Coventry Airport</td>\n",
       "    </tr>\n",
       "    <tr>\n",
       "      <th id=\"T_812d9_level0_row8\" class=\"row_heading level0 row8\" >8</th>\n",
       "      <td id=\"T_812d9_row8_col0\" class=\"data row8 col0\" >EKA</td>\n",
       "      <td id=\"T_812d9_row8_col1\" class=\"data row8 col1\" >Murray Field</td>\n",
       "    </tr>\n",
       "    <tr>\n",
       "      <th id=\"T_812d9_level0_row9\" class=\"row_heading level0 row9\" >9</th>\n",
       "      <td id=\"T_812d9_row9_col0\" class=\"data row9 col0\" >GYZ</td>\n",
       "      <td id=\"T_812d9_row9_col1\" class=\"data row9 col1\" >Gruyere Airport</td>\n",
       "    </tr>\n",
       "    <tr>\n",
       "      <th id=\"T_812d9_level0_row10\" class=\"row_heading level0 row10\" >10</th>\n",
       "      <td id=\"T_812d9_row10_col0\" class=\"data row10 col0\" >HFN</td>\n",
       "      <td id=\"T_812d9_row10_col1\" class=\"data row10 col1\" >Hornafjordur Airport</td>\n",
       "    </tr>\n",
       "    <tr>\n",
       "      <th id=\"T_812d9_level0_row11\" class=\"row_heading level0 row11\" >11</th>\n",
       "      <td id=\"T_812d9_row11_col0\" class=\"data row11 col0\" >HZK</td>\n",
       "      <td id=\"T_812d9_row11_col1\" class=\"data row11 col1\" >Husavik Airport</td>\n",
       "    </tr>\n",
       "    <tr>\n",
       "      <th id=\"T_812d9_level0_row12\" class=\"row_heading level0 row12\" >12</th>\n",
       "      <td id=\"T_812d9_row12_col0\" class=\"data row12 col0\" >ILG</td>\n",
       "      <td id=\"T_812d9_row12_col1\" class=\"data row12 col1\" >New Castle Airport</td>\n",
       "    </tr>\n",
       "    <tr>\n",
       "      <th id=\"T_812d9_level0_row13\" class=\"row_heading level0 row13\" >13</th>\n",
       "      <td id=\"T_812d9_row13_col0\" class=\"data row13 col0\" >INT</td>\n",
       "      <td id=\"T_812d9_row13_col1\" class=\"data row13 col1\" >Smith Reynolds Airport</td>\n",
       "    </tr>\n",
       "    <tr>\n",
       "      <th id=\"T_812d9_level0_row14\" class=\"row_heading level0 row14\" >14</th>\n",
       "      <td id=\"T_812d9_row14_col0\" class=\"data row14 col0\" >ISL</td>\n",
       "      <td id=\"T_812d9_row14_col1\" class=\"data row14 col1\" >Ataturk International Airport</td>\n",
       "    </tr>\n",
       "    <tr>\n",
       "      <th id=\"T_812d9_level0_row15\" class=\"row_heading level0 row15\" >15</th>\n",
       "      <td id=\"T_812d9_row15_col0\" class=\"data row15 col0\" >KGG</td>\n",
       "      <td id=\"T_812d9_row15_col1\" class=\"data row15 col1\" >Kédougou Airport</td>\n",
       "    </tr>\n",
       "    <tr>\n",
       "      <th id=\"T_812d9_level0_row16\" class=\"row_heading level0 row16\" >16</th>\n",
       "      <td id=\"T_812d9_row16_col0\" class=\"data row16 col0\" >NBW</td>\n",
       "      <td id=\"T_812d9_row16_col1\" class=\"data row16 col1\" >Leeward Point Field</td>\n",
       "    </tr>\n",
       "    <tr>\n",
       "      <th id=\"T_812d9_level0_row17\" class=\"row_heading level0 row17\" >17</th>\n",
       "      <td id=\"T_812d9_row17_col0\" class=\"data row17 col0\" >NFO</td>\n",
       "      <td id=\"T_812d9_row17_col1\" class=\"data row17 col1\" >Mata'aho Airport</td>\n",
       "    </tr>\n",
       "    <tr>\n",
       "      <th id=\"T_812d9_level0_row18\" class=\"row_heading level0 row18\" >18</th>\n",
       "      <td id=\"T_812d9_row18_col0\" class=\"data row18 col0\" >PSY</td>\n",
       "      <td id=\"T_812d9_row18_col1\" class=\"data row18 col1\" >Stanley Airport</td>\n",
       "    </tr>\n",
       "    <tr>\n",
       "      <th id=\"T_812d9_level0_row19\" class=\"row_heading level0 row19\" >19</th>\n",
       "      <td id=\"T_812d9_row19_col0\" class=\"data row19 col0\" >RIG</td>\n",
       "      <td id=\"T_812d9_row19_col1\" class=\"data row19 col1\" >Rio Grande Airport</td>\n",
       "    </tr>\n",
       "    <tr>\n",
       "      <th id=\"T_812d9_level0_row20\" class=\"row_heading level0 row20\" >20</th>\n",
       "      <td id=\"T_812d9_row20_col0\" class=\"data row20 col0\" >SFD</td>\n",
       "      <td id=\"T_812d9_row20_col1\" class=\"data row20 col1\" >San Fernando De Apure Airport</td>\n",
       "    </tr>\n",
       "    <tr>\n",
       "      <th id=\"T_812d9_level0_row21\" class=\"row_heading level0 row21\" >21</th>\n",
       "      <td id=\"T_812d9_row21_col0\" class=\"data row21 col0\" >SFH</td>\n",
       "      <td id=\"T_812d9_row21_col1\" class=\"data row21 col1\" >San Felipe International Airport</td>\n",
       "    </tr>\n",
       "    <tr>\n",
       "      <th id=\"T_812d9_level0_row22\" class=\"row_heading level0 row22\" >22</th>\n",
       "      <td id=\"T_812d9_row22_col0\" class=\"data row22 col0\" >SXF</td>\n",
       "      <td id=\"T_812d9_row22_col1\" class=\"data row22 col1\" >Berlin-Schönefeld International Airport *Closed*</td>\n",
       "    </tr>\n",
       "    <tr>\n",
       "      <th id=\"T_812d9_level0_row23\" class=\"row_heading level0 row23\" >23</th>\n",
       "      <td id=\"T_812d9_row23_col0\" class=\"data row23 col0\" >TUA</td>\n",
       "      <td id=\"T_812d9_row23_col1\" class=\"data row23 col1\" >Teniente Coronel Luis a Mantilla Airport</td>\n",
       "    </tr>\n",
       "    <tr>\n",
       "      <th id=\"T_812d9_level0_row24\" class=\"row_heading level0 row24\" >24</th>\n",
       "      <td id=\"T_812d9_row24_col0\" class=\"data row24 col0\" >TWB</td>\n",
       "      <td id=\"T_812d9_row24_col1\" class=\"data row24 col1\" >Toowoomba Airport</td>\n",
       "    </tr>\n",
       "    <tr>\n",
       "      <th id=\"T_812d9_level0_row25\" class=\"row_heading level0 row25\" >25</th>\n",
       "      <td id=\"T_812d9_row25_col0\" class=\"data row25 col0\" >TXL</td>\n",
       "      <td id=\"T_812d9_row25_col1\" class=\"data row25 col1\" >Berlin, Tegel International Airport *Closed*</td>\n",
       "    </tr>\n",
       "    <tr>\n",
       "      <th id=\"T_812d9_level0_row26\" class=\"row_heading level0 row26\" >26</th>\n",
       "      <td id=\"T_812d9_row26_col0\" class=\"data row26 col0\" >VCV</td>\n",
       "      <td id=\"T_812d9_row26_col1\" class=\"data row26 col1\" >Southern California Logistics Airport</td>\n",
       "    </tr>\n",
       "    <tr>\n",
       "      <th id=\"T_812d9_level0_row27\" class=\"row_heading level0 row27\" >27</th>\n",
       "      <td id=\"T_812d9_row27_col0\" class=\"data row27 col0\" >YEI</td>\n",
       "      <td id=\"T_812d9_row27_col1\" class=\"data row27 col1\" >Bursa Yenişehir Airport</td>\n",
       "    </tr>\n",
       "  </tbody>\n",
       "</table>\n"
      ],
      "text/plain": [
       "<pandas.io.formats.style.Styler at 0x2d6695c0550>"
      ]
     },
     "execution_count": 63,
     "metadata": {},
     "output_type": "execute_result"
    }
   ],
   "source": [
    "?[code, desc] := *airport{code, desc}, not *route{fr: code}, not *route{to: code}"
   ]
  },
  {
   "attachments": {},
   "cell_type": "markdown",
   "id": "e26b06c3-3919-4a72-861d-e63318708496",
   "metadata": {},
   "source": [
    "航线最多的机场："
   ]
  },
  {
   "cell_type": "code",
   "execution_count": 64,
   "id": "1b0a075d-5968-41e6-90df-27ee2034dc84",
   "metadata": {},
   "outputs": [
    {
     "data": {
      "text/html": [
       "<style type=\"text/css\">\n",
       "#T_9fbc2_row0_col0, #T_9fbc2_row1_col0, #T_9fbc2_row2_col0, #T_9fbc2_row3_col0, #T_9fbc2_row4_col0 {\n",
       "  color: black;\n",
       "}\n",
       "#T_9fbc2_row0_col1, #T_9fbc2_row1_col1, #T_9fbc2_row2_col1, #T_9fbc2_row3_col1, #T_9fbc2_row4_col1 {\n",
       "  color: #307fc1;\n",
       "}\n",
       "</style>\n",
       "<table id=\"T_9fbc2\">\n",
       "  <thead>\n",
       "    <tr>\n",
       "      <th class=\"blank level0\" >&nbsp;</th>\n",
       "      <th id=\"T_9fbc2_level0_col0\" class=\"col_heading level0 col0\" >code</th>\n",
       "      <th id=\"T_9fbc2_level0_col1\" class=\"col_heading level0 col1\" >n</th>\n",
       "    </tr>\n",
       "  </thead>\n",
       "  <tbody>\n",
       "    <tr>\n",
       "      <th id=\"T_9fbc2_level0_row0\" class=\"row_heading level0 row0\" >0</th>\n",
       "      <td id=\"T_9fbc2_row0_col0\" class=\"data row0 col0\" >FRA</td>\n",
       "      <td id=\"T_9fbc2_row0_col1\" class=\"data row0 col1\" >310</td>\n",
       "    </tr>\n",
       "    <tr>\n",
       "      <th id=\"T_9fbc2_level0_row1\" class=\"row_heading level0 row1\" >1</th>\n",
       "      <td id=\"T_9fbc2_row1_col0\" class=\"data row1 col0\" >IST</td>\n",
       "      <td id=\"T_9fbc2_row1_col1\" class=\"data row1 col1\" >309</td>\n",
       "    </tr>\n",
       "    <tr>\n",
       "      <th id=\"T_9fbc2_level0_row2\" class=\"row_heading level0 row2\" >2</th>\n",
       "      <td id=\"T_9fbc2_row2_col0\" class=\"data row2 col0\" >CDG</td>\n",
       "      <td id=\"T_9fbc2_row2_col1\" class=\"data row2 col1\" >293</td>\n",
       "    </tr>\n",
       "    <tr>\n",
       "      <th id=\"T_9fbc2_level0_row3\" class=\"row_heading level0 row3\" >3</th>\n",
       "      <td id=\"T_9fbc2_row3_col0\" class=\"data row3 col0\" >AMS</td>\n",
       "      <td id=\"T_9fbc2_row3_col1\" class=\"data row3 col1\" >283</td>\n",
       "    </tr>\n",
       "    <tr>\n",
       "      <th id=\"T_9fbc2_level0_row4\" class=\"row_heading level0 row4\" >4</th>\n",
       "      <td id=\"T_9fbc2_row4_col0\" class=\"data row4 col0\" >MUC</td>\n",
       "      <td id=\"T_9fbc2_row4_col1\" class=\"data row4 col1\" >270</td>\n",
       "    </tr>\n",
       "  </tbody>\n",
       "</table>\n"
      ],
      "text/plain": [
       "<pandas.io.formats.style.Styler at 0x2d669569fd0>"
      ]
     },
     "execution_count": 64,
     "metadata": {},
     "output_type": "execute_result"
    }
   ],
   "source": [
    "route_count[fr, count(fr)] := *route{fr}\n",
    "?[code, n] := route_count[code, n]\n",
    "\n",
    ":sort -n\n",
    ":limit 5"
   ]
  },
  {
   "attachments": {},
   "cell_type": "markdown",
   "id": "b4154c1e-78f8-4621-9a32-05363d1b13cf",
   "metadata": {},
   "source": [
    "从欧盟到美国一共有多少条航线？"
   ]
  },
  {
   "cell_type": "code",
   "execution_count": 65,
   "id": "7de94407-206b-42d9-ac3b-cd9a3277bfe3",
   "metadata": {},
   "outputs": [
    {
     "data": {
      "text/html": [
       "<style type=\"text/css\">\n",
       "#T_b0962_row0_col0 {\n",
       "  color: #307fc1;\n",
       "}\n",
       "</style>\n",
       "<table id=\"T_b0962\">\n",
       "  <thead>\n",
       "    <tr>\n",
       "      <th class=\"blank level0\" >&nbsp;</th>\n",
       "      <th id=\"T_b0962_level0_col0\" class=\"col_heading level0 col0\" >n</th>\n",
       "    </tr>\n",
       "  </thead>\n",
       "  <tbody>\n",
       "    <tr>\n",
       "      <th id=\"T_b0962_level0_row0\" class=\"row_heading level0 row0\" >0</th>\n",
       "      <td id=\"T_b0962_row0_col0\" class=\"data row0 col0\" >435</td>\n",
       "    </tr>\n",
       "  </tbody>\n",
       "</table>\n"
      ],
      "text/plain": [
       "<pandas.io.formats.style.Styler at 0x2d66963b3d0>"
      ]
     },
     "execution_count": 65,
     "metadata": {},
     "output_type": "execute_result"
    }
   ],
   "source": [
    "routes[unique(r)] := *contain['EU', fr],\n",
    "                     *route{fr, to},\n",
    "                     *airport{code: to, country: 'US'},\n",
    "                     r = [fr, to]\n",
    "?[n] := routes[rs], n = length(rs)"
   ]
  },
  {
   "attachments": {},
   "cell_type": "markdown",
   "id": "528bc6eb-064d-418f-8aa1-98aeedd64ace",
   "metadata": {},
   "source": [
    "美国有多少个机场，有来自欧盟的航线？"
   ]
  },
  {
   "cell_type": "code",
   "execution_count": 66,
   "id": "7ecfd10d-f05f-443e-a0e9-73480d67dcf1",
   "metadata": {},
   "outputs": [
    {
     "data": {
      "text/html": [
       "<style type=\"text/css\">\n",
       "#T_0431f_row0_col0 {\n",
       "  color: #307fc1;\n",
       "}\n",
       "</style>\n",
       "<table id=\"T_0431f\">\n",
       "  <thead>\n",
       "    <tr>\n",
       "      <th class=\"blank level0\" >&nbsp;</th>\n",
       "      <th id=\"T_0431f_level0_col0\" class=\"col_heading level0 col0\" >count_unique(to)</th>\n",
       "    </tr>\n",
       "  </thead>\n",
       "  <tbody>\n",
       "    <tr>\n",
       "      <th id=\"T_0431f_level0_row0\" class=\"row_heading level0 row0\" >0</th>\n",
       "      <td id=\"T_0431f_row0_col0\" class=\"data row0 col0\" >45</td>\n",
       "    </tr>\n",
       "  </tbody>\n",
       "</table>\n"
      ],
      "text/plain": [
       "<pandas.io.formats.style.Styler at 0x2d6696545d0>"
      ]
     },
     "execution_count": 66,
     "metadata": {},
     "output_type": "execute_result"
    }
   ],
   "source": [
    "?[count_unique(to)] := *contain['EU', fr],\n",
    "                       *route{fr, to},\n",
    "                       *airport{code: to, country: 'US'}\n"
   ]
  },
  {
   "attachments": {},
   "cell_type": "markdown",
   "id": "3a13fa07-aaa4-47c1-aefb-0a93c80e3c18",
   "metadata": {},
   "source": [
    "英国伦敦每个机场都有多少条航线？"
   ]
  },
  {
   "cell_type": "code",
   "execution_count": 67,
   "id": "52f6c021-1ac7-42a6-910a-7686eb2c653d",
   "metadata": {},
   "outputs": [
    {
     "data": {
      "text/html": [
       "<style type=\"text/css\">\n",
       "#T_2ab10_row0_col0, #T_2ab10_row1_col0, #T_2ab10_row2_col0, #T_2ab10_row3_col0, #T_2ab10_row4_col0 {\n",
       "  color: black;\n",
       "}\n",
       "#T_2ab10_row0_col1, #T_2ab10_row1_col1, #T_2ab10_row2_col1, #T_2ab10_row3_col1, #T_2ab10_row4_col1 {\n",
       "  color: #307fc1;\n",
       "}\n",
       "</style>\n",
       "<table id=\"T_2ab10\">\n",
       "  <thead>\n",
       "    <tr>\n",
       "      <th class=\"blank level0\" >&nbsp;</th>\n",
       "      <th id=\"T_2ab10_level0_col0\" class=\"col_heading level0 col0\" >code</th>\n",
       "      <th id=\"T_2ab10_level0_col1\" class=\"col_heading level0 col1\" >count(code)</th>\n",
       "    </tr>\n",
       "  </thead>\n",
       "  <tbody>\n",
       "    <tr>\n",
       "      <th id=\"T_2ab10_level0_row0\" class=\"row_heading level0 row0\" >0</th>\n",
       "      <td id=\"T_2ab10_row0_col0\" class=\"data row0 col0\" >LCY</td>\n",
       "      <td id=\"T_2ab10_row0_col1\" class=\"data row0 col1\" >51</td>\n",
       "    </tr>\n",
       "    <tr>\n",
       "      <th id=\"T_2ab10_level0_row1\" class=\"row_heading level0 row1\" >1</th>\n",
       "      <td id=\"T_2ab10_row1_col0\" class=\"data row1 col0\" >LGW</td>\n",
       "      <td id=\"T_2ab10_row1_col1\" class=\"data row1 col1\" >232</td>\n",
       "    </tr>\n",
       "    <tr>\n",
       "      <th id=\"T_2ab10_level0_row2\" class=\"row_heading level0 row2\" >2</th>\n",
       "      <td id=\"T_2ab10_row2_col0\" class=\"data row2 col0\" >LHR</td>\n",
       "      <td id=\"T_2ab10_row2_col1\" class=\"data row2 col1\" >221</td>\n",
       "    </tr>\n",
       "    <tr>\n",
       "      <th id=\"T_2ab10_level0_row3\" class=\"row_heading level0 row3\" >3</th>\n",
       "      <td id=\"T_2ab10_row3_col0\" class=\"data row3 col0\" >LTN</td>\n",
       "      <td id=\"T_2ab10_row3_col1\" class=\"data row3 col1\" >130</td>\n",
       "    </tr>\n",
       "    <tr>\n",
       "      <th id=\"T_2ab10_level0_row4\" class=\"row_heading level0 row4\" >4</th>\n",
       "      <td id=\"T_2ab10_row4_col0\" class=\"data row4 col0\" >STN</td>\n",
       "      <td id=\"T_2ab10_row4_col1\" class=\"data row4 col1\" >211</td>\n",
       "    </tr>\n",
       "  </tbody>\n",
       "</table>\n"
      ],
      "text/plain": [
       "<pandas.io.formats.style.Styler at 0x2d669654610>"
      ]
     },
     "execution_count": 67,
     "metadata": {},
     "output_type": "execute_result"
    }
   ],
   "source": [
    "?[code, count(code)] := *airport{code, city: 'London', region: 'GB-ENG'}, *route{fr: code}"
   ]
  },
  {
   "attachments": {},
   "cell_type": "markdown",
   "id": "19ecd6fa-04e0-4a03-9834-f0dfea861e9a",
   "metadata": {},
   "source": [
    "这里我们必须指明 `GB-ENG` 区域，因为世界上不止一个城市叫做伦敦。\n",
    "\n",
    "从伦敦起飞，转机两次，能到多少个不同的机场？"
   ]
  },
  {
   "cell_type": "code",
   "execution_count": 68,
   "id": "0689fddc-e02d-4b4c-a621-b17f0431ccf4",
   "metadata": {},
   "outputs": [
    {
     "data": {
      "text/html": [
       "<style type=\"text/css\">\n",
       "#T_f749f_row0_col0 {\n",
       "  color: #307fc1;\n",
       "}\n",
       "</style>\n",
       "<table id=\"T_f749f\">\n",
       "  <thead>\n",
       "    <tr>\n",
       "      <th class=\"blank level0\" >&nbsp;</th>\n",
       "      <th id=\"T_f749f_level0_col0\" class=\"col_heading level0 col0\" >count_unique(a3)</th>\n",
       "    </tr>\n",
       "  </thead>\n",
       "  <tbody>\n",
       "    <tr>\n",
       "      <th id=\"T_f749f_level0_row0\" class=\"row_heading level0 row0\" >0</th>\n",
       "      <td id=\"T_f749f_row0_col0\" class=\"data row0 col0\" >2353</td>\n",
       "    </tr>\n",
       "  </tbody>\n",
       "</table>\n"
      ],
      "text/plain": [
       "<pandas.io.formats.style.Styler at 0x2d669568cd0>"
      ]
     },
     "execution_count": 68,
     "metadata": {},
     "output_type": "execute_result"
    }
   ],
   "source": [
    "lon_uk_airports[code] := *airport{code, city: 'London', region: 'GB-ENG'}\n",
    "one_hop[to] := lon_uk_airports[fr], *route{fr, to}, not lon_uk_airports[to];\n",
    "?[count_unique(a3)] := one_hop[a2], *route{fr: a2, to: a3}, not lon_uk_airports[a3];"
   ]
  },
  {
   "attachments": {},
   "cell_type": "markdown",
   "id": "4be5b2d5-8aa9-4109-94f4-ccb75e109935",
   "metadata": {},
   "source": [
    "不转机，从伦敦盖特威克机场能飞到的最远的城市（不是机场）有哪些？"
   ]
  },
  {
   "cell_type": "code",
   "execution_count": 69,
   "id": "9ac99669-84dc-4a7a-b985-d1e333a41065",
   "metadata": {},
   "outputs": [
    {
     "data": {
      "text/html": [
       "<style type=\"text/css\">\n",
       "#T_5b44f_row0_col0, #T_5b44f_row1_col0, #T_5b44f_row2_col0, #T_5b44f_row3_col0, #T_5b44f_row4_col0, #T_5b44f_row5_col0, #T_5b44f_row6_col0, #T_5b44f_row7_col0, #T_5b44f_row8_col0, #T_5b44f_row9_col0 {\n",
       "  color: black;\n",
       "}\n",
       "#T_5b44f_row0_col1, #T_5b44f_row1_col1, #T_5b44f_row2_col1, #T_5b44f_row3_col1, #T_5b44f_row4_col1, #T_5b44f_row5_col1, #T_5b44f_row6_col1, #T_5b44f_row7_col1, #T_5b44f_row8_col1, #T_5b44f_row9_col1 {\n",
       "  color: #307fc1;\n",
       "}\n",
       "</style>\n",
       "<table id=\"T_5b44f\">\n",
       "  <thead>\n",
       "    <tr>\n",
       "      <th class=\"blank level0\" >&nbsp;</th>\n",
       "      <th id=\"T_5b44f_level0_col0\" class=\"col_heading level0 col0\" >city</th>\n",
       "      <th id=\"T_5b44f_level0_col1\" class=\"col_heading level0 col1\" >dist</th>\n",
       "    </tr>\n",
       "  </thead>\n",
       "  <tbody>\n",
       "    <tr>\n",
       "      <th id=\"T_5b44f_level0_row0\" class=\"row_heading level0 row0\" >0</th>\n",
       "      <td id=\"T_5b44f_row0_col0\" class=\"data row0 col0\" >Buenos Aires</td>\n",
       "      <td id=\"T_5b44f_row0_col1\" class=\"data row0 col1\" >6908.000000</td>\n",
       "    </tr>\n",
       "    <tr>\n",
       "      <th id=\"T_5b44f_level0_row1\" class=\"row_heading level0 row1\" >1</th>\n",
       "      <td id=\"T_5b44f_row1_col0\" class=\"data row1 col0\" >Singapore</td>\n",
       "      <td id=\"T_5b44f_row1_col1\" class=\"data row1 col1\" >6751.000000</td>\n",
       "    </tr>\n",
       "    <tr>\n",
       "      <th id=\"T_5b44f_level0_row2\" class=\"row_heading level0 row2\" >2</th>\n",
       "      <td id=\"T_5b44f_row2_col0\" class=\"data row2 col0\" >Langkawi</td>\n",
       "      <td id=\"T_5b44f_row2_col1\" class=\"data row2 col1\" >6299.000000</td>\n",
       "    </tr>\n",
       "    <tr>\n",
       "      <th id=\"T_5b44f_level0_row3\" class=\"row_heading level0 row3\" >3</th>\n",
       "      <td id=\"T_5b44f_row3_col0\" class=\"data row3 col0\" >Duong Dong</td>\n",
       "      <td id=\"T_5b44f_row3_col1\" class=\"data row3 col1\" >6264.000000</td>\n",
       "    </tr>\n",
       "    <tr>\n",
       "      <th id=\"T_5b44f_level0_row4\" class=\"row_heading level0 row4\" >4</th>\n",
       "      <td id=\"T_5b44f_row4_col0\" class=\"data row4 col0\" >Taipei</td>\n",
       "      <td id=\"T_5b44f_row4_col1\" class=\"data row4 col1\" >6080.000000</td>\n",
       "    </tr>\n",
       "    <tr>\n",
       "      <th id=\"T_5b44f_level0_row5\" class=\"row_heading level0 row5\" >5</th>\n",
       "      <td id=\"T_5b44f_row5_col0\" class=\"data row5 col0\" >Port Louis</td>\n",
       "      <td id=\"T_5b44f_row5_col1\" class=\"data row5 col1\" >6053.000000</td>\n",
       "    </tr>\n",
       "    <tr>\n",
       "      <th id=\"T_5b44f_level0_row6\" class=\"row_heading level0 row6\" >6</th>\n",
       "      <td id=\"T_5b44f_row6_col0\" class=\"data row6 col0\" >Rayong</td>\n",
       "      <td id=\"T_5b44f_row6_col1\" class=\"data row6 col1\" >6008.000000</td>\n",
       "    </tr>\n",
       "    <tr>\n",
       "      <th id=\"T_5b44f_level0_row7\" class=\"row_heading level0 row7\" >7</th>\n",
       "      <td id=\"T_5b44f_row7_col0\" class=\"data row7 col0\" >Cape Town</td>\n",
       "      <td id=\"T_5b44f_row7_col1\" class=\"data row7 col1\" >5987.000000</td>\n",
       "    </tr>\n",
       "    <tr>\n",
       "      <th id=\"T_5b44f_level0_row8\" class=\"row_heading level0 row8\" >8</th>\n",
       "      <td id=\"T_5b44f_row8_col0\" class=\"data row8 col0\" >Hong Kong</td>\n",
       "      <td id=\"T_5b44f_row8_col1\" class=\"data row8 col1\" >5982.000000</td>\n",
       "    </tr>\n",
       "    <tr>\n",
       "      <th id=\"T_5b44f_level0_row9\" class=\"row_heading level0 row9\" >9</th>\n",
       "      <td id=\"T_5b44f_row9_col0\" class=\"data row9 col0\" >Shanghai</td>\n",
       "      <td id=\"T_5b44f_row9_col1\" class=\"data row9 col1\" >5745.000000</td>\n",
       "    </tr>\n",
       "  </tbody>\n",
       "</table>\n"
      ],
      "text/plain": [
       "<pandas.io.formats.style.Styler at 0x2d6699b5990>"
      ]
     },
     "execution_count": 69,
     "metadata": {},
     "output_type": "execute_result"
    }
   ],
   "source": [
    "?[city, dist] := *route{fr: 'LGW', to, dist},\n",
    "                 *airport{code: to, city}\n",
    ":order -dist\n",
    ":limit 10"
   ]
  },
  {
   "attachments": {},
   "cell_type": "markdown",
   "id": "121df2dd-1926-47eb-80d3-c90fe56b253d",
   "metadata": {},
   "source": [
    "在格林威治子午线经度 0.1 之内的机场有哪些？"
   ]
  },
  {
   "cell_type": "code",
   "execution_count": 70,
   "id": "5ac6dee6-c475-4db9-824d-2cbcc774aa23",
   "metadata": {},
   "outputs": [
    {
     "data": {
      "text/html": [
       "<style type=\"text/css\">\n",
       "#T_65e47_row0_col0, #T_65e47_row0_col1, #T_65e47_row1_col0, #T_65e47_row1_col1, #T_65e47_row2_col0, #T_65e47_row2_col1, #T_65e47_row3_col0, #T_65e47_row3_col1 {\n",
       "  color: black;\n",
       "}\n",
       "#T_65e47_row0_col2, #T_65e47_row0_col3, #T_65e47_row1_col2, #T_65e47_row1_col3, #T_65e47_row2_col2, #T_65e47_row2_col3, #T_65e47_row3_col2, #T_65e47_row3_col3 {\n",
       "  color: #307fc1;\n",
       "}\n",
       "</style>\n",
       "<table id=\"T_65e47\">\n",
       "  <thead>\n",
       "    <tr>\n",
       "      <th class=\"blank level0\" >&nbsp;</th>\n",
       "      <th id=\"T_65e47_level0_col0\" class=\"col_heading level0 col0\" >code</th>\n",
       "      <th id=\"T_65e47_level0_col1\" class=\"col_heading level0 col1\" >desc</th>\n",
       "      <th id=\"T_65e47_level0_col2\" class=\"col_heading level0 col2\" >lon</th>\n",
       "      <th id=\"T_65e47_level0_col3\" class=\"col_heading level0 col3\" >lat</th>\n",
       "    </tr>\n",
       "  </thead>\n",
       "  <tbody>\n",
       "    <tr>\n",
       "      <th id=\"T_65e47_level0_row0\" class=\"row_heading level0 row0\" >0</th>\n",
       "      <td id=\"T_65e47_row0_col0\" class=\"data row0 col0\" >CDT</td>\n",
       "      <td id=\"T_65e47_row0_col1\" class=\"data row0 col1\" >Castellon De La Plana Airport</td>\n",
       "      <td id=\"T_65e47_row0_col2\" class=\"data row0 col2\" >0.026111</td>\n",
       "      <td id=\"T_65e47_row0_col3\" class=\"data row0 col3\" >39.999199</td>\n",
       "    </tr>\n",
       "    <tr>\n",
       "      <th id=\"T_65e47_level0_row1\" class=\"row_heading level0 row1\" >1</th>\n",
       "      <td id=\"T_65e47_row1_col0\" class=\"data row1 col0\" >LCY</td>\n",
       "      <td id=\"T_65e47_row1_col1\" class=\"data row1 col1\" >London City Airport</td>\n",
       "      <td id=\"T_65e47_row1_col2\" class=\"data row1 col2\" >0.055278</td>\n",
       "      <td id=\"T_65e47_row1_col3\" class=\"data row1 col3\" >51.505278</td>\n",
       "    </tr>\n",
       "    <tr>\n",
       "      <th id=\"T_65e47_level0_row2\" class=\"row_heading level0 row2\" >2</th>\n",
       "      <td id=\"T_65e47_row2_col0\" class=\"data row2 col0\" >LDE</td>\n",
       "      <td id=\"T_65e47_row2_col1\" class=\"data row2 col1\" >Tarbes-Lourdes-Pyrénées Airport</td>\n",
       "      <td id=\"T_65e47_row2_col2\" class=\"data row2 col2\" >-0.006439</td>\n",
       "      <td id=\"T_65e47_row2_col3\" class=\"data row2 col3\" >43.178699</td>\n",
       "    </tr>\n",
       "    <tr>\n",
       "      <th id=\"T_65e47_level0_row3\" class=\"row_heading level0 row3\" >3</th>\n",
       "      <td id=\"T_65e47_row3_col0\" class=\"data row3 col0\" >LEH</td>\n",
       "      <td id=\"T_65e47_row3_col1\" class=\"data row3 col1\" >Le Havre Octeville Airport</td>\n",
       "      <td id=\"T_65e47_row3_col2\" class=\"data row3 col2\" >0.088056</td>\n",
       "      <td id=\"T_65e47_row3_col3\" class=\"data row3 col3\" >49.533901</td>\n",
       "    </tr>\n",
       "  </tbody>\n",
       "</table>\n"
      ],
      "text/plain": [
       "<pandas.io.formats.style.Styler at 0x2d6699b6450>"
      ]
     },
     "execution_count": 70,
     "metadata": {},
     "output_type": "execute_result"
    }
   ],
   "source": [
    "?[code, desc, lon, lat] := *airport{lon, lat, code, desc}, lon > -0.1, lon < 0.1"
   ]
  },
  {
   "attachments": {},
   "cell_type": "markdown",
   "id": "015a1743-edd4-490d-b02f-462fa2506bed",
   "metadata": {},
   "source": [
    "以伦敦希思罗机场为中心画一个方块，里面包含的机场有哪些？"
   ]
  },
  {
   "cell_type": "code",
   "execution_count": 71,
   "id": "9ced92e0-ced4-4e55-a547-c8b06fa50756",
   "metadata": {},
   "outputs": [
    {
     "data": {
      "text/html": [
       "<style type=\"text/css\">\n",
       "#T_85b76_row0_col0, #T_85b76_row0_col1, #T_85b76_row1_col0, #T_85b76_row1_col1, #T_85b76_row2_col0, #T_85b76_row2_col1, #T_85b76_row3_col0, #T_85b76_row3_col1, #T_85b76_row4_col0, #T_85b76_row4_col1, #T_85b76_row5_col0, #T_85b76_row5_col1 {\n",
       "  color: black;\n",
       "}\n",
       "</style>\n",
       "<table id=\"T_85b76\">\n",
       "  <thead>\n",
       "    <tr>\n",
       "      <th class=\"blank level0\" >&nbsp;</th>\n",
       "      <th id=\"T_85b76_level0_col0\" class=\"col_heading level0 col0\" >code</th>\n",
       "      <th id=\"T_85b76_level0_col1\" class=\"col_heading level0 col1\" >desc</th>\n",
       "    </tr>\n",
       "  </thead>\n",
       "  <tbody>\n",
       "    <tr>\n",
       "      <th id=\"T_85b76_level0_row0\" class=\"row_heading level0 row0\" >0</th>\n",
       "      <td id=\"T_85b76_row0_col0\" class=\"data row0 col0\" >LCY</td>\n",
       "      <td id=\"T_85b76_row0_col1\" class=\"data row0 col1\" >London City Airport</td>\n",
       "    </tr>\n",
       "    <tr>\n",
       "      <th id=\"T_85b76_level0_row1\" class=\"row_heading level0 row1\" >1</th>\n",
       "      <td id=\"T_85b76_row1_col0\" class=\"data row1 col0\" >LGW</td>\n",
       "      <td id=\"T_85b76_row1_col1\" class=\"data row1 col1\" >London Gatwick</td>\n",
       "    </tr>\n",
       "    <tr>\n",
       "      <th id=\"T_85b76_level0_row2\" class=\"row_heading level0 row2\" >2</th>\n",
       "      <td id=\"T_85b76_row2_col0\" class=\"data row2 col0\" >LHR</td>\n",
       "      <td id=\"T_85b76_row2_col1\" class=\"data row2 col1\" >London Heathrow</td>\n",
       "    </tr>\n",
       "    <tr>\n",
       "      <th id=\"T_85b76_level0_row3\" class=\"row_heading level0 row3\" >3</th>\n",
       "      <td id=\"T_85b76_row3_col0\" class=\"data row3 col0\" >LTN</td>\n",
       "      <td id=\"T_85b76_row3_col1\" class=\"data row3 col1\" >London Luton Airport</td>\n",
       "    </tr>\n",
       "    <tr>\n",
       "      <th id=\"T_85b76_level0_row4\" class=\"row_heading level0 row4\" >4</th>\n",
       "      <td id=\"T_85b76_row4_col0\" class=\"data row4 col0\" >SOU</td>\n",
       "      <td id=\"T_85b76_row4_col1\" class=\"data row4 col1\" >Southampton Airport</td>\n",
       "    </tr>\n",
       "    <tr>\n",
       "      <th id=\"T_85b76_level0_row5\" class=\"row_heading level0 row5\" >5</th>\n",
       "      <td id=\"T_85b76_row5_col0\" class=\"data row5 col0\" >STN</td>\n",
       "      <td id=\"T_85b76_row5_col1\" class=\"data row5 col1\" >London Stansted Airport</td>\n",
       "    </tr>\n",
       "  </tbody>\n",
       "</table>\n"
      ],
      "text/plain": [
       "<pandas.io.formats.style.Styler at 0x2d6695d2090>"
      ]
     },
     "execution_count": 71,
     "metadata": {},
     "output_type": "execute_result"
    }
   ],
   "source": [
    "h_box[lon, lat] := *airport{code: 'LHR', lon, lat}\n",
    "?[code, desc] := h_box[lhr_lon, lhr_lat], *airport{code, lon, lat, desc},\n",
    "                 abs(lhr_lon - lon) < 1, abs(lhr_lat - lat) < 1"
   ]
  },
  {
   "attachments": {},
   "cell_type": "markdown",
   "id": "20046b0e-cd8f-4de6-8f87-a49dcc8b8f7f",
   "metadata": {},
   "source": [
    "下面我们来做点球面几何：`SFO` 和 `NRT` 这两个机场，与地球中心所构成的角度是多少？"
   ]
  },
  {
   "cell_type": "code",
   "execution_count": 72,
   "id": "6d133cc5-23cb-47c6-9cc0-2c6bebf049eb",
   "metadata": {},
   "outputs": [
    {
     "data": {
      "text/html": [
       "<style type=\"text/css\">\n",
       "#T_6864f_row0_col0 {\n",
       "  color: #307fc1;\n",
       "}\n",
       "</style>\n",
       "<table id=\"T_6864f\">\n",
       "  <thead>\n",
       "    <tr>\n",
       "      <th class=\"blank level0\" >&nbsp;</th>\n",
       "      <th id=\"T_6864f_level0_col0\" class=\"col_heading level0 col0\" >deg_diff</th>\n",
       "    </tr>\n",
       "  </thead>\n",
       "  <tbody>\n",
       "    <tr>\n",
       "      <th id=\"T_6864f_level0_row0\" class=\"row_heading level0 row0\" >0</th>\n",
       "      <td id=\"T_6864f_row0_col0\" class=\"data row0 col0\" >73.992112</td>\n",
       "    </tr>\n",
       "  </tbody>\n",
       "</table>\n"
      ],
      "text/plain": [
       "<pandas.io.formats.style.Styler at 0x2d6695f7490>"
      ]
     },
     "execution_count": 72,
     "metadata": {},
     "output_type": "execute_result"
    }
   ],
   "source": [
    "?[deg_diff] := *airport{code: 'SFO', lat: a_lat, lon: a_lon},\n",
    "               *airport{code: 'NRT', lat: b_lat, lon: b_lon},\n",
    "               deg_diff = rad_to_deg(haversine_deg_input(a_lat, a_lon, b_lat, b_lon))"
   ]
  },
  {
   "attachments": {},
   "cell_type": "markdown",
   "id": "184bc863-b2a7-4dd3-9d27-648315098ec8",
   "metadata": {},
   "source": [
    "之前我们提到过，在 Cozo 中，聚合与递归的结合使其查询语句有了更加强大的表达力。下面这个例子就展示了这种表达力。\n",
    "\n",
    "我们需要找出两个机场之间的最短路线距离。最朴素的方法是列举这两个机场之间的所有路线，然后对结果应用最小聚合。然而两个机场之间一般来说有无穷多条路线，因为我们可以绕着圈儿飞，造成航线上的死循环。\n",
    "\n",
    "所以这种朴素的方法不可行。那我们试试递归式思考：如果我们已经知道了所有机场之间的所有最短路线，我们就可以推导出一个最短路线满足的方程：a 与 b 之间的最短路线，要么是一条直飞航线的距离，要么是从 a 到某个 c 之间的最短路线的距离与从 c 到 d 的直飞航线的距离之和。这样以来，我们需要考虑的 a 与 b 之间的情况数量就小得多，而且是有限的。我们对这些情况来做最小聚合。\n",
    "\n",
    "把上面这个思路直接写出来，就可以得到以下计算 `LHR` 机场与 `YPO` 机场之间最短路线的查询："
   ]
  },
  {
   "cell_type": "code",
   "execution_count": 73,
   "id": "207a6e99-1e4a-466d-9492-859a680d9207",
   "metadata": {},
   "outputs": [
    {
     "data": {
      "text/html": [
       "<style type=\"text/css\">\n",
       "#T_aee01_row0_col0 {\n",
       "  color: #307fc1;\n",
       "}\n",
       "</style>\n",
       "<table id=\"T_aee01\">\n",
       "  <thead>\n",
       "    <tr>\n",
       "      <th class=\"blank level0\" >&nbsp;</th>\n",
       "      <th id=\"T_aee01_level0_col0\" class=\"col_heading level0 col0\" >dist</th>\n",
       "    </tr>\n",
       "  </thead>\n",
       "  <tbody>\n",
       "    <tr>\n",
       "      <th id=\"T_aee01_level0_row0\" class=\"row_heading level0 row0\" >0</th>\n",
       "      <td id=\"T_aee01_row0_col0\" class=\"data row0 col0\" >4147.000000</td>\n",
       "    </tr>\n",
       "  </tbody>\n",
       "</table>\n"
      ],
      "text/plain": [
       "<pandas.io.formats.style.Styler at 0x2d669656090>"
      ]
     },
     "execution_count": 73,
     "metadata": {},
     "output_type": "execute_result"
    }
   ],
   "source": [
    "shortest[b, min(dist)] := *route{fr: 'LHR', to: b, dist} \n",
    "                          # 从 'LHR' 出发，列举直航航线到达的机场 b\n",
    "\n",
    "shortest[b, min(dist)] := shortest[c, d1], # 已知的到达 c 的最短路径\n",
    "                          *route{fr: c, to: b, dist: d2},  # 从 c 到 d 的直航航线\n",
    "                          dist = d1 + d2 # 新航线的距离\n",
    "\n",
    "?[dist] := shortest['YPO', dist] # 从所有答案中提取关于 YPO 的答案\n",
    "                                 # 为什么这个例子选 YPO？因为它是最难到达的机场之一"
   ]
  },
  {
   "attachments": {},
   "cell_type": "markdown",
   "id": "5cd04dfe-6487-4c55-8580-6a5bd7f605a2",
   "metadata": {},
   "source": [
    "这里有一点需要注意：如果用下面的方法来写这个查询（不要尝试运行）：\n",
    "\n",
    "```python\n",
    "shortest[a, b, min(dist)] := *route{fr: a, to: b, dist} \n",
    "shortest[a, b, min(dist)] := shortest[a, c, d1],\n",
    "                          *route{fr: c, to: b, dist: d2},\n",
    "                          dist = d1 + d2\n",
    "\n",
    "?[dist] := shortest['LHR', 'YPO', dist]\n",
    "```\n",
    "\n",
    "这个查询从语义上来说和之前的是等价的，但是跑起来就像进了死循环一样长时间不返回结果。为什么？\n",
    "\n",
    "在这个新的查询中，内联规则 `shortest` 包含了所有机场间的最短路线。如果这个规则不含聚合操作，则 Cozo 在编译查询语句时会发现其实不需要计算所有的中间结果就能得出答案，然后使用一种叫做“魔法集重写”的方法优化掉这些中间结果（详见 [此章](execution.rst)）。但是这个优化不能用于包含聚合操作的查询。因此，系统会尝试计算一千三百多万个机场组合之间的最短距离，显然无法很快返回结果。\n",
    "\n",
    "如果聚合加递归的查询迟迟不返回结果，我们可以粗略估算一下与聚合递归规则相关的中间结果大概有多大。如果像这个例子似的特别大，那我们就需要通过手动改写查询来避免它。"
   ]
  },
  {
   "attachments": {},
   "cell_type": "markdown",
   "id": "73d28120-ee91-4893-a796-6cddec3426ad",
   "metadata": {},
   "source": [
    "### 图算法巡礼\n",
    "\n",
    "现在我们用图算法来研究这个图。如前所述，浏览器中运行的 Cozo 并没有图算法模块，下面的例子，需要使用原生的 Cozo 实现（[例如 Python 的](https://github.com/cozodb/pycozo)）来运行。\n",
    "\n",
    "寻路是最常用的图算法，因此 Cozo 有几个寻路的固定规则："
   ]
  },
  {
   "cell_type": "code",
   "execution_count": 74,
   "id": "e1d8328f-87e5-4884-9f77-f6379c46465b",
   "metadata": {},
   "outputs": [
    {
     "data": {
      "text/html": [
       "<style type=\"text/css\">\n",
       "#T_779e7_row0_col0, #T_779e7_row0_col1 {\n",
       "  color: black;\n",
       "}\n",
       "#T_779e7_row0_col2 {\n",
       "  color: #307fc1;\n",
       "}\n",
       "#T_779e7_row0_col3 {\n",
       "  color: #bf5b3d;\n",
       "}\n",
       "</style>\n",
       "<table id=\"T_779e7\">\n",
       "  <thead>\n",
       "    <tr>\n",
       "      <th class=\"blank level0\" >&nbsp;</th>\n",
       "      <th id=\"T_779e7_level0_col0\" class=\"col_heading level0 col0\" >starting</th>\n",
       "      <th id=\"T_779e7_level0_col1\" class=\"col_heading level0 col1\" >goal</th>\n",
       "      <th id=\"T_779e7_level0_col2\" class=\"col_heading level0 col2\" >distance</th>\n",
       "      <th id=\"T_779e7_level0_col3\" class=\"col_heading level0 col3\" >path</th>\n",
       "    </tr>\n",
       "  </thead>\n",
       "  <tbody>\n",
       "    <tr>\n",
       "      <th id=\"T_779e7_level0_row0\" class=\"row_heading level0 row0\" >0</th>\n",
       "      <td id=\"T_779e7_row0_col0\" class=\"data row0 col0\" >LHR</td>\n",
       "      <td id=\"T_779e7_row0_col1\" class=\"data row0 col1\" >YPO</td>\n",
       "      <td id=\"T_779e7_row0_col2\" class=\"data row0 col2\" >4147.000000</td>\n",
       "      <td id=\"T_779e7_row0_col3\" class=\"data row0 col3\" >['LHR', 'YUL', 'YVO', 'YKQ', 'YMO', 'YFA', 'ZKE', 'YAT', 'YPO']</td>\n",
       "    </tr>\n",
       "  </tbody>\n",
       "</table>\n"
      ],
      "text/plain": [
       "<pandas.io.formats.style.Styler at 0x2d6696614d0>"
      ]
     },
     "execution_count": 74,
     "metadata": {},
     "output_type": "execute_result"
    }
   ],
   "source": [
    "starting[] <- [['LHR']]\n",
    "goal[] <- [['YPO']]\n",
    "?[starting, goal, distance, path] <~ ShortestPathDijkstra(*route[], starting[], goal[])"
   ]
  },
  {
   "attachments": {},
   "cell_type": "markdown",
   "id": "af89a4d7-2260-466c-a119-bb0ae0a84ebf",
   "metadata": {},
   "source": [
    "这比直接拿内联规则写不但更简单，效率也高不少，而且直接就给出了具体的最短路径。\n",
    "\n",
    "以下算法计算最短的 10 条路径："
   ]
  },
  {
   "cell_type": "code",
   "execution_count": 75,
   "id": "050a7fe1-9b6f-4cc8-96b7-9cebac55bdbb",
   "metadata": {},
   "outputs": [
    {
     "data": {
      "text/html": [
       "<style type=\"text/css\">\n",
       "#T_be36f_row0_col0, #T_be36f_row0_col1, #T_be36f_row1_col0, #T_be36f_row1_col1, #T_be36f_row2_col0, #T_be36f_row2_col1, #T_be36f_row3_col0, #T_be36f_row3_col1, #T_be36f_row4_col0, #T_be36f_row4_col1, #T_be36f_row5_col0, #T_be36f_row5_col1, #T_be36f_row6_col0, #T_be36f_row6_col1, #T_be36f_row7_col0, #T_be36f_row7_col1, #T_be36f_row8_col0, #T_be36f_row8_col1, #T_be36f_row9_col0, #T_be36f_row9_col1 {\n",
       "  color: black;\n",
       "}\n",
       "#T_be36f_row0_col2, #T_be36f_row1_col2, #T_be36f_row2_col2, #T_be36f_row3_col2, #T_be36f_row4_col2, #T_be36f_row5_col2, #T_be36f_row6_col2, #T_be36f_row7_col2, #T_be36f_row8_col2, #T_be36f_row9_col2 {\n",
       "  color: #307fc1;\n",
       "}\n",
       "#T_be36f_row0_col3, #T_be36f_row1_col3, #T_be36f_row2_col3, #T_be36f_row3_col3, #T_be36f_row4_col3, #T_be36f_row5_col3, #T_be36f_row6_col3, #T_be36f_row7_col3, #T_be36f_row8_col3, #T_be36f_row9_col3 {\n",
       "  color: #bf5b3d;\n",
       "}\n",
       "</style>\n",
       "<table id=\"T_be36f\">\n",
       "  <thead>\n",
       "    <tr>\n",
       "      <th class=\"blank level0\" >&nbsp;</th>\n",
       "      <th id=\"T_be36f_level0_col0\" class=\"col_heading level0 col0\" >starting</th>\n",
       "      <th id=\"T_be36f_level0_col1\" class=\"col_heading level0 col1\" >goal</th>\n",
       "      <th id=\"T_be36f_level0_col2\" class=\"col_heading level0 col2\" >distance</th>\n",
       "      <th id=\"T_be36f_level0_col3\" class=\"col_heading level0 col3\" >path</th>\n",
       "    </tr>\n",
       "  </thead>\n",
       "  <tbody>\n",
       "    <tr>\n",
       "      <th id=\"T_be36f_level0_row0\" class=\"row_heading level0 row0\" >0</th>\n",
       "      <td id=\"T_be36f_row0_col0\" class=\"data row0 col0\" >LHR</td>\n",
       "      <td id=\"T_be36f_row0_col1\" class=\"data row0 col1\" >YPO</td>\n",
       "      <td id=\"T_be36f_row0_col2\" class=\"data row0 col2\" >4147.000000</td>\n",
       "      <td id=\"T_be36f_row0_col3\" class=\"data row0 col3\" >['LHR', 'YUL', 'YVO', 'YKQ', 'YMO', 'YFA', 'ZKE', 'YAT', 'YPO']</td>\n",
       "    </tr>\n",
       "    <tr>\n",
       "      <th id=\"T_be36f_level0_row1\" class=\"row_heading level0 row1\" >1</th>\n",
       "      <td id=\"T_be36f_row1_col0\" class=\"data row1 col0\" >LHR</td>\n",
       "      <td id=\"T_be36f_row1_col1\" class=\"data row1 col1\" >YPO</td>\n",
       "      <td id=\"T_be36f_row1_col2\" class=\"data row1 col2\" >4150.000000</td>\n",
       "      <td id=\"T_be36f_row1_col3\" class=\"data row1 col3\" >['LHR', 'DUB', 'YUL', 'YVO', 'YKQ', 'YMO', 'YFA', 'ZKE', 'YAT', 'YPO']</td>\n",
       "    </tr>\n",
       "    <tr>\n",
       "      <th id=\"T_be36f_level0_row2\" class=\"row_heading level0 row2\" >2</th>\n",
       "      <td id=\"T_be36f_row2_col0\" class=\"data row2 col0\" >LHR</td>\n",
       "      <td id=\"T_be36f_row2_col1\" class=\"data row2 col1\" >YPO</td>\n",
       "      <td id=\"T_be36f_row2_col2\" class=\"data row2 col2\" >4164.000000</td>\n",
       "      <td id=\"T_be36f_row2_col3\" class=\"data row2 col3\" >['LHR', 'YUL', 'YMT', 'YKQ', 'YMO', 'YFA', 'ZKE', 'YAT', 'YPO']</td>\n",
       "    </tr>\n",
       "    <tr>\n",
       "      <th id=\"T_be36f_level0_row3\" class=\"row_heading level0 row3\" >3</th>\n",
       "      <td id=\"T_be36f_row3_col0\" class=\"data row3 col0\" >LHR</td>\n",
       "      <td id=\"T_be36f_row3_col1\" class=\"data row3 col1\" >YPO</td>\n",
       "      <td id=\"T_be36f_row3_col2\" class=\"data row3 col2\" >4167.000000</td>\n",
       "      <td id=\"T_be36f_row3_col3\" class=\"data row3 col3\" >['LHR', 'DUB', 'YUL', 'YMT', 'YKQ', 'YMO', 'YFA', 'ZKE', 'YAT', 'YPO']</td>\n",
       "    </tr>\n",
       "    <tr>\n",
       "      <th id=\"T_be36f_level0_row4\" class=\"row_heading level0 row4\" >4</th>\n",
       "      <td id=\"T_be36f_row4_col0\" class=\"data row4 col0\" >LHR</td>\n",
       "      <td id=\"T_be36f_row4_col1\" class=\"data row4 col1\" >YPO</td>\n",
       "      <td id=\"T_be36f_row4_col2\" class=\"data row4 col2\" >4187.000000</td>\n",
       "      <td id=\"T_be36f_row4_col3\" class=\"data row4 col3\" >['LHR', 'MAN', 'DUB', 'YUL', 'YVO', 'YKQ', 'YMO', 'YFA', 'ZKE', 'YAT', 'YPO']</td>\n",
       "    </tr>\n",
       "    <tr>\n",
       "      <th id=\"T_be36f_level0_row5\" class=\"row_heading level0 row5\" >5</th>\n",
       "      <td id=\"T_be36f_row5_col0\" class=\"data row5 col0\" >LHR</td>\n",
       "      <td id=\"T_be36f_row5_col1\" class=\"data row5 col1\" >YPO</td>\n",
       "      <td id=\"T_be36f_row5_col2\" class=\"data row5 col2\" >4202.000000</td>\n",
       "      <td id=\"T_be36f_row5_col3\" class=\"data row5 col3\" >['LHR', 'IOM', 'DUB', 'YUL', 'YVO', 'YKQ', 'YMO', 'YFA', 'ZKE', 'YAT', 'YPO']</td>\n",
       "    </tr>\n",
       "    <tr>\n",
       "      <th id=\"T_be36f_level0_row6\" class=\"row_heading level0 row6\" >6</th>\n",
       "      <td id=\"T_be36f_row6_col0\" class=\"data row6 col0\" >LHR</td>\n",
       "      <td id=\"T_be36f_row6_col1\" class=\"data row6 col1\" >YPO</td>\n",
       "      <td id=\"T_be36f_row6_col2\" class=\"data row6 col2\" >4204.000000</td>\n",
       "      <td id=\"T_be36f_row6_col3\" class=\"data row6 col3\" >['LHR', 'MAN', 'DUB', 'YUL', 'YMT', 'YKQ', 'YMO', 'YFA', 'ZKE', 'YAT', 'YPO']</td>\n",
       "    </tr>\n",
       "    <tr>\n",
       "      <th id=\"T_be36f_level0_row7\" class=\"row_heading level0 row7\" >7</th>\n",
       "      <td id=\"T_be36f_row7_col0\" class=\"data row7 col0\" >LHR</td>\n",
       "      <td id=\"T_be36f_row7_col1\" class=\"data row7 col1\" >YPO</td>\n",
       "      <td id=\"T_be36f_row7_col2\" class=\"data row7 col2\" >4209.000000</td>\n",
       "      <td id=\"T_be36f_row7_col3\" class=\"data row7 col3\" >['LHR', 'YUL', 'YMT', 'YNS', 'YKQ', 'YMO', 'YFA', 'ZKE', 'YAT', 'YPO']</td>\n",
       "    </tr>\n",
       "    <tr>\n",
       "      <th id=\"T_be36f_level0_row8\" class=\"row_heading level0 row8\" >8</th>\n",
       "      <td id=\"T_be36f_row8_col0\" class=\"data row8 col0\" >LHR</td>\n",
       "      <td id=\"T_be36f_row8_col1\" class=\"data row8 col1\" >YPO</td>\n",
       "      <td id=\"T_be36f_row8_col2\" class=\"data row8 col2\" >4211.000000</td>\n",
       "      <td id=\"T_be36f_row8_col3\" class=\"data row8 col3\" >['LHR', 'MAN', 'IOM', 'DUB', 'YUL', 'YVO', 'YKQ', 'YMO', 'YFA', 'ZKE', 'YAT', 'YPO']</td>\n",
       "    </tr>\n",
       "    <tr>\n",
       "      <th id=\"T_be36f_level0_row9\" class=\"row_heading level0 row9\" >9</th>\n",
       "      <td id=\"T_be36f_row9_col0\" class=\"data row9 col0\" >LHR</td>\n",
       "      <td id=\"T_be36f_row9_col1\" class=\"data row9 col1\" >YPO</td>\n",
       "      <td id=\"T_be36f_row9_col2\" class=\"data row9 col2\" >4212.000000</td>\n",
       "      <td id=\"T_be36f_row9_col3\" class=\"data row9 col3\" >['LHR', 'DUB', 'YUL', 'YMT', 'YNS', 'YKQ', 'YMO', 'YFA', 'ZKE', 'YAT', 'YPO']</td>\n",
       "    </tr>\n",
       "  </tbody>\n",
       "</table>\n"
      ],
      "text/plain": [
       "<pandas.io.formats.style.Styler at 0x2d6695691d0>"
      ]
     },
     "execution_count": 75,
     "metadata": {},
     "output_type": "execute_result"
    }
   ],
   "source": [
    "starting[] <- [['LHR']]\n",
    "goal[] <- [['YPO']]\n",
    "?[starting, goal, distance, path] <~ KShortestPathYen(*route[], starting[], goal[], k: 10)"
   ]
  },
  {
   "attachments": {},
   "cell_type": "markdown",
   "id": "5b3a398d-95ee-4e4f-91a7-5c95f82c8bd3",
   "metadata": {},
   "source": [
    "上面这些算法都要求先把整个图编译成内存中的数据结构再进行运算。如果你的图很大，顶点很多，你也能给出一个相对靠谱的距离下限，下面这个 A* 算法可能会更快："
   ]
  },
  {
   "cell_type": "code",
   "execution_count": 76,
   "id": "311a46cf-ba33-483a-ae60-c9a4ff2a071b",
   "metadata": {},
   "outputs": [
    {
     "data": {
      "text/html": [
       "<style type=\"text/css\">\n",
       "#T_2ce84_row0_col0, #T_2ce84_row0_col1 {\n",
       "  color: black;\n",
       "}\n",
       "#T_2ce84_row0_col2 {\n",
       "  color: #307fc1;\n",
       "}\n",
       "#T_2ce84_row0_col3 {\n",
       "  color: #bf5b3d;\n",
       "}\n",
       "</style>\n",
       "<table id=\"T_2ce84\">\n",
       "  <thead>\n",
       "    <tr>\n",
       "      <th class=\"blank level0\" >&nbsp;</th>\n",
       "      <th id=\"T_2ce84_level0_col0\" class=\"col_heading level0 col0\" >_0</th>\n",
       "      <th id=\"T_2ce84_level0_col1\" class=\"col_heading level0 col1\" >_1</th>\n",
       "      <th id=\"T_2ce84_level0_col2\" class=\"col_heading level0 col2\" >_2</th>\n",
       "      <th id=\"T_2ce84_level0_col3\" class=\"col_heading level0 col3\" >_3</th>\n",
       "    </tr>\n",
       "  </thead>\n",
       "  <tbody>\n",
       "    <tr>\n",
       "      <th id=\"T_2ce84_level0_row0\" class=\"row_heading level0 row0\" >0</th>\n",
       "      <td id=\"T_2ce84_row0_col0\" class=\"data row0 col0\" >LHR</td>\n",
       "      <td id=\"T_2ce84_row0_col1\" class=\"data row0 col1\" >YPO</td>\n",
       "      <td id=\"T_2ce84_row0_col2\" class=\"data row0 col2\" >4147.000000</td>\n",
       "      <td id=\"T_2ce84_row0_col3\" class=\"data row0 col3\" >['LHR', 'YUL', 'YVO', 'YKQ', 'YMO', 'YFA', 'ZKE', 'YAT', 'YPO']</td>\n",
       "    </tr>\n",
       "  </tbody>\n",
       "</table>\n"
      ],
      "text/plain": [
       "<pandas.io.formats.style.Styler at 0x2d6699b7650>"
      ]
     },
     "execution_count": 76,
     "metadata": {},
     "output_type": "execute_result"
    }
   ],
   "source": [
    "code_lat_lon[code, lat, lon] := *airport{code, lat, lon}\n",
    "starting[code, lat, lon] := code = 'LHR', *airport{code, lat, lon};\n",
    "goal[code, lat, lon] := code = 'YPO', *airport{code, lat, lon};\n",
    "?[] <~ ShortestPathAStar(*route[], \n",
    "                         code_lat_lon[node, lat1, lon1], \n",
    "                         starting[], \n",
    "                         goal[goal, lat2, lon2], \n",
    "                         heuristic: haversine_deg_input(lat1, lon1, lat2, lon2) * 3963);"
   ]
  },
  {
   "attachments": {},
   "cell_type": "markdown",
   "id": "18a35f6d-7d31-412d-9ab0-abb79655b0d9",
   "metadata": {},
   "source": [
    "使用 A* 算法需要更多的设置：我们得提取机场的经纬度，并用两个机场的经纬度算出这两个机场之间的球面距离作为飞行距离的下限。上面的数字 3963（英里）是地球的半径。\n",
    "\n",
    "下面我们用 PageRank 来找出最重要的机场："
   ]
  },
  {
   "cell_type": "code",
   "execution_count": 77,
   "id": "a42d018b-ba09-4e27-9b1a-e780ca0bcc1e",
   "metadata": {},
   "outputs": [
    {
     "data": {
      "text/html": [
       "<style type=\"text/css\">\n",
       "#T_cbd22_row0_col0, #T_cbd22_row0_col1, #T_cbd22_row1_col0, #T_cbd22_row1_col1, #T_cbd22_row2_col0, #T_cbd22_row2_col1, #T_cbd22_row3_col0, #T_cbd22_row3_col1, #T_cbd22_row4_col0, #T_cbd22_row4_col1, #T_cbd22_row5_col0, #T_cbd22_row5_col1, #T_cbd22_row6_col0, #T_cbd22_row6_col1, #T_cbd22_row7_col0, #T_cbd22_row7_col1, #T_cbd22_row8_col0, #T_cbd22_row8_col1, #T_cbd22_row9_col0, #T_cbd22_row9_col1 {\n",
       "  color: black;\n",
       "}\n",
       "#T_cbd22_row0_col2, #T_cbd22_row1_col2, #T_cbd22_row2_col2, #T_cbd22_row3_col2, #T_cbd22_row4_col2, #T_cbd22_row5_col2, #T_cbd22_row6_col2, #T_cbd22_row7_col2, #T_cbd22_row8_col2, #T_cbd22_row9_col2 {\n",
       "  color: #307fc1;\n",
       "}\n",
       "</style>\n",
       "<table id=\"T_cbd22\">\n",
       "  <thead>\n",
       "    <tr>\n",
       "      <th class=\"blank level0\" >&nbsp;</th>\n",
       "      <th id=\"T_cbd22_level0_col0\" class=\"col_heading level0 col0\" >code</th>\n",
       "      <th id=\"T_cbd22_level0_col1\" class=\"col_heading level0 col1\" >desc</th>\n",
       "      <th id=\"T_cbd22_level0_col2\" class=\"col_heading level0 col2\" >score</th>\n",
       "    </tr>\n",
       "  </thead>\n",
       "  <tbody>\n",
       "    <tr>\n",
       "      <th id=\"T_cbd22_level0_row0\" class=\"row_heading level0 row0\" >0</th>\n",
       "      <td id=\"T_cbd22_row0_col0\" class=\"data row0 col0\" >IST</td>\n",
       "      <td id=\"T_cbd22_row0_col1\" class=\"data row0 col1\" >Istanbul International Airport</td>\n",
       "      <td id=\"T_cbd22_row0_col2\" class=\"data row0 col2\" >0.004889</td>\n",
       "    </tr>\n",
       "    <tr>\n",
       "      <th id=\"T_cbd22_level0_row1\" class=\"row_heading level0 row1\" >1</th>\n",
       "      <td id=\"T_cbd22_row1_col0\" class=\"data row1 col0\" >DFW</td>\n",
       "      <td id=\"T_cbd22_row1_col1\" class=\"data row1 col1\" >Dallas/Fort Worth International Airport</td>\n",
       "      <td id=\"T_cbd22_row1_col2\" class=\"data row1 col2\" >0.004696</td>\n",
       "    </tr>\n",
       "    <tr>\n",
       "      <th id=\"T_cbd22_level0_row2\" class=\"row_heading level0 row2\" >2</th>\n",
       "      <td id=\"T_cbd22_row2_col0\" class=\"data row2 col0\" >ORD</td>\n",
       "      <td id=\"T_cbd22_row2_col1\" class=\"data row2 col1\" >Chicago O'Hare International Airport</td>\n",
       "      <td id=\"T_cbd22_row2_col2\" class=\"data row2 col2\" >0.004452</td>\n",
       "    </tr>\n",
       "    <tr>\n",
       "      <th id=\"T_cbd22_level0_row3\" class=\"row_heading level0 row3\" >3</th>\n",
       "      <td id=\"T_cbd22_row3_col0\" class=\"data row3 col0\" >DEN</td>\n",
       "      <td id=\"T_cbd22_row3_col1\" class=\"data row3 col1\" >Denver International Airport</td>\n",
       "      <td id=\"T_cbd22_row3_col2\" class=\"data row3 col2\" >0.004252</td>\n",
       "    </tr>\n",
       "    <tr>\n",
       "      <th id=\"T_cbd22_level0_row4\" class=\"row_heading level0 row4\" >4</th>\n",
       "      <td id=\"T_cbd22_row4_col0\" class=\"data row4 col0\" >PEK</td>\n",
       "      <td id=\"T_cbd22_row4_col1\" class=\"data row4 col1\" >Beijing Capital International Airport</td>\n",
       "      <td id=\"T_cbd22_row4_col2\" class=\"data row4 col2\" >0.004044</td>\n",
       "    </tr>\n",
       "    <tr>\n",
       "      <th id=\"T_cbd22_level0_row5\" class=\"row_heading level0 row5\" >5</th>\n",
       "      <td id=\"T_cbd22_row5_col0\" class=\"data row5 col0\" >FRA</td>\n",
       "      <td id=\"T_cbd22_row5_col1\" class=\"data row5 col1\" >Frankfurt am Main</td>\n",
       "      <td id=\"T_cbd22_row5_col2\" class=\"data row5 col2\" >0.004027</td>\n",
       "    </tr>\n",
       "    <tr>\n",
       "      <th id=\"T_cbd22_level0_row6\" class=\"row_heading level0 row6\" >6</th>\n",
       "      <td id=\"T_cbd22_row6_col0\" class=\"data row6 col0\" >ATL</td>\n",
       "      <td id=\"T_cbd22_row6_col1\" class=\"data row6 col1\" >Hartsfield - Jackson Atlanta International Airport</td>\n",
       "      <td id=\"T_cbd22_row6_col2\" class=\"data row6 col2\" >0.004022</td>\n",
       "    </tr>\n",
       "    <tr>\n",
       "      <th id=\"T_cbd22_level0_row7\" class=\"row_heading level0 row7\" >7</th>\n",
       "      <td id=\"T_cbd22_row7_col0\" class=\"data row7 col0\" >DXB</td>\n",
       "      <td id=\"T_cbd22_row7_col1\" class=\"data row7 col1\" >Dubai International Airport</td>\n",
       "      <td id=\"T_cbd22_row7_col2\" class=\"data row7 col2\" >0.004002</td>\n",
       "    </tr>\n",
       "    <tr>\n",
       "      <th id=\"T_cbd22_level0_row8\" class=\"row_heading level0 row8\" >8</th>\n",
       "      <td id=\"T_cbd22_row8_col0\" class=\"data row8 col0\" >CDG</td>\n",
       "      <td id=\"T_cbd22_row8_col1\" class=\"data row8 col1\" >Paris Charles de Gaulle</td>\n",
       "      <td id=\"T_cbd22_row8_col2\" class=\"data row8 col2\" >0.003998</td>\n",
       "    </tr>\n",
       "    <tr>\n",
       "      <th id=\"T_cbd22_level0_row9\" class=\"row_heading level0 row9\" >9</th>\n",
       "      <td id=\"T_cbd22_row9_col0\" class=\"data row9 col0\" >DME</td>\n",
       "      <td id=\"T_cbd22_row9_col1\" class=\"data row9 col1\" >Moscow, Domodedovo International Airport</td>\n",
       "      <td id=\"T_cbd22_row9_col2\" class=\"data row9 col2\" >0.003817</td>\n",
       "    </tr>\n",
       "  </tbody>\n",
       "</table>\n"
      ],
      "text/plain": [
       "<pandas.io.formats.style.Styler at 0x2d6696224d0>"
      ]
     },
     "execution_count": 77,
     "metadata": {},
     "output_type": "execute_result"
    }
   ],
   "source": [
    "rank[code, score] <~ PageRank(*route[a, b])\n",
    "?[code, desc, score] := rank[code, score], *airport{code, desc}\n",
    "\n",
    ":limit 10;\n",
    ":order -score"
   ]
  },
  {
   "attachments": {},
   "cell_type": "markdown",
   "id": "c2be4f97-5173-456e-a0d9-b7cf99bf9786",
   "metadata": {},
   "source": [
    "下面的查询计算的是中心度。中心度的算法复杂度高，计算需要一些时间："
   ]
  },
  {
   "cell_type": "code",
   "execution_count": 78,
   "id": "aaad3658-f2c2-4dde-bfe4-9b52e2b3f589",
   "metadata": {},
   "outputs": [
    {
     "data": {
      "text/html": [
       "<style type=\"text/css\">\n",
       "#T_95e97_row0_col0, #T_95e97_row0_col1, #T_95e97_row1_col0, #T_95e97_row1_col1, #T_95e97_row2_col0, #T_95e97_row2_col1, #T_95e97_row3_col0, #T_95e97_row3_col1, #T_95e97_row4_col0, #T_95e97_row4_col1, #T_95e97_row5_col0, #T_95e97_row5_col1, #T_95e97_row6_col0, #T_95e97_row6_col1, #T_95e97_row7_col0, #T_95e97_row7_col1, #T_95e97_row8_col0, #T_95e97_row8_col1, #T_95e97_row9_col0, #T_95e97_row9_col1 {\n",
       "  color: black;\n",
       "}\n",
       "#T_95e97_row0_col2, #T_95e97_row1_col2, #T_95e97_row2_col2, #T_95e97_row3_col2, #T_95e97_row4_col2, #T_95e97_row5_col2, #T_95e97_row6_col2, #T_95e97_row7_col2, #T_95e97_row8_col2, #T_95e97_row9_col2 {\n",
       "  color: #307fc1;\n",
       "}\n",
       "</style>\n",
       "<table id=\"T_95e97\">\n",
       "  <thead>\n",
       "    <tr>\n",
       "      <th class=\"blank level0\" >&nbsp;</th>\n",
       "      <th id=\"T_95e97_level0_col0\" class=\"col_heading level0 col0\" >code</th>\n",
       "      <th id=\"T_95e97_level0_col1\" class=\"col_heading level0 col1\" >desc</th>\n",
       "      <th id=\"T_95e97_level0_col2\" class=\"col_heading level0 col2\" >score</th>\n",
       "    </tr>\n",
       "  </thead>\n",
       "  <tbody>\n",
       "    <tr>\n",
       "      <th id=\"T_95e97_level0_row0\" class=\"row_heading level0 row0\" >0</th>\n",
       "      <td id=\"T_95e97_row0_col0\" class=\"data row0 col0\" >ANC</td>\n",
       "      <td id=\"T_95e97_row0_col1\" class=\"data row0 col1\" >Anchorage Ted Stevens</td>\n",
       "      <td id=\"T_95e97_row0_col2\" class=\"data row0 col2\" >1074868.250000</td>\n",
       "    </tr>\n",
       "    <tr>\n",
       "      <th id=\"T_95e97_level0_row1\" class=\"row_heading level0 row1\" >1</th>\n",
       "      <td id=\"T_95e97_row1_col0\" class=\"data row1 col0\" >KEF</td>\n",
       "      <td id=\"T_95e97_row1_col1\" class=\"data row1 col1\" >Reykjavik, Keflavik International Airport</td>\n",
       "      <td id=\"T_95e97_row1_col2\" class=\"data row1 col2\" >928450.437500</td>\n",
       "    </tr>\n",
       "    <tr>\n",
       "      <th id=\"T_95e97_level0_row2\" class=\"row_heading level0 row2\" >2</th>\n",
       "      <td id=\"T_95e97_row2_col0\" class=\"data row2 col0\" >HEL</td>\n",
       "      <td id=\"T_95e97_row2_col1\" class=\"data row2 col1\" >Helsinki Ventaa</td>\n",
       "      <td id=\"T_95e97_row2_col2\" class=\"data row2 col2\" >581588.500000</td>\n",
       "    </tr>\n",
       "    <tr>\n",
       "      <th id=\"T_95e97_level0_row3\" class=\"row_heading level0 row3\" >3</th>\n",
       "      <td id=\"T_95e97_row3_col0\" class=\"data row3 col0\" >PEK</td>\n",
       "      <td id=\"T_95e97_row3_col1\" class=\"data row3 col1\" >Beijing Capital International Airport</td>\n",
       "      <td id=\"T_95e97_row3_col2\" class=\"data row3 col2\" >532021.062500</td>\n",
       "    </tr>\n",
       "    <tr>\n",
       "      <th id=\"T_95e97_level0_row4\" class=\"row_heading level0 row4\" >4</th>\n",
       "      <td id=\"T_95e97_row4_col0\" class=\"data row4 col0\" >DEL</td>\n",
       "      <td id=\"T_95e97_row4_col1\" class=\"data row4 col1\" >Indira Gandhi International Airport</td>\n",
       "      <td id=\"T_95e97_row4_col2\" class=\"data row4 col2\" >472979.968750</td>\n",
       "    </tr>\n",
       "    <tr>\n",
       "      <th id=\"T_95e97_level0_row5\" class=\"row_heading level0 row5\" >5</th>\n",
       "      <td id=\"T_95e97_row5_col0\" class=\"data row5 col0\" >IST</td>\n",
       "      <td id=\"T_95e97_row5_col1\" class=\"data row5 col1\" >Istanbul International Airport</td>\n",
       "      <td id=\"T_95e97_row5_col2\" class=\"data row5 col2\" >457882.156250</td>\n",
       "    </tr>\n",
       "    <tr>\n",
       "      <th id=\"T_95e97_level0_row6\" class=\"row_heading level0 row6\" >6</th>\n",
       "      <td id=\"T_95e97_row6_col0\" class=\"data row6 col0\" >PKC</td>\n",
       "      <td id=\"T_95e97_row6_col1\" class=\"data row6 col1\" >Yelizovo Airport</td>\n",
       "      <td id=\"T_95e97_row6_col2\" class=\"data row6 col2\" >408571.000000</td>\n",
       "    </tr>\n",
       "    <tr>\n",
       "      <th id=\"T_95e97_level0_row7\" class=\"row_heading level0 row7\" >7</th>\n",
       "      <td id=\"T_95e97_row7_col0\" class=\"data row7 col0\" >MSP</td>\n",
       "      <td id=\"T_95e97_row7_col1\" class=\"data row7 col1\" >Minneapolis-St.Paul International Airport</td>\n",
       "      <td id=\"T_95e97_row7_col2\" class=\"data row7 col2\" >396433.250000</td>\n",
       "    </tr>\n",
       "    <tr>\n",
       "      <th id=\"T_95e97_level0_row8\" class=\"row_heading level0 row8\" >8</th>\n",
       "      <td id=\"T_95e97_row8_col0\" class=\"data row8 col0\" >LAX</td>\n",
       "      <td id=\"T_95e97_row8_col1\" class=\"data row8 col1\" >Los Angeles International Airport</td>\n",
       "      <td id=\"T_95e97_row8_col2\" class=\"data row8 col2\" >393309.968750</td>\n",
       "    </tr>\n",
       "    <tr>\n",
       "      <th id=\"T_95e97_level0_row9\" class=\"row_heading level0 row9\" >9</th>\n",
       "      <td id=\"T_95e97_row9_col0\" class=\"data row9 col0\" >DEN</td>\n",
       "      <td id=\"T_95e97_row9_col1\" class=\"data row9 col1\" >Denver International Airport</td>\n",
       "      <td id=\"T_95e97_row9_col2\" class=\"data row9 col2\" >374339.531250</td>\n",
       "    </tr>\n",
       "  </tbody>\n",
       "</table>\n"
      ],
      "text/plain": [
       "<pandas.io.formats.style.Styler at 0x2d6695f6110>"
      ]
     },
     "execution_count": 78,
     "metadata": {},
     "output_type": "execute_result"
    }
   ],
   "source": [
    "centrality[code, score] <~ BetweennessCentrality(*route[a, b])\n",
    "?[code, desc, score] := centrality[code, score], *airport{code, desc}\n",
    "\n",
    ":limit 10;\n",
    ":order -score"
   ]
  },
  {
   "attachments": {},
   "cell_type": "markdown",
   "id": "02ef7f3e-50c5-41bd-8879-17127a0369cc",
   "metadata": {},
   "source": [
    "中心度高的机场，如果停止运营，将会对整个航线网络造成最大的影响。这个指标很重要，然而我们也可以看到，对于稍微大一点的数据集，计算这个指标就比较慢了。\n",
    "\n",
    "使用社区检测，我们可以将原始的图折叠成一个 **超级图** 并将其存为存储表："
   ]
  },
  {
   "cell_type": "code",
   "execution_count": 79,
   "id": "4968276a-e871-409e-9470-987b10a73f9a",
   "metadata": {},
   "outputs": [
    {
     "data": {
      "text/html": [
       "<style type=\"text/css\">\n",
       "#T_75eec_row0_col0 {\n",
       "  color: black;\n",
       "}\n",
       "</style>\n",
       "<table id=\"T_75eec\">\n",
       "  <thead>\n",
       "    <tr>\n",
       "      <th class=\"blank level0\" >&nbsp;</th>\n",
       "      <th id=\"T_75eec_level0_col0\" class=\"col_heading level0 col0\" >status</th>\n",
       "    </tr>\n",
       "  </thead>\n",
       "  <tbody>\n",
       "    <tr>\n",
       "      <th id=\"T_75eec_level0_row0\" class=\"row_heading level0 row0\" >0</th>\n",
       "      <td id=\"T_75eec_row0_col0\" class=\"data row0 col0\" >OK</td>\n",
       "    </tr>\n",
       "  </tbody>\n",
       "</table>\n"
      ],
      "text/plain": [
       "<pandas.io.formats.style.Styler at 0x2d66ba1f650>"
      ]
     },
     "execution_count": 79,
     "metadata": {},
     "output_type": "execute_result"
    }
   ],
   "source": [
    "community[detailed_cluster, code] <~ CommunityDetectionLouvain(*route[a, b])\n",
    "?[code, cluster, detailed_cluster] := community[detailed_cluster, code], cluster = first(detailed_cluster)\n",
    "\n",
    ":replace community {code => cluster, detailed_cluster}"
   ]
  },
  {
   "attachments": {},
   "cell_type": "markdown",
   "id": "a315fd3f-326d-4376-907b-c5cf96191d5c",
   "metadata": {},
   "source": [
    "我们可以查询某个具体的机场包含在哪个超级节点中。以下例子表明，和预想的一样，伦敦盖特威克机场的超级节点主要由英国和其他欧洲城市的机场组成："
   ]
  },
  {
   "cell_type": "code",
   "execution_count": 80,
   "id": "b41de092-a40d-463d-89f2-db3e62cbf93f",
   "metadata": {},
   "outputs": [
    {
     "data": {
      "text/html": [
       "<style type=\"text/css\">\n",
       "#T_a47b3_row0_col0, #T_a47b3_row1_col0, #T_a47b3_row2_col0, #T_a47b3_row3_col0, #T_a47b3_row4_col0 {\n",
       "  color: black;\n",
       "}\n",
       "#T_a47b3_row0_col1, #T_a47b3_row1_col1, #T_a47b3_row2_col1, #T_a47b3_row3_col1, #T_a47b3_row4_col1 {\n",
       "  color: #307fc1;\n",
       "}\n",
       "</style>\n",
       "<table id=\"T_a47b3\">\n",
       "  <thead>\n",
       "    <tr>\n",
       "      <th class=\"blank level0\" >&nbsp;</th>\n",
       "      <th id=\"T_a47b3_level0_col0\" class=\"col_heading level0 col0\" >country</th>\n",
       "      <th id=\"T_a47b3_level0_col1\" class=\"col_heading level0 col1\" >count(code)</th>\n",
       "    </tr>\n",
       "  </thead>\n",
       "  <tbody>\n",
       "    <tr>\n",
       "      <th id=\"T_a47b3_level0_row0\" class=\"row_heading level0 row0\" >0</th>\n",
       "      <td id=\"T_a47b3_row0_col0\" class=\"data row0 col0\" >United Kingdom</td>\n",
       "      <td id=\"T_a47b3_row0_col1\" class=\"data row0 col1\" >54</td>\n",
       "    </tr>\n",
       "    <tr>\n",
       "      <th id=\"T_a47b3_level0_row1\" class=\"row_heading level0 row1\" >1</th>\n",
       "      <td id=\"T_a47b3_row1_col0\" class=\"data row1 col0\" >France</td>\n",
       "      <td id=\"T_a47b3_row1_col1\" class=\"data row1 col1\" >50</td>\n",
       "    </tr>\n",
       "    <tr>\n",
       "      <th id=\"T_a47b3_level0_row2\" class=\"row_heading level0 row2\" >2</th>\n",
       "      <td id=\"T_a47b3_row2_col0\" class=\"data row2 col0\" >Norway</td>\n",
       "      <td id=\"T_a47b3_row2_col1\" class=\"data row2 col1\" >49</td>\n",
       "    </tr>\n",
       "    <tr>\n",
       "      <th id=\"T_a47b3_level0_row3\" class=\"row_heading level0 row3\" >3</th>\n",
       "      <td id=\"T_a47b3_row3_col0\" class=\"data row3 col0\" >Spain</td>\n",
       "      <td id=\"T_a47b3_row3_col1\" class=\"data row3 col1\" >40</td>\n",
       "    </tr>\n",
       "    <tr>\n",
       "      <th id=\"T_a47b3_level0_row4\" class=\"row_heading level0 row4\" >4</th>\n",
       "      <td id=\"T_a47b3_row4_col0\" class=\"data row4 col0\" >Greece</td>\n",
       "      <td id=\"T_a47b3_row4_col1\" class=\"data row4 col1\" >38</td>\n",
       "    </tr>\n",
       "  </tbody>\n",
       "</table>\n"
      ],
      "text/plain": [
       "<pandas.io.formats.style.Styler at 0x2d66ba1e110>"
      ]
     },
     "execution_count": 80,
     "metadata": {},
     "output_type": "execute_result"
    }
   ],
   "source": [
    "community[code] := *community{code: 'LGW', cluster}, *community{code, cluster}\n",
    "?[country, count(code)] := \n",
    "    community[code], \n",
    "    *airport{code, desc, country: country_code}, \n",
    "    *country{code: country_code, desc: country},\n",
    "\n",
    ":order -count(code)\n",
    ":limit 5"
   ]
  },
  {
   "attachments": {},
   "cell_type": "markdown",
   "id": "2e3f13b7-0fc9-4585-ac68-9354c2fc1f5c",
   "metadata": {},
   "source": [
    "肯尼迪机场的超级节点则主要包括美国的机场："
   ]
  },
  {
   "cell_type": "code",
   "execution_count": 81,
   "id": "65ed109d-146d-4d3d-8ea5-9cd5de2c6400",
   "metadata": {},
   "outputs": [
    {
     "data": {
      "text/html": [
       "<style type=\"text/css\">\n",
       "#T_6f72b_row0_col0, #T_6f72b_row1_col0, #T_6f72b_row2_col0, #T_6f72b_row3_col0, #T_6f72b_row4_col0 {\n",
       "  color: black;\n",
       "}\n",
       "#T_6f72b_row0_col1, #T_6f72b_row1_col1, #T_6f72b_row2_col1, #T_6f72b_row3_col1, #T_6f72b_row4_col1 {\n",
       "  color: #307fc1;\n",
       "}\n",
       "</style>\n",
       "<table id=\"T_6f72b\">\n",
       "  <thead>\n",
       "    <tr>\n",
       "      <th class=\"blank level0\" >&nbsp;</th>\n",
       "      <th id=\"T_6f72b_level0_col0\" class=\"col_heading level0 col0\" >country</th>\n",
       "      <th id=\"T_6f72b_level0_col1\" class=\"col_heading level0 col1\" >count(code)</th>\n",
       "    </tr>\n",
       "  </thead>\n",
       "  <tbody>\n",
       "    <tr>\n",
       "      <th id=\"T_6f72b_level0_row0\" class=\"row_heading level0 row0\" >0</th>\n",
       "      <td id=\"T_6f72b_row0_col0\" class=\"data row0 col0\" >United States</td>\n",
       "      <td id=\"T_6f72b_row0_col1\" class=\"data row0 col1\" >444</td>\n",
       "    </tr>\n",
       "    <tr>\n",
       "      <th id=\"T_6f72b_level0_row1\" class=\"row_heading level0 row1\" >1</th>\n",
       "      <td id=\"T_6f72b_row1_col0\" class=\"data row1 col0\" >Canada</td>\n",
       "      <td id=\"T_6f72b_row1_col1\" class=\"data row1 col1\" >111</td>\n",
       "    </tr>\n",
       "    <tr>\n",
       "      <th id=\"T_6f72b_level0_row2\" class=\"row_heading level0 row2\" >2</th>\n",
       "      <td id=\"T_6f72b_row2_col0\" class=\"data row2 col0\" >Brazil</td>\n",
       "      <td id=\"T_6f72b_row2_col1\" class=\"data row2 col1\" >108</td>\n",
       "    </tr>\n",
       "    <tr>\n",
       "      <th id=\"T_6f72b_level0_row3\" class=\"row_heading level0 row3\" >3</th>\n",
       "      <td id=\"T_6f72b_row3_col0\" class=\"data row3 col0\" >Mexico</td>\n",
       "      <td id=\"T_6f72b_row3_col1\" class=\"data row3 col1\" >57</td>\n",
       "    </tr>\n",
       "    <tr>\n",
       "      <th id=\"T_6f72b_level0_row4\" class=\"row_heading level0 row4\" >4</th>\n",
       "      <td id=\"T_6f72b_row4_col0\" class=\"data row4 col0\" >Colombia</td>\n",
       "      <td id=\"T_6f72b_row4_col1\" class=\"data row4 col1\" >50</td>\n",
       "    </tr>\n",
       "  </tbody>\n",
       "</table>\n"
      ],
      "text/plain": [
       "<pandas.io.formats.style.Styler at 0x2d669622f50>"
      ]
     },
     "execution_count": 81,
     "metadata": {},
     "output_type": "execute_result"
    }
   ],
   "source": [
    "community[code] := *community{code: 'JFK', cluster}, *community{code, cluster}\n",
    "?[country, count(code)] := \n",
    "    community[code], \n",
    "    *airport{code, desc, country: country_code}, \n",
    "    *country{code: country_code, desc: country},\n",
    "\n",
    ":order -count(code)\n",
    ":limit 5"
   ]
  },
  {
   "attachments": {},
   "cell_type": "markdown",
   "id": "be5890a8-94b3-4093-afe6-4b7cba1faeb4",
   "metadata": {},
   "source": [
    "当然这个结果并不是由地理划分的。比如法兰克福机场在德国："
   ]
  },
  {
   "cell_type": "code",
   "execution_count": 82,
   "id": "938dd92b-f59f-4008-a486-828443bca18f",
   "metadata": {},
   "outputs": [
    {
     "data": {
      "text/html": [
       "<style type=\"text/css\">\n",
       "#T_319af_row0_col0, #T_319af_row0_col1 {\n",
       "  color: black;\n",
       "}\n",
       "</style>\n",
       "<table id=\"T_319af\">\n",
       "  <thead>\n",
       "    <tr>\n",
       "      <th class=\"blank level0\" >&nbsp;</th>\n",
       "      <th id=\"T_319af_level0_col0\" class=\"col_heading level0 col0\" >desc</th>\n",
       "      <th id=\"T_319af_level0_col1\" class=\"col_heading level0 col1\" >country_desc</th>\n",
       "    </tr>\n",
       "  </thead>\n",
       "  <tbody>\n",
       "    <tr>\n",
       "      <th id=\"T_319af_level0_row0\" class=\"row_heading level0 row0\" >0</th>\n",
       "      <td id=\"T_319af_row0_col0\" class=\"data row0 col0\" >Frankfurt am Main</td>\n",
       "      <td id=\"T_319af_row0_col1\" class=\"data row0 col1\" >Germany</td>\n",
       "    </tr>\n",
       "  </tbody>\n",
       "</table>\n"
      ],
      "text/plain": [
       "<pandas.io.formats.style.Styler at 0x2d651f11f90>"
      ]
     },
     "execution_count": 82,
     "metadata": {},
     "output_type": "execute_result"
    }
   ],
   "source": [
    "?[desc, country_desc] := *airport{code: 'FRA', desc, country: country_code}, *country{code: country_code, desc: country_desc}"
   ]
  },
  {
   "attachments": {},
   "cell_type": "markdown",
   "id": "961e4cc5-f55d-45be-a554-4a8d7b276b0c",
   "metadata": {},
   "source": [
    "但这是其超级节点："
   ]
  },
  {
   "cell_type": "code",
   "execution_count": 83,
   "id": "2ab311ba-b925-46b4-8c96-cb8a5e6bd3bd",
   "metadata": {},
   "outputs": [
    {
     "data": {
      "text/html": [
       "<style type=\"text/css\">\n",
       "#T_776dd_row0_col0, #T_776dd_row1_col0, #T_776dd_row2_col0, #T_776dd_row3_col0, #T_776dd_row4_col0 {\n",
       "  color: black;\n",
       "}\n",
       "#T_776dd_row0_col1, #T_776dd_row1_col1, #T_776dd_row2_col1, #T_776dd_row3_col1, #T_776dd_row4_col1 {\n",
       "  color: #307fc1;\n",
       "}\n",
       "</style>\n",
       "<table id=\"T_776dd\">\n",
       "  <thead>\n",
       "    <tr>\n",
       "      <th class=\"blank level0\" >&nbsp;</th>\n",
       "      <th id=\"T_776dd_level0_col0\" class=\"col_heading level0 col0\" >country</th>\n",
       "      <th id=\"T_776dd_level0_col1\" class=\"col_heading level0 col1\" >count(code)</th>\n",
       "    </tr>\n",
       "  </thead>\n",
       "  <tbody>\n",
       "    <tr>\n",
       "      <th id=\"T_776dd_level0_row0\" class=\"row_heading level0 row0\" >0</th>\n",
       "      <td id=\"T_776dd_row0_col0\" class=\"data row0 col0\" >United States</td>\n",
       "      <td id=\"T_776dd_row0_col1\" class=\"data row0 col1\" >444</td>\n",
       "    </tr>\n",
       "    <tr>\n",
       "      <th id=\"T_776dd_level0_row1\" class=\"row_heading level0 row1\" >1</th>\n",
       "      <td id=\"T_776dd_row1_col0\" class=\"data row1 col0\" >Canada</td>\n",
       "      <td id=\"T_776dd_row1_col1\" class=\"data row1 col1\" >111</td>\n",
       "    </tr>\n",
       "    <tr>\n",
       "      <th id=\"T_776dd_level0_row2\" class=\"row_heading level0 row2\" >2</th>\n",
       "      <td id=\"T_776dd_row2_col0\" class=\"data row2 col0\" >Brazil</td>\n",
       "      <td id=\"T_776dd_row2_col1\" class=\"data row2 col1\" >108</td>\n",
       "    </tr>\n",
       "    <tr>\n",
       "      <th id=\"T_776dd_level0_row3\" class=\"row_heading level0 row3\" >3</th>\n",
       "      <td id=\"T_776dd_row3_col0\" class=\"data row3 col0\" >Mexico</td>\n",
       "      <td id=\"T_776dd_row3_col1\" class=\"data row3 col1\" >57</td>\n",
       "    </tr>\n",
       "    <tr>\n",
       "      <th id=\"T_776dd_level0_row4\" class=\"row_heading level0 row4\" >4</th>\n",
       "      <td id=\"T_776dd_row4_col0\" class=\"data row4 col0\" >Colombia</td>\n",
       "      <td id=\"T_776dd_row4_col1\" class=\"data row4 col1\" >50</td>\n",
       "    </tr>\n",
       "  </tbody>\n",
       "</table>\n"
      ],
      "text/plain": [
       "<pandas.io.formats.style.Styler at 0x2d66ba1fe90>"
      ]
     },
     "execution_count": 83,
     "metadata": {},
     "output_type": "execute_result"
    }
   ],
   "source": [
    "community[code] := *community{code: 'FRA', cluster}, *community{code, cluster}\n",
    "?[country, count(code)] := \n",
    "    community[code], \n",
    "    *airport{code, desc, country: country_code}, \n",
    "    *country{code: country_code, desc: country},\n",
    "\n",
    ":order -count(code)\n",
    ":limit 5"
   ]
  },
  {
   "attachments": {},
   "cell_type": "markdown",
   "id": "78a7d1cf-8051-40cd-b9d9-df7c0822f4b8",
   "metadata": {},
   "source": [
    "德国甚至不在前五位里。实际上法兰克福机场和肯尼迪机场的超级节点是同一个。在这里，重要的是机场间的航线关系，而不是纯粹的地理。更好的例子是下面这个："
   ]
  },
  {
   "cell_type": "code",
   "execution_count": 84,
   "id": "84284f9d-f7e7-4675-9c1e-f83cb4f7cae9",
   "metadata": {},
   "outputs": [
    {
     "data": {
      "text/html": [
       "<style type=\"text/css\">\n",
       "#T_ed529_row0_col0, #T_ed529_row1_col0, #T_ed529_row2_col0, #T_ed529_row3_col0, #T_ed529_row4_col0 {\n",
       "  color: black;\n",
       "}\n",
       "#T_ed529_row0_col1, #T_ed529_row1_col1, #T_ed529_row2_col1, #T_ed529_row3_col1, #T_ed529_row4_col1 {\n",
       "  color: #307fc1;\n",
       "}\n",
       "</style>\n",
       "<table id=\"T_ed529\">\n",
       "  <thead>\n",
       "    <tr>\n",
       "      <th class=\"blank level0\" >&nbsp;</th>\n",
       "      <th id=\"T_ed529_level0_col0\" class=\"col_heading level0 col0\" >country</th>\n",
       "      <th id=\"T_ed529_level0_col1\" class=\"col_heading level0 col1\" >count(code)</th>\n",
       "    </tr>\n",
       "  </thead>\n",
       "  <tbody>\n",
       "    <tr>\n",
       "      <th id=\"T_ed529_level0_row0\" class=\"row_heading level0 row0\" >0</th>\n",
       "      <td id=\"T_ed529_row0_col0\" class=\"data row0 col0\" >China</td>\n",
       "      <td id=\"T_ed529_row0_col1\" class=\"data row0 col1\" >216</td>\n",
       "    </tr>\n",
       "    <tr>\n",
       "      <th id=\"T_ed529_level0_row1\" class=\"row_heading level0 row1\" >1</th>\n",
       "      <td id=\"T_ed529_row1_col0\" class=\"data row1 col0\" >Australia</td>\n",
       "      <td id=\"T_ed529_row1_col1\" class=\"data row1 col1\" >125</td>\n",
       "    </tr>\n",
       "    <tr>\n",
       "      <th id=\"T_ed529_level0_row2\" class=\"row_heading level0 row2\" >2</th>\n",
       "      <td id=\"T_ed529_row2_col0\" class=\"data row2 col0\" >Indonesia</td>\n",
       "      <td id=\"T_ed529_row2_col1\" class=\"data row2 col1\" >68</td>\n",
       "    </tr>\n",
       "    <tr>\n",
       "      <th id=\"T_ed529_level0_row3\" class=\"row_heading level0 row3\" >3</th>\n",
       "      <td id=\"T_ed529_row3_col0\" class=\"data row3 col0\" >Japan</td>\n",
       "      <td id=\"T_ed529_row3_col1\" class=\"data row3 col1\" >65</td>\n",
       "    </tr>\n",
       "    <tr>\n",
       "      <th id=\"T_ed529_level0_row4\" class=\"row_heading level0 row4\" >4</th>\n",
       "      <td id=\"T_ed529_row4_col0\" class=\"data row4 col0\" >Philippines</td>\n",
       "      <td id=\"T_ed529_row4_col1\" class=\"data row4 col1\" >40</td>\n",
       "    </tr>\n",
       "  </tbody>\n",
       "</table>\n"
      ],
      "text/plain": [
       "<pandas.io.formats.style.Styler at 0x2d66963fa10>"
      ]
     },
     "execution_count": 84,
     "metadata": {},
     "output_type": "execute_result"
    }
   ],
   "source": [
    "community[code] := *community{code: 'SIN', cluster}, *community{code, cluster}\n",
    "?[country, count(code)] := \n",
    "    community[code], \n",
    "    *airport{code, desc, country: country_code}, \n",
    "    *country{code: country_code, desc: country},\n",
    "\n",
    ":order -count(code)\n",
    ":limit 5"
   ]
  },
  {
   "attachments": {},
   "cell_type": "markdown",
   "id": "1dc2a5cc-62f9-488b-8520-570122148ec7",
   "metadata": {},
   "source": [
    "看起来 `SIN` 好像是个中国的机场，但是："
   ]
  },
  {
   "cell_type": "code",
   "execution_count": 85,
   "id": "d2adbdb9-14b9-4b07-83e8-9888ee984ff9",
   "metadata": {},
   "outputs": [
    {
     "data": {
      "text/html": [
       "<style type=\"text/css\">\n",
       "#T_77374_row0_col0, #T_77374_row0_col1 {\n",
       "  color: black;\n",
       "}\n",
       "</style>\n",
       "<table id=\"T_77374\">\n",
       "  <thead>\n",
       "    <tr>\n",
       "      <th class=\"blank level0\" >&nbsp;</th>\n",
       "      <th id=\"T_77374_level0_col0\" class=\"col_heading level0 col0\" >desc</th>\n",
       "      <th id=\"T_77374_level0_col1\" class=\"col_heading level0 col1\" >country_desc</th>\n",
       "    </tr>\n",
       "  </thead>\n",
       "  <tbody>\n",
       "    <tr>\n",
       "      <th id=\"T_77374_level0_row0\" class=\"row_heading level0 row0\" >0</th>\n",
       "      <td id=\"T_77374_row0_col0\" class=\"data row0 col0\" >Singapore, Changi International Airport</td>\n",
       "      <td id=\"T_77374_row0_col1\" class=\"data row0 col1\" >Singapore</td>\n",
       "    </tr>\n",
       "  </tbody>\n",
       "</table>\n"
      ],
      "text/plain": [
       "<pandas.io.formats.style.Styler at 0x2d6695d1ad0>"
      ]
     },
     "execution_count": 85,
     "metadata": {},
     "output_type": "execute_result"
    }
   ],
   "source": [
    "?[desc, country_desc] := *airport{code: 'SIN', desc, country: country_code}, *country{code: country_code, desc: country_desc}"
   ]
  },
  {
   "attachments": {},
   "cell_type": "markdown",
   "id": "fd567d89-778a-4ff0-95a2-22e81506ce11",
   "metadata": {},
   "source": [
    "实际上它是新加坡樟宜机场。\n",
    "\n",
    "接下来我们把整个航线关系折叠到超级节点上："
   ]
  },
  {
   "cell_type": "code",
   "execution_count": 86,
   "id": "a36fc591-b596-4f1e-b890-cd3d09c177fe",
   "metadata": {},
   "outputs": [
    {
     "data": {
      "text/html": [
       "<style type=\"text/css\">\n",
       "#T_c12a1_row0_col0 {\n",
       "  color: black;\n",
       "}\n",
       "</style>\n",
       "<table id=\"T_c12a1\">\n",
       "  <thead>\n",
       "    <tr>\n",
       "      <th class=\"blank level0\" >&nbsp;</th>\n",
       "      <th id=\"T_c12a1_level0_col0\" class=\"col_heading level0 col0\" >status</th>\n",
       "    </tr>\n",
       "  </thead>\n",
       "  <tbody>\n",
       "    <tr>\n",
       "      <th id=\"T_c12a1_level0_row0\" class=\"row_heading level0 row0\" >0</th>\n",
       "      <td id=\"T_c12a1_row0_col0\" class=\"data row0 col0\" >OK</td>\n",
       "    </tr>\n",
       "  </tbody>\n",
       "</table>\n"
      ],
      "text/plain": [
       "<pandas.io.formats.style.Styler at 0x2d669620210>"
      ]
     },
     "execution_count": 86,
     "metadata": {},
     "output_type": "execute_result"
    }
   ],
   "source": [
    "?[fr_cluster, to_cluster, count(dist), sum(dist)] := *route{fr, to, dist}, \n",
    "                                                     *community{code: fr, cluster: fr_cluster},\n",
    "                                                     *community{code: to, cluster: to_cluster}\n",
    ":replace super_route {fr_cluster, to_cluster => n_routes=count(dist), total_distance=sum(dist)}"
   ]
  },
  {
   "attachments": {},
   "cell_type": "markdown",
   "id": "048a4168-71e9-4c44-860e-5ed3e8d456e7",
   "metadata": {},
   "source": [
    "我们可以看到，在这个折叠后的关系中，“对角线”关系 `fr_cluster == to_cluster`，不管是航线数量还是总距离，值都是最大的："
   ]
  },
  {
   "cell_type": "code",
   "execution_count": 87,
   "id": "d75f055d-5f7a-4add-81c3-4fbfe7ae3073",
   "metadata": {},
   "outputs": [
    {
     "data": {
      "text/html": [
       "<style type=\"text/css\">\n",
       "#T_a0f85_row0_col0, #T_a0f85_row0_col1, #T_a0f85_row0_col2, #T_a0f85_row0_col3, #T_a0f85_row1_col0, #T_a0f85_row1_col1, #T_a0f85_row1_col2, #T_a0f85_row1_col3, #T_a0f85_row2_col0, #T_a0f85_row2_col1, #T_a0f85_row2_col2, #T_a0f85_row2_col3, #T_a0f85_row3_col0, #T_a0f85_row3_col1, #T_a0f85_row3_col2, #T_a0f85_row3_col3, #T_a0f85_row4_col0, #T_a0f85_row4_col1, #T_a0f85_row4_col2, #T_a0f85_row4_col3, #T_a0f85_row5_col0, #T_a0f85_row5_col1, #T_a0f85_row5_col2, #T_a0f85_row5_col3, #T_a0f85_row6_col0, #T_a0f85_row6_col1, #T_a0f85_row6_col2, #T_a0f85_row6_col3, #T_a0f85_row7_col0, #T_a0f85_row7_col1, #T_a0f85_row7_col2, #T_a0f85_row7_col3, #T_a0f85_row8_col0, #T_a0f85_row8_col1, #T_a0f85_row8_col2, #T_a0f85_row8_col3, #T_a0f85_row9_col0, #T_a0f85_row9_col1, #T_a0f85_row9_col2, #T_a0f85_row9_col3, #T_a0f85_row10_col0, #T_a0f85_row10_col1, #T_a0f85_row10_col2, #T_a0f85_row10_col3, #T_a0f85_row11_col0, #T_a0f85_row11_col1, #T_a0f85_row11_col2, #T_a0f85_row11_col3, #T_a0f85_row12_col0, #T_a0f85_row12_col1, #T_a0f85_row12_col2, #T_a0f85_row12_col3, #T_a0f85_row13_col0, #T_a0f85_row13_col1, #T_a0f85_row13_col2, #T_a0f85_row13_col3, #T_a0f85_row14_col0, #T_a0f85_row14_col1, #T_a0f85_row14_col2, #T_a0f85_row14_col3, #T_a0f85_row15_col0, #T_a0f85_row15_col1, #T_a0f85_row15_col2, #T_a0f85_row15_col3 {\n",
       "  color: #307fc1;\n",
       "}\n",
       "</style>\n",
       "<table id=\"T_a0f85\">\n",
       "  <thead>\n",
       "    <tr>\n",
       "      <th class=\"blank level0\" >&nbsp;</th>\n",
       "      <th id=\"T_a0f85_level0_col0\" class=\"col_heading level0 col0\" >fr_cluster</th>\n",
       "      <th id=\"T_a0f85_level0_col1\" class=\"col_heading level0 col1\" >to_cluster</th>\n",
       "      <th id=\"T_a0f85_level0_col2\" class=\"col_heading level0 col2\" >n_routes</th>\n",
       "      <th id=\"T_a0f85_level0_col3\" class=\"col_heading level0 col3\" >total_distance</th>\n",
       "    </tr>\n",
       "  </thead>\n",
       "  <tbody>\n",
       "    <tr>\n",
       "      <th id=\"T_a0f85_level0_row0\" class=\"row_heading level0 row0\" >0</th>\n",
       "      <td id=\"T_a0f85_row0_col0\" class=\"data row0 col0\" >0</td>\n",
       "      <td id=\"T_a0f85_row0_col1\" class=\"data row0 col1\" >0</td>\n",
       "      <td id=\"T_a0f85_row0_col2\" class=\"data row0 col2\" >9041</td>\n",
       "      <td id=\"T_a0f85_row0_col3\" class=\"data row0 col3\" >8933554.000000</td>\n",
       "    </tr>\n",
       "    <tr>\n",
       "      <th id=\"T_a0f85_level0_row1\" class=\"row_heading level0 row1\" >1</th>\n",
       "      <td id=\"T_a0f85_row1_col0\" class=\"data row1 col0\" >0</td>\n",
       "      <td id=\"T_a0f85_row1_col1\" class=\"data row1 col1\" >1</td>\n",
       "      <td id=\"T_a0f85_row1_col2\" class=\"data row1 col2\" >434</td>\n",
       "      <td id=\"T_a0f85_row1_col3\" class=\"data row1 col3\" >1695379.000000</td>\n",
       "    </tr>\n",
       "    <tr>\n",
       "      <th id=\"T_a0f85_level0_row2\" class=\"row_heading level0 row2\" >2</th>\n",
       "      <td id=\"T_a0f85_row2_col0\" class=\"data row2 col0\" >0</td>\n",
       "      <td id=\"T_a0f85_row2_col1\" class=\"data row2 col1\" >2</td>\n",
       "      <td id=\"T_a0f85_row2_col2\" class=\"data row2 col2\" >228</td>\n",
       "      <td id=\"T_a0f85_row2_col3\" class=\"data row2 col3\" >761661.000000</td>\n",
       "    </tr>\n",
       "    <tr>\n",
       "      <th id=\"T_a0f85_level0_row3\" class=\"row_heading level0 row3\" >3</th>\n",
       "      <td id=\"T_a0f85_row3_col0\" class=\"data row3 col0\" >0</td>\n",
       "      <td id=\"T_a0f85_row3_col1\" class=\"data row3 col1\" >3</td>\n",
       "      <td id=\"T_a0f85_row3_col2\" class=\"data row3 col2\" >530</td>\n",
       "      <td id=\"T_a0f85_row3_col3\" class=\"data row3 col3\" >1681865.000000</td>\n",
       "    </tr>\n",
       "    <tr>\n",
       "      <th id=\"T_a0f85_level0_row4\" class=\"row_heading level0 row4\" >4</th>\n",
       "      <td id=\"T_a0f85_row4_col0\" class=\"data row4 col0\" >0</td>\n",
       "      <td id=\"T_a0f85_row4_col1\" class=\"data row4 col1\" >4</td>\n",
       "      <td id=\"T_a0f85_row4_col2\" class=\"data row4 col2\" >163</td>\n",
       "      <td id=\"T_a0f85_row4_col3\" class=\"data row4 col3\" >391892.000000</td>\n",
       "    </tr>\n",
       "    <tr>\n",
       "      <th id=\"T_a0f85_level0_row5\" class=\"row_heading level0 row5\" >5</th>\n",
       "      <td id=\"T_a0f85_row5_col0\" class=\"data row5 col0\" >0</td>\n",
       "      <td id=\"T_a0f85_row5_col1\" class=\"data row5 col1\" >8</td>\n",
       "      <td id=\"T_a0f85_row5_col2\" class=\"data row5 col2\" >3</td>\n",
       "      <td id=\"T_a0f85_row5_col3\" class=\"data row5 col3\" >300.000000</td>\n",
       "    </tr>\n",
       "    <tr>\n",
       "      <th id=\"T_a0f85_level0_row6\" class=\"row_heading level0 row6\" >6</th>\n",
       "      <td id=\"T_a0f85_row6_col0\" class=\"data row6 col0\" >0</td>\n",
       "      <td id=\"T_a0f85_row6_col1\" class=\"data row6 col1\" >11</td>\n",
       "      <td id=\"T_a0f85_row6_col2\" class=\"data row6 col2\" >2</td>\n",
       "      <td id=\"T_a0f85_row6_col3\" class=\"data row6 col3\" >283.000000</td>\n",
       "    </tr>\n",
       "    <tr>\n",
       "      <th id=\"T_a0f85_level0_row7\" class=\"row_heading level0 row7\" >7</th>\n",
       "      <td id=\"T_a0f85_row7_col0\" class=\"data row7 col0\" >0</td>\n",
       "      <td id=\"T_a0f85_row7_col1\" class=\"data row7 col1\" >19</td>\n",
       "      <td id=\"T_a0f85_row7_col2\" class=\"data row7 col2\" >1</td>\n",
       "      <td id=\"T_a0f85_row7_col3\" class=\"data row7 col3\" >238.000000</td>\n",
       "    </tr>\n",
       "    <tr>\n",
       "      <th id=\"T_a0f85_level0_row8\" class=\"row_heading level0 row8\" >8</th>\n",
       "      <td id=\"T_a0f85_row8_col0\" class=\"data row8 col0\" >0</td>\n",
       "      <td id=\"T_a0f85_row8_col1\" class=\"data row8 col1\" >21</td>\n",
       "      <td id=\"T_a0f85_row8_col2\" class=\"data row8 col2\" >2</td>\n",
       "      <td id=\"T_a0f85_row8_col3\" class=\"data row8 col3\" >705.000000</td>\n",
       "    </tr>\n",
       "    <tr>\n",
       "      <th id=\"T_a0f85_level0_row9\" class=\"row_heading level0 row9\" >9</th>\n",
       "      <td id=\"T_a0f85_row9_col0\" class=\"data row9 col0\" >0</td>\n",
       "      <td id=\"T_a0f85_row9_col1\" class=\"data row9 col1\" >22</td>\n",
       "      <td id=\"T_a0f85_row9_col2\" class=\"data row9 col2\" >1</td>\n",
       "      <td id=\"T_a0f85_row9_col3\" class=\"data row9 col3\" >975.000000</td>\n",
       "    </tr>\n",
       "    <tr>\n",
       "      <th id=\"T_a0f85_level0_row10\" class=\"row_heading level0 row10\" >10</th>\n",
       "      <td id=\"T_a0f85_row10_col0\" class=\"data row10 col0\" >1</td>\n",
       "      <td id=\"T_a0f85_row10_col1\" class=\"data row10 col1\" >0</td>\n",
       "      <td id=\"T_a0f85_row10_col2\" class=\"data row10 col2\" >434</td>\n",
       "      <td id=\"T_a0f85_row10_col3\" class=\"data row10 col3\" >1696858.000000</td>\n",
       "    </tr>\n",
       "    <tr>\n",
       "      <th id=\"T_a0f85_level0_row11\" class=\"row_heading level0 row11\" >11</th>\n",
       "      <td id=\"T_a0f85_row11_col0\" class=\"data row11 col0\" >1</td>\n",
       "      <td id=\"T_a0f85_row11_col1\" class=\"data row11 col1\" >1</td>\n",
       "      <td id=\"T_a0f85_row11_col2\" class=\"data row11 col2\" >4474</td>\n",
       "      <td id=\"T_a0f85_row11_col3\" class=\"data row11 col3\" >5142452.000000</td>\n",
       "    </tr>\n",
       "    <tr>\n",
       "      <th id=\"T_a0f85_level0_row12\" class=\"row_heading level0 row12\" >12</th>\n",
       "      <td id=\"T_a0f85_row12_col0\" class=\"data row12 col0\" >1</td>\n",
       "      <td id=\"T_a0f85_row12_col1\" class=\"data row12 col1\" >2</td>\n",
       "      <td id=\"T_a0f85_row12_col2\" class=\"data row12 col2\" >1160</td>\n",
       "      <td id=\"T_a0f85_row12_col3\" class=\"data row12 col3\" >1492734.000000</td>\n",
       "    </tr>\n",
       "    <tr>\n",
       "      <th id=\"T_a0f85_level0_row13\" class=\"row_heading level0 row13\" >13</th>\n",
       "      <td id=\"T_a0f85_row13_col0\" class=\"data row13 col0\" >1</td>\n",
       "      <td id=\"T_a0f85_row13_col1\" class=\"data row13 col1\" >3</td>\n",
       "      <td id=\"T_a0f85_row13_col2\" class=\"data row13 col2\" >526</td>\n",
       "      <td id=\"T_a0f85_row13_col3\" class=\"data row13 col3\" >1724591.000000</td>\n",
       "    </tr>\n",
       "    <tr>\n",
       "      <th id=\"T_a0f85_level0_row14\" class=\"row_heading level0 row14\" >14</th>\n",
       "      <td id=\"T_a0f85_row14_col0\" class=\"data row14 col0\" >1</td>\n",
       "      <td id=\"T_a0f85_row14_col1\" class=\"data row14 col1\" >4</td>\n",
       "      <td id=\"T_a0f85_row14_col2\" class=\"data row14 col2\" >223</td>\n",
       "      <td id=\"T_a0f85_row14_col3\" class=\"data row14 col3\" >361986.000000</td>\n",
       "    </tr>\n",
       "    <tr>\n",
       "      <th id=\"T_a0f85_level0_row15\" class=\"row_heading level0 row15\" >15</th>\n",
       "      <td id=\"T_a0f85_row15_col0\" class=\"data row15 col0\" >1</td>\n",
       "      <td id=\"T_a0f85_row15_col1\" class=\"data row15 col1\" >9</td>\n",
       "      <td id=\"T_a0f85_row15_col2\" class=\"data row15 col2\" >1</td>\n",
       "      <td id=\"T_a0f85_row15_col3\" class=\"data row15 col3\" >808.000000</td>\n",
       "    </tr>\n",
       "  </tbody>\n",
       "</table>\n"
      ],
      "text/plain": [
       "<pandas.io.formats.style.Styler at 0x2d66baecd90>"
      ]
     },
     "execution_count": 87,
     "metadata": {},
     "output_type": "execute_result"
    }
   ],
   "source": [
    "?[fr_cluster, to_cluster, n_routes, total_distance] := *super_route{fr_cluster, to_cluster, n_routes, total_distance}, fr_cluster < 2"
   ]
  },
  {
   "attachments": {},
   "cell_type": "markdown",
   "id": "6ae4a226-9ad2-4a9e-bd42-0372e45eeae2",
   "metadata": {},
   "source": [
    "折叠后的超级图很小，所以所有图算法都可以瞬间返回结果："
   ]
  },
  {
   "cell_type": "code",
   "execution_count": 88,
   "id": "76148aef-3f03-4334-b8de-13e53e1f7419",
   "metadata": {},
   "outputs": [
    {
     "data": {
      "text/html": [
       "<style type=\"text/css\">\n",
       "#T_ce803_row0_col0, #T_ce803_row0_col1, #T_ce803_row1_col0, #T_ce803_row1_col1, #T_ce803_row2_col0, #T_ce803_row2_col1, #T_ce803_row3_col0, #T_ce803_row3_col1, #T_ce803_row4_col0, #T_ce803_row4_col1 {\n",
       "  color: #307fc1;\n",
       "}\n",
       "</style>\n",
       "<table id=\"T_ce803\">\n",
       "  <thead>\n",
       "    <tr>\n",
       "      <th class=\"blank level0\" >&nbsp;</th>\n",
       "      <th id=\"T_ce803_level0_col0\" class=\"col_heading level0 col0\" >cluster</th>\n",
       "      <th id=\"T_ce803_level0_col1\" class=\"col_heading level0 col1\" >score</th>\n",
       "    </tr>\n",
       "  </thead>\n",
       "  <tbody>\n",
       "    <tr>\n",
       "      <th id=\"T_ce803_level0_row0\" class=\"row_heading level0 row0\" >0</th>\n",
       "      <td id=\"T_ce803_row0_col0\" class=\"data row0 col0\" >3</td>\n",
       "      <td id=\"T_ce803_row0_col1\" class=\"data row0 col1\" >0.173309</td>\n",
       "    </tr>\n",
       "    <tr>\n",
       "      <th id=\"T_ce803_level0_row1\" class=\"row_heading level0 row1\" >1</th>\n",
       "      <td id=\"T_ce803_row1_col0\" class=\"data row1 col0\" >0</td>\n",
       "      <td id=\"T_ce803_row1_col1\" class=\"data row1 col1\" >0.093072</td>\n",
       "    </tr>\n",
       "    <tr>\n",
       "      <th id=\"T_ce803_level0_row2\" class=\"row_heading level0 row2\" >2</th>\n",
       "      <td id=\"T_ce803_row2_col0\" class=\"data row2 col0\" >1</td>\n",
       "      <td id=\"T_ce803_row2_col1\" class=\"data row2 col1\" >0.053465</td>\n",
       "    </tr>\n",
       "    <tr>\n",
       "      <th id=\"T_ce803_level0_row3\" class=\"row_heading level0 row3\" >3</th>\n",
       "      <td id=\"T_ce803_row3_col0\" class=\"data row3 col0\" >2</td>\n",
       "      <td id=\"T_ce803_row3_col1\" class=\"data row3 col1\" >0.053389</td>\n",
       "    </tr>\n",
       "    <tr>\n",
       "      <th id=\"T_ce803_level0_row4\" class=\"row_heading level0 row4\" >4</th>\n",
       "      <td id=\"T_ce803_row4_col0\" class=\"data row4 col0\" >4</td>\n",
       "      <td id=\"T_ce803_row4_col1\" class=\"data row4 col1\" >0.044654</td>\n",
       "    </tr>\n",
       "  </tbody>\n",
       "</table>\n"
      ],
      "text/plain": [
       "<pandas.io.formats.style.Styler at 0x2d669656710>"
      ]
     },
     "execution_count": 88,
     "metadata": {},
     "output_type": "execute_result"
    }
   ],
   "source": [
    "?[cluster, score] <~ PageRank(*super_route[])\n",
    ":order -score\n",
    ":limit 5"
   ]
  },
  {
   "attachments": {},
   "cell_type": "markdown",
   "id": "ac852ff2-63d2-4f44-b8b3-675b34e2cad1",
   "metadata": {},
   "source": [
    "对这些结果，我们可以试着给出解释。例如，对于以上结果一个朴素的解释是，北美仍然是世界上最发达的地区，然后东亚第二名，南亚第三名，欧洲第四名（三、四名之间差距很小）。"
   ]
  },
  {
   "attachments": {},
   "cell_type": "markdown",
   "id": "c5263c28-2266-438f-b558-93747f351c4f",
   "metadata": {},
   "source": [
    "## “硬派”地导入数据\n",
    "\n",
    "之前我们导入了专门制作的 JSON 文件数据。接下来我们介绍如何使用 Cozo 直接导入 CSV 格式的原始数据。\n",
    "\n",
    "我们先把之前的表解锁，然后删掉："
   ]
  },
  {
   "cell_type": "code",
   "execution_count": 89,
   "id": "303249d6-8f81-4f88-812e-656f8bab81b9",
   "metadata": {},
   "outputs": [
    {
     "data": {
      "text/html": [
       "<style type=\"text/css\">\n",
       "#T_8a67f_row0_col0 {\n",
       "  color: black;\n",
       "}\n",
       "</style>\n",
       "<table id=\"T_8a67f\">\n",
       "  <thead>\n",
       "    <tr>\n",
       "      <th class=\"blank level0\" >&nbsp;</th>\n",
       "      <th id=\"T_8a67f_level0_col0\" class=\"col_heading level0 col0\" >status</th>\n",
       "    </tr>\n",
       "  </thead>\n",
       "  <tbody>\n",
       "    <tr>\n",
       "      <th id=\"T_8a67f_level0_row0\" class=\"row_heading level0 row0\" >0</th>\n",
       "      <td id=\"T_8a67f_row0_col0\" class=\"data row0 col0\" >OK</td>\n",
       "    </tr>\n",
       "  </tbody>\n",
       "</table>\n"
      ],
      "text/plain": [
       "<pandas.io.formats.style.Styler at 0x2d6696639d0>"
      ]
     },
     "execution_count": 89,
     "metadata": {},
     "output_type": "execute_result"
    }
   ],
   "source": [
    "::access_level normal airport, contain, continent, country, route"
   ]
  },
  {
   "cell_type": "code",
   "execution_count": 92,
   "id": "59a79a70-809b-490f-8ecd-5a94e3cd67fe",
   "metadata": {},
   "outputs": [
    {
     "data": {
      "text/html": [
       "<style type=\"text/css\">\n",
       "#T_a8005_row0_col0 {\n",
       "  color: black;\n",
       "}\n",
       "</style>\n",
       "<table id=\"T_a8005\">\n",
       "  <thead>\n",
       "    <tr>\n",
       "      <th class=\"blank level0\" >&nbsp;</th>\n",
       "      <th id=\"T_a8005_level0_col0\" class=\"col_heading level0 col0\" >status</th>\n",
       "    </tr>\n",
       "  </thead>\n",
       "  <tbody>\n",
       "    <tr>\n",
       "      <th id=\"T_a8005_level0_row0\" class=\"row_heading level0 row0\" >0</th>\n",
       "      <td id=\"T_a8005_row0_col0\" class=\"data row0 col0\" >OK</td>\n",
       "    </tr>\n",
       "  </tbody>\n",
       "</table>\n"
      ],
      "text/plain": [
       "<pandas.io.formats.style.Styler at 0x2d669654290>"
      ]
     },
     "execution_count": 92,
     "metadata": {},
     "output_type": "execute_result"
    }
   ],
   "source": [
    "::remove airport, contain, continent, country, route, community, super_route"
   ]
  },
  {
   "attachments": {},
   "cell_type": "markdown",
   "id": "c60b71b0-1ace-4f83-80f9-d3602fc8a116",
   "metadata": {},
   "source": [
    "接下来我们定义一些变量，变量里的值是需要导入的文件的位置（注释掉的行内容是本地文件）："
   ]
  },
  {
   "cell_type": "code",
   "execution_count": 94,
   "id": "f5f511e5-2dc1-4a21-8e3f-4cbf051802cb",
   "metadata": {},
   "outputs": [],
   "source": [
    "%cozo_set AIR_ROUTES_NODES_URL 'https://raw.githubusercontent.com/cozodb/cozo/dev/cozo-core/tests/air-routes-latest-nodes.csv'\n",
    "%cozo_set AIR_ROUTES_EDGES_URL 'https://raw.githubusercontent.com/cozodb/cozo/dev/cozo-core/tests/air-routes-latest-edges.csv'\n",
    "# %cozo_set AIR_ROUTES_NODES_URL 'file://./../../cozo/cozo-core/tests/air-routes-latest-nodes.csv'\n",
    "# %cozo_set AIR_ROUTES_EDGES_URL 'file://./../../cozo/cozo-core/tests/air-routes-latest-edges.csv'"
   ]
  },
  {
   "attachments": {},
   "cell_type": "markdown",
   "id": "fddd8eee-b55a-4e73-aabf-7b8f799e8449",
   "metadata": {},
   "source": [
    "首先我们导入机场："
   ]
  },
  {
   "cell_type": "code",
   "execution_count": 95,
   "id": "0aa06786-0740-4bc8-b9f8-34159a58afee",
   "metadata": {},
   "outputs": [
    {
     "data": {
      "text/html": [
       "<style type=\"text/css\">\n",
       "#T_e7d1a_row0_col0 {\n",
       "  color: black;\n",
       "}\n",
       "</style>\n",
       "<table id=\"T_e7d1a\">\n",
       "  <thead>\n",
       "    <tr>\n",
       "      <th class=\"blank level0\" >&nbsp;</th>\n",
       "      <th id=\"T_e7d1a_level0_col0\" class=\"col_heading level0 col0\" >status</th>\n",
       "    </tr>\n",
       "  </thead>\n",
       "  <tbody>\n",
       "    <tr>\n",
       "      <th id=\"T_e7d1a_level0_row0\" class=\"row_heading level0 row0\" >0</th>\n",
       "      <td id=\"T_e7d1a_row0_col0\" class=\"data row0 col0\" >OK</td>\n",
       "    </tr>\n",
       "  </tbody>\n",
       "</table>\n"
      ],
      "text/plain": [
       "<pandas.io.formats.style.Styler at 0x2d66968fe90>"
      ]
     },
     "execution_count": 95,
     "metadata": {},
     "output_type": "execute_result"
    }
   ],
   "source": [
    "res[idx, label, typ, code, icao, desc, region, runways, longest, elev, country, city, lat, lon] <~\n",
    "    CsvReader(types: ['Int', 'Any', 'Any', 'Any', 'Any', 'Any', 'Any', 'Int?', 'Float?', 'Float?', 'Any', 'Any', 'Float?', 'Float?'],\n",
    "              url: $AIR_ROUTES_NODES_URL, \n",
    "              has_headers: true)\n",
    "\n",
    "?[code, icao, desc, region, runways, longest, elev, country, city, lat, lon] :=\n",
    "    res[idx, label, typ, code, icao, desc, region, runways, longest, elev, country, city, lat, lon],\n",
    "    label == 'airport'\n",
    "\n",
    ":replace airport {\n",
    "    code: String \n",
    "    => \n",
    "    icao: String, \n",
    "    desc: String, \n",
    "    region: String, \n",
    "    runways: Int, \n",
    "    longest: Float, \n",
    "    elev: Float, \n",
    "    country: String, \n",
    "    city: String, \n",
    "    lat: Float, \n",
    "    lon: Float\n",
    "}"
   ]
  },
  {
   "attachments": {},
   "cell_type": "markdown",
   "id": "2d0eefe0-5991-4a1c-8eb0-fc6f5b8d05f6",
   "metadata": {},
   "source": [
    "工具规则 `CsvReader` 的作用是下载 CSV 文件，并根据设置将其内容解析为一个表。我们储存表的时候给出了所有列的类型，并将机场代码作为主键。\n",
    "\n",
    "接下来导入国家："
   ]
  },
  {
   "cell_type": "code",
   "execution_count": 96,
   "id": "b9063c75-f03a-4bbf-8959-44e64eaf2125",
   "metadata": {},
   "outputs": [
    {
     "data": {
      "text/html": [
       "<style type=\"text/css\">\n",
       "#T_49049_row0_col0 {\n",
       "  color: black;\n",
       "}\n",
       "</style>\n",
       "<table id=\"T_49049\">\n",
       "  <thead>\n",
       "    <tr>\n",
       "      <th class=\"blank level0\" >&nbsp;</th>\n",
       "      <th id=\"T_49049_level0_col0\" class=\"col_heading level0 col0\" >status</th>\n",
       "    </tr>\n",
       "  </thead>\n",
       "  <tbody>\n",
       "    <tr>\n",
       "      <th id=\"T_49049_level0_row0\" class=\"row_heading level0 row0\" >0</th>\n",
       "      <td id=\"T_49049_row0_col0\" class=\"data row0 col0\" >OK</td>\n",
       "    </tr>\n",
       "  </tbody>\n",
       "</table>\n"
      ],
      "text/plain": [
       "<pandas.io.formats.style.Styler at 0x2d668c03450>"
      ]
     },
     "execution_count": 96,
     "metadata": {},
     "output_type": "execute_result"
    }
   ],
   "source": [
    "res[idx, label, typ, code, icao, desc] <~\n",
    "    CsvReader(types: ['Int', 'Any', 'Any', 'Any', 'Any', 'Any'],\n",
    "              url: $AIR_ROUTES_NODES_URL, \n",
    "              has_headers: true)\n",
    "?[code, desc] :=\n",
    "    res[idx, label, typ, code, icao, desc],\n",
    "    label == 'country'\n",
    "\n",
    ":replace country {\n",
    "    code: String\n",
    "    =>\n",
    "    desc: String\n",
    "}"
   ]
  },
  {
   "attachments": {},
   "cell_type": "markdown",
   "id": "aba3fae1-5793-4af0-afeb-b458d4381551",
   "metadata": {},
   "source": [
    "大陆："
   ]
  },
  {
   "cell_type": "code",
   "execution_count": 97,
   "id": "cdf98c1c-f57b-4a03-a21e-4772a85b2332",
   "metadata": {},
   "outputs": [
    {
     "data": {
      "text/html": [
       "<style type=\"text/css\">\n",
       "#T_97039_row0_col0 {\n",
       "  color: black;\n",
       "}\n",
       "</style>\n",
       "<table id=\"T_97039\">\n",
       "  <thead>\n",
       "    <tr>\n",
       "      <th class=\"blank level0\" >&nbsp;</th>\n",
       "      <th id=\"T_97039_level0_col0\" class=\"col_heading level0 col0\" >status</th>\n",
       "    </tr>\n",
       "  </thead>\n",
       "  <tbody>\n",
       "    <tr>\n",
       "      <th id=\"T_97039_level0_row0\" class=\"row_heading level0 row0\" >0</th>\n",
       "      <td id=\"T_97039_row0_col0\" class=\"data row0 col0\" >OK</td>\n",
       "    </tr>\n",
       "  </tbody>\n",
       "</table>\n"
      ],
      "text/plain": [
       "<pandas.io.formats.style.Styler at 0x2d66968d250>"
      ]
     },
     "execution_count": 97,
     "metadata": {},
     "output_type": "execute_result"
    }
   ],
   "source": [
    "res[idx, label, typ, code, icao, desc] <~\n",
    "    CsvReader(types: ['Int', 'Any', 'Any', 'Any', 'Any', 'Any'],\n",
    "              url: $AIR_ROUTES_NODES_URL, \n",
    "              has_headers: true)\n",
    "?[idx, code, desc] :=\n",
    "    res[idx, label, typ, code, icao, desc],\n",
    "    label == 'continent'\n",
    "\n",
    ":replace continent {\n",
    "    code: String\n",
    "    =>\n",
    "    desc: String\n",
    "}"
   ]
  },
  {
   "attachments": {},
   "cell_type": "markdown",
   "id": "f82ca2b9-0ab9-4854-aca0-3a08d0ea5f1e",
   "metadata": {},
   "source": [
    "由于原始数据中每个机场的数字 ID 不是我们想要的（我们直接拿机场代码作为主键），而原始数据的航线通过这些数字表示，我们先建立一个主键转换表："
   ]
  },
  {
   "cell_type": "code",
   "execution_count": 98,
   "id": "2e63b01a-0209-4afc-9d1b-6dc9d76bf9e5",
   "metadata": {},
   "outputs": [
    {
     "data": {
      "text/html": [
       "<style type=\"text/css\">\n",
       "#T_3e431_row0_col0 {\n",
       "  color: black;\n",
       "}\n",
       "</style>\n",
       "<table id=\"T_3e431\">\n",
       "  <thead>\n",
       "    <tr>\n",
       "      <th class=\"blank level0\" >&nbsp;</th>\n",
       "      <th id=\"T_3e431_level0_col0\" class=\"col_heading level0 col0\" >status</th>\n",
       "    </tr>\n",
       "  </thead>\n",
       "  <tbody>\n",
       "    <tr>\n",
       "      <th id=\"T_3e431_level0_row0\" class=\"row_heading level0 row0\" >0</th>\n",
       "      <td id=\"T_3e431_row0_col0\" class=\"data row0 col0\" >OK</td>\n",
       "    </tr>\n",
       "  </tbody>\n",
       "</table>\n"
      ],
      "text/plain": [
       "<pandas.io.formats.style.Styler at 0x2d6695dfb10>"
      ]
     },
     "execution_count": 98,
     "metadata": {},
     "output_type": "execute_result"
    }
   ],
   "source": [
    "res[idx, label, typ, code] <~\n",
    "    CsvReader(types: ['Int', 'Any', 'Any', 'Any'],\n",
    "              url: $AIR_ROUTES_NODES_URL, \n",
    "              has_headers: true)\n",
    "?[idx, code] :=\n",
    "    res[idx, label, typ, code],\n",
    "\n",
    ":replace idx2code { idx => code }"
   ]
  },
  {
   "attachments": {},
   "cell_type": "markdown",
   "id": "3577f029-8688-47a0-8e6d-7e9e467f5c1d",
   "metadata": {},
   "source": [
    "接下来的表储存地理上的包含关系："
   ]
  },
  {
   "cell_type": "code",
   "execution_count": 99,
   "id": "acc578dd-e386-40b7-b6f5-b7d02af3f37b",
   "metadata": {},
   "outputs": [
    {
     "data": {
      "text/html": [
       "<style type=\"text/css\">\n",
       "#T_767e0_row0_col0 {\n",
       "  color: black;\n",
       "}\n",
       "</style>\n",
       "<table id=\"T_767e0\">\n",
       "  <thead>\n",
       "    <tr>\n",
       "      <th class=\"blank level0\" >&nbsp;</th>\n",
       "      <th id=\"T_767e0_level0_col0\" class=\"col_heading level0 col0\" >status</th>\n",
       "    </tr>\n",
       "  </thead>\n",
       "  <tbody>\n",
       "    <tr>\n",
       "      <th id=\"T_767e0_level0_row0\" class=\"row_heading level0 row0\" >0</th>\n",
       "      <td id=\"T_767e0_row0_col0\" class=\"data row0 col0\" >OK</td>\n",
       "    </tr>\n",
       "  </tbody>\n",
       "</table>\n"
      ],
      "text/plain": [
       "<pandas.io.formats.style.Styler at 0x2d66968ffd0>"
      ]
     },
     "execution_count": 99,
     "metadata": {},
     "output_type": "execute_result"
    }
   ],
   "source": [
    "res[] <~\n",
    "    CsvReader(types: ['Int', 'Int', 'Int', 'String'],\n",
    "              url: $AIR_ROUTES_EDGES_URL, \n",
    "              has_headers: true)\n",
    "?[entity, contained] :=\n",
    "    res[idx, fr_i, to_i, typ],\n",
    "    typ == 'contains',\n",
    "    *idx2code[fr_i, entity],\n",
    "    *idx2code[to_i, contained]\n",
    "\n",
    "\n",
    ":replace contain { entity: String, contained: String }"
   ]
  },
  {
   "attachments": {},
   "cell_type": "markdown",
   "id": "036a4941-f338-4a06-a770-4dd246e97e8b",
   "metadata": {},
   "source": [
    "最后，我们使用转换表导入航线（一共大概 6 万多条航线）："
   ]
  },
  {
   "cell_type": "code",
   "execution_count": 100,
   "id": "6a3122de-8689-46ae-99c4-1af2868ae422",
   "metadata": {},
   "outputs": [
    {
     "data": {
      "text/html": [
       "<style type=\"text/css\">\n",
       "#T_275d1_row0_col0 {\n",
       "  color: black;\n",
       "}\n",
       "</style>\n",
       "<table id=\"T_275d1\">\n",
       "  <thead>\n",
       "    <tr>\n",
       "      <th class=\"blank level0\" >&nbsp;</th>\n",
       "      <th id=\"T_275d1_level0_col0\" class=\"col_heading level0 col0\" >status</th>\n",
       "    </tr>\n",
       "  </thead>\n",
       "  <tbody>\n",
       "    <tr>\n",
       "      <th id=\"T_275d1_level0_row0\" class=\"row_heading level0 row0\" >0</th>\n",
       "      <td id=\"T_275d1_row0_col0\" class=\"data row0 col0\" >OK</td>\n",
       "    </tr>\n",
       "  </tbody>\n",
       "</table>\n"
      ],
      "text/plain": [
       "<pandas.io.formats.style.Styler at 0x2d66968fc10>"
      ]
     },
     "execution_count": 100,
     "metadata": {},
     "output_type": "execute_result"
    }
   ],
   "source": [
    "res[] <~\n",
    "    CsvReader(types: ['Int', 'Int', 'Int', 'String', 'Float?'],\n",
    "              url: $AIR_ROUTES_EDGES_URL, \n",
    "              has_headers: true)\n",
    "?[fr, to, dist] :=\n",
    "    res[idx, fr_i, to_i, typ, dist],\n",
    "    typ == 'route',\n",
    "    *idx2code[fr_i, fr],\n",
    "    *idx2code[to_i, to]\n",
    "\n",
    ":replace route { fr: String, to: String => dist: Float }"
   ]
  },
  {
   "attachments": {},
   "cell_type": "markdown",
   "id": "67c912b6-29c4-4366-ad07-f47508e8b2d3",
   "metadata": {},
   "source": [
    "导入完毕，转换表可以删了："
   ]
  },
  {
   "cell_type": "code",
   "execution_count": 101,
   "id": "d8479f9d-89f1-4be4-90f3-3698fd44f5b6",
   "metadata": {},
   "outputs": [
    {
     "data": {
      "text/html": [
       "<style type=\"text/css\">\n",
       "#T_fedc8_row0_col0 {\n",
       "  color: black;\n",
       "}\n",
       "</style>\n",
       "<table id=\"T_fedc8\">\n",
       "  <thead>\n",
       "    <tr>\n",
       "      <th class=\"blank level0\" >&nbsp;</th>\n",
       "      <th id=\"T_fedc8_level0_col0\" class=\"col_heading level0 col0\" >status</th>\n",
       "    </tr>\n",
       "  </thead>\n",
       "  <tbody>\n",
       "    <tr>\n",
       "      <th id=\"T_fedc8_level0_row0\" class=\"row_heading level0 row0\" >0</th>\n",
       "      <td id=\"T_fedc8_row0_col0\" class=\"data row0 col0\" >OK</td>\n",
       "    </tr>\n",
       "  </tbody>\n",
       "</table>\n"
      ],
      "text/plain": [
       "<pandas.io.formats.style.Styler at 0x2d669656310>"
      ]
     },
     "execution_count": 101,
     "metadata": {},
     "output_type": "execute_result"
    }
   ],
   "source": [
    "::remove idx2code"
   ]
  },
  {
   "attachments": {},
   "cell_type": "markdown",
   "id": "0fdb8c97-dad0-418d-8acf-fdb0be0bb03f",
   "metadata": {},
   "source": [
    "最后，让我们确认一下确实所有表都导入了："
   ]
  },
  {
   "cell_type": "code",
   "execution_count": 102,
   "id": "0fb9089e-168d-45a5-b182-11a132b8703a",
   "metadata": {},
   "outputs": [
    {
     "data": {
      "text/html": [
       "<style type=\"text/css\">\n",
       "#T_afc33_row0_col0, #T_afc33_row0_col2, #T_afc33_row1_col0, #T_afc33_row1_col2, #T_afc33_row2_col0, #T_afc33_row2_col2, #T_afc33_row3_col0, #T_afc33_row3_col2, #T_afc33_row4_col0, #T_afc33_row4_col2 {\n",
       "  color: black;\n",
       "}\n",
       "#T_afc33_row0_col1, #T_afc33_row0_col3, #T_afc33_row0_col4, #T_afc33_row0_col5, #T_afc33_row0_col6, #T_afc33_row0_col7, #T_afc33_row1_col1, #T_afc33_row1_col3, #T_afc33_row1_col4, #T_afc33_row1_col5, #T_afc33_row1_col6, #T_afc33_row1_col7, #T_afc33_row2_col1, #T_afc33_row2_col3, #T_afc33_row2_col4, #T_afc33_row2_col5, #T_afc33_row2_col6, #T_afc33_row2_col7, #T_afc33_row3_col1, #T_afc33_row3_col3, #T_afc33_row3_col4, #T_afc33_row3_col5, #T_afc33_row3_col6, #T_afc33_row3_col7, #T_afc33_row4_col1, #T_afc33_row4_col3, #T_afc33_row4_col4, #T_afc33_row4_col5, #T_afc33_row4_col6, #T_afc33_row4_col7 {\n",
       "  color: #307fc1;\n",
       "}\n",
       "</style>\n",
       "<table id=\"T_afc33\">\n",
       "  <thead>\n",
       "    <tr>\n",
       "      <th class=\"blank level0\" >&nbsp;</th>\n",
       "      <th id=\"T_afc33_level0_col0\" class=\"col_heading level0 col0\" >name</th>\n",
       "      <th id=\"T_afc33_level0_col1\" class=\"col_heading level0 col1\" >arity</th>\n",
       "      <th id=\"T_afc33_level0_col2\" class=\"col_heading level0 col2\" >access_level</th>\n",
       "      <th id=\"T_afc33_level0_col3\" class=\"col_heading level0 col3\" >n_keys</th>\n",
       "      <th id=\"T_afc33_level0_col4\" class=\"col_heading level0 col4\" >n_non_keys</th>\n",
       "      <th id=\"T_afc33_level0_col5\" class=\"col_heading level0 col5\" >n_put_triggers</th>\n",
       "      <th id=\"T_afc33_level0_col6\" class=\"col_heading level0 col6\" >n_rm_triggers</th>\n",
       "      <th id=\"T_afc33_level0_col7\" class=\"col_heading level0 col7\" >n_replace_triggers</th>\n",
       "    </tr>\n",
       "  </thead>\n",
       "  <tbody>\n",
       "    <tr>\n",
       "      <th id=\"T_afc33_level0_row0\" class=\"row_heading level0 row0\" >0</th>\n",
       "      <td id=\"T_afc33_row0_col0\" class=\"data row0 col0\" >airport</td>\n",
       "      <td id=\"T_afc33_row0_col1\" class=\"data row0 col1\" >11</td>\n",
       "      <td id=\"T_afc33_row0_col2\" class=\"data row0 col2\" >normal</td>\n",
       "      <td id=\"T_afc33_row0_col3\" class=\"data row0 col3\" >1</td>\n",
       "      <td id=\"T_afc33_row0_col4\" class=\"data row0 col4\" >10</td>\n",
       "      <td id=\"T_afc33_row0_col5\" class=\"data row0 col5\" >0</td>\n",
       "      <td id=\"T_afc33_row0_col6\" class=\"data row0 col6\" >0</td>\n",
       "      <td id=\"T_afc33_row0_col7\" class=\"data row0 col7\" >0</td>\n",
       "    </tr>\n",
       "    <tr>\n",
       "      <th id=\"T_afc33_level0_row1\" class=\"row_heading level0 row1\" >1</th>\n",
       "      <td id=\"T_afc33_row1_col0\" class=\"data row1 col0\" >contain</td>\n",
       "      <td id=\"T_afc33_row1_col1\" class=\"data row1 col1\" >2</td>\n",
       "      <td id=\"T_afc33_row1_col2\" class=\"data row1 col2\" >normal</td>\n",
       "      <td id=\"T_afc33_row1_col3\" class=\"data row1 col3\" >2</td>\n",
       "      <td id=\"T_afc33_row1_col4\" class=\"data row1 col4\" >0</td>\n",
       "      <td id=\"T_afc33_row1_col5\" class=\"data row1 col5\" >0</td>\n",
       "      <td id=\"T_afc33_row1_col6\" class=\"data row1 col6\" >0</td>\n",
       "      <td id=\"T_afc33_row1_col7\" class=\"data row1 col7\" >0</td>\n",
       "    </tr>\n",
       "    <tr>\n",
       "      <th id=\"T_afc33_level0_row2\" class=\"row_heading level0 row2\" >2</th>\n",
       "      <td id=\"T_afc33_row2_col0\" class=\"data row2 col0\" >continent</td>\n",
       "      <td id=\"T_afc33_row2_col1\" class=\"data row2 col1\" >2</td>\n",
       "      <td id=\"T_afc33_row2_col2\" class=\"data row2 col2\" >normal</td>\n",
       "      <td id=\"T_afc33_row2_col3\" class=\"data row2 col3\" >1</td>\n",
       "      <td id=\"T_afc33_row2_col4\" class=\"data row2 col4\" >1</td>\n",
       "      <td id=\"T_afc33_row2_col5\" class=\"data row2 col5\" >0</td>\n",
       "      <td id=\"T_afc33_row2_col6\" class=\"data row2 col6\" >0</td>\n",
       "      <td id=\"T_afc33_row2_col7\" class=\"data row2 col7\" >0</td>\n",
       "    </tr>\n",
       "    <tr>\n",
       "      <th id=\"T_afc33_level0_row3\" class=\"row_heading level0 row3\" >3</th>\n",
       "      <td id=\"T_afc33_row3_col0\" class=\"data row3 col0\" >country</td>\n",
       "      <td id=\"T_afc33_row3_col1\" class=\"data row3 col1\" >2</td>\n",
       "      <td id=\"T_afc33_row3_col2\" class=\"data row3 col2\" >normal</td>\n",
       "      <td id=\"T_afc33_row3_col3\" class=\"data row3 col3\" >1</td>\n",
       "      <td id=\"T_afc33_row3_col4\" class=\"data row3 col4\" >1</td>\n",
       "      <td id=\"T_afc33_row3_col5\" class=\"data row3 col5\" >0</td>\n",
       "      <td id=\"T_afc33_row3_col6\" class=\"data row3 col6\" >0</td>\n",
       "      <td id=\"T_afc33_row3_col7\" class=\"data row3 col7\" >0</td>\n",
       "    </tr>\n",
       "    <tr>\n",
       "      <th id=\"T_afc33_level0_row4\" class=\"row_heading level0 row4\" >4</th>\n",
       "      <td id=\"T_afc33_row4_col0\" class=\"data row4 col0\" >route</td>\n",
       "      <td id=\"T_afc33_row4_col1\" class=\"data row4 col1\" >3</td>\n",
       "      <td id=\"T_afc33_row4_col2\" class=\"data row4 col2\" >normal</td>\n",
       "      <td id=\"T_afc33_row4_col3\" class=\"data row4 col3\" >2</td>\n",
       "      <td id=\"T_afc33_row4_col4\" class=\"data row4 col4\" >1</td>\n",
       "      <td id=\"T_afc33_row4_col5\" class=\"data row4 col5\" >0</td>\n",
       "      <td id=\"T_afc33_row4_col6\" class=\"data row4 col6\" >0</td>\n",
       "      <td id=\"T_afc33_row4_col7\" class=\"data row4 col7\" >0</td>\n",
       "    </tr>\n",
       "  </tbody>\n",
       "</table>\n"
      ],
      "text/plain": [
       "<pandas.io.formats.style.Styler at 0x2d66baee7d0>"
      ]
     },
     "execution_count": 102,
     "metadata": {},
     "output_type": "execute_result"
    }
   ],
   "source": [
    "::relations"
   ]
  },
  {
   "attachments": {},
   "cell_type": "markdown",
   "id": "cfac1174-928d-48f8-8ba9-b86401f9de0d",
   "metadata": {},
   "source": [
    "教程至此结束！"
   ]
  }
 ],
 "metadata": {
  "kernelspec": {
   "display_name": "Python 3 (ipykernel)",
   "language": "python",
   "name": "python3"
  },
  "language_info": {
   "codemirror_mode": {
    "name": "ipython",
    "version": 3
   },
   "file_extension": ".py",
   "mimetype": "text/x-python",
   "name": "python",
   "nbconvert_exporter": "python",
   "pygments_lexer": "ipython3",
   "version": "3.11.0"
  }
 },
 "nbformat": 4,
 "nbformat_minor": 5
}
