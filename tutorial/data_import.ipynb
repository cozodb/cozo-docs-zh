{
 "cells": [
  {
   "cell_type": "markdown",
   "id": "8d94fe91-be14-4a30-9d42-40db9cdbda4f",
   "metadata": {},
   "source": [
    "# Importing the air-routes dataset\n",
    "\n",
    "In the [tutorial](tutorial.ipynb), we imported the air-routes dataset by using Python under the hood to download a specially-crafted JSON file and feed it to the database.\n",
    "Here we learn how to achieve the same effect by letting Cozo fetch and import a series of CSV files, without Python's help.\n",
    "\n",
    "Let's set the database magic up first:"
   ]
  },
  {
   "cell_type": "code",
   "execution_count": 1,
   "id": "02f083f6-924a-47b5-ab7e-ae7454cf45ad",
   "metadata": {},
   "outputs": [],
   "source": [
    "%load_ext pycozo.ipyext_direct"
   ]
  },
  {
   "cell_type": "markdown",
   "id": "bee22b32-d580-43d1-8171-cb4ac3b1e20c",
   "metadata": {},
   "source": [
    "Next, some parameters to make life eaiser (the lines commented out do the same thing by processing local files):"
   ]
  },
  {
   "cell_type": "code",
   "execution_count": 2,
   "id": "49d974f1-3c92-4638-92f3-64d3a504f76b",
   "metadata": {},
   "outputs": [],
   "source": [
    "%cozo_set AIR_ROUTES_NODES_URL 'https://raw.githubusercontent.com/cozodb/cozo/dev/cozo-core/tests/air-routes-latest-nodes.csv'\n",
    "%cozo_set AIR_ROUTES_EDGES_URL 'https://raw.githubusercontent.com/cozodb/cozo/dev/cozo-core/tests/air-routes-latest-edges.csv'\n",
    "# %cozo_set AIR_ROUTES_NODES_URL 'file://./../../cozo/cozo-core/tests/air-routes-latest-nodes.csv'\n",
    "# %cozo_set AIR_ROUTES_EDGES_URL 'file://./../../cozo/cozo-core/tests/air-routes-latest-edges.csv'"
   ]
  },
  {
   "cell_type": "markdown",
   "id": "61bb9b53-93b3-4608-b3c0-c684bb9d689b",
   "metadata": {},
   "source": [
    "First, import the `airport` relation:"
   ]
  },
  {
   "cell_type": "code",
   "execution_count": 3,
   "id": "43430c1d-d10e-4efc-99cf-4e7b39719975",
   "metadata": {},
   "outputs": [
    {
     "data": {
      "text/plain": [
       "\n",
       "  \u001b[31m×\u001b[0m when requesting URL https://raw.githubusercontent.com/cozodb/cozo/dev/cozo-core/tests/air-routes-latest-nodes.csv\n",
       "\u001b[31m  ╰─▶ \u001b[0mConnection refused (os error 61)\n"
      ]
     },
     "execution_count": 3,
     "metadata": {},
     "output_type": "execute_result"
    }
   ],
   "source": [
    "res[idx, label, typ, code, icao, desc, region, runways, longest, elev, country, city, lat, lon] <~\n",
    "    CsvReader(types: ['Int', 'Any', 'Any', 'Any', 'Any', 'Any', 'Any', 'Int?', 'Float?', 'Float?', 'Any', 'Any', 'Float?', 'Float?'],\n",
    "              url: $AIR_ROUTES_NODES_URL, \n",
    "              has_headers: true)\n",
    "\n",
    "?[code, icao, desc, region, runways, longest, elev, country, city, lat, lon] :=\n",
    "    res[idx, label, typ, code, icao, desc, region, runways, longest, elev, country, city, lat, lon],\n",
    "    label == 'airport'\n",
    "\n",
    ":replace airport {\n",
    "    code: String \n",
    "    => \n",
    "    icao: String, \n",
    "    desc: String, \n",
    "    region: String, \n",
    "    runways: Int, \n",
    "    longest: Float, \n",
    "    elev: Float, \n",
    "    country: String, \n",
    "    city: String, \n",
    "    lat: Float, \n",
    "    lon: Float\n",
    "}"
   ]
  },
  {
   "cell_type": "markdown",
   "id": "073db89d-f3e7-40df-9f84-48842d86e0a5",
   "metadata": {},
   "source": [
    "The `CsvReader` utility downloads a CSV file from the internet and attempts to parse its content into a relation.\n",
    "When we store the relation, we specified types for the columns. The `code` column acts as a primary key for the `airport` stored relation.\n",
    "\n",
    "Next is `country`:"
   ]
  },
  {
   "cell_type": "code",
   "execution_count": 4,
   "id": "a3305357-9fc3-4e6c-b10d-7a8dc45e3cd4",
   "metadata": {},
   "outputs": [
    {
     "data": {
      "text/html": [
       "<style type=\"text/css\">\n",
       "#T_ace72_row0_col0 {\n",
       "  color: black;\n",
       "}\n",
       "</style>\n",
       "<table id=\"T_ace72\">\n",
       "  <thead>\n",
       "    <tr>\n",
       "      <th class=\"blank level0\" >&nbsp;</th>\n",
       "      <th id=\"T_ace72_level0_col0\" class=\"col_heading level0 col0\" >status</th>\n",
       "    </tr>\n",
       "  </thead>\n",
       "  <tbody>\n",
       "    <tr>\n",
       "      <th id=\"T_ace72_level0_row0\" class=\"row_heading level0 row0\" >0</th>\n",
       "      <td id=\"T_ace72_row0_col0\" class=\"data row0 col0\" >OK</td>\n",
       "    </tr>\n",
       "  </tbody>\n",
       "</table>\n"
      ],
      "text/plain": [
       "<pandas.io.formats.style.Styler at 0x1053b9480>"
      ]
     },
     "execution_count": 4,
     "metadata": {},
     "output_type": "execute_result"
    }
   ],
   "source": [
    "res[idx, label, typ, code, icao, desc] <~\n",
    "    CsvReader(types: ['Int', 'Any', 'Any', 'Any', 'Any', 'Any'],\n",
    "              url: $AIR_ROUTES_NODES_URL, \n",
    "              has_headers: true)\n",
    "?[code, desc] :=\n",
    "    res[idx, label, typ, code, icao, desc],\n",
    "    label == 'country'\n",
    "\n",
    ":replace country {\n",
    "    code: String\n",
    "    =>\n",
    "    desc: String\n",
    "}"
   ]
  },
  {
   "cell_type": "markdown",
   "id": "8e94fbeb-d7c9-4875-8f56-ede74e2bca01",
   "metadata": {},
   "source": [
    "`continent`:"
   ]
  },
  {
   "cell_type": "code",
   "execution_count": 5,
   "id": "d9b4ccd9-cfc2-44fd-ac7f-9eeb90098d94",
   "metadata": {},
   "outputs": [
    {
     "data": {
      "text/html": [
       "<style type=\"text/css\">\n",
       "#T_3793d_row0_col0 {\n",
       "  color: black;\n",
       "}\n",
       "</style>\n",
       "<table id=\"T_3793d\">\n",
       "  <thead>\n",
       "    <tr>\n",
       "      <th class=\"blank level0\" >&nbsp;</th>\n",
       "      <th id=\"T_3793d_level0_col0\" class=\"col_heading level0 col0\" >status</th>\n",
       "    </tr>\n",
       "  </thead>\n",
       "  <tbody>\n",
       "    <tr>\n",
       "      <th id=\"T_3793d_level0_row0\" class=\"row_heading level0 row0\" >0</th>\n",
       "      <td id=\"T_3793d_row0_col0\" class=\"data row0 col0\" >OK</td>\n",
       "    </tr>\n",
       "  </tbody>\n",
       "</table>\n"
      ],
      "text/plain": [
       "<pandas.io.formats.style.Styler at 0x12c4dba30>"
      ]
     },
     "execution_count": 5,
     "metadata": {},
     "output_type": "execute_result"
    }
   ],
   "source": [
    "res[idx, label, typ, code, icao, desc] <~\n",
    "    CsvReader(types: ['Int', 'Any', 'Any', 'Any', 'Any', 'Any'],\n",
    "              url: $AIR_ROUTES_NODES_URL, \n",
    "              has_headers: true)\n",
    "?[idx, code, desc] :=\n",
    "    res[idx, label, typ, code, icao, desc],\n",
    "    label == 'continent'\n",
    "\n",
    ":replace continent {\n",
    "    code: String\n",
    "    =>\n",
    "    desc: String\n",
    "}"
   ]
  },
  {
   "cell_type": "markdown",
   "id": "feed26c1-1542-40dd-a44e-43ca3fe17328",
   "metadata": {},
   "source": [
    "We need to make a translation table for the indices the data use:"
   ]
  },
  {
   "cell_type": "code",
   "execution_count": 6,
   "id": "0f7e15d1-1b98-43a2-8c25-6f554ce0fa38",
   "metadata": {},
   "outputs": [
    {
     "data": {
      "text/html": [
       "<style type=\"text/css\">\n",
       "#T_000ad_row0_col0 {\n",
       "  color: black;\n",
       "}\n",
       "</style>\n",
       "<table id=\"T_000ad\">\n",
       "  <thead>\n",
       "    <tr>\n",
       "      <th class=\"blank level0\" >&nbsp;</th>\n",
       "      <th id=\"T_000ad_level0_col0\" class=\"col_heading level0 col0\" >status</th>\n",
       "    </tr>\n",
       "  </thead>\n",
       "  <tbody>\n",
       "    <tr>\n",
       "      <th id=\"T_000ad_level0_row0\" class=\"row_heading level0 row0\" >0</th>\n",
       "      <td id=\"T_000ad_row0_col0\" class=\"data row0 col0\" >OK</td>\n",
       "    </tr>\n",
       "  </tbody>\n",
       "</table>\n"
      ],
      "text/plain": [
       "<pandas.io.formats.style.Styler at 0x1053b93f0>"
      ]
     },
     "execution_count": 6,
     "metadata": {},
     "output_type": "execute_result"
    }
   ],
   "source": [
    "res[idx, label, typ, code] <~\n",
    "    CsvReader(types: ['Int', 'Any', 'Any', 'Any'],\n",
    "              url: $AIR_ROUTES_NODES_URL, \n",
    "              has_headers: true)\n",
    "?[idx, code] :=\n",
    "    res[idx, label, typ, code],\n",
    "\n",
    ":replace idx2code { idx => code }"
   ]
  },
  {
   "cell_type": "markdown",
   "id": "3859592b-1d46-43f4-9663-95658de89f07",
   "metadata": {},
   "source": [
    "The `contain` relation contains information on the geographical inclusion of entities:"
   ]
  },
  {
   "cell_type": "code",
   "execution_count": 7,
   "id": "495d08e5-8605-491c-873b-e185ecde0837",
   "metadata": {},
   "outputs": [
    {
     "data": {
      "text/html": [
       "<style type=\"text/css\">\n",
       "#T_e23bb_row0_col0 {\n",
       "  color: black;\n",
       "}\n",
       "</style>\n",
       "<table id=\"T_e23bb\">\n",
       "  <thead>\n",
       "    <tr>\n",
       "      <th class=\"blank level0\" >&nbsp;</th>\n",
       "      <th id=\"T_e23bb_level0_col0\" class=\"col_heading level0 col0\" >status</th>\n",
       "    </tr>\n",
       "  </thead>\n",
       "  <tbody>\n",
       "    <tr>\n",
       "      <th id=\"T_e23bb_level0_row0\" class=\"row_heading level0 row0\" >0</th>\n",
       "      <td id=\"T_e23bb_row0_col0\" class=\"data row0 col0\" >OK</td>\n",
       "    </tr>\n",
       "  </tbody>\n",
       "</table>\n"
      ],
      "text/plain": [
       "<pandas.io.formats.style.Styler at 0x1053b9450>"
      ]
     },
     "execution_count": 7,
     "metadata": {},
     "output_type": "execute_result"
    }
   ],
   "source": [
    "res[] <~\n",
    "    CsvReader(types: ['Int', 'Int', 'Int', 'String'],\n",
    "              url: $AIR_ROUTES_EDGES_URL, \n",
    "              has_headers: true)\n",
    "?[entity, contained] :=\n",
    "    res[idx, fr_i, to_i, typ],\n",
    "    typ == 'contains',\n",
    "    *idx2code[fr_i, entity],\n",
    "    *idx2code[to_i, contained]\n",
    "\n",
    "\n",
    ":replace contain { entity: String, contained: String }"
   ]
  },
  {
   "cell_type": "markdown",
   "id": "2d96f2cb-259b-4a07-84dd-60fc3aa33fce",
   "metadata": {},
   "source": [
    "Finally, the `route`s between the airports. This relation is much larger than the rest and contains about 60k rows:"
   ]
  },
  {
   "cell_type": "code",
   "execution_count": 8,
   "id": "735b50fb-3dea-4d4e-b785-dd43236e42d4",
   "metadata": {},
   "outputs": [
    {
     "data": {
      "text/html": [
       "<style type=\"text/css\">\n",
       "#T_4564b_row0_col0 {\n",
       "  color: black;\n",
       "}\n",
       "</style>\n",
       "<table id=\"T_4564b\">\n",
       "  <thead>\n",
       "    <tr>\n",
       "      <th class=\"blank level0\" >&nbsp;</th>\n",
       "      <th id=\"T_4564b_level0_col0\" class=\"col_heading level0 col0\" >status</th>\n",
       "    </tr>\n",
       "  </thead>\n",
       "  <tbody>\n",
       "    <tr>\n",
       "      <th id=\"T_4564b_level0_row0\" class=\"row_heading level0 row0\" >0</th>\n",
       "      <td id=\"T_4564b_row0_col0\" class=\"data row0 col0\" >OK</td>\n",
       "    </tr>\n",
       "  </tbody>\n",
       "</table>\n"
      ],
      "text/plain": [
       "<pandas.io.formats.style.Styler at 0x1053bb0a0>"
      ]
     },
     "execution_count": 8,
     "metadata": {},
     "output_type": "execute_result"
    }
   ],
   "source": [
    "res[] <~\n",
    "    CsvReader(types: ['Int', 'Int', 'Int', 'String', 'Float?'],\n",
    "              url: $AIR_ROUTES_EDGES_URL, \n",
    "              has_headers: true)\n",
    "?[fr, to, dist] :=\n",
    "    res[idx, fr_i, to_i, typ, dist],\n",
    "    typ == 'route',\n",
    "    *idx2code[fr_i, fr],\n",
    "    *idx2code[to_i, to]\n",
    "\n",
    ":replace route { fr: String, to: String => dist: Float }"
   ]
  },
  {
   "cell_type": "markdown",
   "id": "a20b26bc-d96b-492f-8fc8-05d5ab708d44",
   "metadata": {},
   "source": [
    "We no longer need the `idx2code` relation:"
   ]
  },
  {
   "cell_type": "code",
   "execution_count": 9,
   "id": "5c902c38-e798-4264-9652-541d9f98747c",
   "metadata": {},
   "outputs": [
    {
     "data": {
      "text/html": [
       "<style type=\"text/css\">\n",
       "#T_8b28c_row0_col0 {\n",
       "  color: black;\n",
       "}\n",
       "</style>\n",
       "<table id=\"T_8b28c\">\n",
       "  <thead>\n",
       "    <tr>\n",
       "      <th class=\"blank level0\" >&nbsp;</th>\n",
       "      <th id=\"T_8b28c_level0_col0\" class=\"col_heading level0 col0\" >status</th>\n",
       "    </tr>\n",
       "  </thead>\n",
       "  <tbody>\n",
       "    <tr>\n",
       "      <th id=\"T_8b28c_level0_row0\" class=\"row_heading level0 row0\" >0</th>\n",
       "      <td id=\"T_8b28c_row0_col0\" class=\"data row0 col0\" >OK</td>\n",
       "    </tr>\n",
       "  </tbody>\n",
       "</table>\n"
      ],
      "text/plain": [
       "<pandas.io.formats.style.Styler at 0x12c536ce0>"
      ]
     },
     "execution_count": 9,
     "metadata": {},
     "output_type": "execute_result"
    }
   ],
   "source": [
    "::remove idx2code"
   ]
  },
  {
   "cell_type": "markdown",
   "id": "a9100989-80b2-477e-9dbe-3ddef25fbb5b",
   "metadata": {},
   "source": [
    "Let's verify all the relations we want are there:"
   ]
  },
  {
   "cell_type": "code",
   "execution_count": 10,
   "id": "9e16f5d3-8bcb-4b5f-896f-f3fbdb76df69",
   "metadata": {},
   "outputs": [
    {
     "data": {
      "text/html": [
       "<style type=\"text/css\">\n",
       "#T_80610_row0_col0, #T_80610_row0_col2, #T_80610_row1_col0, #T_80610_row1_col2, #T_80610_row2_col0, #T_80610_row2_col2, #T_80610_row3_col0, #T_80610_row3_col2, #T_80610_row4_col0, #T_80610_row4_col2 {\n",
       "  color: black;\n",
       "}\n",
       "#T_80610_row0_col1, #T_80610_row0_col3, #T_80610_row0_col4, #T_80610_row0_col5, #T_80610_row0_col6, #T_80610_row0_col7, #T_80610_row1_col1, #T_80610_row1_col3, #T_80610_row1_col4, #T_80610_row1_col5, #T_80610_row1_col6, #T_80610_row1_col7, #T_80610_row2_col1, #T_80610_row2_col3, #T_80610_row2_col4, #T_80610_row2_col5, #T_80610_row2_col6, #T_80610_row2_col7, #T_80610_row3_col1, #T_80610_row3_col3, #T_80610_row3_col4, #T_80610_row3_col5, #T_80610_row3_col6, #T_80610_row3_col7, #T_80610_row4_col1, #T_80610_row4_col3, #T_80610_row4_col4, #T_80610_row4_col5, #T_80610_row4_col6, #T_80610_row4_col7 {\n",
       "  color: #307fc1;\n",
       "}\n",
       "</style>\n",
       "<table id=\"T_80610\">\n",
       "  <thead>\n",
       "    <tr>\n",
       "      <th class=\"blank level0\" >&nbsp;</th>\n",
       "      <th id=\"T_80610_level0_col0\" class=\"col_heading level0 col0\" >name</th>\n",
       "      <th id=\"T_80610_level0_col1\" class=\"col_heading level0 col1\" >arity</th>\n",
       "      <th id=\"T_80610_level0_col2\" class=\"col_heading level0 col2\" >access_level</th>\n",
       "      <th id=\"T_80610_level0_col3\" class=\"col_heading level0 col3\" >n_keys</th>\n",
       "      <th id=\"T_80610_level0_col4\" class=\"col_heading level0 col4\" >n_non_keys</th>\n",
       "      <th id=\"T_80610_level0_col5\" class=\"col_heading level0 col5\" >n_put_triggers</th>\n",
       "      <th id=\"T_80610_level0_col6\" class=\"col_heading level0 col6\" >n_rm_triggers</th>\n",
       "      <th id=\"T_80610_level0_col7\" class=\"col_heading level0 col7\" >n_replace_triggers</th>\n",
       "    </tr>\n",
       "  </thead>\n",
       "  <tbody>\n",
       "    <tr>\n",
       "      <th id=\"T_80610_level0_row0\" class=\"row_heading level0 row0\" >0</th>\n",
       "      <td id=\"T_80610_row0_col0\" class=\"data row0 col0\" >airport</td>\n",
       "      <td id=\"T_80610_row0_col1\" class=\"data row0 col1\" >11</td>\n",
       "      <td id=\"T_80610_row0_col2\" class=\"data row0 col2\" >normal</td>\n",
       "      <td id=\"T_80610_row0_col3\" class=\"data row0 col3\" >1</td>\n",
       "      <td id=\"T_80610_row0_col4\" class=\"data row0 col4\" >10</td>\n",
       "      <td id=\"T_80610_row0_col5\" class=\"data row0 col5\" >0</td>\n",
       "      <td id=\"T_80610_row0_col6\" class=\"data row0 col6\" >0</td>\n",
       "      <td id=\"T_80610_row0_col7\" class=\"data row0 col7\" >0</td>\n",
       "    </tr>\n",
       "    <tr>\n",
       "      <th id=\"T_80610_level0_row1\" class=\"row_heading level0 row1\" >1</th>\n",
       "      <td id=\"T_80610_row1_col0\" class=\"data row1 col0\" >contain</td>\n",
       "      <td id=\"T_80610_row1_col1\" class=\"data row1 col1\" >2</td>\n",
       "      <td id=\"T_80610_row1_col2\" class=\"data row1 col2\" >normal</td>\n",
       "      <td id=\"T_80610_row1_col3\" class=\"data row1 col3\" >2</td>\n",
       "      <td id=\"T_80610_row1_col4\" class=\"data row1 col4\" >0</td>\n",
       "      <td id=\"T_80610_row1_col5\" class=\"data row1 col5\" >0</td>\n",
       "      <td id=\"T_80610_row1_col6\" class=\"data row1 col6\" >0</td>\n",
       "      <td id=\"T_80610_row1_col7\" class=\"data row1 col7\" >0</td>\n",
       "    </tr>\n",
       "    <tr>\n",
       "      <th id=\"T_80610_level0_row2\" class=\"row_heading level0 row2\" >2</th>\n",
       "      <td id=\"T_80610_row2_col0\" class=\"data row2 col0\" >continent</td>\n",
       "      <td id=\"T_80610_row2_col1\" class=\"data row2 col1\" >2</td>\n",
       "      <td id=\"T_80610_row2_col2\" class=\"data row2 col2\" >normal</td>\n",
       "      <td id=\"T_80610_row2_col3\" class=\"data row2 col3\" >1</td>\n",
       "      <td id=\"T_80610_row2_col4\" class=\"data row2 col4\" >1</td>\n",
       "      <td id=\"T_80610_row2_col5\" class=\"data row2 col5\" >0</td>\n",
       "      <td id=\"T_80610_row2_col6\" class=\"data row2 col6\" >0</td>\n",
       "      <td id=\"T_80610_row2_col7\" class=\"data row2 col7\" >0</td>\n",
       "    </tr>\n",
       "    <tr>\n",
       "      <th id=\"T_80610_level0_row3\" class=\"row_heading level0 row3\" >3</th>\n",
       "      <td id=\"T_80610_row3_col0\" class=\"data row3 col0\" >country</td>\n",
       "      <td id=\"T_80610_row3_col1\" class=\"data row3 col1\" >2</td>\n",
       "      <td id=\"T_80610_row3_col2\" class=\"data row3 col2\" >normal</td>\n",
       "      <td id=\"T_80610_row3_col3\" class=\"data row3 col3\" >1</td>\n",
       "      <td id=\"T_80610_row3_col4\" class=\"data row3 col4\" >1</td>\n",
       "      <td id=\"T_80610_row3_col5\" class=\"data row3 col5\" >0</td>\n",
       "      <td id=\"T_80610_row3_col6\" class=\"data row3 col6\" >0</td>\n",
       "      <td id=\"T_80610_row3_col7\" class=\"data row3 col7\" >0</td>\n",
       "    </tr>\n",
       "    <tr>\n",
       "      <th id=\"T_80610_level0_row4\" class=\"row_heading level0 row4\" >4</th>\n",
       "      <td id=\"T_80610_row4_col0\" class=\"data row4 col0\" >route</td>\n",
       "      <td id=\"T_80610_row4_col1\" class=\"data row4 col1\" >3</td>\n",
       "      <td id=\"T_80610_row4_col2\" class=\"data row4 col2\" >normal</td>\n",
       "      <td id=\"T_80610_row4_col3\" class=\"data row4 col3\" >2</td>\n",
       "      <td id=\"T_80610_row4_col4\" class=\"data row4 col4\" >1</td>\n",
       "      <td id=\"T_80610_row4_col5\" class=\"data row4 col5\" >0</td>\n",
       "      <td id=\"T_80610_row4_col6\" class=\"data row4 col6\" >0</td>\n",
       "      <td id=\"T_80610_row4_col7\" class=\"data row4 col7\" >0</td>\n",
       "    </tr>\n",
       "  </tbody>\n",
       "</table>\n"
      ],
      "text/plain": [
       "<pandas.io.formats.style.Styler at 0x12c5340a0>"
      ]
     },
     "execution_count": 10,
     "metadata": {},
     "output_type": "execute_result"
    }
   ],
   "source": [
    "::relations"
   ]
  },
  {
   "cell_type": "markdown",
   "id": "c2c1ad15-159a-48a7-8043-d7c176471829",
   "metadata": {},
   "source": [
    "Done!"
   ]
  },
  {
   "cell_type": "code",
   "execution_count": null,
   "id": "a36297cc-3b68-4d89-aa84-2e5890224b30",
   "metadata": {},
   "outputs": [],
   "source": []
  }
 ],
 "metadata": {
  "kernelspec": {
   "display_name": "Python 3 (ipykernel)",
   "language": "python",
   "name": "python3"
  },
  "language_info": {
   "codemirror_mode": {
    "name": "ipython",
    "version": 3
   },
   "file_extension": ".py",
   "mimetype": "text/x-python",
   "name": "python",
   "nbconvert_exporter": "python",
   "pygments_lexer": "ipython3",
   "version": "3.10.6"
  }
 },
 "nbformat": 4,
 "nbformat_minor": 5
}
