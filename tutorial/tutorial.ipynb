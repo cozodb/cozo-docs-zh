{
 "cells": [
  {
   "attachments": {},
   "cell_type": "markdown",
   "id": "3df9ce6e-3722-4334-abf9-703d62c27eab",
   "metadata": {},
   "source": [
    "# Tutorial\n",
    "\n",
    "This tutorial will teach you the basics of using the Cozo database.\n",
    "\n",
    "You should open [Cozo in WASM](https://cozodb.github.io/wasm-demo/) in a separate browser window and run the queries as you go along. \n",
    "If you are familiar with the Python datascience stack, you should following the instruction [here](https://github.com/cozodb/pycozo) instead\n",
    "to run this notebook in Jupyter.\n",
    "\n",
    "The following cell is to set up the Jupyter notebook. Ignore if you are using the browser."
   ]
  },
  {
   "cell_type": "code",
   "execution_count": 1,
   "id": "2e0d11d7-64d7-4577-a28d-7541ee8875fa",
   "metadata": {},
   "outputs": [],
   "source": [
    "%load_ext pycozo.ipyext_direct"
   ]
  },
  {
   "cell_type": "markdown",
   "id": "545ed77c-eeb9-4008-972e-0bdc1d6b7478",
   "metadata": {},
   "source": [
    "## Hello world relations\n",
    "\n",
    "Cozo is a relational database. The \"hello world\" query"
   ]
  },
  {
   "cell_type": "code",
   "execution_count": 2,
   "id": "30b8148b-4daa-4de0-a844-d8254a07d990",
   "metadata": {},
   "outputs": [
    {
     "data": {
      "text/html": [
       "<style type=\"text/css\">\n",
       "#T_1a4d6_row0_col0, #T_1a4d6_row0_col1, #T_1a4d6_row0_col2 {\n",
       "  color: black;\n",
       "}\n",
       "</style>\n",
       "<table id=\"T_1a4d6\">\n",
       "  <thead>\n",
       "    <tr>\n",
       "      <th class=\"blank level0\" >&nbsp;</th>\n",
       "      <th id=\"T_1a4d6_level0_col0\" class=\"col_heading level0 col0\" >_0</th>\n",
       "      <th id=\"T_1a4d6_level0_col1\" class=\"col_heading level0 col1\" >_1</th>\n",
       "      <th id=\"T_1a4d6_level0_col2\" class=\"col_heading level0 col2\" >_2</th>\n",
       "    </tr>\n",
       "  </thead>\n",
       "  <tbody>\n",
       "    <tr>\n",
       "      <th id=\"T_1a4d6_level0_row0\" class=\"row_heading level0 row0\" >0</th>\n",
       "      <td id=\"T_1a4d6_row0_col0\" class=\"data row0 col0\" >hello</td>\n",
       "      <td id=\"T_1a4d6_row0_col1\" class=\"data row0 col1\" >world</td>\n",
       "      <td id=\"T_1a4d6_row0_col2\" class=\"data row0 col2\" >Cozo!</td>\n",
       "    </tr>\n",
       "  </tbody>\n",
       "</table>\n"
      ],
      "text/plain": [
       "<pandas.io.formats.style.Styler at 0x1062ad570>"
      ]
     },
     "execution_count": 2,
     "metadata": {},
     "output_type": "execute_result"
    }
   ],
   "source": [
    "?[] <- [['hello', 'world', 'Cozo!']]"
   ]
  },
  {
   "cell_type": "markdown",
   "id": "a7de1353-7970-41ee-843e-cbe6287ded8d",
   "metadata": {},
   "source": [
    "simply passes an ad hoc relation represented by a list of lists to the database, and the database echoes it back.\n",
    "\n",
    "You can pass more rows, or a different number of columns:"
   ]
  },
  {
   "cell_type": "code",
   "execution_count": 3,
   "id": "27995b4b-35b3-427f-af32-c3945d177463",
   "metadata": {},
   "outputs": [
    {
     "data": {
      "text/html": [
       "<style type=\"text/css\">\n",
       "#T_dd8c1_row0_col0, #T_dd8c1_row0_col1, #T_dd8c1_row0_col2 {\n",
       "  color: #307fc1;\n",
       "}\n",
       "#T_dd8c1_row1_col0, #T_dd8c1_row1_col1, #T_dd8c1_row1_col2 {\n",
       "  color: black;\n",
       "}\n",
       "</style>\n",
       "<table id=\"T_dd8c1\">\n",
       "  <thead>\n",
       "    <tr>\n",
       "      <th class=\"blank level0\" >&nbsp;</th>\n",
       "      <th id=\"T_dd8c1_level0_col0\" class=\"col_heading level0 col0\" >_0</th>\n",
       "      <th id=\"T_dd8c1_level0_col1\" class=\"col_heading level0 col1\" >_1</th>\n",
       "      <th id=\"T_dd8c1_level0_col2\" class=\"col_heading level0 col2\" >_2</th>\n",
       "    </tr>\n",
       "  </thead>\n",
       "  <tbody>\n",
       "    <tr>\n",
       "      <th id=\"T_dd8c1_level0_row0\" class=\"row_heading level0 row0\" >0</th>\n",
       "      <td id=\"T_dd8c1_row0_col0\" class=\"data row0 col0\" >1</td>\n",
       "      <td id=\"T_dd8c1_row0_col1\" class=\"data row0 col1\" >2</td>\n",
       "      <td id=\"T_dd8c1_row0_col2\" class=\"data row0 col2\" >3</td>\n",
       "    </tr>\n",
       "    <tr>\n",
       "      <th id=\"T_dd8c1_level0_row1\" class=\"row_heading level0 row1\" >1</th>\n",
       "      <td id=\"T_dd8c1_row1_col0\" class=\"data row1 col0\" >a</td>\n",
       "      <td id=\"T_dd8c1_row1_col1\" class=\"data row1 col1\" >b</td>\n",
       "      <td id=\"T_dd8c1_row1_col2\" class=\"data row1 col2\" >c</td>\n",
       "    </tr>\n",
       "  </tbody>\n",
       "</table>\n"
      ],
      "text/plain": [
       "<pandas.io.formats.style.Styler at 0x11f53bdf0>"
      ]
     },
     "execution_count": 3,
     "metadata": {},
     "output_type": "execute_result"
    }
   ],
   "source": [
    "?[] <- [[1, 2, 3], ['a', 'b', 'c']]"
   ]
  },
  {
   "cell_type": "markdown",
   "id": "f56c15a0-8359-4d90-b35d-aa21991acb96",
   "metadata": {},
   "source": [
    "This example shows how to enter literals for numbers, strings, booleans and `null`:"
   ]
  },
  {
   "cell_type": "code",
   "execution_count": 4,
   "id": "54901c40-ff7e-4c26-bfed-0d38aa7a80dc",
   "metadata": {},
   "outputs": [
    {
     "data": {
      "text/html": [
       "<style type=\"text/css\">\n",
       "#T_cd2ad_row0_col0, #T_cd2ad_row0_col1, #T_cd2ad_row0_col3, #T_cd2ad_row1_col0, #T_cd2ad_row1_col1, #T_cd2ad_row1_col2, #T_cd2ad_row1_col3, #T_cd2ad_row1_col4 {\n",
       "  color: #307fc1;\n",
       "}\n",
       "#T_cd2ad_row0_col2 {\n",
       "  color: #bf5b3d;\n",
       "}\n",
       "#T_cd2ad_row0_col4, #T_cd2ad_row2_col0, #T_cd2ad_row2_col1, #T_cd2ad_row2_col2, #T_cd2ad_row2_col3, #T_cd2ad_row2_col4 {\n",
       "  color: black;\n",
       "}\n",
       "</style>\n",
       "<table id=\"T_cd2ad\">\n",
       "  <thead>\n",
       "    <tr>\n",
       "      <th class=\"blank level0\" >&nbsp;</th>\n",
       "      <th id=\"T_cd2ad_level0_col0\" class=\"col_heading level0 col0\" >_0</th>\n",
       "      <th id=\"T_cd2ad_level0_col1\" class=\"col_heading level0 col1\" >_1</th>\n",
       "      <th id=\"T_cd2ad_level0_col2\" class=\"col_heading level0 col2\" >_2</th>\n",
       "      <th id=\"T_cd2ad_level0_col3\" class=\"col_heading level0 col3\" >_3</th>\n",
       "      <th id=\"T_cd2ad_level0_col4\" class=\"col_heading level0 col4\" >_4</th>\n",
       "    </tr>\n",
       "  </thead>\n",
       "  <tbody>\n",
       "    <tr>\n",
       "      <th id=\"T_cd2ad_level0_row0\" class=\"row_heading level0 row0\" >0</th>\n",
       "      <td id=\"T_cd2ad_row0_col0\" class=\"data row0 col0\" >True</td>\n",
       "      <td id=\"T_cd2ad_row0_col1\" class=\"data row0 col1\" >False</td>\n",
       "      <td id=\"T_cd2ad_row0_col2\" class=\"data row0 col2\" >None</td>\n",
       "      <td id=\"T_cd2ad_row0_col3\" class=\"data row0 col3\" >-0.014000</td>\n",
       "      <td id=\"T_cd2ad_row0_col4\" class=\"data row0 col4\" >A string with double quotes</td>\n",
       "    </tr>\n",
       "    <tr>\n",
       "      <th id=\"T_cd2ad_level0_row1\" class=\"row_heading level0 row1\" >1</th>\n",
       "      <td id=\"T_cd2ad_row1_col0\" class=\"data row1 col0\" >1.500000</td>\n",
       "      <td id=\"T_cd2ad_row1_col1\" class=\"data row1 col1\" >2.500000</td>\n",
       "      <td id=\"T_cd2ad_row1_col2\" class=\"data row1 col2\" >3</td>\n",
       "      <td id=\"T_cd2ad_row1_col3\" class=\"data row1 col3\" >4</td>\n",
       "      <td id=\"T_cd2ad_row1_col4\" class=\"data row1 col4\" >5.500000</td>\n",
       "    </tr>\n",
       "    <tr>\n",
       "      <th id=\"T_cd2ad_level0_row2\" class=\"row_heading level0 row2\" >2</th>\n",
       "      <td id=\"T_cd2ad_row2_col0\" class=\"data row2 col0\" >aA</td>\n",
       "      <td id=\"T_cd2ad_row2_col1\" class=\"data row2 col1\" >bB</td>\n",
       "      <td id=\"T_cd2ad_row2_col2\" class=\"data row2 col2\" >cC</td>\n",
       "      <td id=\"T_cd2ad_row2_col3\" class=\"data row2 col3\" >dD</td>\n",
       "      <td id=\"T_cd2ad_row2_col4\" class=\"data row2 col4\" >eE</td>\n",
       "    </tr>\n",
       "  </tbody>\n",
       "</table>\n"
      ],
      "text/plain": [
       "<pandas.io.formats.style.Styler at 0x1062acfa0>"
      ]
     },
     "execution_count": 4,
     "metadata": {},
     "output_type": "execute_result"
    }
   ],
   "source": [
    "?[] <- [[1.5, 2.5, 3, 4, 5.5], \n",
    "        ['aA', 'bB', 'cC', 'dD', 'eE'], \n",
    "        [true, false, null, -1.4e-2, \"A string with double quotes\"]]"
   ]
  },
  {
   "cell_type": "markdown",
   "id": "615e35d7-f5c0-4d71-ac62-6934c658a715",
   "metadata": {},
   "source": [
    "The input literal representations are similar to those in JavaScript. \n",
    "In particular, strings in double quotes are guaranteed to be interpreted in the same way as in JSON.\n",
    "The output are in JSON, but how they appear on your screen depends on your setup.\n",
    "For example, if you are using a Python setup, booleans are displayed as `True` and `False` instead of in lowercase,\n",
    "since they are converted to the native Python datatypes for display.\n",
    "\n",
    "In the last example, you may have noticed that the returned order is not the same as the input order.\n",
    "This is because in Cozo relations are always stored as trees, and trees are always sorted.\n",
    "\n",
    "Another consequence of relations as trees is that you can have no duplicate rows:"
   ]
  },
  {
   "cell_type": "code",
   "execution_count": 5,
   "id": "28ab3f6e-0e32-486d-83fb-4fd5581e20dc",
   "metadata": {},
   "outputs": [
    {
     "data": {
      "text/html": [
       "<style type=\"text/css\">\n",
       "#T_de3da_row0_col0, #T_de3da_row1_col0 {\n",
       "  color: #307fc1;\n",
       "}\n",
       "</style>\n",
       "<table id=\"T_de3da\">\n",
       "  <thead>\n",
       "    <tr>\n",
       "      <th class=\"blank level0\" >&nbsp;</th>\n",
       "      <th id=\"T_de3da_level0_col0\" class=\"col_heading level0 col0\" >_0</th>\n",
       "    </tr>\n",
       "  </thead>\n",
       "  <tbody>\n",
       "    <tr>\n",
       "      <th id=\"T_de3da_level0_row0\" class=\"row_heading level0 row0\" >0</th>\n",
       "      <td id=\"T_de3da_row0_col0\" class=\"data row0 col0\" >1</td>\n",
       "    </tr>\n",
       "    <tr>\n",
       "      <th id=\"T_de3da_level0_row1\" class=\"row_heading level0 row1\" >1</th>\n",
       "      <td id=\"T_de3da_row1_col0\" class=\"data row1 col0\" >2</td>\n",
       "    </tr>\n",
       "  </tbody>\n",
       "</table>\n"
      ],
      "text/plain": [
       "<pandas.io.formats.style.Styler at 0x1062ad510>"
      ]
     },
     "execution_count": 5,
     "metadata": {},
     "output_type": "execute_result"
    }
   ],
   "source": [
    "?[] <- [[1], [2], [1], [2], [1]]"
   ]
  },
  {
   "cell_type": "markdown",
   "id": "5a5d9022-c9b2-48c9-b447-ae69a2fc3a21",
   "metadata": {},
   "source": [
    "Relations in Cozo follow _set semantics_ where de-duplication is automatic. \n",
    "By contrast, SQL usually follows _bag semantics_ (some databases do this by secretly having a unique internal key for every row, in Cozo you must do this explicitly if you need to simulate duplicate rows).\n",
    "\n",
    "Why does Cozo break tradition and go with set semantics?\n",
    "Set semantics is much more convenient when you have recursions between relations involved,\n",
    "and Cozo is designed to deal with complex recursions.\n",
    "\n",
    "## Expressions\n",
    "\n",
    "The next example shows the use of various expressions and comments:"
   ]
  },
  {
   "cell_type": "code",
   "execution_count": 6,
   "id": "dff14dab-2cc1-4917-aaa5-8feb1f075cf9",
   "metadata": {},
   "outputs": [
    {
     "data": {
      "text/html": [
       "<style type=\"text/css\">\n",
       "#T_822e0_row0_col0, #T_822e0_row0_col1, #T_822e0_row0_col2, #T_822e0_row0_col3, #T_822e0_row0_col4, #T_822e0_row0_col5, #T_822e0_row0_col7 {\n",
       "  color: #307fc1;\n",
       "}\n",
       "#T_822e0_row0_col6 {\n",
       "  color: black;\n",
       "}\n",
       "#T_822e0_row0_col8 {\n",
       "  color: #bf5b3d;\n",
       "}\n",
       "</style>\n",
       "<table id=\"T_822e0\">\n",
       "  <thead>\n",
       "    <tr>\n",
       "      <th class=\"blank level0\" >&nbsp;</th>\n",
       "      <th id=\"T_822e0_level0_col0\" class=\"col_heading level0 col0\" >_0</th>\n",
       "      <th id=\"T_822e0_level0_col1\" class=\"col_heading level0 col1\" >_1</th>\n",
       "      <th id=\"T_822e0_level0_col2\" class=\"col_heading level0 col2\" >_2</th>\n",
       "      <th id=\"T_822e0_level0_col3\" class=\"col_heading level0 col3\" >_3</th>\n",
       "      <th id=\"T_822e0_level0_col4\" class=\"col_heading level0 col4\" >_4</th>\n",
       "      <th id=\"T_822e0_level0_col5\" class=\"col_heading level0 col5\" >_5</th>\n",
       "      <th id=\"T_822e0_level0_col6\" class=\"col_heading level0 col6\" >_6</th>\n",
       "      <th id=\"T_822e0_level0_col7\" class=\"col_heading level0 col7\" >_7</th>\n",
       "      <th id=\"T_822e0_level0_col8\" class=\"col_heading level0 col8\" >_8</th>\n",
       "    </tr>\n",
       "  </thead>\n",
       "  <tbody>\n",
       "    <tr>\n",
       "      <th id=\"T_822e0_level0_row0\" class=\"row_heading level0 row0\" >0</th>\n",
       "      <td id=\"T_822e0_row0_col0\" class=\"data row0 col0\" >3</td>\n",
       "      <td id=\"T_822e0_row0_col1\" class=\"data row0 col1\" >0.750000</td>\n",
       "      <td id=\"T_822e0_row0_col2\" class=\"data row0 col2\" >False</td>\n",
       "      <td id=\"T_822e0_row0_col3\" class=\"data row0 col3\" >False</td>\n",
       "      <td id=\"T_822e0_row0_col4\" class=\"data row0 col4\" >True</td>\n",
       "      <td id=\"T_822e0_row0_col5\" class=\"data row0 col5\" >False</td>\n",
       "      <td id=\"T_822e0_row0_col6\" class=\"data row0 col6\" >hello</td>\n",
       "      <td id=\"T_822e0_row0_col7\" class=\"data row0 col7\" >0.364268</td>\n",
       "      <td id=\"T_822e0_row0_col8\" class=\"data row0 col8\" >[1, 2, 3, 4, 5, 6, 7]</td>\n",
       "    </tr>\n",
       "  </tbody>\n",
       "</table>\n"
      ],
      "text/plain": [
       "<pandas.io.formats.style.Styler at 0x1062afa90>"
      ]
     },
     "execution_count": 6,
     "metadata": {},
     "output_type": "execute_result"
    }
   ],
   "source": [
    "?[] <- [[\n",
    "            1 + 2, # addition\n",
    "            3 / 4, # division\n",
    "            5 == 6, # equality\n",
    "            7 > 8, # greater\n",
    "            true || false, # or\n",
    "            false && true, # and\n",
    "            lowercase('HELLO'), # function\n",
    "            rand_float(), # function taking no argument\n",
    "            union([1, 2, 3], [3, 4, 5], [5, 6, 7]), # variadic function\n",
    "        ]]"
   ]
  },
  {
   "cell_type": "markdown",
   "id": "4c5ee182-2ca8-49b3-8937-19da63124143",
   "metadata": {},
   "source": [
    "See [here](https://cozodb.github.io/current/manual/functions.html) for the full list of functions you can use to build expressions.\n",
    "The syntax is deliberately C-like.\n",
    "\n",
    "## Rules and relations\n",
    "\n",
    "Previous examples all start with `?[] <-`.\n",
    "The notation denotes a _rule_ named `?`. It is a _constant rule_ since it uses `<-`.\n",
    "The part after `?` and before `<-` is the _head_ of the rule, and the part after `<-` is the _body_.\n",
    "\n",
    "Rules can have other names, but the rule named `?` is special in that its evaluation determines the return relation of the query.\n",
    "\n",
    "We can give _bindings_ in the _head_ of rules:"
   ]
  },
  {
   "cell_type": "code",
   "execution_count": 7,
   "id": "2a35a414-7037-4a2a-a07b-086463a4d4ef",
   "metadata": {},
   "outputs": [
    {
     "data": {
      "text/html": [
       "<style type=\"text/css\">\n",
       "#T_ee68d_row0_col0, #T_ee68d_row0_col1, #T_ee68d_row0_col2 {\n",
       "  color: #307fc1;\n",
       "}\n",
       "#T_ee68d_row1_col0, #T_ee68d_row1_col1, #T_ee68d_row1_col2 {\n",
       "  color: black;\n",
       "}\n",
       "</style>\n",
       "<table id=\"T_ee68d\">\n",
       "  <thead>\n",
       "    <tr>\n",
       "      <th class=\"blank level0\" >&nbsp;</th>\n",
       "      <th id=\"T_ee68d_level0_col0\" class=\"col_heading level0 col0\" >first</th>\n",
       "      <th id=\"T_ee68d_level0_col1\" class=\"col_heading level0 col1\" >second</th>\n",
       "      <th id=\"T_ee68d_level0_col2\" class=\"col_heading level0 col2\" >third</th>\n",
       "    </tr>\n",
       "  </thead>\n",
       "  <tbody>\n",
       "    <tr>\n",
       "      <th id=\"T_ee68d_level0_row0\" class=\"row_heading level0 row0\" >0</th>\n",
       "      <td id=\"T_ee68d_row0_col0\" class=\"data row0 col0\" >1</td>\n",
       "      <td id=\"T_ee68d_row0_col1\" class=\"data row0 col1\" >2</td>\n",
       "      <td id=\"T_ee68d_row0_col2\" class=\"data row0 col2\" >3</td>\n",
       "    </tr>\n",
       "    <tr>\n",
       "      <th id=\"T_ee68d_level0_row1\" class=\"row_heading level0 row1\" >1</th>\n",
       "      <td id=\"T_ee68d_row1_col0\" class=\"data row1 col0\" >a</td>\n",
       "      <td id=\"T_ee68d_row1_col1\" class=\"data row1 col1\" >b</td>\n",
       "      <td id=\"T_ee68d_row1_col2\" class=\"data row1 col2\" >c</td>\n",
       "    </tr>\n",
       "  </tbody>\n",
       "</table>\n"
      ],
      "text/plain": [
       "<pandas.io.formats.style.Styler at 0x1062ad3f0>"
      ]
     },
     "execution_count": 7,
     "metadata": {},
     "output_type": "execute_result"
    }
   ],
   "source": [
    "?[first, second, third] <- [[1, 2, 3], ['a', 'b', 'c']]"
   ]
  },
  {
   "cell_type": "markdown",
   "id": "ba32d27c-0787-48d3-94fb-79e77a8cce0c",
   "metadata": {},
   "source": [
    "For constant rules, the number of bindings must match the actual data (the _arity_), otherwise, you will get an error:"
   ]
  },
  {
   "cell_type": "code",
   "execution_count": 8,
   "id": "b25901e4-fc6a-4cb0-9ca2-b9aeac80cc83",
   "metadata": {},
   "outputs": [
    {
     "data": {
      "text/plain": [
       "\u001b[31mparser::fixed_rule_head_arity_mismatch\u001b[0m\n",
       "\n",
       "  \u001b[31m×\u001b[0m Fixed rule head arity mismatch\n",
       "   ╭────\n",
       " \u001b[2m1\u001b[0m │ ?[first, second] <- [[1, 2, 3], ['a', 'b', 'c']]\n",
       "   · \u001b[35;1m─────────────────────────────────────────────────\u001b[0m\n",
       "   ╰────\n",
       "\u001b[36m  help: \u001b[0mExpected arity: 3, number of arguments given: 2\n"
      ]
     },
     "execution_count": 8,
     "metadata": {},
     "output_type": "execute_result"
    }
   ],
   "source": [
    "?[first, second] <- [[1, 2, 3], ['a', 'b', 'c']]"
   ]
  },
  {
   "cell_type": "markdown",
   "id": "c71fb449-6a9c-4a7e-bed9-44230a41d5dd",
   "metadata": {},
   "source": [
    "Now let's define rules that _apply_ (use) other rules:"
   ]
  },
  {
   "cell_type": "code",
   "execution_count": 9,
   "id": "bc63b0b2-fa28-4d02-be90-23690f6021aa",
   "metadata": {},
   "outputs": [
    {
     "data": {
      "text/html": [
       "<style type=\"text/css\">\n",
       "#T_77f95_row0_col0, #T_77f95_row0_col1, #T_77f95_row0_col2 {\n",
       "  color: #307fc1;\n",
       "}\n",
       "#T_77f95_row1_col0, #T_77f95_row1_col1, #T_77f95_row1_col2 {\n",
       "  color: black;\n",
       "}\n",
       "</style>\n",
       "<table id=\"T_77f95\">\n",
       "  <thead>\n",
       "    <tr>\n",
       "      <th class=\"blank level0\" >&nbsp;</th>\n",
       "      <th id=\"T_77f95_level0_col0\" class=\"col_heading level0 col0\" >a</th>\n",
       "      <th id=\"T_77f95_level0_col1\" class=\"col_heading level0 col1\" >b</th>\n",
       "      <th id=\"T_77f95_level0_col2\" class=\"col_heading level0 col2\" >c</th>\n",
       "    </tr>\n",
       "  </thead>\n",
       "  <tbody>\n",
       "    <tr>\n",
       "      <th id=\"T_77f95_level0_row0\" class=\"row_heading level0 row0\" >0</th>\n",
       "      <td id=\"T_77f95_row0_col0\" class=\"data row0 col0\" >1</td>\n",
       "      <td id=\"T_77f95_row0_col1\" class=\"data row0 col1\" >2</td>\n",
       "      <td id=\"T_77f95_row0_col2\" class=\"data row0 col2\" >3</td>\n",
       "    </tr>\n",
       "    <tr>\n",
       "      <th id=\"T_77f95_level0_row1\" class=\"row_heading level0 row1\" >1</th>\n",
       "      <td id=\"T_77f95_row1_col0\" class=\"data row1 col0\" >a</td>\n",
       "      <td id=\"T_77f95_row1_col1\" class=\"data row1 col1\" >b</td>\n",
       "      <td id=\"T_77f95_row1_col2\" class=\"data row1 col2\" >c</td>\n",
       "    </tr>\n",
       "  </tbody>\n",
       "</table>\n"
      ],
      "text/plain": [
       "<pandas.io.formats.style.Styler at 0x11f53bac0>"
      ]
     },
     "execution_count": 9,
     "metadata": {},
     "output_type": "execute_result"
    }
   ],
   "source": [
    "rule[first, second, third] <- [[1, 2, 3], ['a', 'b', 'c']]\n",
    "?[a, b, c] := rule[a, b, c]"
   ]
  },
  {
   "cell_type": "markdown",
   "id": "d86d57af-fadb-441a-926f-142c613ca1f7",
   "metadata": {},
   "source": [
    "This first line defines a constant rule named `rule`. The `?` rule is now an _inline rule_, denoted by the connecting symbol `:=`. In its body it applies the fixed rule, by giving the name of the rule followed by three _fresh bindings_, which are the _variables_ `a`, `b` and `c`.\n",
    "\n",
    "With inline rules, you can manipulate the order of the columns, or specify which columns are returned:"
   ]
  },
  {
   "cell_type": "code",
   "execution_count": 10,
   "id": "d5d52704-e2ed-430c-b9da-939964f7b8e0",
   "metadata": {},
   "outputs": [
    {
     "data": {
      "text/html": [
       "<style type=\"text/css\">\n",
       "#T_9e903_row0_col0, #T_9e903_row0_col1 {\n",
       "  color: #307fc1;\n",
       "}\n",
       "#T_9e903_row1_col0, #T_9e903_row1_col1 {\n",
       "  color: black;\n",
       "}\n",
       "</style>\n",
       "<table id=\"T_9e903\">\n",
       "  <thead>\n",
       "    <tr>\n",
       "      <th class=\"blank level0\" >&nbsp;</th>\n",
       "      <th id=\"T_9e903_level0_col0\" class=\"col_heading level0 col0\" >c</th>\n",
       "      <th id=\"T_9e903_level0_col1\" class=\"col_heading level0 col1\" >b</th>\n",
       "    </tr>\n",
       "  </thead>\n",
       "  <tbody>\n",
       "    <tr>\n",
       "      <th id=\"T_9e903_level0_row0\" class=\"row_heading level0 row0\" >0</th>\n",
       "      <td id=\"T_9e903_row0_col0\" class=\"data row0 col0\" >3</td>\n",
       "      <td id=\"T_9e903_row0_col1\" class=\"data row0 col1\" >2</td>\n",
       "    </tr>\n",
       "    <tr>\n",
       "      <th id=\"T_9e903_level0_row1\" class=\"row_heading level0 row1\" >1</th>\n",
       "      <td id=\"T_9e903_row1_col0\" class=\"data row1 col0\" >c</td>\n",
       "      <td id=\"T_9e903_row1_col1\" class=\"data row1 col1\" >b</td>\n",
       "    </tr>\n",
       "  </tbody>\n",
       "</table>\n"
      ],
      "text/plain": [
       "<pandas.io.formats.style.Styler at 0x11f53b970>"
      ]
     },
     "execution_count": 10,
     "metadata": {},
     "output_type": "execute_result"
    }
   ],
   "source": [
    "rule[first, second, third] <- [[1, 2, 3], ['a', 'b', 'c']]\n",
    "?[c, b] := rule[a, b, c]"
   ]
  },
  {
   "cell_type": "markdown",
   "id": "fb8a68dc-ab27-494b-86cd-b38502ea1a7c",
   "metadata": {},
   "source": [
    "The body of an inline rule consists of _atoms_. \n",
    "The previous example has a single _application atom_ as the body. Multiple atoms are connected by commas:"
   ]
  },
  {
   "cell_type": "code",
   "execution_count": 11,
   "id": "657050ce-5c99-494b-b2e7-283ae73de8fe",
   "metadata": {},
   "outputs": [
    {
     "data": {
      "text/html": [
       "<style type=\"text/css\">\n",
       "#T_f66a2_row0_col0, #T_f66a2_row0_col1 {\n",
       "  color: #307fc1;\n",
       "}\n",
       "</style>\n",
       "<table id=\"T_f66a2\">\n",
       "  <thead>\n",
       "    <tr>\n",
       "      <th class=\"blank level0\" >&nbsp;</th>\n",
       "      <th id=\"T_f66a2_level0_col0\" class=\"col_heading level0 col0\" >c</th>\n",
       "      <th id=\"T_f66a2_level0_col1\" class=\"col_heading level0 col1\" >b</th>\n",
       "    </tr>\n",
       "  </thead>\n",
       "  <tbody>\n",
       "    <tr>\n",
       "      <th id=\"T_f66a2_level0_row0\" class=\"row_heading level0 row0\" >0</th>\n",
       "      <td id=\"T_f66a2_row0_col0\" class=\"data row0 col0\" >3</td>\n",
       "      <td id=\"T_f66a2_row0_col1\" class=\"data row0 col1\" >2</td>\n",
       "    </tr>\n",
       "  </tbody>\n",
       "</table>\n"
      ],
      "text/plain": [
       "<pandas.io.formats.style.Styler at 0x11f5381c0>"
      ]
     },
     "execution_count": 11,
     "metadata": {},
     "output_type": "execute_result"
    }
   ],
   "source": [
    "?[c, b] := rule[a, b, c], is_num(a)\n",
    "rule[first, second, third] <- [[1, 2, 3], ['a', 'b', 'c']]"
   ]
  },
  {
   "cell_type": "markdown",
   "id": "15c68fce-5318-453d-9e59-aee862ed5036",
   "metadata": {},
   "source": [
    "Here the second atom is an _expression_ `is_num(a)`. \n",
    "Expression atoms act as filters, so only rows for which the expression evaluates to `true` are returned. \n",
    "The order in which the rules are given is immaterial.\n",
    "\n",
    "You can also bind constants to rule applications directly:"
   ]
  },
  {
   "cell_type": "code",
   "execution_count": 12,
   "id": "44745ced-563b-41ce-aace-ce43f7ada7f7",
   "metadata": {},
   "outputs": [
    {
     "data": {
      "text/html": [
       "<style type=\"text/css\">\n",
       "#T_76087_row0_col0, #T_76087_row0_col1 {\n",
       "  color: black;\n",
       "}\n",
       "</style>\n",
       "<table id=\"T_76087\">\n",
       "  <thead>\n",
       "    <tr>\n",
       "      <th class=\"blank level0\" >&nbsp;</th>\n",
       "      <th id=\"T_76087_level0_col0\" class=\"col_heading level0 col0\" >c</th>\n",
       "      <th id=\"T_76087_level0_col1\" class=\"col_heading level0 col1\" >b</th>\n",
       "    </tr>\n",
       "  </thead>\n",
       "  <tbody>\n",
       "    <tr>\n",
       "      <th id=\"T_76087_level0_row0\" class=\"row_heading level0 row0\" >0</th>\n",
       "      <td id=\"T_76087_row0_col0\" class=\"data row0 col0\" >c</td>\n",
       "      <td id=\"T_76087_row0_col1\" class=\"data row0 col1\" >b</td>\n",
       "    </tr>\n",
       "  </tbody>\n",
       "</table>\n"
      ],
      "text/plain": [
       "<pandas.io.formats.style.Styler at 0x11f53be20>"
      ]
     },
     "execution_count": 12,
     "metadata": {},
     "output_type": "execute_result"
    }
   ],
   "source": [
    "rule[first, second, third] <- [[1, 2, 3], ['a', 'b', 'c']]\n",
    "?[c, b] := rule['a', b, c]"
   ]
  },
  {
   "cell_type": "markdown",
   "id": "40b1fc69-c118-4876-a2d5-5fd2d8931811",
   "metadata": {},
   "source": [
    "You introduce additional bindings with the _unification operator_ `=`:"
   ]
  },
  {
   "cell_type": "code",
   "execution_count": 13,
   "id": "cf32547a-7def-4dec-8d05-77c7c910be2c",
   "metadata": {},
   "outputs": [
    {
     "data": {
      "text/html": [
       "<style type=\"text/css\">\n",
       "#T_87933_row0_col0, #T_87933_row0_col1, #T_87933_row0_col2 {\n",
       "  color: #307fc1;\n",
       "}\n",
       "</style>\n",
       "<table id=\"T_87933\">\n",
       "  <thead>\n",
       "    <tr>\n",
       "      <th class=\"blank level0\" >&nbsp;</th>\n",
       "      <th id=\"T_87933_level0_col0\" class=\"col_heading level0 col0\" >c</th>\n",
       "      <th id=\"T_87933_level0_col1\" class=\"col_heading level0 col1\" >b</th>\n",
       "      <th id=\"T_87933_level0_col2\" class=\"col_heading level0 col2\" >d</th>\n",
       "    </tr>\n",
       "  </thead>\n",
       "  <tbody>\n",
       "    <tr>\n",
       "      <th id=\"T_87933_level0_row0\" class=\"row_heading level0 row0\" >0</th>\n",
       "      <td id=\"T_87933_row0_col0\" class=\"data row0 col0\" >3</td>\n",
       "      <td id=\"T_87933_row0_col1\" class=\"data row0 col1\" >2</td>\n",
       "      <td id=\"T_87933_row0_col2\" class=\"data row0 col2\" >9</td>\n",
       "    </tr>\n",
       "  </tbody>\n",
       "</table>\n"
      ],
      "text/plain": [
       "<pandas.io.formats.style.Styler at 0x11f539240>"
      ]
     },
     "execution_count": 13,
     "metadata": {},
     "output_type": "execute_result"
    }
   ],
   "source": [
    "rule[first, second, third] <- [[1, 2, 3], ['a', 'b', 'c']]\n",
    "?[c, b, d] := rule[a, b, c], is_num(a), d = a + b + 2*c"
   ]
  },
  {
   "cell_type": "markdown",
   "id": "c5384db7-8cab-4262-94f5-a2b7298417e8",
   "metadata": {},
   "source": [
    "Having multiple rule applications in the body generates every combination of the bindings:"
   ]
  },
  {
   "cell_type": "code",
   "execution_count": 14,
   "id": "59d2a912-50d6-474a-ae9b-74f024a58bdc",
   "metadata": {},
   "outputs": [
    {
     "data": {
      "text/html": [
       "<style type=\"text/css\">\n",
       "#T_e7f49_row0_col0, #T_e7f49_row0_col1, #T_e7f49_row1_col0, #T_e7f49_row1_col1, #T_e7f49_row2_col0, #T_e7f49_row2_col1, #T_e7f49_row3_col0, #T_e7f49_row3_col1 {\n",
       "  color: black;\n",
       "}\n",
       "</style>\n",
       "<table id=\"T_e7f49\">\n",
       "  <thead>\n",
       "    <tr>\n",
       "      <th class=\"blank level0\" >&nbsp;</th>\n",
       "      <th id=\"T_e7f49_level0_col0\" class=\"col_heading level0 col0\" >l1</th>\n",
       "      <th id=\"T_e7f49_level0_col1\" class=\"col_heading level0 col1\" >l2</th>\n",
       "    </tr>\n",
       "  </thead>\n",
       "  <tbody>\n",
       "    <tr>\n",
       "      <th id=\"T_e7f49_level0_row0\" class=\"row_heading level0 row0\" >0</th>\n",
       "      <td id=\"T_e7f49_row0_col0\" class=\"data row0 col0\" >a</td>\n",
       "      <td id=\"T_e7f49_row0_col1\" class=\"data row0 col1\" >B</td>\n",
       "    </tr>\n",
       "    <tr>\n",
       "      <th id=\"T_e7f49_level0_row1\" class=\"row_heading level0 row1\" >1</th>\n",
       "      <td id=\"T_e7f49_row1_col0\" class=\"data row1 col0\" >a</td>\n",
       "      <td id=\"T_e7f49_row1_col1\" class=\"data row1 col1\" >C</td>\n",
       "    </tr>\n",
       "    <tr>\n",
       "      <th id=\"T_e7f49_level0_row2\" class=\"row_heading level0 row2\" >2</th>\n",
       "      <td id=\"T_e7f49_row2_col0\" class=\"data row2 col0\" >b</td>\n",
       "      <td id=\"T_e7f49_row2_col1\" class=\"data row2 col1\" >B</td>\n",
       "    </tr>\n",
       "    <tr>\n",
       "      <th id=\"T_e7f49_level0_row3\" class=\"row_heading level0 row3\" >3</th>\n",
       "      <td id=\"T_e7f49_row3_col0\" class=\"data row3 col0\" >b</td>\n",
       "      <td id=\"T_e7f49_row3_col1\" class=\"data row3 col1\" >C</td>\n",
       "    </tr>\n",
       "  </tbody>\n",
       "</table>\n"
      ],
      "text/plain": [
       "<pandas.io.formats.style.Styler at 0x11f539360>"
      ]
     },
     "execution_count": 14,
     "metadata": {},
     "output_type": "execute_result"
    }
   ],
   "source": [
    "r1[] <- [[1, 'a'], [2, 'b']]\n",
    "r2[] <- [[2, 'B'], [3, 'C']]\n",
    "\n",
    "?[l1, l2] := r1[a, l1], \n",
    "             r2[b, l2]"
   ]
  },
  {
   "cell_type": "markdown",
   "id": "b26be73d-dc5c-400b-9af4-d3aa9af0c430",
   "metadata": {},
   "source": [
    "This is a Cartesian join in relational algebra, as bindings in the rule applications are all distinct.\n",
    "If bindings are reused, _implicit unification_ occurs, \n",
    "which is a join in relational algebra:"
   ]
  },
  {
   "cell_type": "code",
   "execution_count": 15,
   "id": "20256fd6-b5c0-4947-a860-021846bef5fa",
   "metadata": {},
   "outputs": [
    {
     "data": {
      "text/html": [
       "<style type=\"text/css\">\n",
       "#T_12187_row0_col0, #T_12187_row0_col1 {\n",
       "  color: black;\n",
       "}\n",
       "</style>\n",
       "<table id=\"T_12187\">\n",
       "  <thead>\n",
       "    <tr>\n",
       "      <th class=\"blank level0\" >&nbsp;</th>\n",
       "      <th id=\"T_12187_level0_col0\" class=\"col_heading level0 col0\" >l1</th>\n",
       "      <th id=\"T_12187_level0_col1\" class=\"col_heading level0 col1\" >l2</th>\n",
       "    </tr>\n",
       "  </thead>\n",
       "  <tbody>\n",
       "    <tr>\n",
       "      <th id=\"T_12187_level0_row0\" class=\"row_heading level0 row0\" >0</th>\n",
       "      <td id=\"T_12187_row0_col0\" class=\"data row0 col0\" >b</td>\n",
       "      <td id=\"T_12187_row0_col1\" class=\"data row0 col1\" >B</td>\n",
       "    </tr>\n",
       "  </tbody>\n",
       "</table>\n"
      ],
      "text/plain": [
       "<pandas.io.formats.style.Styler at 0x11f5388b0>"
      ]
     },
     "execution_count": 15,
     "metadata": {},
     "output_type": "execute_result"
    }
   ],
   "source": [
    "r1[] <- [[1, 'a'], [2, 'b']]\n",
    "r2[] <- [[2, 'B'], [3, 'C']]\n",
    "\n",
    "?[l1, l2] := r1[a, l1], \n",
    "             r2[a, l2] # reused `a`"
   ]
  },
  {
   "cell_type": "markdown",
   "id": "bf4be53c-118f-46b8-9c42-cb259aed6e87",
   "metadata": {},
   "source": [
    "The unification `=` unifies with a single value. Use `in` to unify with each value within a list in turn:"
   ]
  },
  {
   "cell_type": "code",
   "execution_count": 16,
   "id": "5c7d2b90-8494-4521-aac6-2445473e50d7",
   "metadata": {},
   "outputs": [
    {
     "data": {
      "text/html": [
       "<style type=\"text/css\">\n",
       "#T_0eb5c_row0_col0, #T_0eb5c_row1_col0, #T_0eb5c_row2_col0, #T_0eb5c_row3_col0, #T_0eb5c_row4_col0, #T_0eb5c_row5_col0 {\n",
       "  color: #307fc1;\n",
       "}\n",
       "#T_0eb5c_row0_col1, #T_0eb5c_row1_col1, #T_0eb5c_row2_col1, #T_0eb5c_row3_col1, #T_0eb5c_row4_col1, #T_0eb5c_row5_col1 {\n",
       "  color: black;\n",
       "}\n",
       "</style>\n",
       "<table id=\"T_0eb5c\">\n",
       "  <thead>\n",
       "    <tr>\n",
       "      <th class=\"blank level0\" >&nbsp;</th>\n",
       "      <th id=\"T_0eb5c_level0_col0\" class=\"col_heading level0 col0\" >x</th>\n",
       "      <th id=\"T_0eb5c_level0_col1\" class=\"col_heading level0 col1\" >y</th>\n",
       "    </tr>\n",
       "  </thead>\n",
       "  <tbody>\n",
       "    <tr>\n",
       "      <th id=\"T_0eb5c_level0_row0\" class=\"row_heading level0 row0\" >0</th>\n",
       "      <td id=\"T_0eb5c_row0_col0\" class=\"data row0 col0\" >1</td>\n",
       "      <td id=\"T_0eb5c_row0_col1\" class=\"data row0 col1\" >x</td>\n",
       "    </tr>\n",
       "    <tr>\n",
       "      <th id=\"T_0eb5c_level0_row1\" class=\"row_heading level0 row1\" >1</th>\n",
       "      <td id=\"T_0eb5c_row1_col0\" class=\"data row1 col0\" >1</td>\n",
       "      <td id=\"T_0eb5c_row1_col1\" class=\"data row1 col1\" >y</td>\n",
       "    </tr>\n",
       "    <tr>\n",
       "      <th id=\"T_0eb5c_level0_row2\" class=\"row_heading level0 row2\" >2</th>\n",
       "      <td id=\"T_0eb5c_row2_col0\" class=\"data row2 col0\" >2</td>\n",
       "      <td id=\"T_0eb5c_row2_col1\" class=\"data row2 col1\" >x</td>\n",
       "    </tr>\n",
       "    <tr>\n",
       "      <th id=\"T_0eb5c_level0_row3\" class=\"row_heading level0 row3\" >3</th>\n",
       "      <td id=\"T_0eb5c_row3_col0\" class=\"data row3 col0\" >2</td>\n",
       "      <td id=\"T_0eb5c_row3_col1\" class=\"data row3 col1\" >y</td>\n",
       "    </tr>\n",
       "    <tr>\n",
       "      <th id=\"T_0eb5c_level0_row4\" class=\"row_heading level0 row4\" >4</th>\n",
       "      <td id=\"T_0eb5c_row4_col0\" class=\"data row4 col0\" >3</td>\n",
       "      <td id=\"T_0eb5c_row4_col1\" class=\"data row4 col1\" >x</td>\n",
       "    </tr>\n",
       "    <tr>\n",
       "      <th id=\"T_0eb5c_level0_row5\" class=\"row_heading level0 row5\" >5</th>\n",
       "      <td id=\"T_0eb5c_row5_col0\" class=\"data row5 col0\" >3</td>\n",
       "      <td id=\"T_0eb5c_row5_col1\" class=\"data row5 col1\" >y</td>\n",
       "    </tr>\n",
       "  </tbody>\n",
       "</table>\n"
      ],
      "text/plain": [
       "<pandas.io.formats.style.Styler at 0x11f53b610>"
      ]
     },
     "execution_count": 16,
     "metadata": {},
     "output_type": "execute_result"
    }
   ],
   "source": [
    "?[x, y] := x in [1, 2, 3], y in ['x', 'y']"
   ]
  },
  {
   "cell_type": "markdown",
   "id": "af092ab5-2692-4b12-a6a7-eae8def60cac",
   "metadata": {},
   "source": [
    "The head of inline rules does not need to use all variables that appear in the body. \n",
    "However, any variable in the head must appear in the body at least once (the _safety rule_):"
   ]
  },
  {
   "cell_type": "code",
   "execution_count": 17,
   "id": "5a13303d-4f61-4bc5-85d1-391773a9bc7b",
   "metadata": {},
   "outputs": [
    {
     "data": {
      "text/plain": [
       "\u001b[31meval::unbound_symb_in_head\u001b[0m\n",
       "\n",
       "  \u001b[31m×\u001b[0m Symbol 'x' in rule head is unbound\n",
       "   ╭─[3:1]\n",
       " \u001b[2m3\u001b[0m │ \n",
       " \u001b[2m4\u001b[0m │ ?[l1, l2, x] := r1[a, l1], \n",
       "   · \u001b[35;1m          ─\u001b[0m\n",
       " \u001b[2m5\u001b[0m │                 r2[a, l2]\n",
       "   ╰────\n",
       "\u001b[36m  help: \u001b[0mNote that symbols occurring only in negated positions are not considered bound\n"
      ]
     },
     "execution_count": 17,
     "metadata": {},
     "output_type": "execute_result"
    }
   ],
   "source": [
    "r1[] <- [[1, 'a'], [2, 'b']]\n",
    "r2[] <- [[2, 'B'], [3, 'C']]\n",
    "\n",
    "?[l1, l2, x] := r1[a, l1], \n",
    "                r2[a, l2]"
   ]
  },
  {
   "cell_type": "markdown",
   "id": "e0c1b973-4ecf-459d-99d9-bab9665a7d23",
   "metadata": {},
   "source": [
    "## Stored relations\n",
    "\n",
    "Persistent relations in Cozo are called _stored relations_.\n",
    "Creating them are simple:"
   ]
  },
  {
   "cell_type": "code",
   "execution_count": 18,
   "id": "2944f226-c865-4fd6-b412-cb34e2e50705",
   "metadata": {},
   "outputs": [
    {
     "data": {
      "text/html": [
       "<style type=\"text/css\">\n",
       "#T_ff335_row0_col0 {\n",
       "  color: black;\n",
       "}\n",
       "</style>\n",
       "<table id=\"T_ff335\">\n",
       "  <thead>\n",
       "    <tr>\n",
       "      <th class=\"blank level0\" >&nbsp;</th>\n",
       "      <th id=\"T_ff335_level0_col0\" class=\"col_heading level0 col0\" >status</th>\n",
       "    </tr>\n",
       "  </thead>\n",
       "  <tbody>\n",
       "    <tr>\n",
       "      <th id=\"T_ff335_level0_row0\" class=\"row_heading level0 row0\" >0</th>\n",
       "      <td id=\"T_ff335_row0_col0\" class=\"data row0 col0\" >OK</td>\n",
       "    </tr>\n",
       "  </tbody>\n",
       "</table>\n"
      ],
      "text/plain": [
       "<pandas.io.formats.style.Styler at 0x1062ad000>"
      ]
     },
     "execution_count": 18,
     "metadata": {},
     "output_type": "execute_result"
    }
   ],
   "source": [
    "r1[] <- [[1, 'a'], [2, 'b']]\n",
    "r2[] <- [[2, 'B'], [3, 'C']]\n",
    "\n",
    "?[l1, l2] := r1[a, l1], \n",
    "             r2[a, l2]\n",
    "    \n",
    ":create stored {l1, l2}"
   ]
  },
  {
   "cell_type": "markdown",
   "id": "6e911e87-a80e-4b1b-a878-613b61e339bc",
   "metadata": {},
   "source": [
    "The `:create` query option instructs the database to store the result in a stored relation named `stored`, containing the columns `l1` and `l2`.\n",
    "\n",
    "If you just want to create the relation without adding any data, you can omit the queries. No need to have an empty `?` query.\n",
    "\n",
    "You can verify that you now have the required stored relation in your system by running a _system op_:"
   ]
  },
  {
   "cell_type": "code",
   "execution_count": 19,
   "id": "e151e2e6-f185-4659-89c6-a274c643a03a",
   "metadata": {},
   "outputs": [
    {
     "data": {
      "text/html": [
       "<style type=\"text/css\">\n",
       "#T_99368_row0_col0, #T_99368_row0_col2 {\n",
       "  color: black;\n",
       "}\n",
       "#T_99368_row0_col1, #T_99368_row0_col3, #T_99368_row0_col4, #T_99368_row0_col5, #T_99368_row0_col6, #T_99368_row0_col7 {\n",
       "  color: #307fc1;\n",
       "}\n",
       "</style>\n",
       "<table id=\"T_99368\">\n",
       "  <thead>\n",
       "    <tr>\n",
       "      <th class=\"blank level0\" >&nbsp;</th>\n",
       "      <th id=\"T_99368_level0_col0\" class=\"col_heading level0 col0\" >name</th>\n",
       "      <th id=\"T_99368_level0_col1\" class=\"col_heading level0 col1\" >arity</th>\n",
       "      <th id=\"T_99368_level0_col2\" class=\"col_heading level0 col2\" >access_level</th>\n",
       "      <th id=\"T_99368_level0_col3\" class=\"col_heading level0 col3\" >n_keys</th>\n",
       "      <th id=\"T_99368_level0_col4\" class=\"col_heading level0 col4\" >n_non_keys</th>\n",
       "      <th id=\"T_99368_level0_col5\" class=\"col_heading level0 col5\" >n_put_triggers</th>\n",
       "      <th id=\"T_99368_level0_col6\" class=\"col_heading level0 col6\" >n_rm_triggers</th>\n",
       "      <th id=\"T_99368_level0_col7\" class=\"col_heading level0 col7\" >n_replace_triggers</th>\n",
       "    </tr>\n",
       "  </thead>\n",
       "  <tbody>\n",
       "    <tr>\n",
       "      <th id=\"T_99368_level0_row0\" class=\"row_heading level0 row0\" >0</th>\n",
       "      <td id=\"T_99368_row0_col0\" class=\"data row0 col0\" >stored</td>\n",
       "      <td id=\"T_99368_row0_col1\" class=\"data row0 col1\" >2</td>\n",
       "      <td id=\"T_99368_row0_col2\" class=\"data row0 col2\" >normal</td>\n",
       "      <td id=\"T_99368_row0_col3\" class=\"data row0 col3\" >2</td>\n",
       "      <td id=\"T_99368_row0_col4\" class=\"data row0 col4\" >0</td>\n",
       "      <td id=\"T_99368_row0_col5\" class=\"data row0 col5\" >0</td>\n",
       "      <td id=\"T_99368_row0_col6\" class=\"data row0 col6\" >0</td>\n",
       "      <td id=\"T_99368_row0_col7\" class=\"data row0 col7\" >0</td>\n",
       "    </tr>\n",
       "  </tbody>\n",
       "</table>\n"
      ],
      "text/plain": [
       "<pandas.io.formats.style.Styler at 0x11f54c070>"
      ]
     },
     "execution_count": 19,
     "metadata": {},
     "output_type": "execute_result"
    }
   ],
   "source": [
    "::relations"
   ]
  },
  {
   "cell_type": "markdown",
   "id": "30d7999f-6939-497d-98d6-e5edc6af44a1",
   "metadata": {},
   "source": [
    "You can also investigate the columns of the stored relation:"
   ]
  },
  {
   "cell_type": "code",
   "execution_count": 20,
   "id": "fd8c4f13-96c8-4f3c-b295-ea493d3875f6",
   "metadata": {},
   "outputs": [
    {
     "data": {
      "text/html": [
       "<style type=\"text/css\">\n",
       "#T_a8ba8_row0_col0, #T_a8ba8_row0_col3, #T_a8ba8_row1_col0, #T_a8ba8_row1_col3 {\n",
       "  color: black;\n",
       "}\n",
       "#T_a8ba8_row0_col1, #T_a8ba8_row0_col2, #T_a8ba8_row0_col4, #T_a8ba8_row1_col1, #T_a8ba8_row1_col2, #T_a8ba8_row1_col4 {\n",
       "  color: #307fc1;\n",
       "}\n",
       "</style>\n",
       "<table id=\"T_a8ba8\">\n",
       "  <thead>\n",
       "    <tr>\n",
       "      <th class=\"blank level0\" >&nbsp;</th>\n",
       "      <th id=\"T_a8ba8_level0_col0\" class=\"col_heading level0 col0\" >column</th>\n",
       "      <th id=\"T_a8ba8_level0_col1\" class=\"col_heading level0 col1\" >is_key</th>\n",
       "      <th id=\"T_a8ba8_level0_col2\" class=\"col_heading level0 col2\" >index</th>\n",
       "      <th id=\"T_a8ba8_level0_col3\" class=\"col_heading level0 col3\" >type</th>\n",
       "      <th id=\"T_a8ba8_level0_col4\" class=\"col_heading level0 col4\" >has_default</th>\n",
       "    </tr>\n",
       "  </thead>\n",
       "  <tbody>\n",
       "    <tr>\n",
       "      <th id=\"T_a8ba8_level0_row0\" class=\"row_heading level0 row0\" >0</th>\n",
       "      <td id=\"T_a8ba8_row0_col0\" class=\"data row0 col0\" >l1</td>\n",
       "      <td id=\"T_a8ba8_row0_col1\" class=\"data row0 col1\" >True</td>\n",
       "      <td id=\"T_a8ba8_row0_col2\" class=\"data row0 col2\" >0</td>\n",
       "      <td id=\"T_a8ba8_row0_col3\" class=\"data row0 col3\" >Any?</td>\n",
       "      <td id=\"T_a8ba8_row0_col4\" class=\"data row0 col4\" >False</td>\n",
       "    </tr>\n",
       "    <tr>\n",
       "      <th id=\"T_a8ba8_level0_row1\" class=\"row_heading level0 row1\" >1</th>\n",
       "      <td id=\"T_a8ba8_row1_col0\" class=\"data row1 col0\" >l2</td>\n",
       "      <td id=\"T_a8ba8_row1_col1\" class=\"data row1 col1\" >True</td>\n",
       "      <td id=\"T_a8ba8_row1_col2\" class=\"data row1 col2\" >1</td>\n",
       "      <td id=\"T_a8ba8_row1_col3\" class=\"data row1 col3\" >Any?</td>\n",
       "      <td id=\"T_a8ba8_row1_col4\" class=\"data row1 col4\" >False</td>\n",
       "    </tr>\n",
       "  </tbody>\n",
       "</table>\n"
      ],
      "text/plain": [
       "<pandas.io.formats.style.Styler at 0x11f54c820>"
      ]
     },
     "execution_count": 20,
     "metadata": {},
     "output_type": "execute_result"
    }
   ],
   "source": [
    "::columns stored "
   ]
  },
  {
   "cell_type": "markdown",
   "id": "79d320aa-bf41-4676-a778-7ff00b704ced",
   "metadata": {},
   "source": [
    "Stored relations can be applied by using an asterisk `*` before the name:"
   ]
  },
  {
   "cell_type": "code",
   "execution_count": 21,
   "id": "3d4a2c70-7ed3-403b-9528-a696fe7b08a6",
   "metadata": {},
   "outputs": [
    {
     "data": {
      "text/html": [
       "<style type=\"text/css\">\n",
       "#T_d4702_row0_col0, #T_d4702_row0_col1 {\n",
       "  color: black;\n",
       "}\n",
       "</style>\n",
       "<table id=\"T_d4702\">\n",
       "  <thead>\n",
       "    <tr>\n",
       "      <th class=\"blank level0\" >&nbsp;</th>\n",
       "      <th id=\"T_d4702_level0_col0\" class=\"col_heading level0 col0\" >a</th>\n",
       "      <th id=\"T_d4702_level0_col1\" class=\"col_heading level0 col1\" >b</th>\n",
       "    </tr>\n",
       "  </thead>\n",
       "  <tbody>\n",
       "    <tr>\n",
       "      <th id=\"T_d4702_level0_row0\" class=\"row_heading level0 row0\" >0</th>\n",
       "      <td id=\"T_d4702_row0_col0\" class=\"data row0 col0\" >b</td>\n",
       "      <td id=\"T_d4702_row0_col1\" class=\"data row0 col1\" >B</td>\n",
       "    </tr>\n",
       "  </tbody>\n",
       "</table>\n"
      ],
      "text/plain": [
       "<pandas.io.formats.style.Styler at 0x11f54da80>"
      ]
     },
     "execution_count": 21,
     "metadata": {},
     "output_type": "execute_result"
    }
   ],
   "source": [
    "?[a, b] := *stored[a, b]"
   ]
  },
  {
   "cell_type": "markdown",
   "id": "821c1a1f-ef11-4429-ba99-c2599bc18857",
   "metadata": {},
   "source": [
    "Unlike relations defined inline, the columns of stored relations have fixed names. \n",
    "You can take advantage of this by selectively referring to columns by name,\n",
    "especially if you have a lot of columns:"
   ]
  },
  {
   "cell_type": "code",
   "execution_count": 22,
   "id": "dba56d3f-8162-4519-8934-12d5c6935239",
   "metadata": {},
   "outputs": [
    {
     "data": {
      "text/html": [
       "<style type=\"text/css\">\n",
       "#T_aeb93_row0_col0, #T_aeb93_row0_col1 {\n",
       "  color: black;\n",
       "}\n",
       "</style>\n",
       "<table id=\"T_aeb93\">\n",
       "  <thead>\n",
       "    <tr>\n",
       "      <th class=\"blank level0\" >&nbsp;</th>\n",
       "      <th id=\"T_aeb93_level0_col0\" class=\"col_heading level0 col0\" >a</th>\n",
       "      <th id=\"T_aeb93_level0_col1\" class=\"col_heading level0 col1\" >b</th>\n",
       "    </tr>\n",
       "  </thead>\n",
       "  <tbody>\n",
       "    <tr>\n",
       "      <th id=\"T_aeb93_level0_row0\" class=\"row_heading level0 row0\" >0</th>\n",
       "      <td id=\"T_aeb93_row0_col0\" class=\"data row0 col0\" >b</td>\n",
       "      <td id=\"T_aeb93_row0_col1\" class=\"data row0 col1\" >B</td>\n",
       "    </tr>\n",
       "  </tbody>\n",
       "</table>\n"
      ],
      "text/plain": [
       "<pandas.io.formats.style.Styler at 0x11f54e080>"
      ]
     },
     "execution_count": 22,
     "metadata": {},
     "output_type": "execute_result"
    }
   ],
   "source": [
    "?[a, b] := *stored{l2: b, l1: a}"
   ]
  },
  {
   "cell_type": "markdown",
   "id": "135b9fb5-96fd-444b-aa44-ad8dd754318d",
   "metadata": {},
   "source": [
    "If the binding is the same as the column name, you can omit the binding:"
   ]
  },
  {
   "cell_type": "code",
   "execution_count": 23,
   "id": "a5a29a9c-5320-4c9f-a153-a96c662cf5d6",
   "metadata": {},
   "outputs": [
    {
     "data": {
      "text/html": [
       "<style type=\"text/css\">\n",
       "#T_0c395_row0_col0 {\n",
       "  color: black;\n",
       "}\n",
       "</style>\n",
       "<table id=\"T_0c395\">\n",
       "  <thead>\n",
       "    <tr>\n",
       "      <th class=\"blank level0\" >&nbsp;</th>\n",
       "      <th id=\"T_0c395_level0_col0\" class=\"col_heading level0 col0\" >l2</th>\n",
       "    </tr>\n",
       "  </thead>\n",
       "  <tbody>\n",
       "    <tr>\n",
       "      <th id=\"T_0c395_level0_row0\" class=\"row_heading level0 row0\" >0</th>\n",
       "      <td id=\"T_0c395_row0_col0\" class=\"data row0 col0\" >B</td>\n",
       "    </tr>\n",
       "  </tbody>\n",
       "</table>\n"
      ],
      "text/plain": [
       "<pandas.io.formats.style.Styler at 0x11f53abf0>"
      ]
     },
     "execution_count": 23,
     "metadata": {},
     "output_type": "execute_result"
    }
   ],
   "source": [
    "?[l2] := *stored{l2}"
   ]
  },
  {
   "cell_type": "markdown",
   "id": "2424a684-89fb-449e-a5e6-931353bb482f",
   "metadata": {},
   "source": [
    "After a stored relation is created, use `:put` to insert more data:"
   ]
  },
  {
   "cell_type": "code",
   "execution_count": 24,
   "id": "eb8b4f2c-a2e7-45e3-8c18-6b6b8329344c",
   "metadata": {},
   "outputs": [
    {
     "data": {
      "text/html": [
       "<style type=\"text/css\">\n",
       "#T_819d2_row0_col0 {\n",
       "  color: black;\n",
       "}\n",
       "</style>\n",
       "<table id=\"T_819d2\">\n",
       "  <thead>\n",
       "    <tr>\n",
       "      <th class=\"blank level0\" >&nbsp;</th>\n",
       "      <th id=\"T_819d2_level0_col0\" class=\"col_heading level0 col0\" >status</th>\n",
       "    </tr>\n",
       "  </thead>\n",
       "  <tbody>\n",
       "    <tr>\n",
       "      <th id=\"T_819d2_level0_row0\" class=\"row_heading level0 row0\" >0</th>\n",
       "      <td id=\"T_819d2_row0_col0\" class=\"data row0 col0\" >OK</td>\n",
       "    </tr>\n",
       "  </tbody>\n",
       "</table>\n"
      ],
      "text/plain": [
       "<pandas.io.formats.style.Styler at 0x11f53b010>"
      ]
     },
     "execution_count": 24,
     "metadata": {},
     "output_type": "execute_result"
    }
   ],
   "source": [
    "?[l1, l2] <- [['e', 'E']]\n",
    "    \n",
    ":put stored {l1, l2}"
   ]
  },
  {
   "cell_type": "code",
   "execution_count": 25,
   "id": "ef21c6f3-ce5c-434c-a580-3d1442ebe7c6",
   "metadata": {},
   "outputs": [
    {
     "data": {
      "text/html": [
       "<style type=\"text/css\">\n",
       "#T_d096c_row0_col0, #T_d096c_row0_col1, #T_d096c_row1_col0, #T_d096c_row1_col1 {\n",
       "  color: black;\n",
       "}\n",
       "</style>\n",
       "<table id=\"T_d096c\">\n",
       "  <thead>\n",
       "    <tr>\n",
       "      <th class=\"blank level0\" >&nbsp;</th>\n",
       "      <th id=\"T_d096c_level0_col0\" class=\"col_heading level0 col0\" >l1</th>\n",
       "      <th id=\"T_d096c_level0_col1\" class=\"col_heading level0 col1\" >l2</th>\n",
       "    </tr>\n",
       "  </thead>\n",
       "  <tbody>\n",
       "    <tr>\n",
       "      <th id=\"T_d096c_level0_row0\" class=\"row_heading level0 row0\" >0</th>\n",
       "      <td id=\"T_d096c_row0_col0\" class=\"data row0 col0\" >b</td>\n",
       "      <td id=\"T_d096c_row0_col1\" class=\"data row0 col1\" >B</td>\n",
       "    </tr>\n",
       "    <tr>\n",
       "      <th id=\"T_d096c_level0_row1\" class=\"row_heading level0 row1\" >1</th>\n",
       "      <td id=\"T_d096c_row1_col0\" class=\"data row1 col0\" >e</td>\n",
       "      <td id=\"T_d096c_row1_col1\" class=\"data row1 col1\" >E</td>\n",
       "    </tr>\n",
       "  </tbody>\n",
       "</table>\n"
      ],
      "text/plain": [
       "<pandas.io.formats.style.Styler at 0x11f54cac0>"
      ]
     },
     "execution_count": 25,
     "metadata": {},
     "output_type": "execute_result"
    }
   ],
   "source": [
    "?[l1, l2] := *stored[l1, l2]"
   ]
  },
  {
   "cell_type": "markdown",
   "id": "a58b487a-6a44-43c7-9351-b78a49770a46",
   "metadata": {},
   "source": [
    "Use `:rm` to remove data:"
   ]
  },
  {
   "cell_type": "code",
   "execution_count": 26,
   "id": "2c1d522b-286f-41be-9796-da165999e1df",
   "metadata": {},
   "outputs": [
    {
     "data": {
      "text/html": [
       "<style type=\"text/css\">\n",
       "#T_f99b4_row0_col0 {\n",
       "  color: black;\n",
       "}\n",
       "</style>\n",
       "<table id=\"T_f99b4\">\n",
       "  <thead>\n",
       "    <tr>\n",
       "      <th class=\"blank level0\" >&nbsp;</th>\n",
       "      <th id=\"T_f99b4_level0_col0\" class=\"col_heading level0 col0\" >status</th>\n",
       "    </tr>\n",
       "  </thead>\n",
       "  <tbody>\n",
       "    <tr>\n",
       "      <th id=\"T_f99b4_level0_row0\" class=\"row_heading level0 row0\" >0</th>\n",
       "      <td id=\"T_f99b4_row0_col0\" class=\"data row0 col0\" >OK</td>\n",
       "    </tr>\n",
       "  </tbody>\n",
       "</table>\n"
      ],
      "text/plain": [
       "<pandas.io.formats.style.Styler at 0x11f53b670>"
      ]
     },
     "execution_count": 26,
     "metadata": {},
     "output_type": "execute_result"
    }
   ],
   "source": [
    "?[l1, l2] <- [['e', 'E']]\n",
    "    \n",
    ":rm stored {l1, l2}"
   ]
  },
  {
   "cell_type": "code",
   "execution_count": 27,
   "id": "d9ce93f8-dc37-4c37-9f47-904066c1341a",
   "metadata": {},
   "outputs": [
    {
     "data": {
      "text/html": [
       "<style type=\"text/css\">\n",
       "#T_6641a_row0_col0, #T_6641a_row0_col1 {\n",
       "  color: black;\n",
       "}\n",
       "</style>\n",
       "<table id=\"T_6641a\">\n",
       "  <thead>\n",
       "    <tr>\n",
       "      <th class=\"blank level0\" >&nbsp;</th>\n",
       "      <th id=\"T_6641a_level0_col0\" class=\"col_heading level0 col0\" >l1</th>\n",
       "      <th id=\"T_6641a_level0_col1\" class=\"col_heading level0 col1\" >l2</th>\n",
       "    </tr>\n",
       "  </thead>\n",
       "  <tbody>\n",
       "    <tr>\n",
       "      <th id=\"T_6641a_level0_row0\" class=\"row_heading level0 row0\" >0</th>\n",
       "      <td id=\"T_6641a_row0_col0\" class=\"data row0 col0\" >b</td>\n",
       "      <td id=\"T_6641a_row0_col1\" class=\"data row0 col1\" >B</td>\n",
       "    </tr>\n",
       "  </tbody>\n",
       "</table>\n"
      ],
      "text/plain": [
       "<pandas.io.formats.style.Styler at 0x11f54e590>"
      ]
     },
     "execution_count": 27,
     "metadata": {},
     "output_type": "execute_result"
    }
   ],
   "source": [
    "?[l1, l2] := *stored[l1, l2]"
   ]
  },
  {
   "cell_type": "markdown",
   "id": "1f70e3b5-0b96-42ce-8a34-9d45beaf1772",
   "metadata": {},
   "source": [
    "Use `::remove` (double colon!) to get rid of a stored relation:"
   ]
  },
  {
   "cell_type": "code",
   "execution_count": 28,
   "id": "f27e0eb3-711f-4d68-bd02-1e4cfddfd9ac",
   "metadata": {},
   "outputs": [
    {
     "data": {
      "text/html": [
       "<style type=\"text/css\">\n",
       "#T_d381c_row0_col0 {\n",
       "  color: black;\n",
       "}\n",
       "</style>\n",
       "<table id=\"T_d381c\">\n",
       "  <thead>\n",
       "    <tr>\n",
       "      <th class=\"blank level0\" >&nbsp;</th>\n",
       "      <th id=\"T_d381c_level0_col0\" class=\"col_heading level0 col0\" >status</th>\n",
       "    </tr>\n",
       "  </thead>\n",
       "  <tbody>\n",
       "    <tr>\n",
       "      <th id=\"T_d381c_level0_row0\" class=\"row_heading level0 row0\" >0</th>\n",
       "      <td id=\"T_d381c_row0_col0\" class=\"data row0 col0\" >OK</td>\n",
       "    </tr>\n",
       "  </tbody>\n",
       "</table>\n"
      ],
      "text/plain": [
       "<pandas.io.formats.style.Styler at 0x11f54ece0>"
      ]
     },
     "execution_count": 28,
     "metadata": {},
     "output_type": "execute_result"
    }
   ],
   "source": [
    "::remove stored"
   ]
  },
  {
   "cell_type": "code",
   "execution_count": 29,
   "id": "c938ecd5-8166-4f78-8fa1-234c75691d5e",
   "metadata": {},
   "outputs": [
    {
     "data": {
      "text/html": [
       "<style type=\"text/css\">\n",
       "</style>\n",
       "<table id=\"T_b40e8\">\n",
       "  <thead>\n",
       "    <tr>\n",
       "      <th class=\"blank level0\" >&nbsp;</th>\n",
       "      <th id=\"T_b40e8_level0_col0\" class=\"col_heading level0 col0\" >name</th>\n",
       "      <th id=\"T_b40e8_level0_col1\" class=\"col_heading level0 col1\" >arity</th>\n",
       "      <th id=\"T_b40e8_level0_col2\" class=\"col_heading level0 col2\" >access_level</th>\n",
       "      <th id=\"T_b40e8_level0_col3\" class=\"col_heading level0 col3\" >n_keys</th>\n",
       "      <th id=\"T_b40e8_level0_col4\" class=\"col_heading level0 col4\" >n_non_keys</th>\n",
       "      <th id=\"T_b40e8_level0_col5\" class=\"col_heading level0 col5\" >n_put_triggers</th>\n",
       "      <th id=\"T_b40e8_level0_col6\" class=\"col_heading level0 col6\" >n_rm_triggers</th>\n",
       "      <th id=\"T_b40e8_level0_col7\" class=\"col_heading level0 col7\" >n_replace_triggers</th>\n",
       "    </tr>\n",
       "  </thead>\n",
       "  <tbody>\n",
       "  </tbody>\n",
       "</table>\n"
      ],
      "text/plain": [
       "<pandas.io.formats.style.Styler at 0x11f4df9a0>"
      ]
     },
     "execution_count": 29,
     "metadata": {},
     "output_type": "execute_result"
    }
   ],
   "source": [
    "::relations"
   ]
  },
  {
   "cell_type": "markdown",
   "id": "df2bff7d-3164-409a-a7fd-4e074be7ecbc",
   "metadata": {},
   "source": [
    "So far, all stored relations store all the data in their _keys_.\n",
    "You can instruct Cozo to only treat some of the data as keys, thereby indicating a _functional dependency_:"
   ]
  },
  {
   "cell_type": "code",
   "execution_count": 30,
   "id": "3a133dc0-5334-4acb-972a-305b5927941a",
   "metadata": {},
   "outputs": [
    {
     "data": {
      "text/html": [
       "<style type=\"text/css\">\n",
       "#T_ab51c_row0_col0 {\n",
       "  color: black;\n",
       "}\n",
       "</style>\n",
       "<table id=\"T_ab51c\">\n",
       "  <thead>\n",
       "    <tr>\n",
       "      <th class=\"blank level0\" >&nbsp;</th>\n",
       "      <th id=\"T_ab51c_level0_col0\" class=\"col_heading level0 col0\" >status</th>\n",
       "    </tr>\n",
       "  </thead>\n",
       "  <tbody>\n",
       "    <tr>\n",
       "      <th id=\"T_ab51c_level0_row0\" class=\"row_heading level0 row0\" >0</th>\n",
       "      <td id=\"T_ab51c_row0_col0\" class=\"data row0 col0\" >OK</td>\n",
       "    </tr>\n",
       "  </tbody>\n",
       "</table>\n"
      ],
      "text/plain": [
       "<pandas.io.formats.style.Styler at 0x11f4dfcd0>"
      ]
     },
     "execution_count": 30,
     "metadata": {},
     "output_type": "execute_result"
    }
   ],
   "source": [
    "?[a, b, c] <- [[1, 'a', 'A'],\n",
    "               [2, 'b', 'B'],\n",
    "               [3, 'c', 'C'],\n",
    "               [4, 'd', 'D']]\n",
    "\n",
    ":create fd {a, b => c}"
   ]
  },
  {
   "cell_type": "code",
   "execution_count": 31,
   "id": "3ff9ac04-531d-4726-aeb2-d8feab7bc149",
   "metadata": {},
   "outputs": [
    {
     "data": {
      "text/html": [
       "<style type=\"text/css\">\n",
       "#T_88037_row0_col0, #T_88037_row1_col0, #T_88037_row2_col0, #T_88037_row3_col0 {\n",
       "  color: #307fc1;\n",
       "}\n",
       "#T_88037_row0_col1, #T_88037_row0_col2, #T_88037_row1_col1, #T_88037_row1_col2, #T_88037_row2_col1, #T_88037_row2_col2, #T_88037_row3_col1, #T_88037_row3_col2 {\n",
       "  color: black;\n",
       "}\n",
       "</style>\n",
       "<table id=\"T_88037\">\n",
       "  <thead>\n",
       "    <tr>\n",
       "      <th class=\"blank level0\" >&nbsp;</th>\n",
       "      <th id=\"T_88037_level0_col0\" class=\"col_heading level0 col0\" >a</th>\n",
       "      <th id=\"T_88037_level0_col1\" class=\"col_heading level0 col1\" >b</th>\n",
       "      <th id=\"T_88037_level0_col2\" class=\"col_heading level0 col2\" >c</th>\n",
       "    </tr>\n",
       "  </thead>\n",
       "  <tbody>\n",
       "    <tr>\n",
       "      <th id=\"T_88037_level0_row0\" class=\"row_heading level0 row0\" >0</th>\n",
       "      <td id=\"T_88037_row0_col0\" class=\"data row0 col0\" >1</td>\n",
       "      <td id=\"T_88037_row0_col1\" class=\"data row0 col1\" >a</td>\n",
       "      <td id=\"T_88037_row0_col2\" class=\"data row0 col2\" >A</td>\n",
       "    </tr>\n",
       "    <tr>\n",
       "      <th id=\"T_88037_level0_row1\" class=\"row_heading level0 row1\" >1</th>\n",
       "      <td id=\"T_88037_row1_col0\" class=\"data row1 col0\" >2</td>\n",
       "      <td id=\"T_88037_row1_col1\" class=\"data row1 col1\" >b</td>\n",
       "      <td id=\"T_88037_row1_col2\" class=\"data row1 col2\" >B</td>\n",
       "    </tr>\n",
       "    <tr>\n",
       "      <th id=\"T_88037_level0_row2\" class=\"row_heading level0 row2\" >2</th>\n",
       "      <td id=\"T_88037_row2_col0\" class=\"data row2 col0\" >3</td>\n",
       "      <td id=\"T_88037_row2_col1\" class=\"data row2 col1\" >c</td>\n",
       "      <td id=\"T_88037_row2_col2\" class=\"data row2 col2\" >C</td>\n",
       "    </tr>\n",
       "    <tr>\n",
       "      <th id=\"T_88037_level0_row3\" class=\"row_heading level0 row3\" >3</th>\n",
       "      <td id=\"T_88037_row3_col0\" class=\"data row3 col0\" >4</td>\n",
       "      <td id=\"T_88037_row3_col1\" class=\"data row3 col1\" >d</td>\n",
       "      <td id=\"T_88037_row3_col2\" class=\"data row3 col2\" >D</td>\n",
       "    </tr>\n",
       "  </tbody>\n",
       "</table>\n"
      ],
      "text/plain": [
       "<pandas.io.formats.style.Styler at 0x11f53aa40>"
      ]
     },
     "execution_count": 31,
     "metadata": {},
     "output_type": "execute_result"
    }
   ],
   "source": [
    "?[a, b, c] := *fd[a, b, c]"
   ]
  },
  {
   "cell_type": "markdown",
   "id": "53128ced-3edb-4f8a-bbff-506e7139711f",
   "metadata": {},
   "source": [
    "Now if you insert another row with an existing key, that row will be updated:"
   ]
  },
  {
   "cell_type": "code",
   "execution_count": 32,
   "id": "fd442640-4664-4f1c-a0a7-0a265d19ca74",
   "metadata": {},
   "outputs": [
    {
     "data": {
      "text/html": [
       "<style type=\"text/css\">\n",
       "#T_171dc_row0_col0 {\n",
       "  color: black;\n",
       "}\n",
       "</style>\n",
       "<table id=\"T_171dc\">\n",
       "  <thead>\n",
       "    <tr>\n",
       "      <th class=\"blank level0\" >&nbsp;</th>\n",
       "      <th id=\"T_171dc_level0_col0\" class=\"col_heading level0 col0\" >status</th>\n",
       "    </tr>\n",
       "  </thead>\n",
       "  <tbody>\n",
       "    <tr>\n",
       "      <th id=\"T_171dc_level0_row0\" class=\"row_heading level0 row0\" >0</th>\n",
       "      <td id=\"T_171dc_row0_col0\" class=\"data row0 col0\" >OK</td>\n",
       "    </tr>\n",
       "  </tbody>\n",
       "</table>\n"
      ],
      "text/plain": [
       "<pandas.io.formats.style.Styler at 0x11f53be80>"
      ]
     },
     "execution_count": 32,
     "metadata": {},
     "output_type": "execute_result"
    }
   ],
   "source": [
    "?[a, b, c] <- [[3, 'c', 'CCCCCCC']]\n",
    "\n",
    ":put fd {a, b => c}"
   ]
  },
  {
   "cell_type": "code",
   "execution_count": 33,
   "id": "980e4530-baec-40c5-9d68-e60d3dd8fb73",
   "metadata": {},
   "outputs": [
    {
     "data": {
      "text/html": [
       "<style type=\"text/css\">\n",
       "#T_a3cfc_row0_col0, #T_a3cfc_row1_col0, #T_a3cfc_row2_col0, #T_a3cfc_row3_col0 {\n",
       "  color: #307fc1;\n",
       "}\n",
       "#T_a3cfc_row0_col1, #T_a3cfc_row0_col2, #T_a3cfc_row1_col1, #T_a3cfc_row1_col2, #T_a3cfc_row2_col1, #T_a3cfc_row2_col2, #T_a3cfc_row3_col1, #T_a3cfc_row3_col2 {\n",
       "  color: black;\n",
       "}\n",
       "</style>\n",
       "<table id=\"T_a3cfc\">\n",
       "  <thead>\n",
       "    <tr>\n",
       "      <th class=\"blank level0\" >&nbsp;</th>\n",
       "      <th id=\"T_a3cfc_level0_col0\" class=\"col_heading level0 col0\" >a</th>\n",
       "      <th id=\"T_a3cfc_level0_col1\" class=\"col_heading level0 col1\" >b</th>\n",
       "      <th id=\"T_a3cfc_level0_col2\" class=\"col_heading level0 col2\" >c</th>\n",
       "    </tr>\n",
       "  </thead>\n",
       "  <tbody>\n",
       "    <tr>\n",
       "      <th id=\"T_a3cfc_level0_row0\" class=\"row_heading level0 row0\" >0</th>\n",
       "      <td id=\"T_a3cfc_row0_col0\" class=\"data row0 col0\" >1</td>\n",
       "      <td id=\"T_a3cfc_row0_col1\" class=\"data row0 col1\" >a</td>\n",
       "      <td id=\"T_a3cfc_row0_col2\" class=\"data row0 col2\" >A</td>\n",
       "    </tr>\n",
       "    <tr>\n",
       "      <th id=\"T_a3cfc_level0_row1\" class=\"row_heading level0 row1\" >1</th>\n",
       "      <td id=\"T_a3cfc_row1_col0\" class=\"data row1 col0\" >2</td>\n",
       "      <td id=\"T_a3cfc_row1_col1\" class=\"data row1 col1\" >b</td>\n",
       "      <td id=\"T_a3cfc_row1_col2\" class=\"data row1 col2\" >B</td>\n",
       "    </tr>\n",
       "    <tr>\n",
       "      <th id=\"T_a3cfc_level0_row2\" class=\"row_heading level0 row2\" >2</th>\n",
       "      <td id=\"T_a3cfc_row2_col0\" class=\"data row2 col0\" >3</td>\n",
       "      <td id=\"T_a3cfc_row2_col1\" class=\"data row2 col1\" >c</td>\n",
       "      <td id=\"T_a3cfc_row2_col2\" class=\"data row2 col2\" >CCCCCCC</td>\n",
       "    </tr>\n",
       "    <tr>\n",
       "      <th id=\"T_a3cfc_level0_row3\" class=\"row_heading level0 row3\" >3</th>\n",
       "      <td id=\"T_a3cfc_row3_col0\" class=\"data row3 col0\" >4</td>\n",
       "      <td id=\"T_a3cfc_row3_col1\" class=\"data row3 col1\" >d</td>\n",
       "      <td id=\"T_a3cfc_row3_col2\" class=\"data row3 col2\" >D</td>\n",
       "    </tr>\n",
       "  </tbody>\n",
       "</table>\n"
      ],
      "text/plain": [
       "<pandas.io.formats.style.Styler at 0x11f55cca0>"
      ]
     },
     "execution_count": 33,
     "metadata": {},
     "output_type": "execute_result"
    }
   ],
   "source": [
    "?[a, b, c] := *fd[a, b, c]"
   ]
  },
  {
   "cell_type": "markdown",
   "id": "4f84ee9b-46b2-448a-b399-914cf5d4d810",
   "metadata": {},
   "source": [
    "You can check whether a column is in a key position by looking at the `is_key` column in:"
   ]
  },
  {
   "cell_type": "code",
   "execution_count": 34,
   "id": "07bdf041-6b4f-4686-9aa5-3d95f323a397",
   "metadata": {},
   "outputs": [
    {
     "data": {
      "text/html": [
       "<style type=\"text/css\">\n",
       "#T_8fce8_row0_col0, #T_8fce8_row0_col3, #T_8fce8_row1_col0, #T_8fce8_row1_col3, #T_8fce8_row2_col0, #T_8fce8_row2_col3 {\n",
       "  color: black;\n",
       "}\n",
       "#T_8fce8_row0_col1, #T_8fce8_row0_col2, #T_8fce8_row0_col4, #T_8fce8_row1_col1, #T_8fce8_row1_col2, #T_8fce8_row1_col4, #T_8fce8_row2_col1, #T_8fce8_row2_col2, #T_8fce8_row2_col4 {\n",
       "  color: #307fc1;\n",
       "}\n",
       "</style>\n",
       "<table id=\"T_8fce8\">\n",
       "  <thead>\n",
       "    <tr>\n",
       "      <th class=\"blank level0\" >&nbsp;</th>\n",
       "      <th id=\"T_8fce8_level0_col0\" class=\"col_heading level0 col0\" >column</th>\n",
       "      <th id=\"T_8fce8_level0_col1\" class=\"col_heading level0 col1\" >is_key</th>\n",
       "      <th id=\"T_8fce8_level0_col2\" class=\"col_heading level0 col2\" >index</th>\n",
       "      <th id=\"T_8fce8_level0_col3\" class=\"col_heading level0 col3\" >type</th>\n",
       "      <th id=\"T_8fce8_level0_col4\" class=\"col_heading level0 col4\" >has_default</th>\n",
       "    </tr>\n",
       "  </thead>\n",
       "  <tbody>\n",
       "    <tr>\n",
       "      <th id=\"T_8fce8_level0_row0\" class=\"row_heading level0 row0\" >0</th>\n",
       "      <td id=\"T_8fce8_row0_col0\" class=\"data row0 col0\" >a</td>\n",
       "      <td id=\"T_8fce8_row0_col1\" class=\"data row0 col1\" >True</td>\n",
       "      <td id=\"T_8fce8_row0_col2\" class=\"data row0 col2\" >0</td>\n",
       "      <td id=\"T_8fce8_row0_col3\" class=\"data row0 col3\" >Any?</td>\n",
       "      <td id=\"T_8fce8_row0_col4\" class=\"data row0 col4\" >False</td>\n",
       "    </tr>\n",
       "    <tr>\n",
       "      <th id=\"T_8fce8_level0_row1\" class=\"row_heading level0 row1\" >1</th>\n",
       "      <td id=\"T_8fce8_row1_col0\" class=\"data row1 col0\" >b</td>\n",
       "      <td id=\"T_8fce8_row1_col1\" class=\"data row1 col1\" >True</td>\n",
       "      <td id=\"T_8fce8_row1_col2\" class=\"data row1 col2\" >1</td>\n",
       "      <td id=\"T_8fce8_row1_col3\" class=\"data row1 col3\" >Any?</td>\n",
       "      <td id=\"T_8fce8_row1_col4\" class=\"data row1 col4\" >False</td>\n",
       "    </tr>\n",
       "    <tr>\n",
       "      <th id=\"T_8fce8_level0_row2\" class=\"row_heading level0 row2\" >2</th>\n",
       "      <td id=\"T_8fce8_row2_col0\" class=\"data row2 col0\" >c</td>\n",
       "      <td id=\"T_8fce8_row2_col1\" class=\"data row2 col1\" >False</td>\n",
       "      <td id=\"T_8fce8_row2_col2\" class=\"data row2 col2\" >2</td>\n",
       "      <td id=\"T_8fce8_row2_col3\" class=\"data row2 col3\" >Any?</td>\n",
       "      <td id=\"T_8fce8_row2_col4\" class=\"data row2 col4\" >False</td>\n",
       "    </tr>\n",
       "  </tbody>\n",
       "</table>\n"
      ],
      "text/plain": [
       "<pandas.io.formats.style.Styler at 0x11f53af50>"
      ]
     },
     "execution_count": 34,
     "metadata": {},
     "output_type": "execute_result"
    }
   ],
   "source": [
    "::columns fd"
   ]
  },
  {
   "cell_type": "markdown",
   "id": "183002b2-1041-4843-a3a8-d1496ec6a4b6",
   "metadata": {},
   "source": [
    "You may have noticed that columns also have types and default values associated with them, and stored relations can have triggers. These are discussed in the [manual](https://cozodb.github.io/current/manual/stored.html).\n",
    "We won't overload you with all the complexities in this tutorial.\n",
    "\n",
    "Before continuing, let's remove the stored relation we introduced:"
   ]
  },
  {
   "cell_type": "code",
   "execution_count": 35,
   "id": "8e70a093-600c-48c5-90f5-ff3f340287d2",
   "metadata": {},
   "outputs": [
    {
     "data": {
      "text/html": [
       "<style type=\"text/css\">\n",
       "#T_b6f45_row0_col0 {\n",
       "  color: black;\n",
       "}\n",
       "</style>\n",
       "<table id=\"T_b6f45\">\n",
       "  <thead>\n",
       "    <tr>\n",
       "      <th class=\"blank level0\" >&nbsp;</th>\n",
       "      <th id=\"T_b6f45_level0_col0\" class=\"col_heading level0 col0\" >status</th>\n",
       "    </tr>\n",
       "  </thead>\n",
       "  <tbody>\n",
       "    <tr>\n",
       "      <th id=\"T_b6f45_level0_row0\" class=\"row_heading level0 row0\" >0</th>\n",
       "      <td id=\"T_b6f45_row0_col0\" class=\"data row0 col0\" >OK</td>\n",
       "    </tr>\n",
       "  </tbody>\n",
       "</table>\n"
      ],
      "text/plain": [
       "<pandas.io.formats.style.Styler at 0x11f54fe50>"
      ]
     },
     "execution_count": 35,
     "metadata": {},
     "output_type": "execute_result"
    }
   ],
   "source": [
    "::remove fd"
   ]
  },
  {
   "cell_type": "markdown",
   "id": "4b702c08-b59a-451c-826c-919a533b9094",
   "metadata": {},
   "source": [
    "## Graphs\n",
    "\n",
    "Now let's consider a graph stored as a relation:"
   ]
  },
  {
   "cell_type": "code",
   "execution_count": 36,
   "id": "fba82f6e-124b-478d-893d-b69bc79680cc",
   "metadata": {},
   "outputs": [
    {
     "data": {
      "text/html": [
       "<style type=\"text/css\">\n",
       "#T_6b102_row0_col0 {\n",
       "  color: black;\n",
       "}\n",
       "</style>\n",
       "<table id=\"T_6b102\">\n",
       "  <thead>\n",
       "    <tr>\n",
       "      <th class=\"blank level0\" >&nbsp;</th>\n",
       "      <th id=\"T_6b102_level0_col0\" class=\"col_heading level0 col0\" >status</th>\n",
       "    </tr>\n",
       "  </thead>\n",
       "  <tbody>\n",
       "    <tr>\n",
       "      <th id=\"T_6b102_level0_row0\" class=\"row_heading level0 row0\" >0</th>\n",
       "      <td id=\"T_6b102_row0_col0\" class=\"data row0 col0\" >OK</td>\n",
       "    </tr>\n",
       "  </tbody>\n",
       "</table>\n"
      ],
      "text/plain": [
       "<pandas.io.formats.style.Styler at 0x11f54e410>"
      ]
     },
     "execution_count": 36,
     "metadata": {},
     "output_type": "execute_result"
    }
   ],
   "source": [
    "?[loving, loved] <- [['alice', 'eve'],\n",
    "                     ['bob', 'alice'],\n",
    "                     ['eve', 'alice'],\n",
    "                     ['eve', 'bob'],\n",
    "                     ['eve', 'charlie'],\n",
    "                     ['charlie', 'eve'],\n",
    "                     ['david', 'george'],\n",
    "                     ['george', 'george']]\n",
    "\n",
    ":replace love {loving, loved}"
   ]
  },
  {
   "cell_type": "markdown",
   "id": "8b1cf760-0989-48b3-aaed-3270c2d188bf",
   "metadata": {},
   "source": [
    "The graph we have created reads like \"Alice loves Eve, Bob loves Alice\", \"nobody loves David, David loves George, but George only loves himself\", and so on. \n",
    "Here we used `:replace` instead of `:create`. The difference is that if `love` already exists, it will be wiped and replaced with the new data given.\n",
    "\n",
    "We can investigate competing interests:"
   ]
  },
  {
   "cell_type": "code",
   "execution_count": 37,
   "id": "64fb79e4-381e-4190-ac19-05b53e76cf6b",
   "metadata": {},
   "outputs": [
    {
     "data": {
      "text/html": [
       "<style type=\"text/css\">\n",
       "#T_98ba6_row0_col0 {\n",
       "  color: black;\n",
       "}\n",
       "</style>\n",
       "<table id=\"T_98ba6\">\n",
       "  <thead>\n",
       "    <tr>\n",
       "      <th class=\"blank level0\" >&nbsp;</th>\n",
       "      <th id=\"T_98ba6_level0_col0\" class=\"col_heading level0 col0\" >loved_by_b_e</th>\n",
       "    </tr>\n",
       "  </thead>\n",
       "  <tbody>\n",
       "    <tr>\n",
       "      <th id=\"T_98ba6_level0_row0\" class=\"row_heading level0 row0\" >0</th>\n",
       "      <td id=\"T_98ba6_row0_col0\" class=\"data row0 col0\" >alice</td>\n",
       "    </tr>\n",
       "  </tbody>\n",
       "</table>\n"
      ],
      "text/plain": [
       "<pandas.io.formats.style.Styler at 0x11f54f910>"
      ]
     },
     "execution_count": 37,
     "metadata": {},
     "output_type": "execute_result"
    }
   ],
   "source": [
    "?[loved_by_b_e] := *love['eve', loved_by_b_e], *love['bob', loved_by_b_e]"
   ]
  },
  {
   "cell_type": "markdown",
   "id": "48fa9636-5727-4984-af6e-f318c3e98b85",
   "metadata": {},
   "source": [
    "So far we rule bodies consist of _conjunction_ of atoms only. Disjunction is also available, by using the `or` keyword:"
   ]
  },
  {
   "cell_type": "code",
   "execution_count": 38,
   "id": "132c8855-cca2-4cb3-ae53-53d2ff92f4a9",
   "metadata": {},
   "outputs": [
    {
     "data": {
      "text/html": [
       "<style type=\"text/css\">\n",
       "#T_b1fdb_row0_col0, #T_b1fdb_row1_col0 {\n",
       "  color: black;\n",
       "}\n",
       "</style>\n",
       "<table id=\"T_b1fdb\">\n",
       "  <thead>\n",
       "    <tr>\n",
       "      <th class=\"blank level0\" >&nbsp;</th>\n",
       "      <th id=\"T_b1fdb_level0_col0\" class=\"col_heading level0 col0\" >loved_by_b_e</th>\n",
       "    </tr>\n",
       "  </thead>\n",
       "  <tbody>\n",
       "    <tr>\n",
       "      <th id=\"T_b1fdb_level0_row0\" class=\"row_heading level0 row0\" >0</th>\n",
       "      <td id=\"T_b1fdb_row0_col0\" class=\"data row0 col0\" >alice</td>\n",
       "    </tr>\n",
       "    <tr>\n",
       "      <th id=\"T_b1fdb_level0_row1\" class=\"row_heading level0 row1\" >1</th>\n",
       "      <td id=\"T_b1fdb_row1_col0\" class=\"data row1 col0\" >charlie</td>\n",
       "    </tr>\n",
       "  </tbody>\n",
       "</table>\n"
      ],
      "text/plain": [
       "<pandas.io.formats.style.Styler at 0x11f4dfb20>"
      ]
     },
     "execution_count": 38,
     "metadata": {},
     "output_type": "execute_result"
    }
   ],
   "source": [
    "?[loved_by_b_e] := *love['eve', loved_by_b_e] or *love['bob', loved_by_b_e], \n",
    "                   loved_by_b_e != 'bob', \n",
    "                   loved_by_b_e != 'eve'"
   ]
  },
  {
   "cell_type": "markdown",
   "id": "d8ebc9a1-356e-4ba1-952c-c66920551381",
   "metadata": {},
   "source": [
    "Another way to write the same query is to have multiple rule definitions under the same name:"
   ]
  },
  {
   "cell_type": "code",
   "execution_count": 39,
   "id": "4e7ba20f-2a10-41f0-9062-cc269b36554d",
   "metadata": {},
   "outputs": [
    {
     "data": {
      "text/html": [
       "<style type=\"text/css\">\n",
       "#T_70121_row0_col0, #T_70121_row1_col0 {\n",
       "  color: black;\n",
       "}\n",
       "</style>\n",
       "<table id=\"T_70121\">\n",
       "  <thead>\n",
       "    <tr>\n",
       "      <th class=\"blank level0\" >&nbsp;</th>\n",
       "      <th id=\"T_70121_level0_col0\" class=\"col_heading level0 col0\" >loved_by_b_e</th>\n",
       "    </tr>\n",
       "  </thead>\n",
       "  <tbody>\n",
       "    <tr>\n",
       "      <th id=\"T_70121_level0_row0\" class=\"row_heading level0 row0\" >0</th>\n",
       "      <td id=\"T_70121_row0_col0\" class=\"data row0 col0\" >alice</td>\n",
       "    </tr>\n",
       "    <tr>\n",
       "      <th id=\"T_70121_level0_row1\" class=\"row_heading level0 row1\" >1</th>\n",
       "      <td id=\"T_70121_row1_col0\" class=\"data row1 col0\" >charlie</td>\n",
       "    </tr>\n",
       "  </tbody>\n",
       "</table>\n"
      ],
      "text/plain": [
       "<pandas.io.formats.style.Styler at 0x11f55de70>"
      ]
     },
     "execution_count": 39,
     "metadata": {},
     "output_type": "execute_result"
    }
   ],
   "source": [
    "?[loved_by_b_e] := *love['eve', loved_by_b_e], \n",
    "                   loved_by_b_e != 'bob', \n",
    "                   loved_by_b_e != 'eve'\n",
    "?[loved_by_b_e] := *love['bob', loved_by_b_e], \n",
    "                   loved_by_b_e != 'bob', \n",
    "                   loved_by_b_e != 'eve'"
   ]
  },
  {
   "cell_type": "markdown",
   "id": "0b859b50-a748-4e20-9900-7ee053078a7f",
   "metadata": {},
   "source": [
    "When you have multiple definitions of the same inline rule, the rule heads must be compatible. Only inline rules can have multiple definitions.\n",
    "\n",
    "## Negation\n",
    "\n",
    "Negation of _expressions_ should be familiar:"
   ]
  },
  {
   "cell_type": "code",
   "execution_count": 40,
   "id": "ff02b41d-d3aa-4267-b7e9-b56874f37bf9",
   "metadata": {},
   "outputs": [
    {
     "data": {
      "text/html": [
       "<style type=\"text/css\">\n",
       "#T_559bf_row0_col0, #T_559bf_row1_col0 {\n",
       "  color: black;\n",
       "}\n",
       "</style>\n",
       "<table id=\"T_559bf\">\n",
       "  <thead>\n",
       "    <tr>\n",
       "      <th class=\"blank level0\" >&nbsp;</th>\n",
       "      <th id=\"T_559bf_level0_col0\" class=\"col_heading level0 col0\" >loved</th>\n",
       "    </tr>\n",
       "  </thead>\n",
       "  <tbody>\n",
       "    <tr>\n",
       "      <th id=\"T_559bf_level0_row0\" class=\"row_heading level0 row0\" >0</th>\n",
       "      <td id=\"T_559bf_row0_col0\" class=\"data row0 col0\" >alice</td>\n",
       "    </tr>\n",
       "    <tr>\n",
       "      <th id=\"T_559bf_level0_row1\" class=\"row_heading level0 row1\" >1</th>\n",
       "      <td id=\"T_559bf_row1_col0\" class=\"data row1 col0\" >george</td>\n",
       "    </tr>\n",
       "  </tbody>\n",
       "</table>\n"
      ],
      "text/plain": [
       "<pandas.io.formats.style.Styler at 0x11f55e170>"
      ]
     },
     "execution_count": 40,
     "metadata": {},
     "output_type": "execute_result"
    }
   ],
   "source": [
    "?[loved] := *love[person, loved], !ends_with(person, 'e')"
   ]
  },
  {
   "cell_type": "markdown",
   "id": "433386de-59b5-4169-b0fb-20ad28df401b",
   "metadata": {},
   "source": [
    "Rule applications can also be negated, not with the `!` operator, but with the `not` keyword:"
   ]
  },
  {
   "cell_type": "code",
   "execution_count": 41,
   "id": "5eda38db-ddba-45e1-8bd5-4b39116fd81f",
   "metadata": {},
   "outputs": [
    {
     "data": {
      "text/html": [
       "<style type=\"text/css\">\n",
       "#T_ca9c7_row0_col0, #T_ca9c7_row1_col0 {\n",
       "  color: black;\n",
       "}\n",
       "</style>\n",
       "<table id=\"T_ca9c7\">\n",
       "  <thead>\n",
       "    <tr>\n",
       "      <th class=\"blank level0\" >&nbsp;</th>\n",
       "      <th id=\"T_ca9c7_level0_col0\" class=\"col_heading level0 col0\" >loved_by_e_not_b</th>\n",
       "    </tr>\n",
       "  </thead>\n",
       "  <tbody>\n",
       "    <tr>\n",
       "      <th id=\"T_ca9c7_level0_row0\" class=\"row_heading level0 row0\" >0</th>\n",
       "      <td id=\"T_ca9c7_row0_col0\" class=\"data row0 col0\" >bob</td>\n",
       "    </tr>\n",
       "    <tr>\n",
       "      <th id=\"T_ca9c7_level0_row1\" class=\"row_heading level0 row1\" >1</th>\n",
       "      <td id=\"T_ca9c7_row1_col0\" class=\"data row1 col0\" >charlie</td>\n",
       "    </tr>\n",
       "  </tbody>\n",
       "</table>\n"
      ],
      "text/plain": [
       "<pandas.io.formats.style.Styler at 0x11f55e380>"
      ]
     },
     "execution_count": 41,
     "metadata": {},
     "output_type": "execute_result"
    }
   ],
   "source": [
    "?[loved_by_e_not_b] := *love['eve', loved_by_e_not_b], not *love['bob', loved_by_e_not_b]"
   ]
  },
  {
   "cell_type": "markdown",
   "id": "5b2c4fa2-1f07-440a-a7fa-1f9a3cbfdc3c",
   "metadata": {},
   "source": [
    "There are two sets of logical operations in Cozo, one set that acts on the level of expressions, and another set that acts on the level of atoms:\n",
    "\n",
    "* For atoms: `,` or `and` (conjunction), `or` (disjunction), `not` (negation)\n",
    "* For expressions: `&&` (conjunction), `||` (disjunction), `!` (negation)\n",
    "\n",
    "The difference between `,` and `and` is operator precedence: `and` has higher precedence than `or`, whereas `,` has lower precedence than `or`.\n",
    "\n",
    "There is a _safety rule_ for negation:"
   ]
  },
  {
   "cell_type": "code",
   "execution_count": 42,
   "id": "7db09fb7-25a5-424a-a66a-0bc24d6d4fc1",
   "metadata": {},
   "outputs": [
    {
     "data": {
      "text/plain": [
       "\u001b[31meval::unbound_symb_in_head\u001b[0m\n",
       "\n",
       "  \u001b[31m×\u001b[0m Symbol 'not_loved_by_b' in rule head is unbound\n",
       "   ╭────\n",
       " \u001b[2m1\u001b[0m │ ?[not_loved_by_b] := not *love['bob', not_loved_by_b]\n",
       "   · \u001b[35;1m  ──────────────\u001b[0m\n",
       "   ╰────\n",
       "\u001b[36m  help: \u001b[0mNote that symbols occurring only in negated positions are not considered bound\n"
      ]
     },
     "execution_count": 42,
     "metadata": {},
     "output_type": "execute_result"
    }
   ],
   "source": [
    "?[not_loved_by_b] := not *love['bob', not_loved_by_b]"
   ]
  },
  {
   "cell_type": "markdown",
   "id": "44d83981-21eb-406c-9287-0e50aff5c423",
   "metadata": {},
   "source": [
    "This query is forbidden because the resulting relation is infinite.\n",
    "For example, 'gold' should be in the result, since _according to the facts stored in the database_, \n",
    "Bob has no interest in 'gold'.\n",
    "\n",
    "To make our query finite, we have to explicitly give our query a _closed world_:"
   ]
  },
  {
   "cell_type": "code",
   "execution_count": 43,
   "id": "225a4625-b99a-41a8-a2ef-fa553065e8aa",
   "metadata": {},
   "outputs": [
    {
     "data": {
      "text/html": [
       "<style type=\"text/css\">\n",
       "#T_7b9b7_row0_col0, #T_7b9b7_row1_col0, #T_7b9b7_row2_col0, #T_7b9b7_row3_col0, #T_7b9b7_row4_col0 {\n",
       "  color: black;\n",
       "}\n",
       "</style>\n",
       "<table id=\"T_7b9b7\">\n",
       "  <thead>\n",
       "    <tr>\n",
       "      <th class=\"blank level0\" >&nbsp;</th>\n",
       "      <th id=\"T_7b9b7_level0_col0\" class=\"col_heading level0 col0\" >not_loved_by_b</th>\n",
       "    </tr>\n",
       "  </thead>\n",
       "  <tbody>\n",
       "    <tr>\n",
       "      <th id=\"T_7b9b7_level0_row0\" class=\"row_heading level0 row0\" >0</th>\n",
       "      <td id=\"T_7b9b7_row0_col0\" class=\"data row0 col0\" >bob</td>\n",
       "    </tr>\n",
       "    <tr>\n",
       "      <th id=\"T_7b9b7_level0_row1\" class=\"row_heading level0 row1\" >1</th>\n",
       "      <td id=\"T_7b9b7_row1_col0\" class=\"data row1 col0\" >charlie</td>\n",
       "    </tr>\n",
       "    <tr>\n",
       "      <th id=\"T_7b9b7_level0_row2\" class=\"row_heading level0 row2\" >2</th>\n",
       "      <td id=\"T_7b9b7_row2_col0\" class=\"data row2 col0\" >david</td>\n",
       "    </tr>\n",
       "    <tr>\n",
       "      <th id=\"T_7b9b7_level0_row3\" class=\"row_heading level0 row3\" >3</th>\n",
       "      <td id=\"T_7b9b7_row3_col0\" class=\"data row3 col0\" >eve</td>\n",
       "    </tr>\n",
       "    <tr>\n",
       "      <th id=\"T_7b9b7_level0_row4\" class=\"row_heading level0 row4\" >4</th>\n",
       "      <td id=\"T_7b9b7_row4_col0\" class=\"data row4 col0\" >george</td>\n",
       "    </tr>\n",
       "  </tbody>\n",
       "</table>\n"
      ],
      "text/plain": [
       "<pandas.io.formats.style.Styler at 0x11f54e170>"
      ]
     },
     "execution_count": 43,
     "metadata": {},
     "output_type": "execute_result"
    }
   ],
   "source": [
    "the_population[p] := *love[p, _a]\n",
    "the_population[p] := *love[_a, p]\n",
    "\n",
    "?[not_loved_by_b] := the_population[not_loved_by_b], not *love['bob', not_loved_by_b]"
   ]
  },
  {
   "cell_type": "markdown",
   "id": "5ac5f2cd-5a05-4b84-898d-f5a08c15907a",
   "metadata": {},
   "source": [
    "## Recursion\n",
    "\n",
    "Inline rules can applying other rules, and can have multiple definitions. If you combine these two, you get recursions:"
   ]
  },
  {
   "cell_type": "code",
   "execution_count": 44,
   "id": "7a63d36e-a03d-4b4a-a825-cdc3ed036f1b",
   "metadata": {},
   "outputs": [
    {
     "data": {
      "text/html": [
       "<style type=\"text/css\">\n",
       "#T_1f997_row0_col0, #T_1f997_row1_col0, #T_1f997_row2_col0, #T_1f997_row3_col0 {\n",
       "  color: black;\n",
       "}\n",
       "</style>\n",
       "<table id=\"T_1f997\">\n",
       "  <thead>\n",
       "    <tr>\n",
       "      <th class=\"blank level0\" >&nbsp;</th>\n",
       "      <th id=\"T_1f997_level0_col0\" class=\"col_heading level0 col0\" >chained</th>\n",
       "    </tr>\n",
       "  </thead>\n",
       "  <tbody>\n",
       "    <tr>\n",
       "      <th id=\"T_1f997_level0_row0\" class=\"row_heading level0 row0\" >0</th>\n",
       "      <td id=\"T_1f997_row0_col0\" class=\"data row0 col0\" >alice</td>\n",
       "    </tr>\n",
       "    <tr>\n",
       "      <th id=\"T_1f997_level0_row1\" class=\"row_heading level0 row1\" >1</th>\n",
       "      <td id=\"T_1f997_row1_col0\" class=\"data row1 col0\" >bob</td>\n",
       "    </tr>\n",
       "    <tr>\n",
       "      <th id=\"T_1f997_level0_row2\" class=\"row_heading level0 row2\" >2</th>\n",
       "      <td id=\"T_1f997_row2_col0\" class=\"data row2 col0\" >charlie</td>\n",
       "    </tr>\n",
       "    <tr>\n",
       "      <th id=\"T_1f997_level0_row3\" class=\"row_heading level0 row3\" >3</th>\n",
       "      <td id=\"T_1f997_row3_col0\" class=\"data row3 col0\" >eve</td>\n",
       "    </tr>\n",
       "  </tbody>\n",
       "</table>\n"
      ],
      "text/plain": [
       "<pandas.io.formats.style.Styler at 0x11f54df30>"
      ]
     },
     "execution_count": 44,
     "metadata": {},
     "output_type": "execute_result"
    }
   ],
   "source": [
    "alice_love_chain[person] := *love['alice', person]\n",
    "alice_love_chain[person] := alice_love_chain[in_person], *love[in_person, person]\n",
    "\n",
    "?[chained] := alice_love_chain[chained]"
   ]
  },
  {
   "cell_type": "markdown",
   "id": "1666bf8f-4e41-4428-bdc8-c1d05f6783df",
   "metadata": {},
   "source": [
    "You may object that you only need to be able to apply other rules to have recursion, \n",
    "without multiple definitions. \n",
    "Technically correct, but the resulting queries are not useful::"
   ]
  },
  {
   "cell_type": "code",
   "execution_count": 45,
   "id": "cbf96780-d71b-471e-8add-dbd2d0f13f24",
   "metadata": {},
   "outputs": [
    {
     "data": {
      "text/html": [
       "<style type=\"text/css\">\n",
       "</style>\n",
       "<table id=\"T_ed901\">\n",
       "  <thead>\n",
       "    <tr>\n",
       "      <th class=\"blank level0\" >&nbsp;</th>\n",
       "      <th id=\"T_ed901_level0_col0\" class=\"col_heading level0 col0\" >chained</th>\n",
       "    </tr>\n",
       "  </thead>\n",
       "  <tbody>\n",
       "  </tbody>\n",
       "</table>\n"
      ],
      "text/plain": [
       "<pandas.io.formats.style.Styler at 0x11f55ded0>"
      ]
     },
     "execution_count": 45,
     "metadata": {},
     "output_type": "execute_result"
    }
   ],
   "source": [
    "alice_love_chain[person] := alice_love_chain[in_person], *love[in_person, person]\n",
    "\n",
    "?[chained] := alice_love_chain[chained]"
   ]
  },
  {
   "cell_type": "markdown",
   "id": "ac4a9d13-3360-487d-81c8-8da33f781bae",
   "metadata": {},
   "source": [
    "Similar to the negation case, if there is no way to _deduce_ a fact from the given facts, \n",
    "then the fact itself is considered false. \n",
    "You need multiple definitions to \"bootstrap\" the query.\n",
    "\n",
    "## Aggregation\n",
    "\n",
    "_Aggregations_ are usually used to compute statistics. In Cozo, aggregations are applied in the head of inline rules:"
   ]
  },
  {
   "cell_type": "code",
   "execution_count": 46,
   "id": "70705529-80be-4990-9ea5-9f7842ba1543",
   "metadata": {},
   "outputs": [
    {
     "data": {
      "text/html": [
       "<style type=\"text/css\">\n",
       "#T_5c7db_row0_col0, #T_5c7db_row1_col0, #T_5c7db_row2_col0, #T_5c7db_row3_col0, #T_5c7db_row4_col0 {\n",
       "  color: black;\n",
       "}\n",
       "#T_5c7db_row0_col1, #T_5c7db_row1_col1, #T_5c7db_row2_col1, #T_5c7db_row3_col1, #T_5c7db_row4_col1 {\n",
       "  color: #307fc1;\n",
       "}\n",
       "</style>\n",
       "<table id=\"T_5c7db\">\n",
       "  <thead>\n",
       "    <tr>\n",
       "      <th class=\"blank level0\" >&nbsp;</th>\n",
       "      <th id=\"T_5c7db_level0_col0\" class=\"col_heading level0 col0\" >person</th>\n",
       "      <th id=\"T_5c7db_level0_col1\" class=\"col_heading level0 col1\" >count(loved_by)</th>\n",
       "    </tr>\n",
       "  </thead>\n",
       "  <tbody>\n",
       "    <tr>\n",
       "      <th id=\"T_5c7db_level0_row0\" class=\"row_heading level0 row0\" >0</th>\n",
       "      <td id=\"T_5c7db_row0_col0\" class=\"data row0 col0\" >alice</td>\n",
       "      <td id=\"T_5c7db_row0_col1\" class=\"data row0 col1\" >2</td>\n",
       "    </tr>\n",
       "    <tr>\n",
       "      <th id=\"T_5c7db_level0_row1\" class=\"row_heading level0 row1\" >1</th>\n",
       "      <td id=\"T_5c7db_row1_col0\" class=\"data row1 col0\" >bob</td>\n",
       "      <td id=\"T_5c7db_row1_col1\" class=\"data row1 col1\" >1</td>\n",
       "    </tr>\n",
       "    <tr>\n",
       "      <th id=\"T_5c7db_level0_row2\" class=\"row_heading level0 row2\" >2</th>\n",
       "      <td id=\"T_5c7db_row2_col0\" class=\"data row2 col0\" >charlie</td>\n",
       "      <td id=\"T_5c7db_row2_col1\" class=\"data row2 col1\" >1</td>\n",
       "    </tr>\n",
       "    <tr>\n",
       "      <th id=\"T_5c7db_level0_row3\" class=\"row_heading level0 row3\" >3</th>\n",
       "      <td id=\"T_5c7db_row3_col0\" class=\"data row3 col0\" >eve</td>\n",
       "      <td id=\"T_5c7db_row3_col1\" class=\"data row3 col1\" >2</td>\n",
       "    </tr>\n",
       "    <tr>\n",
       "      <th id=\"T_5c7db_level0_row4\" class=\"row_heading level0 row4\" >4</th>\n",
       "      <td id=\"T_5c7db_row4_col0\" class=\"data row4 col0\" >george</td>\n",
       "      <td id=\"T_5c7db_row4_col1\" class=\"data row4 col1\" >2</td>\n",
       "    </tr>\n",
       "  </tbody>\n",
       "</table>\n"
      ],
      "text/plain": [
       "<pandas.io.formats.style.Styler at 0x11f54d0f0>"
      ]
     },
     "execution_count": 46,
     "metadata": {},
     "output_type": "execute_result"
    }
   ],
   "source": [
    "?[person, count(loved_by)] := *love[loved_by, person]"
   ]
  },
  {
   "cell_type": "markdown",
   "id": "19f47c1e-ffb6-4531-b181-0995bfeb63df",
   "metadata": {},
   "source": [
    "The usual `sum`, `mean`, etc. are all available. \n",
    "Aggregations in the head instead of in the body may seem strange, but is powerful, as we will see later.\n",
    "\n",
    "Here is the [full list](https://cozodb.github.io/current/manual/aggregations.html) of aggregations for you to play with.\n",
    "\n",
    "## Query options\n",
    "\n",
    "We have seem query options like `:create`, `:put`, `:rm` for manipulating stored relations. \n",
    "There are also query options for controlling what is returned:"
   ]
  },
  {
   "cell_type": "code",
   "execution_count": 47,
   "id": "58f1d43f-3f50-42df-8e27-8f6e549cbc6e",
   "metadata": {},
   "outputs": [
    {
     "data": {
      "text/html": [
       "<style type=\"text/css\">\n",
       "#T_52228_row0_col0, #T_52228_row0_col1 {\n",
       "  color: black;\n",
       "}\n",
       "</style>\n",
       "<table id=\"T_52228\">\n",
       "  <thead>\n",
       "    <tr>\n",
       "      <th class=\"blank level0\" >&nbsp;</th>\n",
       "      <th id=\"T_52228_level0_col0\" class=\"col_heading level0 col0\" >loving</th>\n",
       "      <th id=\"T_52228_level0_col1\" class=\"col_heading level0 col1\" >loved</th>\n",
       "    </tr>\n",
       "  </thead>\n",
       "  <tbody>\n",
       "    <tr>\n",
       "      <th id=\"T_52228_level0_row0\" class=\"row_heading level0 row0\" >0</th>\n",
       "      <td id=\"T_52228_row0_col0\" class=\"data row0 col0\" >alice</td>\n",
       "      <td id=\"T_52228_row0_col1\" class=\"data row0 col1\" >eve</td>\n",
       "    </tr>\n",
       "  </tbody>\n",
       "</table>\n"
      ],
      "text/plain": [
       "<pandas.io.formats.style.Styler at 0x11f54edd0>"
      ]
     },
     "execution_count": 47,
     "metadata": {},
     "output_type": "execute_result"
    }
   ],
   "source": [
    "?[loving, loved] := *love{ loving, loved }\n",
    "\n",
    ":limit 1"
   ]
  },
  {
   "cell_type": "markdown",
   "id": "fe622726-e0b0-4ea3-878a-75e7de93a669",
   "metadata": {},
   "source": [
    "Next we want the result to be sorted by `loved` in descending order, then `loving` in ascending order, and skip the first row:"
   ]
  },
  {
   "cell_type": "code",
   "execution_count": 48,
   "id": "60f3673b-3273-49a3-b893-1236faf64490",
   "metadata": {},
   "outputs": [
    {
     "data": {
      "text/html": [
       "<style type=\"text/css\">\n",
       "#T_851ca_row0_col0, #T_851ca_row0_col1, #T_851ca_row1_col0, #T_851ca_row1_col1, #T_851ca_row2_col0, #T_851ca_row2_col1, #T_851ca_row3_col0, #T_851ca_row3_col1, #T_851ca_row4_col0, #T_851ca_row4_col1, #T_851ca_row5_col0, #T_851ca_row5_col1, #T_851ca_row6_col0, #T_851ca_row6_col1 {\n",
       "  color: black;\n",
       "}\n",
       "</style>\n",
       "<table id=\"T_851ca\">\n",
       "  <thead>\n",
       "    <tr>\n",
       "      <th class=\"blank level0\" >&nbsp;</th>\n",
       "      <th id=\"T_851ca_level0_col0\" class=\"col_heading level0 col0\" >loving</th>\n",
       "      <th id=\"T_851ca_level0_col1\" class=\"col_heading level0 col1\" >loved</th>\n",
       "    </tr>\n",
       "  </thead>\n",
       "  <tbody>\n",
       "    <tr>\n",
       "      <th id=\"T_851ca_level0_row0\" class=\"row_heading level0 row0\" >0</th>\n",
       "      <td id=\"T_851ca_row0_col0\" class=\"data row0 col0\" >george</td>\n",
       "      <td id=\"T_851ca_row0_col1\" class=\"data row0 col1\" >george</td>\n",
       "    </tr>\n",
       "    <tr>\n",
       "      <th id=\"T_851ca_level0_row1\" class=\"row_heading level0 row1\" >1</th>\n",
       "      <td id=\"T_851ca_row1_col0\" class=\"data row1 col0\" >alice</td>\n",
       "      <td id=\"T_851ca_row1_col1\" class=\"data row1 col1\" >eve</td>\n",
       "    </tr>\n",
       "    <tr>\n",
       "      <th id=\"T_851ca_level0_row2\" class=\"row_heading level0 row2\" >2</th>\n",
       "      <td id=\"T_851ca_row2_col0\" class=\"data row2 col0\" >charlie</td>\n",
       "      <td id=\"T_851ca_row2_col1\" class=\"data row2 col1\" >eve</td>\n",
       "    </tr>\n",
       "    <tr>\n",
       "      <th id=\"T_851ca_level0_row3\" class=\"row_heading level0 row3\" >3</th>\n",
       "      <td id=\"T_851ca_row3_col0\" class=\"data row3 col0\" >eve</td>\n",
       "      <td id=\"T_851ca_row3_col1\" class=\"data row3 col1\" >charlie</td>\n",
       "    </tr>\n",
       "    <tr>\n",
       "      <th id=\"T_851ca_level0_row4\" class=\"row_heading level0 row4\" >4</th>\n",
       "      <td id=\"T_851ca_row4_col0\" class=\"data row4 col0\" >eve</td>\n",
       "      <td id=\"T_851ca_row4_col1\" class=\"data row4 col1\" >bob</td>\n",
       "    </tr>\n",
       "    <tr>\n",
       "      <th id=\"T_851ca_level0_row5\" class=\"row_heading level0 row5\" >5</th>\n",
       "      <td id=\"T_851ca_row5_col0\" class=\"data row5 col0\" >bob</td>\n",
       "      <td id=\"T_851ca_row5_col1\" class=\"data row5 col1\" >alice</td>\n",
       "    </tr>\n",
       "    <tr>\n",
       "      <th id=\"T_851ca_level0_row6\" class=\"row_heading level0 row6\" >6</th>\n",
       "      <td id=\"T_851ca_row6_col0\" class=\"data row6 col0\" >eve</td>\n",
       "      <td id=\"T_851ca_row6_col1\" class=\"data row6 col1\" >alice</td>\n",
       "    </tr>\n",
       "  </tbody>\n",
       "</table>\n"
      ],
      "text/plain": [
       "<pandas.io.formats.style.Styler at 0x11f55fdc0>"
      ]
     },
     "execution_count": 48,
     "metadata": {},
     "output_type": "execute_result"
    }
   ],
   "source": [
    "?[loving, loved] := *love{ loving, loved }\n",
    "\n",
    ":order -loved, loving\n",
    ":offset 1"
   ]
  },
  {
   "cell_type": "markdown",
   "id": "2c481e69-9640-4246-8ab8-e66549653c0d",
   "metadata": {},
   "source": [
    "Putting `-` in front of variables in `:order` clause denotes reverse order. Nothing or `+` denotes the ascending order.\n",
    "\n",
    "The full list of query options are explained [here](https://cozodb.github.io/current/manual/queries.html#query-options).\n",
    "\n",
    "## Fixed rules\n",
    "\n",
    "The `<-` syntax for constant rules is syntax sugar. The full syntax is:"
   ]
  },
  {
   "cell_type": "code",
   "execution_count": 49,
   "id": "91414374-23cb-4310-ac36-a372e151ef6c",
   "metadata": {},
   "outputs": [
    {
     "data": {
      "text/html": [
       "<style type=\"text/css\">\n",
       "#T_bfc5d_row0_col0, #T_bfc5d_row0_col1, #T_bfc5d_row0_col2 {\n",
       "  color: black;\n",
       "}\n",
       "</style>\n",
       "<table id=\"T_bfc5d\">\n",
       "  <thead>\n",
       "    <tr>\n",
       "      <th class=\"blank level0\" >&nbsp;</th>\n",
       "      <th id=\"T_bfc5d_level0_col0\" class=\"col_heading level0 col0\" >_0</th>\n",
       "      <th id=\"T_bfc5d_level0_col1\" class=\"col_heading level0 col1\" >_1</th>\n",
       "      <th id=\"T_bfc5d_level0_col2\" class=\"col_heading level0 col2\" >_2</th>\n",
       "    </tr>\n",
       "  </thead>\n",
       "  <tbody>\n",
       "    <tr>\n",
       "      <th id=\"T_bfc5d_level0_row0\" class=\"row_heading level0 row0\" >0</th>\n",
       "      <td id=\"T_bfc5d_row0_col0\" class=\"data row0 col0\" >hello</td>\n",
       "      <td id=\"T_bfc5d_row0_col1\" class=\"data row0 col1\" >world</td>\n",
       "      <td id=\"T_bfc5d_row0_col2\" class=\"data row0 col2\" >Cozo!</td>\n",
       "    </tr>\n",
       "  </tbody>\n",
       "</table>\n"
      ],
      "text/plain": [
       "<pandas.io.formats.style.Styler at 0x11f54fbb0>"
      ]
     },
     "execution_count": 49,
     "metadata": {},
     "output_type": "execute_result"
    }
   ],
   "source": [
    "?[] <~ Constant(data: [['hello', 'world', 'Cozo!']])"
   ]
  },
  {
   "cell_type": "markdown",
   "id": "5b836e0b-1b38-485a-ade2-69742b29d09f",
   "metadata": {},
   "source": [
    "Here we are using the _fixed rule_ `Constant`, which takes one _option_ named `data`. The curly tail `<~` denotes a fixed rule.\n",
    "\n",
    "Fixed rules take input relations as arguments, apply custom logic to them and produce its output relation. \n",
    "The `Constant` fixed rule take zero input relations.\n",
    "\n",
    "If you are using Cozo in browser, `Constant` is the only fixed rule you can use. In all other cases your Cozo would have the graph algorithms module enabled, and all graph algorithms are implemented as fixed rules. As an example, let's find out who is most popular in the `love` graph by using the [PageRank](https://en.wikipedia.org/wiki/PageRank) algorithm:"
   ]
  },
  {
   "cell_type": "code",
   "execution_count": 52,
   "id": "f596d73d-1879-49e7-834a-5c489752a152",
   "metadata": {},
   "outputs": [
    {
     "data": {
      "text/html": [
       "<style type=\"text/css\">\n",
       "#T_e644b_row0_col0, #T_e644b_row1_col0, #T_e644b_row2_col0, #T_e644b_row3_col0, #T_e644b_row4_col0, #T_e644b_row5_col0 {\n",
       "  color: black;\n",
       "}\n",
       "#T_e644b_row0_col1, #T_e644b_row1_col1, #T_e644b_row2_col1, #T_e644b_row3_col1, #T_e644b_row4_col1, #T_e644b_row5_col1 {\n",
       "  color: #307fc1;\n",
       "}\n",
       "</style>\n",
       "<table id=\"T_e644b\">\n",
       "  <thead>\n",
       "    <tr>\n",
       "      <th class=\"blank level0\" >&nbsp;</th>\n",
       "      <th id=\"T_e644b_level0_col0\" class=\"col_heading level0 col0\" >person</th>\n",
       "      <th id=\"T_e644b_level0_col1\" class=\"col_heading level0 col1\" >page_rank</th>\n",
       "    </tr>\n",
       "  </thead>\n",
       "  <tbody>\n",
       "    <tr>\n",
       "      <th id=\"T_e644b_level0_row0\" class=\"row_heading level0 row0\" >0</th>\n",
       "      <td id=\"T_e644b_row0_col0\" class=\"data row0 col0\" >george</td>\n",
       "      <td id=\"T_e644b_row0_col1\" class=\"data row0 col1\" >0.280443</td>\n",
       "    </tr>\n",
       "    <tr>\n",
       "      <th id=\"T_e644b_level0_row1\" class=\"row_heading level0 row1\" >1</th>\n",
       "      <td id=\"T_e644b_row1_col0\" class=\"data row1 col0\" >eve</td>\n",
       "      <td id=\"T_e644b_row1_col1\" class=\"data row1 col1\" >0.275376</td>\n",
       "    </tr>\n",
       "    <tr>\n",
       "      <th id=\"T_e644b_level0_row2\" class=\"row_heading level0 row2\" >2</th>\n",
       "      <td id=\"T_e644b_row2_col0\" class=\"data row2 col0\" >alice</td>\n",
       "      <td id=\"T_e644b_row2_col1\" class=\"data row2 col1\" >0.191205</td>\n",
       "    </tr>\n",
       "    <tr>\n",
       "      <th id=\"T_e644b_level0_row3\" class=\"row_heading level0 row3\" >3</th>\n",
       "      <td id=\"T_e644b_row3_col0\" class=\"data row3 col0\" >bob</td>\n",
       "      <td id=\"T_e644b_row3_col1\" class=\"data row3 col1\" >0.103023</td>\n",
       "    </tr>\n",
       "    <tr>\n",
       "      <th id=\"T_e644b_level0_row4\" class=\"row_heading level0 row4\" >4</th>\n",
       "      <td id=\"T_e644b_row4_col0\" class=\"data row4 col0\" >charlie</td>\n",
       "      <td id=\"T_e644b_row4_col1\" class=\"data row4 col1\" >0.103023</td>\n",
       "    </tr>\n",
       "    <tr>\n",
       "      <th id=\"T_e644b_level0_row5\" class=\"row_heading level0 row5\" >5</th>\n",
       "      <td id=\"T_e644b_row5_col0\" class=\"data row5 col0\" >david</td>\n",
       "      <td id=\"T_e644b_row5_col1\" class=\"data row5 col1\" >0.025000</td>\n",
       "    </tr>\n",
       "  </tbody>\n",
       "</table>\n"
      ],
      "text/plain": [
       "<pandas.io.formats.style.Styler at 0x11f55e050>"
      ]
     },
     "execution_count": 52,
     "metadata": {},
     "output_type": "execute_result"
    }
   ],
   "source": [
    "?[person, page_rank] <~ PageRank(*love[])\n",
    "\n",
    ":order -page_rank"
   ]
  },
  {
   "cell_type": "markdown",
   "id": "394a62e3-ad1c-49a0-944f-f0de0150d2e0",
   "metadata": {},
   "source": [
    "Here the input relation is the stored relation `*love` (as noted above, you will receive an error if you run this in the WASM implementation).\n",
    "\n",
    "Each fixed rule is different. Read [this](https://cozodb.github.io/current/manual/algorithms.html) to learn how to use them."
   ]
  },
  {
   "cell_type": "code",
   "execution_count": 53,
   "id": "db73e2f7-61a1-4824-9c47-c6da461b632b",
   "metadata": {},
   "outputs": [
    {
     "data": {
      "text/html": [
       "<style type=\"text/css\">\n",
       "#T_0dbb8_row0_col0 {\n",
       "  color: black;\n",
       "}\n",
       "</style>\n",
       "<table id=\"T_0dbb8\">\n",
       "  <thead>\n",
       "    <tr>\n",
       "      <th class=\"blank level0\" >&nbsp;</th>\n",
       "      <th id=\"T_0dbb8_level0_col0\" class=\"col_heading level0 col0\" >status</th>\n",
       "    </tr>\n",
       "  </thead>\n",
       "  <tbody>\n",
       "    <tr>\n",
       "      <th id=\"T_0dbb8_level0_row0\" class=\"row_heading level0 row0\" >0</th>\n",
       "      <td id=\"T_0dbb8_row0_col0\" class=\"data row0 col0\" >OK</td>\n",
       "    </tr>\n",
       "  </tbody>\n",
       "</table>\n"
      ],
      "text/plain": [
       "<pandas.io.formats.style.Styler at 0x11f57f1f0>"
      ]
     },
     "execution_count": 53,
     "metadata": {},
     "output_type": "execute_result"
    }
   ],
   "source": [
    "::remove love"
   ]
  },
  {
   "cell_type": "markdown",
   "id": "a16bee55-9802-4089-a0c2-c6f85213cf13",
   "metadata": {},
   "source": [
    "## Extended example: the air routes dataset\n",
    "\n",
    "Now you have a basic understanding of using the various constructs of Cozo, let's deal with a small real-world dataset, with about 3700 nodes and 57000 edges.\n",
    "\n",
    "The data we are going to use, and many examples that we will present, are adapted from the book [Practical Gremlin](https://kelvinlawrence.net/book/Gremlin-Graph-Guide.html). Gremlin is an imperative query language for graphs, a very different take compared to Datalog.\n",
    "\n",
    "First, let's create the stored relations we want (wrapping queries in braces allows you to execute several queries together atomically):"
   ]
  },
  {
   "cell_type": "code",
   "execution_count": 54,
   "id": "936400d2-2ccf-41ce-88ae-4a8ca54039a2",
   "metadata": {},
   "outputs": [
    {
     "data": {
      "text/html": [
       "<style type=\"text/css\">\n",
       "#T_104de_row0_col0 {\n",
       "  color: black;\n",
       "}\n",
       "</style>\n",
       "<table id=\"T_104de\">\n",
       "  <thead>\n",
       "    <tr>\n",
       "      <th class=\"blank level0\" >&nbsp;</th>\n",
       "      <th id=\"T_104de_level0_col0\" class=\"col_heading level0 col0\" >status</th>\n",
       "    </tr>\n",
       "  </thead>\n",
       "  <tbody>\n",
       "    <tr>\n",
       "      <th id=\"T_104de_level0_row0\" class=\"row_heading level0 row0\" >0</th>\n",
       "      <td id=\"T_104de_row0_col0\" class=\"data row0 col0\" >OK</td>\n",
       "    </tr>\n",
       "  </tbody>\n",
       "</table>\n"
      ],
      "text/plain": [
       "<pandas.io.formats.style.Styler at 0x11f55e410>"
      ]
     },
     "execution_count": 54,
     "metadata": {},
     "output_type": "execute_result"
    }
   ],
   "source": [
    "{:create airport {\n",
    "    code: String \n",
    "    => \n",
    "    icao: String, \n",
    "    desc: String, \n",
    "    region: String, \n",
    "    runways: Int, \n",
    "    longest: Float, \n",
    "    elev: Float, \n",
    "    country: String, \n",
    "    city: String, \n",
    "    lat: Float, \n",
    "    lon: Float\n",
    "}}\n",
    "{:create country {\n",
    "    code: String\n",
    "    =>\n",
    "    desc: String\n",
    "}}\n",
    "{:create continent {\n",
    "    code: String\n",
    "    =>\n",
    "    desc: String\n",
    "}}\n",
    "{:create contain { entity: String, contained: String }}\n",
    "{:create route { fr: String, to: String => dist: Float }}"
   ]
  },
  {
   "cell_type": "markdown",
   "id": "e648b4a8-43cd-49a0-82c5-3f0397bc09ac",
   "metadata": {},
   "source": [
    "The next command applies only if you are using Jupyter notebooks: it downloads a JSON file containing the data and imports it into the database.\n",
    "The commented out line shows how to do the same thing with a local file. If you are using the Cozo WASM interface, click the \"Import from URL\" or the \"Import from File\" icon,\n",
    "and paste in the address."
   ]
  },
  {
   "cell_type": "code",
   "execution_count": 56,
   "id": "fed6df19-43e4-4b75-81d5-056479abb6e6",
   "metadata": {},
   "outputs": [],
   "source": [
    "%cozo_import_remote_file 'https://raw.githubusercontent.com/cozodb/cozo/dev/cozo-core/tests/air-routes.json'\n",
    "# %cozo_import_local_file '../../cozo/cozo-core/tests/air-routes.json'"
   ]
  },
  {
   "cell_type": "markdown",
   "id": "65cb9b9d-79ce-4814-8f75-e6c22fe1d98d",
   "metadata": {},
   "source": [
    "If you feel that the above is too much magic, [here](./data_import.ipynb) is how you can achieve the same thing by parsing CSV files.\n",
    "\n",
    "Let's verify all the relations we want are there:"
   ]
  },
  {
   "cell_type": "code",
   "execution_count": 57,
   "id": "5c067dd0-7052-46c6-823b-ddf6cbb1b516",
   "metadata": {},
   "outputs": [
    {
     "data": {
      "text/html": [
       "<style type=\"text/css\">\n",
       "#T_21966_row0_col0, #T_21966_row0_col2, #T_21966_row1_col0, #T_21966_row1_col2, #T_21966_row2_col0, #T_21966_row2_col2, #T_21966_row3_col0, #T_21966_row3_col2, #T_21966_row4_col0, #T_21966_row4_col2 {\n",
       "  color: black;\n",
       "}\n",
       "#T_21966_row0_col1, #T_21966_row0_col3, #T_21966_row0_col4, #T_21966_row0_col5, #T_21966_row0_col6, #T_21966_row0_col7, #T_21966_row1_col1, #T_21966_row1_col3, #T_21966_row1_col4, #T_21966_row1_col5, #T_21966_row1_col6, #T_21966_row1_col7, #T_21966_row2_col1, #T_21966_row2_col3, #T_21966_row2_col4, #T_21966_row2_col5, #T_21966_row2_col6, #T_21966_row2_col7, #T_21966_row3_col1, #T_21966_row3_col3, #T_21966_row3_col4, #T_21966_row3_col5, #T_21966_row3_col6, #T_21966_row3_col7, #T_21966_row4_col1, #T_21966_row4_col3, #T_21966_row4_col4, #T_21966_row4_col5, #T_21966_row4_col6, #T_21966_row4_col7 {\n",
       "  color: #307fc1;\n",
       "}\n",
       "</style>\n",
       "<table id=\"T_21966\">\n",
       "  <thead>\n",
       "    <tr>\n",
       "      <th class=\"blank level0\" >&nbsp;</th>\n",
       "      <th id=\"T_21966_level0_col0\" class=\"col_heading level0 col0\" >name</th>\n",
       "      <th id=\"T_21966_level0_col1\" class=\"col_heading level0 col1\" >arity</th>\n",
       "      <th id=\"T_21966_level0_col2\" class=\"col_heading level0 col2\" >access_level</th>\n",
       "      <th id=\"T_21966_level0_col3\" class=\"col_heading level0 col3\" >n_keys</th>\n",
       "      <th id=\"T_21966_level0_col4\" class=\"col_heading level0 col4\" >n_non_keys</th>\n",
       "      <th id=\"T_21966_level0_col5\" class=\"col_heading level0 col5\" >n_put_triggers</th>\n",
       "      <th id=\"T_21966_level0_col6\" class=\"col_heading level0 col6\" >n_rm_triggers</th>\n",
       "      <th id=\"T_21966_level0_col7\" class=\"col_heading level0 col7\" >n_replace_triggers</th>\n",
       "    </tr>\n",
       "  </thead>\n",
       "  <tbody>\n",
       "    <tr>\n",
       "      <th id=\"T_21966_level0_row0\" class=\"row_heading level0 row0\" >0</th>\n",
       "      <td id=\"T_21966_row0_col0\" class=\"data row0 col0\" >airport</td>\n",
       "      <td id=\"T_21966_row0_col1\" class=\"data row0 col1\" >11</td>\n",
       "      <td id=\"T_21966_row0_col2\" class=\"data row0 col2\" >normal</td>\n",
       "      <td id=\"T_21966_row0_col3\" class=\"data row0 col3\" >1</td>\n",
       "      <td id=\"T_21966_row0_col4\" class=\"data row0 col4\" >10</td>\n",
       "      <td id=\"T_21966_row0_col5\" class=\"data row0 col5\" >0</td>\n",
       "      <td id=\"T_21966_row0_col6\" class=\"data row0 col6\" >0</td>\n",
       "      <td id=\"T_21966_row0_col7\" class=\"data row0 col7\" >0</td>\n",
       "    </tr>\n",
       "    <tr>\n",
       "      <th id=\"T_21966_level0_row1\" class=\"row_heading level0 row1\" >1</th>\n",
       "      <td id=\"T_21966_row1_col0\" class=\"data row1 col0\" >contain</td>\n",
       "      <td id=\"T_21966_row1_col1\" class=\"data row1 col1\" >2</td>\n",
       "      <td id=\"T_21966_row1_col2\" class=\"data row1 col2\" >normal</td>\n",
       "      <td id=\"T_21966_row1_col3\" class=\"data row1 col3\" >2</td>\n",
       "      <td id=\"T_21966_row1_col4\" class=\"data row1 col4\" >0</td>\n",
       "      <td id=\"T_21966_row1_col5\" class=\"data row1 col5\" >0</td>\n",
       "      <td id=\"T_21966_row1_col6\" class=\"data row1 col6\" >0</td>\n",
       "      <td id=\"T_21966_row1_col7\" class=\"data row1 col7\" >0</td>\n",
       "    </tr>\n",
       "    <tr>\n",
       "      <th id=\"T_21966_level0_row2\" class=\"row_heading level0 row2\" >2</th>\n",
       "      <td id=\"T_21966_row2_col0\" class=\"data row2 col0\" >continent</td>\n",
       "      <td id=\"T_21966_row2_col1\" class=\"data row2 col1\" >2</td>\n",
       "      <td id=\"T_21966_row2_col2\" class=\"data row2 col2\" >normal</td>\n",
       "      <td id=\"T_21966_row2_col3\" class=\"data row2 col3\" >1</td>\n",
       "      <td id=\"T_21966_row2_col4\" class=\"data row2 col4\" >1</td>\n",
       "      <td id=\"T_21966_row2_col5\" class=\"data row2 col5\" >0</td>\n",
       "      <td id=\"T_21966_row2_col6\" class=\"data row2 col6\" >0</td>\n",
       "      <td id=\"T_21966_row2_col7\" class=\"data row2 col7\" >0</td>\n",
       "    </tr>\n",
       "    <tr>\n",
       "      <th id=\"T_21966_level0_row3\" class=\"row_heading level0 row3\" >3</th>\n",
       "      <td id=\"T_21966_row3_col0\" class=\"data row3 col0\" >country</td>\n",
       "      <td id=\"T_21966_row3_col1\" class=\"data row3 col1\" >2</td>\n",
       "      <td id=\"T_21966_row3_col2\" class=\"data row3 col2\" >normal</td>\n",
       "      <td id=\"T_21966_row3_col3\" class=\"data row3 col3\" >1</td>\n",
       "      <td id=\"T_21966_row3_col4\" class=\"data row3 col4\" >1</td>\n",
       "      <td id=\"T_21966_row3_col5\" class=\"data row3 col5\" >0</td>\n",
       "      <td id=\"T_21966_row3_col6\" class=\"data row3 col6\" >0</td>\n",
       "      <td id=\"T_21966_row3_col7\" class=\"data row3 col7\" >0</td>\n",
       "    </tr>\n",
       "    <tr>\n",
       "      <th id=\"T_21966_level0_row4\" class=\"row_heading level0 row4\" >4</th>\n",
       "      <td id=\"T_21966_row4_col0\" class=\"data row4 col0\" >route</td>\n",
       "      <td id=\"T_21966_row4_col1\" class=\"data row4 col1\" >3</td>\n",
       "      <td id=\"T_21966_row4_col2\" class=\"data row4 col2\" >normal</td>\n",
       "      <td id=\"T_21966_row4_col3\" class=\"data row4 col3\" >2</td>\n",
       "      <td id=\"T_21966_row4_col4\" class=\"data row4 col4\" >1</td>\n",
       "      <td id=\"T_21966_row4_col5\" class=\"data row4 col5\" >0</td>\n",
       "      <td id=\"T_21966_row4_col6\" class=\"data row4 col6\" >0</td>\n",
       "      <td id=\"T_21966_row4_col7\" class=\"data row4 col7\" >0</td>\n",
       "    </tr>\n",
       "  </tbody>\n",
       "</table>\n"
      ],
      "text/plain": [
       "<pandas.io.formats.style.Styler at 0x11f538ac0>"
      ]
     },
     "execution_count": 57,
     "metadata": {},
     "output_type": "execute_result"
    }
   ],
   "source": [
    "::relations"
   ]
  },
  {
   "cell_type": "markdown",
   "id": "e3a13d9e-6ff0-445f-9a75-86f373de2b28",
   "metadata": {},
   "source": [
    "While we are at it, let's lock all these tables to prevent accidentally changing their contents:"
   ]
  },
  {
   "cell_type": "code",
   "execution_count": 58,
   "id": "667b2099-a71e-423d-b0b2-9a35bc8c5a6d",
   "metadata": {},
   "outputs": [
    {
     "data": {
      "text/html": [
       "<style type=\"text/css\">\n",
       "#T_3cccd_row0_col0 {\n",
       "  color: black;\n",
       "}\n",
       "</style>\n",
       "<table id=\"T_3cccd\">\n",
       "  <thead>\n",
       "    <tr>\n",
       "      <th class=\"blank level0\" >&nbsp;</th>\n",
       "      <th id=\"T_3cccd_level0_col0\" class=\"col_heading level0 col0\" >status</th>\n",
       "    </tr>\n",
       "  </thead>\n",
       "  <tbody>\n",
       "    <tr>\n",
       "      <th id=\"T_3cccd_level0_row0\" class=\"row_heading level0 row0\" >0</th>\n",
       "      <td id=\"T_3cccd_row0_col0\" class=\"data row0 col0\" >OK</td>\n",
       "    </tr>\n",
       "  </tbody>\n",
       "</table>\n"
      ],
      "text/plain": [
       "<pandas.io.formats.style.Styler at 0x1062ad870>"
      ]
     },
     "execution_count": 58,
     "metadata": {},
     "output_type": "execute_result"
    }
   ],
   "source": [
    "::access_level read_only airport, contain, continent, country, route"
   ]
  },
  {
   "cell_type": "markdown",
   "id": "191c8f21-b8c0-4730-979f-c7135e762eff",
   "metadata": {},
   "source": [
    "More information about what this does is explained [here](https://cozodb.github.io/current/manual/sysops.html#ops-for-stored-relations).\n",
    "\n",
    "Let's just look at some data. Start with airports:"
   ]
  },
  {
   "cell_type": "code",
   "execution_count": 59,
   "id": "fefbae3c-3b06-43ca-82b6-a10ee9174edf",
   "metadata": {},
   "outputs": [
    {
     "data": {
      "text/html": [
       "<style type=\"text/css\">\n",
       "#T_0bd4c_row0_col0, #T_0bd4c_row0_col1, #T_0bd4c_row0_col2, #T_0bd4c_row0_col3, #T_0bd4c_row1_col0, #T_0bd4c_row1_col1, #T_0bd4c_row1_col2, #T_0bd4c_row1_col3, #T_0bd4c_row2_col0, #T_0bd4c_row2_col1, #T_0bd4c_row2_col2, #T_0bd4c_row2_col3, #T_0bd4c_row3_col0, #T_0bd4c_row3_col1, #T_0bd4c_row3_col2, #T_0bd4c_row3_col3, #T_0bd4c_row4_col0, #T_0bd4c_row4_col1, #T_0bd4c_row4_col2, #T_0bd4c_row4_col3 {\n",
       "  color: black;\n",
       "}\n",
       "#T_0bd4c_row0_col4, #T_0bd4c_row0_col5, #T_0bd4c_row0_col6, #T_0bd4c_row1_col4, #T_0bd4c_row1_col5, #T_0bd4c_row1_col6, #T_0bd4c_row2_col4, #T_0bd4c_row2_col5, #T_0bd4c_row2_col6, #T_0bd4c_row3_col4, #T_0bd4c_row3_col5, #T_0bd4c_row3_col6, #T_0bd4c_row4_col4, #T_0bd4c_row4_col5, #T_0bd4c_row4_col6 {\n",
       "  color: #307fc1;\n",
       "}\n",
       "</style>\n",
       "<table id=\"T_0bd4c\">\n",
       "  <thead>\n",
       "    <tr>\n",
       "      <th class=\"blank level0\" >&nbsp;</th>\n",
       "      <th id=\"T_0bd4c_level0_col0\" class=\"col_heading level0 col0\" >code</th>\n",
       "      <th id=\"T_0bd4c_level0_col1\" class=\"col_heading level0 col1\" >city</th>\n",
       "      <th id=\"T_0bd4c_level0_col2\" class=\"col_heading level0 col2\" >desc</th>\n",
       "      <th id=\"T_0bd4c_level0_col3\" class=\"col_heading level0 col3\" >region</th>\n",
       "      <th id=\"T_0bd4c_level0_col4\" class=\"col_heading level0 col4\" >runways</th>\n",
       "      <th id=\"T_0bd4c_level0_col5\" class=\"col_heading level0 col5\" >lat</th>\n",
       "      <th id=\"T_0bd4c_level0_col6\" class=\"col_heading level0 col6\" >lon</th>\n",
       "    </tr>\n",
       "  </thead>\n",
       "  <tbody>\n",
       "    <tr>\n",
       "      <th id=\"T_0bd4c_level0_row0\" class=\"row_heading level0 row0\" >0</th>\n",
       "      <td id=\"T_0bd4c_row0_col0\" class=\"data row0 col0\" >AAA</td>\n",
       "      <td id=\"T_0bd4c_row0_col1\" class=\"data row0 col1\" >Anaa</td>\n",
       "      <td id=\"T_0bd4c_row0_col2\" class=\"data row0 col2\" >Anaa Airport</td>\n",
       "      <td id=\"T_0bd4c_row0_col3\" class=\"data row0 col3\" >PF-U-A</td>\n",
       "      <td id=\"T_0bd4c_row0_col4\" class=\"data row0 col4\" >1</td>\n",
       "      <td id=\"T_0bd4c_row0_col5\" class=\"data row0 col5\" >-17.352600</td>\n",
       "      <td id=\"T_0bd4c_row0_col6\" class=\"data row0 col6\" >-145.509995</td>\n",
       "    </tr>\n",
       "    <tr>\n",
       "      <th id=\"T_0bd4c_level0_row1\" class=\"row_heading level0 row1\" >1</th>\n",
       "      <td id=\"T_0bd4c_row1_col0\" class=\"data row1 col0\" >AAE</td>\n",
       "      <td id=\"T_0bd4c_row1_col1\" class=\"data row1 col1\" >Annabah</td>\n",
       "      <td id=\"T_0bd4c_row1_col2\" class=\"data row1 col2\" >Annaba Airport</td>\n",
       "      <td id=\"T_0bd4c_row1_col3\" class=\"data row1 col3\" >DZ-36</td>\n",
       "      <td id=\"T_0bd4c_row1_col4\" class=\"data row1 col4\" >2</td>\n",
       "      <td id=\"T_0bd4c_row1_col5\" class=\"data row1 col5\" >36.822201</td>\n",
       "      <td id=\"T_0bd4c_row1_col6\" class=\"data row1 col6\" >7.809170</td>\n",
       "    </tr>\n",
       "    <tr>\n",
       "      <th id=\"T_0bd4c_level0_row2\" class=\"row_heading level0 row2\" >2</th>\n",
       "      <td id=\"T_0bd4c_row2_col0\" class=\"data row2 col0\" >AAL</td>\n",
       "      <td id=\"T_0bd4c_row2_col1\" class=\"data row2 col1\" >Aalborg</td>\n",
       "      <td id=\"T_0bd4c_row2_col2\" class=\"data row2 col2\" >Aalborg Airport</td>\n",
       "      <td id=\"T_0bd4c_row2_col3\" class=\"data row2 col3\" >DK-81</td>\n",
       "      <td id=\"T_0bd4c_row2_col4\" class=\"data row2 col4\" >2</td>\n",
       "      <td id=\"T_0bd4c_row2_col5\" class=\"data row2 col5\" >57.092759</td>\n",
       "      <td id=\"T_0bd4c_row2_col6\" class=\"data row2 col6\" >9.849243</td>\n",
       "    </tr>\n",
       "    <tr>\n",
       "      <th id=\"T_0bd4c_level0_row3\" class=\"row_heading level0 row3\" >3</th>\n",
       "      <td id=\"T_0bd4c_row3_col0\" class=\"data row3 col0\" >AAN</td>\n",
       "      <td id=\"T_0bd4c_row3_col1\" class=\"data row3 col1\" >Al Ain</td>\n",
       "      <td id=\"T_0bd4c_row3_col2\" class=\"data row3 col2\" >Al Ain International Airport</td>\n",
       "      <td id=\"T_0bd4c_row3_col3\" class=\"data row3 col3\" >AE-AZ</td>\n",
       "      <td id=\"T_0bd4c_row3_col4\" class=\"data row3 col4\" >1</td>\n",
       "      <td id=\"T_0bd4c_row3_col5\" class=\"data row3 col5\" >24.261700</td>\n",
       "      <td id=\"T_0bd4c_row3_col6\" class=\"data row3 col6\" >55.609200</td>\n",
       "    </tr>\n",
       "    <tr>\n",
       "      <th id=\"T_0bd4c_level0_row4\" class=\"row_heading level0 row4\" >4</th>\n",
       "      <td id=\"T_0bd4c_row4_col0\" class=\"data row4 col0\" >AAQ</td>\n",
       "      <td id=\"T_0bd4c_row4_col1\" class=\"data row4 col1\" >Anapa</td>\n",
       "      <td id=\"T_0bd4c_row4_col2\" class=\"data row4 col2\" >Anapa Airport</td>\n",
       "      <td id=\"T_0bd4c_row4_col3\" class=\"data row4 col3\" >RU-KDA</td>\n",
       "      <td id=\"T_0bd4c_row4_col4\" class=\"data row4 col4\" >1</td>\n",
       "      <td id=\"T_0bd4c_row4_col5\" class=\"data row4 col5\" >45.002102</td>\n",
       "      <td id=\"T_0bd4c_row4_col6\" class=\"data row4 col6\" >37.347301</td>\n",
       "    </tr>\n",
       "  </tbody>\n",
       "</table>\n"
      ],
      "text/plain": [
       "<pandas.io.formats.style.Styler at 0x11f539ea0>"
      ]
     },
     "execution_count": 59,
     "metadata": {},
     "output_type": "execute_result"
    }
   ],
   "source": [
    "?[code, city, desc, region, runways, lat, lon] := *airport{code, city, desc, region, runways, lat, lon}\n",
    "    \n",
    ":limit 5"
   ]
  },
  {
   "cell_type": "markdown",
   "id": "b645ed53-c80a-4b50-8e4d-f5080c48de2d",
   "metadata": {},
   "source": [
    "Airports with the most runways:"
   ]
  },
  {
   "cell_type": "code",
   "execution_count": 60,
   "id": "b733fffd-e292-4af9-9810-7010b87c2d09",
   "metadata": {},
   "outputs": [
    {
     "data": {
      "text/html": [
       "<style type=\"text/css\">\n",
       "#T_dcb16_row0_col0, #T_dcb16_row0_col1, #T_dcb16_row0_col2, #T_dcb16_row0_col3, #T_dcb16_row1_col0, #T_dcb16_row1_col1, #T_dcb16_row1_col2, #T_dcb16_row1_col3, #T_dcb16_row2_col0, #T_dcb16_row2_col1, #T_dcb16_row2_col2, #T_dcb16_row2_col3, #T_dcb16_row3_col0, #T_dcb16_row3_col1, #T_dcb16_row3_col2, #T_dcb16_row3_col3, #T_dcb16_row4_col0, #T_dcb16_row4_col1, #T_dcb16_row4_col2, #T_dcb16_row4_col3, #T_dcb16_row5_col0, #T_dcb16_row5_col1, #T_dcb16_row5_col2, #T_dcb16_row5_col3, #T_dcb16_row6_col0, #T_dcb16_row6_col1, #T_dcb16_row6_col2, #T_dcb16_row6_col3, #T_dcb16_row7_col0, #T_dcb16_row7_col1, #T_dcb16_row7_col2, #T_dcb16_row7_col3, #T_dcb16_row8_col0, #T_dcb16_row8_col1, #T_dcb16_row8_col2, #T_dcb16_row8_col3, #T_dcb16_row9_col0, #T_dcb16_row9_col1, #T_dcb16_row9_col2, #T_dcb16_row9_col3 {\n",
       "  color: black;\n",
       "}\n",
       "#T_dcb16_row0_col4, #T_dcb16_row0_col5, #T_dcb16_row0_col6, #T_dcb16_row1_col4, #T_dcb16_row1_col5, #T_dcb16_row1_col6, #T_dcb16_row2_col4, #T_dcb16_row2_col5, #T_dcb16_row2_col6, #T_dcb16_row3_col4, #T_dcb16_row3_col5, #T_dcb16_row3_col6, #T_dcb16_row4_col4, #T_dcb16_row4_col5, #T_dcb16_row4_col6, #T_dcb16_row5_col4, #T_dcb16_row5_col5, #T_dcb16_row5_col6, #T_dcb16_row6_col4, #T_dcb16_row6_col5, #T_dcb16_row6_col6, #T_dcb16_row7_col4, #T_dcb16_row7_col5, #T_dcb16_row7_col6, #T_dcb16_row8_col4, #T_dcb16_row8_col5, #T_dcb16_row8_col6, #T_dcb16_row9_col4, #T_dcb16_row9_col5, #T_dcb16_row9_col6 {\n",
       "  color: #307fc1;\n",
       "}\n",
       "</style>\n",
       "<table id=\"T_dcb16\">\n",
       "  <thead>\n",
       "    <tr>\n",
       "      <th class=\"blank level0\" >&nbsp;</th>\n",
       "      <th id=\"T_dcb16_level0_col0\" class=\"col_heading level0 col0\" >code</th>\n",
       "      <th id=\"T_dcb16_level0_col1\" class=\"col_heading level0 col1\" >city</th>\n",
       "      <th id=\"T_dcb16_level0_col2\" class=\"col_heading level0 col2\" >desc</th>\n",
       "      <th id=\"T_dcb16_level0_col3\" class=\"col_heading level0 col3\" >region</th>\n",
       "      <th id=\"T_dcb16_level0_col4\" class=\"col_heading level0 col4\" >runways</th>\n",
       "      <th id=\"T_dcb16_level0_col5\" class=\"col_heading level0 col5\" >lat</th>\n",
       "      <th id=\"T_dcb16_level0_col6\" class=\"col_heading level0 col6\" >lon</th>\n",
       "    </tr>\n",
       "  </thead>\n",
       "  <tbody>\n",
       "    <tr>\n",
       "      <th id=\"T_dcb16_level0_row0\" class=\"row_heading level0 row0\" >0</th>\n",
       "      <td id=\"T_dcb16_row0_col0\" class=\"data row0 col0\" >DFW</td>\n",
       "      <td id=\"T_dcb16_row0_col1\" class=\"data row0 col1\" >Dallas</td>\n",
       "      <td id=\"T_dcb16_row0_col2\" class=\"data row0 col2\" >Dallas/Fort Worth International Airport</td>\n",
       "      <td id=\"T_dcb16_row0_col3\" class=\"data row0 col3\" >US-TX</td>\n",
       "      <td id=\"T_dcb16_row0_col4\" class=\"data row0 col4\" >7</td>\n",
       "      <td id=\"T_dcb16_row0_col5\" class=\"data row0 col5\" >32.896801</td>\n",
       "      <td id=\"T_dcb16_row0_col6\" class=\"data row0 col6\" >-97.038002</td>\n",
       "    </tr>\n",
       "    <tr>\n",
       "      <th id=\"T_dcb16_level0_row1\" class=\"row_heading level0 row1\" >1</th>\n",
       "      <td id=\"T_dcb16_row1_col0\" class=\"data row1 col0\" >ORD</td>\n",
       "      <td id=\"T_dcb16_row1_col1\" class=\"data row1 col1\" >Chicago</td>\n",
       "      <td id=\"T_dcb16_row1_col2\" class=\"data row1 col2\" >Chicago O'Hare International Airport</td>\n",
       "      <td id=\"T_dcb16_row1_col3\" class=\"data row1 col3\" >US-IL</td>\n",
       "      <td id=\"T_dcb16_row1_col4\" class=\"data row1 col4\" >7</td>\n",
       "      <td id=\"T_dcb16_row1_col5\" class=\"data row1 col5\" >41.978600</td>\n",
       "      <td id=\"T_dcb16_row1_col6\" class=\"data row1 col6\" >-87.904800</td>\n",
       "    </tr>\n",
       "    <tr>\n",
       "      <th id=\"T_dcb16_level0_row2\" class=\"row_heading level0 row2\" >2</th>\n",
       "      <td id=\"T_dcb16_row2_col0\" class=\"data row2 col0\" >AMS</td>\n",
       "      <td id=\"T_dcb16_row2_col1\" class=\"data row2 col1\" >Amsterdam</td>\n",
       "      <td id=\"T_dcb16_row2_col2\" class=\"data row2 col2\" >Amsterdam Airport Schiphol</td>\n",
       "      <td id=\"T_dcb16_row2_col3\" class=\"data row2 col3\" >NL-NH</td>\n",
       "      <td id=\"T_dcb16_row2_col4\" class=\"data row2 col4\" >6</td>\n",
       "      <td id=\"T_dcb16_row2_col5\" class=\"data row2 col5\" >52.308601</td>\n",
       "      <td id=\"T_dcb16_row2_col6\" class=\"data row2 col6\" >4.763890</td>\n",
       "    </tr>\n",
       "    <tr>\n",
       "      <th id=\"T_dcb16_level0_row3\" class=\"row_heading level0 row3\" >3</th>\n",
       "      <td id=\"T_dcb16_row3_col0\" class=\"data row3 col0\" >BOS</td>\n",
       "      <td id=\"T_dcb16_row3_col1\" class=\"data row3 col1\" >Boston</td>\n",
       "      <td id=\"T_dcb16_row3_col2\" class=\"data row3 col2\" >Boston Logan</td>\n",
       "      <td id=\"T_dcb16_row3_col3\" class=\"data row3 col3\" >US-MA</td>\n",
       "      <td id=\"T_dcb16_row3_col4\" class=\"data row3 col4\" >6</td>\n",
       "      <td id=\"T_dcb16_row3_col5\" class=\"data row3 col5\" >42.364300</td>\n",
       "      <td id=\"T_dcb16_row3_col6\" class=\"data row3 col6\" >-71.005203</td>\n",
       "    </tr>\n",
       "    <tr>\n",
       "      <th id=\"T_dcb16_level0_row4\" class=\"row_heading level0 row4\" >4</th>\n",
       "      <td id=\"T_dcb16_row4_col0\" class=\"data row4 col0\" >DEN</td>\n",
       "      <td id=\"T_dcb16_row4_col1\" class=\"data row4 col1\" >Denver</td>\n",
       "      <td id=\"T_dcb16_row4_col2\" class=\"data row4 col2\" >Denver International Airport</td>\n",
       "      <td id=\"T_dcb16_row4_col3\" class=\"data row4 col3\" >US-CO</td>\n",
       "      <td id=\"T_dcb16_row4_col4\" class=\"data row4 col4\" >6</td>\n",
       "      <td id=\"T_dcb16_row4_col5\" class=\"data row4 col5\" >39.861698</td>\n",
       "      <td id=\"T_dcb16_row4_col6\" class=\"data row4 col6\" >-104.672997</td>\n",
       "    </tr>\n",
       "    <tr>\n",
       "      <th id=\"T_dcb16_level0_row5\" class=\"row_heading level0 row5\" >5</th>\n",
       "      <td id=\"T_dcb16_row5_col0\" class=\"data row5 col0\" >DTW</td>\n",
       "      <td id=\"T_dcb16_row5_col1\" class=\"data row5 col1\" >Detroit</td>\n",
       "      <td id=\"T_dcb16_row5_col2\" class=\"data row5 col2\" >Detroit Metropolitan, Wayne County</td>\n",
       "      <td id=\"T_dcb16_row5_col3\" class=\"data row5 col3\" >US-MI</td>\n",
       "      <td id=\"T_dcb16_row5_col4\" class=\"data row5 col4\" >6</td>\n",
       "      <td id=\"T_dcb16_row5_col5\" class=\"data row5 col5\" >42.212399</td>\n",
       "      <td id=\"T_dcb16_row5_col6\" class=\"data row5 col6\" >-83.353401</td>\n",
       "    </tr>\n",
       "    <tr>\n",
       "      <th id=\"T_dcb16_level0_row6\" class=\"row_heading level0 row6\" >6</th>\n",
       "      <td id=\"T_dcb16_row6_col0\" class=\"data row6 col0\" >ATL</td>\n",
       "      <td id=\"T_dcb16_row6_col1\" class=\"data row6 col1\" >Atlanta</td>\n",
       "      <td id=\"T_dcb16_row6_col2\" class=\"data row6 col2\" >Hartsfield - Jackson Atlanta International Airport</td>\n",
       "      <td id=\"T_dcb16_row6_col3\" class=\"data row6 col3\" >US-GA</td>\n",
       "      <td id=\"T_dcb16_row6_col4\" class=\"data row6 col4\" >5</td>\n",
       "      <td id=\"T_dcb16_row6_col5\" class=\"data row6 col5\" >33.636700</td>\n",
       "      <td id=\"T_dcb16_row6_col6\" class=\"data row6 col6\" >-84.428101</td>\n",
       "    </tr>\n",
       "    <tr>\n",
       "      <th id=\"T_dcb16_level0_row7\" class=\"row_heading level0 row7\" >7</th>\n",
       "      <td id=\"T_dcb16_row7_col0\" class=\"data row7 col0\" >GIS</td>\n",
       "      <td id=\"T_dcb16_row7_col1\" class=\"data row7 col1\" >Gisborne</td>\n",
       "      <td id=\"T_dcb16_row7_col2\" class=\"data row7 col2\" >Gisborne Airport</td>\n",
       "      <td id=\"T_dcb16_row7_col3\" class=\"data row7 col3\" >NZ-GIS</td>\n",
       "      <td id=\"T_dcb16_row7_col4\" class=\"data row7 col4\" >5</td>\n",
       "      <td id=\"T_dcb16_row7_col5\" class=\"data row7 col5\" >-38.663300</td>\n",
       "      <td id=\"T_dcb16_row7_col6\" class=\"data row7 col6\" >177.977997</td>\n",
       "    </tr>\n",
       "    <tr>\n",
       "      <th id=\"T_dcb16_level0_row8\" class=\"row_heading level0 row8\" >8</th>\n",
       "      <td id=\"T_dcb16_row8_col0\" class=\"data row8 col0\" >HLZ</td>\n",
       "      <td id=\"T_dcb16_row8_col1\" class=\"data row8 col1\" >Hamilton</td>\n",
       "      <td id=\"T_dcb16_row8_col2\" class=\"data row8 col2\" >Hamilton International Airport</td>\n",
       "      <td id=\"T_dcb16_row8_col3\" class=\"data row8 col3\" >NZ-WKO</td>\n",
       "      <td id=\"T_dcb16_row8_col4\" class=\"data row8 col4\" >5</td>\n",
       "      <td id=\"T_dcb16_row8_col5\" class=\"data row8 col5\" >-37.866699</td>\n",
       "      <td id=\"T_dcb16_row8_col6\" class=\"data row8 col6\" >175.332001</td>\n",
       "    </tr>\n",
       "    <tr>\n",
       "      <th id=\"T_dcb16_level0_row9\" class=\"row_heading level0 row9\" >9</th>\n",
       "      <td id=\"T_dcb16_row9_col0\" class=\"data row9 col0\" >IAH</td>\n",
       "      <td id=\"T_dcb16_row9_col1\" class=\"data row9 col1\" >Houston</td>\n",
       "      <td id=\"T_dcb16_row9_col2\" class=\"data row9 col2\" >George Bush Intercontinental</td>\n",
       "      <td id=\"T_dcb16_row9_col3\" class=\"data row9 col3\" >US-TX</td>\n",
       "      <td id=\"T_dcb16_row9_col4\" class=\"data row9 col4\" >5</td>\n",
       "      <td id=\"T_dcb16_row9_col5\" class=\"data row9 col5\" >29.984400</td>\n",
       "      <td id=\"T_dcb16_row9_col6\" class=\"data row9 col6\" >-95.341400</td>\n",
       "    </tr>\n",
       "  </tbody>\n",
       "</table>\n"
      ],
      "text/plain": [
       "<pandas.io.formats.style.Styler at 0x1062af790>"
      ]
     },
     "execution_count": 60,
     "metadata": {},
     "output_type": "execute_result"
    }
   ],
   "source": [
    "?[code, city, desc, region, runways, lat, lon] := *airport{code, city, desc, region, runways, lat, lon}\n",
    "\n",
    ":order -runways\n",
    ":limit 10"
   ]
  },
  {
   "cell_type": "markdown",
   "id": "db45f1d4-e89a-449e-beb8-a9301acfa86c",
   "metadata": {},
   "source": [
    "How many airports are there in total?"
   ]
  },
  {
   "cell_type": "code",
   "execution_count": 61,
   "id": "9cd0a6ba-4808-4812-b760-ac389c435610",
   "metadata": {},
   "outputs": [
    {
     "data": {
      "text/html": [
       "<style type=\"text/css\">\n",
       "#T_58993_row0_col0 {\n",
       "  color: #307fc1;\n",
       "}\n",
       "</style>\n",
       "<table id=\"T_58993\">\n",
       "  <thead>\n",
       "    <tr>\n",
       "      <th class=\"blank level0\" >&nbsp;</th>\n",
       "      <th id=\"T_58993_level0_col0\" class=\"col_heading level0 col0\" >count(code)</th>\n",
       "    </tr>\n",
       "  </thead>\n",
       "  <tbody>\n",
       "    <tr>\n",
       "      <th id=\"T_58993_level0_row0\" class=\"row_heading level0 row0\" >0</th>\n",
       "      <td id=\"T_58993_row0_col0\" class=\"data row0 col0\" >3504</td>\n",
       "    </tr>\n",
       "  </tbody>\n",
       "</table>\n"
      ],
      "text/plain": [
       "<pandas.io.formats.style.Styler at 0x11f5383a0>"
      ]
     },
     "execution_count": 61,
     "metadata": {},
     "output_type": "execute_result"
    }
   ],
   "source": [
    "?[count(code)] := *airport{code}"
   ]
  },
  {
   "cell_type": "markdown",
   "id": "e7bf2676-4e79-49f0-9401-4bf60f2dc313",
   "metadata": {},
   "source": [
    "Let's get a distribution of the initials of the airport codes:"
   ]
  },
  {
   "cell_type": "code",
   "execution_count": 62,
   "id": "d9878f9c-1b43-426b-a8f5-5060f2476d86",
   "metadata": {},
   "outputs": [
    {
     "data": {
      "text/html": [
       "<style type=\"text/css\">\n",
       "#T_3948a_row0_col0, #T_3948a_row1_col0, #T_3948a_row2_col0, #T_3948a_row3_col0, #T_3948a_row4_col0, #T_3948a_row5_col0, #T_3948a_row6_col0, #T_3948a_row7_col0, #T_3948a_row8_col0, #T_3948a_row9_col0, #T_3948a_row10_col0, #T_3948a_row11_col0, #T_3948a_row12_col0, #T_3948a_row13_col0, #T_3948a_row14_col0, #T_3948a_row15_col0, #T_3948a_row16_col0, #T_3948a_row17_col0, #T_3948a_row18_col0, #T_3948a_row19_col0, #T_3948a_row20_col0, #T_3948a_row21_col0, #T_3948a_row22_col0, #T_3948a_row23_col0, #T_3948a_row24_col0, #T_3948a_row25_col0 {\n",
       "  color: #307fc1;\n",
       "}\n",
       "#T_3948a_row0_col1, #T_3948a_row1_col1, #T_3948a_row2_col1, #T_3948a_row3_col1, #T_3948a_row4_col1, #T_3948a_row5_col1, #T_3948a_row6_col1, #T_3948a_row7_col1, #T_3948a_row8_col1, #T_3948a_row9_col1, #T_3948a_row10_col1, #T_3948a_row11_col1, #T_3948a_row12_col1, #T_3948a_row13_col1, #T_3948a_row14_col1, #T_3948a_row15_col1, #T_3948a_row16_col1, #T_3948a_row17_col1, #T_3948a_row18_col1, #T_3948a_row19_col1, #T_3948a_row20_col1, #T_3948a_row21_col1, #T_3948a_row22_col1, #T_3948a_row23_col1, #T_3948a_row24_col1, #T_3948a_row25_col1 {\n",
       "  color: black;\n",
       "}\n",
       "</style>\n",
       "<table id=\"T_3948a\">\n",
       "  <thead>\n",
       "    <tr>\n",
       "      <th class=\"blank level0\" >&nbsp;</th>\n",
       "      <th id=\"T_3948a_level0_col0\" class=\"col_heading level0 col0\" >count(initial)</th>\n",
       "      <th id=\"T_3948a_level0_col1\" class=\"col_heading level0 col1\" >initial</th>\n",
       "    </tr>\n",
       "  </thead>\n",
       "  <tbody>\n",
       "    <tr>\n",
       "      <th id=\"T_3948a_level0_row0\" class=\"row_heading level0 row0\" >0</th>\n",
       "      <td id=\"T_3948a_row0_col0\" class=\"data row0 col0\" >212</td>\n",
       "      <td id=\"T_3948a_row0_col1\" class=\"data row0 col1\" >A</td>\n",
       "    </tr>\n",
       "    <tr>\n",
       "      <th id=\"T_3948a_level0_row1\" class=\"row_heading level0 row1\" >1</th>\n",
       "      <td id=\"T_3948a_row1_col0\" class=\"data row1 col0\" >235</td>\n",
       "      <td id=\"T_3948a_row1_col1\" class=\"data row1 col1\" >B</td>\n",
       "    </tr>\n",
       "    <tr>\n",
       "      <th id=\"T_3948a_level0_row2\" class=\"row_heading level0 row2\" >2</th>\n",
       "      <td id=\"T_3948a_row2_col0\" class=\"data row2 col0\" >214</td>\n",
       "      <td id=\"T_3948a_row2_col1\" class=\"data row2 col1\" >C</td>\n",
       "    </tr>\n",
       "    <tr>\n",
       "      <th id=\"T_3948a_level0_row3\" class=\"row_heading level0 row3\" >3</th>\n",
       "      <td id=\"T_3948a_row3_col0\" class=\"data row3 col0\" >116</td>\n",
       "      <td id=\"T_3948a_row3_col1\" class=\"data row3 col1\" >D</td>\n",
       "    </tr>\n",
       "    <tr>\n",
       "      <th id=\"T_3948a_level0_row4\" class=\"row_heading level0 row4\" >4</th>\n",
       "      <td id=\"T_3948a_row4_col0\" class=\"data row4 col0\" >95</td>\n",
       "      <td id=\"T_3948a_row4_col1\" class=\"data row4 col1\" >E</td>\n",
       "    </tr>\n",
       "    <tr>\n",
       "      <th id=\"T_3948a_level0_row5\" class=\"row_heading level0 row5\" >5</th>\n",
       "      <td id=\"T_3948a_row5_col0\" class=\"data row5 col0\" >76</td>\n",
       "      <td id=\"T_3948a_row5_col1\" class=\"data row5 col1\" >F</td>\n",
       "    </tr>\n",
       "    <tr>\n",
       "      <th id=\"T_3948a_level0_row6\" class=\"row_heading level0 row6\" >6</th>\n",
       "      <td id=\"T_3948a_row6_col0\" class=\"data row6 col0\" >135</td>\n",
       "      <td id=\"T_3948a_row6_col1\" class=\"data row6 col1\" >G</td>\n",
       "    </tr>\n",
       "    <tr>\n",
       "      <th id=\"T_3948a_level0_row7\" class=\"row_heading level0 row7\" >7</th>\n",
       "      <td id=\"T_3948a_row7_col0\" class=\"data row7 col0\" >129</td>\n",
       "      <td id=\"T_3948a_row7_col1\" class=\"data row7 col1\" >H</td>\n",
       "    </tr>\n",
       "    <tr>\n",
       "      <th id=\"T_3948a_level0_row8\" class=\"row_heading level0 row8\" >8</th>\n",
       "      <td id=\"T_3948a_row8_col0\" class=\"data row8 col0\" >112</td>\n",
       "      <td id=\"T_3948a_row8_col1\" class=\"data row8 col1\" >I</td>\n",
       "    </tr>\n",
       "    <tr>\n",
       "      <th id=\"T_3948a_level0_row9\" class=\"row_heading level0 row9\" >9</th>\n",
       "      <td id=\"T_3948a_row9_col0\" class=\"data row9 col0\" >80</td>\n",
       "      <td id=\"T_3948a_row9_col1\" class=\"data row9 col1\" >J</td>\n",
       "    </tr>\n",
       "    <tr>\n",
       "      <th id=\"T_3948a_level0_row10\" class=\"row_heading level0 row10\" >10</th>\n",
       "      <td id=\"T_3948a_row10_col0\" class=\"data row10 col0\" >197</td>\n",
       "      <td id=\"T_3948a_row10_col1\" class=\"data row10 col1\" >K</td>\n",
       "    </tr>\n",
       "    <tr>\n",
       "      <th id=\"T_3948a_level0_row11\" class=\"row_heading level0 row11\" >11</th>\n",
       "      <td id=\"T_3948a_row11_col0\" class=\"data row11 col0\" >184</td>\n",
       "      <td id=\"T_3948a_row11_col1\" class=\"data row11 col1\" >L</td>\n",
       "    </tr>\n",
       "    <tr>\n",
       "      <th id=\"T_3948a_level0_row12\" class=\"row_heading level0 row12\" >12</th>\n",
       "      <td id=\"T_3948a_row12_col0\" class=\"data row12 col0\" >228</td>\n",
       "      <td id=\"T_3948a_row12_col1\" class=\"data row12 col1\" >M</td>\n",
       "    </tr>\n",
       "    <tr>\n",
       "      <th id=\"T_3948a_level0_row13\" class=\"row_heading level0 row13\" >13</th>\n",
       "      <td id=\"T_3948a_row13_col0\" class=\"data row13 col0\" >111</td>\n",
       "      <td id=\"T_3948a_row13_col1\" class=\"data row13 col1\" >N</td>\n",
       "    </tr>\n",
       "    <tr>\n",
       "      <th id=\"T_3948a_level0_row14\" class=\"row_heading level0 row14\" >14</th>\n",
       "      <td id=\"T_3948a_row14_col0\" class=\"data row14 col0\" >89</td>\n",
       "      <td id=\"T_3948a_row14_col1\" class=\"data row14 col1\" >O</td>\n",
       "    </tr>\n",
       "    <tr>\n",
       "      <th id=\"T_3948a_level0_row15\" class=\"row_heading level0 row15\" >15</th>\n",
       "      <td id=\"T_3948a_row15_col0\" class=\"data row15 col0\" >203</td>\n",
       "      <td id=\"T_3948a_row15_col1\" class=\"data row15 col1\" >P</td>\n",
       "    </tr>\n",
       "    <tr>\n",
       "      <th id=\"T_3948a_level0_row16\" class=\"row_heading level0 row16\" >16</th>\n",
       "      <td id=\"T_3948a_row16_col0\" class=\"data row16 col0\" >7</td>\n",
       "      <td id=\"T_3948a_row16_col1\" class=\"data row16 col1\" >Q</td>\n",
       "    </tr>\n",
       "    <tr>\n",
       "      <th id=\"T_3948a_level0_row17\" class=\"row_heading level0 row17\" >17</th>\n",
       "      <td id=\"T_3948a_row17_col0\" class=\"data row17 col0\" >121</td>\n",
       "      <td id=\"T_3948a_row17_col1\" class=\"data row17 col1\" >R</td>\n",
       "    </tr>\n",
       "    <tr>\n",
       "      <th id=\"T_3948a_level0_row18\" class=\"row_heading level0 row18\" >18</th>\n",
       "      <td id=\"T_3948a_row18_col0\" class=\"data row18 col0\" >245</td>\n",
       "      <td id=\"T_3948a_row18_col1\" class=\"data row18 col1\" >S</td>\n",
       "    </tr>\n",
       "    <tr>\n",
       "      <th id=\"T_3948a_level0_row19\" class=\"row_heading level0 row19\" >19</th>\n",
       "      <td id=\"T_3948a_row19_col0\" class=\"data row19 col0\" >205</td>\n",
       "      <td id=\"T_3948a_row19_col1\" class=\"data row19 col1\" >T</td>\n",
       "    </tr>\n",
       "    <tr>\n",
       "      <th id=\"T_3948a_level0_row20\" class=\"row_heading level0 row20\" >20</th>\n",
       "      <td id=\"T_3948a_row20_col0\" class=\"data row20 col0\" >77</td>\n",
       "      <td id=\"T_3948a_row20_col1\" class=\"data row20 col1\" >U</td>\n",
       "    </tr>\n",
       "    <tr>\n",
       "      <th id=\"T_3948a_level0_row21\" class=\"row_heading level0 row21\" >21</th>\n",
       "      <td id=\"T_3948a_row21_col0\" class=\"data row21 col0\" >86</td>\n",
       "      <td id=\"T_3948a_row21_col1\" class=\"data row21 col1\" >V</td>\n",
       "    </tr>\n",
       "    <tr>\n",
       "      <th id=\"T_3948a_level0_row22\" class=\"row_heading level0 row22\" >22</th>\n",
       "      <td id=\"T_3948a_row22_col0\" class=\"data row22 col0\" >59</td>\n",
       "      <td id=\"T_3948a_row22_col1\" class=\"data row22 col1\" >W</td>\n",
       "    </tr>\n",
       "    <tr>\n",
       "      <th id=\"T_3948a_level0_row23\" class=\"row_heading level0 row23\" >23</th>\n",
       "      <td id=\"T_3948a_row23_col0\" class=\"data row23 col0\" >28</td>\n",
       "      <td id=\"T_3948a_row23_col1\" class=\"data row23 col1\" >X</td>\n",
       "    </tr>\n",
       "    <tr>\n",
       "      <th id=\"T_3948a_level0_row24\" class=\"row_heading level0 row24\" >24</th>\n",
       "      <td id=\"T_3948a_row24_col0\" class=\"data row24 col0\" >211</td>\n",
       "      <td id=\"T_3948a_row24_col1\" class=\"data row24 col1\" >Y</td>\n",
       "    </tr>\n",
       "    <tr>\n",
       "      <th id=\"T_3948a_level0_row25\" class=\"row_heading level0 row25\" >25</th>\n",
       "      <td id=\"T_3948a_row25_col0\" class=\"data row25 col0\" >49</td>\n",
       "      <td id=\"T_3948a_row25_col1\" class=\"data row25 col1\" >Z</td>\n",
       "    </tr>\n",
       "  </tbody>\n",
       "</table>\n"
      ],
      "text/plain": [
       "<pandas.io.formats.style.Styler at 0x11f53b2e0>"
      ]
     },
     "execution_count": 62,
     "metadata": {},
     "output_type": "execute_result"
    }
   ],
   "source": [
    "?[count(initial), initial] := *airport{code}, initial = first(chars(code))\n",
    "\n",
    ":order initial"
   ]
  },
  {
   "cell_type": "markdown",
   "id": "34283880-46bb-4759-965e-5e3de5128c15",
   "metadata": {},
   "source": [
    "More useful are the statistics of runways:"
   ]
  },
  {
   "cell_type": "code",
   "execution_count": 63,
   "id": "4d509508-02fa-4ec3-94a9-905dde2dda41",
   "metadata": {},
   "outputs": [
    {
     "data": {
      "text/html": [
       "<style type=\"text/css\">\n",
       "#T_bc3b9_row0_col0, #T_bc3b9_row0_col1, #T_bc3b9_row0_col2, #T_bc3b9_row0_col3, #T_bc3b9_row0_col4, #T_bc3b9_row0_col5, #T_bc3b9_row0_col6 {\n",
       "  color: #307fc1;\n",
       "}\n",
       "</style>\n",
       "<table id=\"T_bc3b9\">\n",
       "  <thead>\n",
       "    <tr>\n",
       "      <th class=\"blank level0\" >&nbsp;</th>\n",
       "      <th id=\"T_bc3b9_level0_col0\" class=\"col_heading level0 col0\" >count(r)</th>\n",
       "      <th id=\"T_bc3b9_level0_col1\" class=\"col_heading level0 col1\" >count_unique(r)</th>\n",
       "      <th id=\"T_bc3b9_level0_col2\" class=\"col_heading level0 col2\" >sum(r)</th>\n",
       "      <th id=\"T_bc3b9_level0_col3\" class=\"col_heading level0 col3\" >min(r)</th>\n",
       "      <th id=\"T_bc3b9_level0_col4\" class=\"col_heading level0 col4\" >max(r)</th>\n",
       "      <th id=\"T_bc3b9_level0_col5\" class=\"col_heading level0 col5\" >mean(r)</th>\n",
       "      <th id=\"T_bc3b9_level0_col6\" class=\"col_heading level0 col6\" >std_dev(r)</th>\n",
       "    </tr>\n",
       "  </thead>\n",
       "  <tbody>\n",
       "    <tr>\n",
       "      <th id=\"T_bc3b9_level0_row0\" class=\"row_heading level0 row0\" >0</th>\n",
       "      <td id=\"T_bc3b9_row0_col0\" class=\"data row0 col0\" >3504</td>\n",
       "      <td id=\"T_bc3b9_row0_col1\" class=\"data row0 col1\" >7</td>\n",
       "      <td id=\"T_bc3b9_row0_col2\" class=\"data row0 col2\" >4980.000000</td>\n",
       "      <td id=\"T_bc3b9_row0_col3\" class=\"data row0 col3\" >1</td>\n",
       "      <td id=\"T_bc3b9_row0_col4\" class=\"data row0 col4\" >7</td>\n",
       "      <td id=\"T_bc3b9_row0_col5\" class=\"data row0 col5\" >1.421233</td>\n",
       "      <td id=\"T_bc3b9_row0_col6\" class=\"data row0 col6\" >0.743083</td>\n",
       "    </tr>\n",
       "  </tbody>\n",
       "</table>\n"
      ],
      "text/plain": [
       "<pandas.io.formats.style.Styler at 0x11f5398d0>"
      ]
     },
     "execution_count": 63,
     "metadata": {},
     "output_type": "execute_result"
    }
   ],
   "source": [
    "?[count(r), count_unique(r), sum(r), min(r), max(r), mean(r), std_dev(r)] := \n",
    "    *airport{runways: r}"
   ]
  },
  {
   "cell_type": "markdown",
   "id": "c62269c6-9c23-4766-918d-aedb5cfe4bc3",
   "metadata": {},
   "source": [
    "Using `country`, we can find countries with no airports:"
   ]
  },
  {
   "cell_type": "code",
   "execution_count": 64,
   "id": "739902f6-902f-4261-878f-826291596399",
   "metadata": {},
   "outputs": [
    {
     "data": {
      "text/html": [
       "<style type=\"text/css\">\n",
       "#T_c6ed6_row0_col0, #T_c6ed6_row1_col0, #T_c6ed6_row2_col0, #T_c6ed6_row3_col0, #T_c6ed6_row4_col0 {\n",
       "  color: black;\n",
       "}\n",
       "</style>\n",
       "<table id=\"T_c6ed6\">\n",
       "  <thead>\n",
       "    <tr>\n",
       "      <th class=\"blank level0\" >&nbsp;</th>\n",
       "      <th id=\"T_c6ed6_level0_col0\" class=\"col_heading level0 col0\" >desc</th>\n",
       "    </tr>\n",
       "  </thead>\n",
       "  <tbody>\n",
       "    <tr>\n",
       "      <th id=\"T_c6ed6_level0_row0\" class=\"row_heading level0 row0\" >0</th>\n",
       "      <td id=\"T_c6ed6_row0_col0\" class=\"data row0 col0\" >Andorra</td>\n",
       "    </tr>\n",
       "    <tr>\n",
       "      <th id=\"T_c6ed6_level0_row1\" class=\"row_heading level0 row1\" >1</th>\n",
       "      <td id=\"T_c6ed6_row1_col0\" class=\"data row1 col0\" >Liechtenstein</td>\n",
       "    </tr>\n",
       "    <tr>\n",
       "      <th id=\"T_c6ed6_level0_row2\" class=\"row_heading level0 row2\" >2</th>\n",
       "      <td id=\"T_c6ed6_row2_col0\" class=\"data row2 col0\" >Monaco</td>\n",
       "    </tr>\n",
       "    <tr>\n",
       "      <th id=\"T_c6ed6_level0_row3\" class=\"row_heading level0 row3\" >3</th>\n",
       "      <td id=\"T_c6ed6_row3_col0\" class=\"data row3 col0\" >Pitcairn</td>\n",
       "    </tr>\n",
       "    <tr>\n",
       "      <th id=\"T_c6ed6_level0_row4\" class=\"row_heading level0 row4\" >4</th>\n",
       "      <td id=\"T_c6ed6_row4_col0\" class=\"data row4 col0\" >San Marino</td>\n",
       "    </tr>\n",
       "  </tbody>\n",
       "</table>\n"
      ],
      "text/plain": [
       "<pandas.io.formats.style.Styler at 0x11f538940>"
      ]
     },
     "execution_count": 64,
     "metadata": {},
     "output_type": "execute_result"
    }
   ],
   "source": [
    "?[desc] := *country{code, desc}, not *airport{country: code}"
   ]
  },
  {
   "cell_type": "markdown",
   "id": "6f65e01a-b43f-48d2-9afa-0021262e6ada",
   "metadata": {},
   "source": [
    "The `route` relation by itself is rather boring:"
   ]
  },
  {
   "cell_type": "code",
   "execution_count": 65,
   "id": "9d297cc5-ba50-44d7-b834-46ffaa6c748d",
   "metadata": {},
   "outputs": [
    {
     "data": {
      "text/html": [
       "<style type=\"text/css\">\n",
       "#T_f573c_row0_col0, #T_f573c_row0_col1, #T_f573c_row1_col0, #T_f573c_row1_col1, #T_f573c_row2_col0, #T_f573c_row2_col1, #T_f573c_row3_col0, #T_f573c_row3_col1, #T_f573c_row4_col0, #T_f573c_row4_col1, #T_f573c_row5_col0, #T_f573c_row5_col1, #T_f573c_row6_col0, #T_f573c_row6_col1, #T_f573c_row7_col0, #T_f573c_row7_col1, #T_f573c_row8_col0, #T_f573c_row8_col1, #T_f573c_row9_col0, #T_f573c_row9_col1 {\n",
       "  color: black;\n",
       "}\n",
       "#T_f573c_row0_col2, #T_f573c_row1_col2, #T_f573c_row2_col2, #T_f573c_row3_col2, #T_f573c_row4_col2, #T_f573c_row5_col2, #T_f573c_row6_col2, #T_f573c_row7_col2, #T_f573c_row8_col2, #T_f573c_row9_col2 {\n",
       "  color: #307fc1;\n",
       "}\n",
       "</style>\n",
       "<table id=\"T_f573c\">\n",
       "  <thead>\n",
       "    <tr>\n",
       "      <th class=\"blank level0\" >&nbsp;</th>\n",
       "      <th id=\"T_f573c_level0_col0\" class=\"col_heading level0 col0\" >fr</th>\n",
       "      <th id=\"T_f573c_level0_col1\" class=\"col_heading level0 col1\" >to</th>\n",
       "      <th id=\"T_f573c_level0_col2\" class=\"col_heading level0 col2\" >dist</th>\n",
       "    </tr>\n",
       "  </thead>\n",
       "  <tbody>\n",
       "    <tr>\n",
       "      <th id=\"T_f573c_level0_row0\" class=\"row_heading level0 row0\" >0</th>\n",
       "      <td id=\"T_f573c_row0_col0\" class=\"data row0 col0\" >AAA</td>\n",
       "      <td id=\"T_f573c_row0_col1\" class=\"data row0 col1\" >FAC</td>\n",
       "      <td id=\"T_f573c_row0_col2\" class=\"data row0 col2\" >48.000000</td>\n",
       "    </tr>\n",
       "    <tr>\n",
       "      <th id=\"T_f573c_level0_row1\" class=\"row_heading level0 row1\" >1</th>\n",
       "      <td id=\"T_f573c_row1_col0\" class=\"data row1 col0\" >AAA</td>\n",
       "      <td id=\"T_f573c_row1_col1\" class=\"data row1 col1\" >MKP</td>\n",
       "      <td id=\"T_f573c_row1_col2\" class=\"data row1 col2\" >133.000000</td>\n",
       "    </tr>\n",
       "    <tr>\n",
       "      <th id=\"T_f573c_level0_row2\" class=\"row_heading level0 row2\" >2</th>\n",
       "      <td id=\"T_f573c_row2_col0\" class=\"data row2 col0\" >AAA</td>\n",
       "      <td id=\"T_f573c_row2_col1\" class=\"data row2 col1\" >PPT</td>\n",
       "      <td id=\"T_f573c_row2_col2\" class=\"data row2 col2\" >270.000000</td>\n",
       "    </tr>\n",
       "    <tr>\n",
       "      <th id=\"T_f573c_level0_row3\" class=\"row_heading level0 row3\" >3</th>\n",
       "      <td id=\"T_f573c_row3_col0\" class=\"data row3 col0\" >AAA</td>\n",
       "      <td id=\"T_f573c_row3_col1\" class=\"data row3 col1\" >RAR</td>\n",
       "      <td id=\"T_f573c_row3_col2\" class=\"data row3 col2\" >968.000000</td>\n",
       "    </tr>\n",
       "    <tr>\n",
       "      <th id=\"T_f573c_level0_row4\" class=\"row_heading level0 row4\" >4</th>\n",
       "      <td id=\"T_f573c_row4_col0\" class=\"data row4 col0\" >AAE</td>\n",
       "      <td id=\"T_f573c_row4_col1\" class=\"data row4 col1\" >ALG</td>\n",
       "      <td id=\"T_f573c_row4_col2\" class=\"data row4 col2\" >254.000000</td>\n",
       "    </tr>\n",
       "    <tr>\n",
       "      <th id=\"T_f573c_level0_row5\" class=\"row_heading level0 row5\" >5</th>\n",
       "      <td id=\"T_f573c_row5_col0\" class=\"data row5 col0\" >AAE</td>\n",
       "      <td id=\"T_f573c_row5_col1\" class=\"data row5 col1\" >CDG</td>\n",
       "      <td id=\"T_f573c_row5_col2\" class=\"data row5 col2\" >882.000000</td>\n",
       "    </tr>\n",
       "    <tr>\n",
       "      <th id=\"T_f573c_level0_row6\" class=\"row_heading level0 row6\" >6</th>\n",
       "      <td id=\"T_f573c_row6_col0\" class=\"data row6 col0\" >AAE</td>\n",
       "      <td id=\"T_f573c_row6_col1\" class=\"data row6 col1\" >IST</td>\n",
       "      <td id=\"T_f573c_row6_col2\" class=\"data row6 col2\" >1161.000000</td>\n",
       "    </tr>\n",
       "    <tr>\n",
       "      <th id=\"T_f573c_level0_row7\" class=\"row_heading level0 row7\" >7</th>\n",
       "      <td id=\"T_f573c_row7_col0\" class=\"data row7 col0\" >AAE</td>\n",
       "      <td id=\"T_f573c_row7_col1\" class=\"data row7 col1\" >LYS</td>\n",
       "      <td id=\"T_f573c_row7_col2\" class=\"data row7 col2\" >631.000000</td>\n",
       "    </tr>\n",
       "    <tr>\n",
       "      <th id=\"T_f573c_level0_row8\" class=\"row_heading level0 row8\" >8</th>\n",
       "      <td id=\"T_f573c_row8_col0\" class=\"data row8 col0\" >AAE</td>\n",
       "      <td id=\"T_f573c_row8_col1\" class=\"data row8 col1\" >MRS</td>\n",
       "      <td id=\"T_f573c_row8_col2\" class=\"data row8 col2\" >477.000000</td>\n",
       "    </tr>\n",
       "    <tr>\n",
       "      <th id=\"T_f573c_level0_row9\" class=\"row_heading level0 row9\" >9</th>\n",
       "      <td id=\"T_f573c_row9_col0\" class=\"data row9 col0\" >AAE</td>\n",
       "      <td id=\"T_f573c_row9_col1\" class=\"data row9 col1\" >ORN</td>\n",
       "      <td id=\"T_f573c_row9_col2\" class=\"data row9 col2\" >477.000000</td>\n",
       "    </tr>\n",
       "  </tbody>\n",
       "</table>\n"
      ],
      "text/plain": [
       "<pandas.io.formats.style.Styler at 0x11f55c5e0>"
      ]
     },
     "execution_count": 65,
     "metadata": {},
     "output_type": "execute_result"
    }
   ],
   "source": [
    "?[fr, to, dist] := *route{fr, to, dist}\n",
    "\n",
    ":limit 10"
   ]
  },
  {
   "cell_type": "markdown",
   "id": "9f037a30-6f67-4fd9-ba3a-968ebfe811ff",
   "metadata": {},
   "source": [
    "It just records the starting and ending airports of each route, together with the distance. This relation only becomes useful when used as a graph.\n",
    "\n",
    "Airports with no routes:"
   ]
  },
  {
   "cell_type": "code",
   "execution_count": 66,
   "id": "e58de060-2f75-46fb-9ce0-98068e338c09",
   "metadata": {},
   "outputs": [
    {
     "data": {
      "text/html": [
       "<style type=\"text/css\">\n",
       "#T_2c218_row0_col0, #T_2c218_row0_col1, #T_2c218_row1_col0, #T_2c218_row1_col1, #T_2c218_row2_col0, #T_2c218_row2_col1, #T_2c218_row3_col0, #T_2c218_row3_col1, #T_2c218_row4_col0, #T_2c218_row4_col1, #T_2c218_row5_col0, #T_2c218_row5_col1, #T_2c218_row6_col0, #T_2c218_row6_col1, #T_2c218_row7_col0, #T_2c218_row7_col1, #T_2c218_row8_col0, #T_2c218_row8_col1, #T_2c218_row9_col0, #T_2c218_row9_col1, #T_2c218_row10_col0, #T_2c218_row10_col1, #T_2c218_row11_col0, #T_2c218_row11_col1, #T_2c218_row12_col0, #T_2c218_row12_col1, #T_2c218_row13_col0, #T_2c218_row13_col1, #T_2c218_row14_col0, #T_2c218_row14_col1, #T_2c218_row15_col0, #T_2c218_row15_col1, #T_2c218_row16_col0, #T_2c218_row16_col1, #T_2c218_row17_col0, #T_2c218_row17_col1, #T_2c218_row18_col0, #T_2c218_row18_col1, #T_2c218_row19_col0, #T_2c218_row19_col1, #T_2c218_row20_col0, #T_2c218_row20_col1, #T_2c218_row21_col0, #T_2c218_row21_col1, #T_2c218_row22_col0, #T_2c218_row22_col1, #T_2c218_row23_col0, #T_2c218_row23_col1, #T_2c218_row24_col0, #T_2c218_row24_col1, #T_2c218_row25_col0, #T_2c218_row25_col1, #T_2c218_row26_col0, #T_2c218_row26_col1, #T_2c218_row27_col0, #T_2c218_row27_col1 {\n",
       "  color: black;\n",
       "}\n",
       "</style>\n",
       "<table id=\"T_2c218\">\n",
       "  <thead>\n",
       "    <tr>\n",
       "      <th class=\"blank level0\" >&nbsp;</th>\n",
       "      <th id=\"T_2c218_level0_col0\" class=\"col_heading level0 col0\" >code</th>\n",
       "      <th id=\"T_2c218_level0_col1\" class=\"col_heading level0 col1\" >desc</th>\n",
       "    </tr>\n",
       "  </thead>\n",
       "  <tbody>\n",
       "    <tr>\n",
       "      <th id=\"T_2c218_level0_row0\" class=\"row_heading level0 row0\" >0</th>\n",
       "      <td id=\"T_2c218_row0_col0\" class=\"data row0 col0\" >AFW</td>\n",
       "      <td id=\"T_2c218_row0_col1\" class=\"data row0 col1\" >Fort Worth Alliance Airport</td>\n",
       "    </tr>\n",
       "    <tr>\n",
       "      <th id=\"T_2c218_level0_row1\" class=\"row_heading level0 row1\" >1</th>\n",
       "      <td id=\"T_2c218_row1_col0\" class=\"data row1 col0\" >APA</td>\n",
       "      <td id=\"T_2c218_row1_col1\" class=\"data row1 col1\" >Centennial Airport</td>\n",
       "    </tr>\n",
       "    <tr>\n",
       "      <th id=\"T_2c218_level0_row2\" class=\"row_heading level0 row2\" >2</th>\n",
       "      <td id=\"T_2c218_row2_col0\" class=\"data row2 col0\" >APK</td>\n",
       "      <td id=\"T_2c218_row2_col1\" class=\"data row2 col1\" >Apataki Airport</td>\n",
       "    </tr>\n",
       "    <tr>\n",
       "      <th id=\"T_2c218_level0_row3\" class=\"row_heading level0 row3\" >3</th>\n",
       "      <td id=\"T_2c218_row3_col0\" class=\"data row3 col0\" >BID</td>\n",
       "      <td id=\"T_2c218_row3_col1\" class=\"data row3 col1\" >Block Island State Airport</td>\n",
       "    </tr>\n",
       "    <tr>\n",
       "      <th id=\"T_2c218_level0_row4\" class=\"row_heading level0 row4\" >4</th>\n",
       "      <td id=\"T_2c218_row4_col0\" class=\"data row4 col0\" >BVS</td>\n",
       "      <td id=\"T_2c218_row4_col1\" class=\"data row4 col1\" >Breves Airport</td>\n",
       "    </tr>\n",
       "    <tr>\n",
       "      <th id=\"T_2c218_level0_row5\" class=\"row_heading level0 row5\" >5</th>\n",
       "      <td id=\"T_2c218_row5_col0\" class=\"data row5 col0\" >BWU</td>\n",
       "      <td id=\"T_2c218_row5_col1\" class=\"data row5 col1\" >Sydney Bankstown Airport</td>\n",
       "    </tr>\n",
       "    <tr>\n",
       "      <th id=\"T_2c218_level0_row6\" class=\"row_heading level0 row6\" >6</th>\n",
       "      <td id=\"T_2c218_row6_col0\" class=\"data row6 col0\" >CRC</td>\n",
       "      <td id=\"T_2c218_row6_col1\" class=\"data row6 col1\" >Santa Ana Airport</td>\n",
       "    </tr>\n",
       "    <tr>\n",
       "      <th id=\"T_2c218_level0_row7\" class=\"row_heading level0 row7\" >7</th>\n",
       "      <td id=\"T_2c218_row7_col0\" class=\"data row7 col0\" >CVT</td>\n",
       "      <td id=\"T_2c218_row7_col1\" class=\"data row7 col1\" >Coventry Airport</td>\n",
       "    </tr>\n",
       "    <tr>\n",
       "      <th id=\"T_2c218_level0_row8\" class=\"row_heading level0 row8\" >8</th>\n",
       "      <td id=\"T_2c218_row8_col0\" class=\"data row8 col0\" >EKA</td>\n",
       "      <td id=\"T_2c218_row8_col1\" class=\"data row8 col1\" >Murray Field</td>\n",
       "    </tr>\n",
       "    <tr>\n",
       "      <th id=\"T_2c218_level0_row9\" class=\"row_heading level0 row9\" >9</th>\n",
       "      <td id=\"T_2c218_row9_col0\" class=\"data row9 col0\" >GYZ</td>\n",
       "      <td id=\"T_2c218_row9_col1\" class=\"data row9 col1\" >Gruyere Airport</td>\n",
       "    </tr>\n",
       "    <tr>\n",
       "      <th id=\"T_2c218_level0_row10\" class=\"row_heading level0 row10\" >10</th>\n",
       "      <td id=\"T_2c218_row10_col0\" class=\"data row10 col0\" >HFN</td>\n",
       "      <td id=\"T_2c218_row10_col1\" class=\"data row10 col1\" >Hornafjordur Airport</td>\n",
       "    </tr>\n",
       "    <tr>\n",
       "      <th id=\"T_2c218_level0_row11\" class=\"row_heading level0 row11\" >11</th>\n",
       "      <td id=\"T_2c218_row11_col0\" class=\"data row11 col0\" >HZK</td>\n",
       "      <td id=\"T_2c218_row11_col1\" class=\"data row11 col1\" >Husavik Airport</td>\n",
       "    </tr>\n",
       "    <tr>\n",
       "      <th id=\"T_2c218_level0_row12\" class=\"row_heading level0 row12\" >12</th>\n",
       "      <td id=\"T_2c218_row12_col0\" class=\"data row12 col0\" >ILG</td>\n",
       "      <td id=\"T_2c218_row12_col1\" class=\"data row12 col1\" >New Castle Airport</td>\n",
       "    </tr>\n",
       "    <tr>\n",
       "      <th id=\"T_2c218_level0_row13\" class=\"row_heading level0 row13\" >13</th>\n",
       "      <td id=\"T_2c218_row13_col0\" class=\"data row13 col0\" >INT</td>\n",
       "      <td id=\"T_2c218_row13_col1\" class=\"data row13 col1\" >Smith Reynolds Airport</td>\n",
       "    </tr>\n",
       "    <tr>\n",
       "      <th id=\"T_2c218_level0_row14\" class=\"row_heading level0 row14\" >14</th>\n",
       "      <td id=\"T_2c218_row14_col0\" class=\"data row14 col0\" >ISL</td>\n",
       "      <td id=\"T_2c218_row14_col1\" class=\"data row14 col1\" >Ataturk International Airport</td>\n",
       "    </tr>\n",
       "    <tr>\n",
       "      <th id=\"T_2c218_level0_row15\" class=\"row_heading level0 row15\" >15</th>\n",
       "      <td id=\"T_2c218_row15_col0\" class=\"data row15 col0\" >KGG</td>\n",
       "      <td id=\"T_2c218_row15_col1\" class=\"data row15 col1\" >Kédougou Airport</td>\n",
       "    </tr>\n",
       "    <tr>\n",
       "      <th id=\"T_2c218_level0_row16\" class=\"row_heading level0 row16\" >16</th>\n",
       "      <td id=\"T_2c218_row16_col0\" class=\"data row16 col0\" >NBW</td>\n",
       "      <td id=\"T_2c218_row16_col1\" class=\"data row16 col1\" >Leeward Point Field</td>\n",
       "    </tr>\n",
       "    <tr>\n",
       "      <th id=\"T_2c218_level0_row17\" class=\"row_heading level0 row17\" >17</th>\n",
       "      <td id=\"T_2c218_row17_col0\" class=\"data row17 col0\" >NFO</td>\n",
       "      <td id=\"T_2c218_row17_col1\" class=\"data row17 col1\" >Mata'aho Airport</td>\n",
       "    </tr>\n",
       "    <tr>\n",
       "      <th id=\"T_2c218_level0_row18\" class=\"row_heading level0 row18\" >18</th>\n",
       "      <td id=\"T_2c218_row18_col0\" class=\"data row18 col0\" >PSY</td>\n",
       "      <td id=\"T_2c218_row18_col1\" class=\"data row18 col1\" >Stanley Airport</td>\n",
       "    </tr>\n",
       "    <tr>\n",
       "      <th id=\"T_2c218_level0_row19\" class=\"row_heading level0 row19\" >19</th>\n",
       "      <td id=\"T_2c218_row19_col0\" class=\"data row19 col0\" >RIG</td>\n",
       "      <td id=\"T_2c218_row19_col1\" class=\"data row19 col1\" >Rio Grande Airport</td>\n",
       "    </tr>\n",
       "    <tr>\n",
       "      <th id=\"T_2c218_level0_row20\" class=\"row_heading level0 row20\" >20</th>\n",
       "      <td id=\"T_2c218_row20_col0\" class=\"data row20 col0\" >SFD</td>\n",
       "      <td id=\"T_2c218_row20_col1\" class=\"data row20 col1\" >San Fernando De Apure Airport</td>\n",
       "    </tr>\n",
       "    <tr>\n",
       "      <th id=\"T_2c218_level0_row21\" class=\"row_heading level0 row21\" >21</th>\n",
       "      <td id=\"T_2c218_row21_col0\" class=\"data row21 col0\" >SFH</td>\n",
       "      <td id=\"T_2c218_row21_col1\" class=\"data row21 col1\" >San Felipe International Airport</td>\n",
       "    </tr>\n",
       "    <tr>\n",
       "      <th id=\"T_2c218_level0_row22\" class=\"row_heading level0 row22\" >22</th>\n",
       "      <td id=\"T_2c218_row22_col0\" class=\"data row22 col0\" >SXF</td>\n",
       "      <td id=\"T_2c218_row22_col1\" class=\"data row22 col1\" >Berlin-Schönefeld International Airport *Closed*</td>\n",
       "    </tr>\n",
       "    <tr>\n",
       "      <th id=\"T_2c218_level0_row23\" class=\"row_heading level0 row23\" >23</th>\n",
       "      <td id=\"T_2c218_row23_col0\" class=\"data row23 col0\" >TUA</td>\n",
       "      <td id=\"T_2c218_row23_col1\" class=\"data row23 col1\" >Teniente Coronel Luis a Mantilla Airport</td>\n",
       "    </tr>\n",
       "    <tr>\n",
       "      <th id=\"T_2c218_level0_row24\" class=\"row_heading level0 row24\" >24</th>\n",
       "      <td id=\"T_2c218_row24_col0\" class=\"data row24 col0\" >TWB</td>\n",
       "      <td id=\"T_2c218_row24_col1\" class=\"data row24 col1\" >Toowoomba Airport</td>\n",
       "    </tr>\n",
       "    <tr>\n",
       "      <th id=\"T_2c218_level0_row25\" class=\"row_heading level0 row25\" >25</th>\n",
       "      <td id=\"T_2c218_row25_col0\" class=\"data row25 col0\" >TXL</td>\n",
       "      <td id=\"T_2c218_row25_col1\" class=\"data row25 col1\" >Berlin, Tegel International Airport *Closed*</td>\n",
       "    </tr>\n",
       "    <tr>\n",
       "      <th id=\"T_2c218_level0_row26\" class=\"row_heading level0 row26\" >26</th>\n",
       "      <td id=\"T_2c218_row26_col0\" class=\"data row26 col0\" >VCV</td>\n",
       "      <td id=\"T_2c218_row26_col1\" class=\"data row26 col1\" >Southern California Logistics Airport</td>\n",
       "    </tr>\n",
       "    <tr>\n",
       "      <th id=\"T_2c218_level0_row27\" class=\"row_heading level0 row27\" >27</th>\n",
       "      <td id=\"T_2c218_row27_col0\" class=\"data row27 col0\" >YEI</td>\n",
       "      <td id=\"T_2c218_row27_col1\" class=\"data row27 col1\" >Bursa Yenişehir Airport</td>\n",
       "    </tr>\n",
       "  </tbody>\n",
       "</table>\n"
      ],
      "text/plain": [
       "<pandas.io.formats.style.Styler at 0x11f54f520>"
      ]
     },
     "execution_count": 66,
     "metadata": {},
     "output_type": "execute_result"
    }
   ],
   "source": [
    "?[code, desc] := *airport{code, desc}, not *route{fr: code}, not *route{to: code}"
   ]
  },
  {
   "cell_type": "markdown",
   "id": "e26b06c3-3919-4a72-861d-e63318708496",
   "metadata": {},
   "source": [
    "Airports with the most out routes:"
   ]
  },
  {
   "cell_type": "code",
   "execution_count": 67,
   "id": "1b0a075d-5968-41e6-90df-27ee2034dc84",
   "metadata": {},
   "outputs": [
    {
     "data": {
      "text/html": [
       "<style type=\"text/css\">\n",
       "#T_6e425_row0_col0, #T_6e425_row1_col0, #T_6e425_row2_col0, #T_6e425_row3_col0, #T_6e425_row4_col0 {\n",
       "  color: black;\n",
       "}\n",
       "#T_6e425_row0_col1, #T_6e425_row1_col1, #T_6e425_row2_col1, #T_6e425_row3_col1, #T_6e425_row4_col1 {\n",
       "  color: #307fc1;\n",
       "}\n",
       "</style>\n",
       "<table id=\"T_6e425\">\n",
       "  <thead>\n",
       "    <tr>\n",
       "      <th class=\"blank level0\" >&nbsp;</th>\n",
       "      <th id=\"T_6e425_level0_col0\" class=\"col_heading level0 col0\" >code</th>\n",
       "      <th id=\"T_6e425_level0_col1\" class=\"col_heading level0 col1\" >n</th>\n",
       "    </tr>\n",
       "  </thead>\n",
       "  <tbody>\n",
       "    <tr>\n",
       "      <th id=\"T_6e425_level0_row0\" class=\"row_heading level0 row0\" >0</th>\n",
       "      <td id=\"T_6e425_row0_col0\" class=\"data row0 col0\" >FRA</td>\n",
       "      <td id=\"T_6e425_row0_col1\" class=\"data row0 col1\" >310</td>\n",
       "    </tr>\n",
       "    <tr>\n",
       "      <th id=\"T_6e425_level0_row1\" class=\"row_heading level0 row1\" >1</th>\n",
       "      <td id=\"T_6e425_row1_col0\" class=\"data row1 col0\" >IST</td>\n",
       "      <td id=\"T_6e425_row1_col1\" class=\"data row1 col1\" >309</td>\n",
       "    </tr>\n",
       "    <tr>\n",
       "      <th id=\"T_6e425_level0_row2\" class=\"row_heading level0 row2\" >2</th>\n",
       "      <td id=\"T_6e425_row2_col0\" class=\"data row2 col0\" >CDG</td>\n",
       "      <td id=\"T_6e425_row2_col1\" class=\"data row2 col1\" >293</td>\n",
       "    </tr>\n",
       "    <tr>\n",
       "      <th id=\"T_6e425_level0_row3\" class=\"row_heading level0 row3\" >3</th>\n",
       "      <td id=\"T_6e425_row3_col0\" class=\"data row3 col0\" >AMS</td>\n",
       "      <td id=\"T_6e425_row3_col1\" class=\"data row3 col1\" >283</td>\n",
       "    </tr>\n",
       "    <tr>\n",
       "      <th id=\"T_6e425_level0_row4\" class=\"row_heading level0 row4\" >4</th>\n",
       "      <td id=\"T_6e425_row4_col0\" class=\"data row4 col0\" >MUC</td>\n",
       "      <td id=\"T_6e425_row4_col1\" class=\"data row4 col1\" >270</td>\n",
       "    </tr>\n",
       "  </tbody>\n",
       "</table>\n"
      ],
      "text/plain": [
       "<pandas.io.formats.style.Styler at 0x11f55cb80>"
      ]
     },
     "execution_count": 67,
     "metadata": {},
     "output_type": "execute_result"
    }
   ],
   "source": [
    "route_count[fr, count(fr)] := *route{fr}\n",
    "?[code, n] := route_count[code, n]\n",
    "\n",
    ":sort -n\n",
    ":limit 5"
   ]
  },
  {
   "cell_type": "markdown",
   "id": "b4154c1e-78f8-4621-9a32-05363d1b13cf",
   "metadata": {},
   "source": [
    "How many routes are there from the European Union to the US?"
   ]
  },
  {
   "cell_type": "code",
   "execution_count": 68,
   "id": "7de94407-206b-42d9-ac3b-cd9a3277bfe3",
   "metadata": {},
   "outputs": [
    {
     "data": {
      "text/html": [
       "<style type=\"text/css\">\n",
       "#T_9a356_row0_col0 {\n",
       "  color: #307fc1;\n",
       "}\n",
       "</style>\n",
       "<table id=\"T_9a356\">\n",
       "  <thead>\n",
       "    <tr>\n",
       "      <th class=\"blank level0\" >&nbsp;</th>\n",
       "      <th id=\"T_9a356_level0_col0\" class=\"col_heading level0 col0\" >n</th>\n",
       "    </tr>\n",
       "  </thead>\n",
       "  <tbody>\n",
       "    <tr>\n",
       "      <th id=\"T_9a356_level0_row0\" class=\"row_heading level0 row0\" >0</th>\n",
       "      <td id=\"T_9a356_row0_col0\" class=\"data row0 col0\" >435</td>\n",
       "    </tr>\n",
       "  </tbody>\n",
       "</table>\n"
      ],
      "text/plain": [
       "<pandas.io.formats.style.Styler at 0x11f54d600>"
      ]
     },
     "execution_count": 68,
     "metadata": {},
     "output_type": "execute_result"
    }
   ],
   "source": [
    "routes[unique(r)] := *contain['EU', fr],\n",
    "                     *route{fr, to},\n",
    "                     *airport{code: to, country: 'US'},\n",
    "                     r = [fr, to]\n",
    "?[n] := routes[rs], n = length(rs)"
   ]
  },
  {
   "cell_type": "markdown",
   "id": "528bc6eb-064d-418f-8aa1-98aeedd64ace",
   "metadata": {},
   "source": [
    "How many airports are there in the US with routes from the EU?"
   ]
  },
  {
   "cell_type": "code",
   "execution_count": 69,
   "id": "7ecfd10d-f05f-443e-a0e9-73480d67dcf1",
   "metadata": {},
   "outputs": [
    {
     "data": {
      "text/html": [
       "<style type=\"text/css\">\n",
       "#T_90af7_row0_col0 {\n",
       "  color: #307fc1;\n",
       "}\n",
       "</style>\n",
       "<table id=\"T_90af7\">\n",
       "  <thead>\n",
       "    <tr>\n",
       "      <th class=\"blank level0\" >&nbsp;</th>\n",
       "      <th id=\"T_90af7_level0_col0\" class=\"col_heading level0 col0\" >count_unique(to)</th>\n",
       "    </tr>\n",
       "  </thead>\n",
       "  <tbody>\n",
       "    <tr>\n",
       "      <th id=\"T_90af7_level0_row0\" class=\"row_heading level0 row0\" >0</th>\n",
       "      <td id=\"T_90af7_row0_col0\" class=\"data row0 col0\" >45</td>\n",
       "    </tr>\n",
       "  </tbody>\n",
       "</table>\n"
      ],
      "text/plain": [
       "<pandas.io.formats.style.Styler at 0x11f54cb50>"
      ]
     },
     "execution_count": 69,
     "metadata": {},
     "output_type": "execute_result"
    }
   ],
   "source": [
    "?[count_unique(to)] := *contain['EU', fr],\n",
    "                       *route{fr, to},\n",
    "                       *airport{code: to, country: 'US'}\n"
   ]
  },
  {
   "cell_type": "markdown",
   "id": "3a13fa07-aaa4-47c1-aefb-0a93c80e3c18",
   "metadata": {},
   "source": [
    "How many routes are there for each airport in London, UK?"
   ]
  },
  {
   "cell_type": "code",
   "execution_count": 70,
   "id": "52f6c021-1ac7-42a6-910a-7686eb2c653d",
   "metadata": {},
   "outputs": [
    {
     "data": {
      "text/html": [
       "<style type=\"text/css\">\n",
       "#T_a2a8b_row0_col0, #T_a2a8b_row1_col0, #T_a2a8b_row2_col0, #T_a2a8b_row3_col0, #T_a2a8b_row4_col0 {\n",
       "  color: black;\n",
       "}\n",
       "#T_a2a8b_row0_col1, #T_a2a8b_row1_col1, #T_a2a8b_row2_col1, #T_a2a8b_row3_col1, #T_a2a8b_row4_col1 {\n",
       "  color: #307fc1;\n",
       "}\n",
       "</style>\n",
       "<table id=\"T_a2a8b\">\n",
       "  <thead>\n",
       "    <tr>\n",
       "      <th class=\"blank level0\" >&nbsp;</th>\n",
       "      <th id=\"T_a2a8b_level0_col0\" class=\"col_heading level0 col0\" >code</th>\n",
       "      <th id=\"T_a2a8b_level0_col1\" class=\"col_heading level0 col1\" >count(code)</th>\n",
       "    </tr>\n",
       "  </thead>\n",
       "  <tbody>\n",
       "    <tr>\n",
       "      <th id=\"T_a2a8b_level0_row0\" class=\"row_heading level0 row0\" >0</th>\n",
       "      <td id=\"T_a2a8b_row0_col0\" class=\"data row0 col0\" >LCY</td>\n",
       "      <td id=\"T_a2a8b_row0_col1\" class=\"data row0 col1\" >51</td>\n",
       "    </tr>\n",
       "    <tr>\n",
       "      <th id=\"T_a2a8b_level0_row1\" class=\"row_heading level0 row1\" >1</th>\n",
       "      <td id=\"T_a2a8b_row1_col0\" class=\"data row1 col0\" >LGW</td>\n",
       "      <td id=\"T_a2a8b_row1_col1\" class=\"data row1 col1\" >232</td>\n",
       "    </tr>\n",
       "    <tr>\n",
       "      <th id=\"T_a2a8b_level0_row2\" class=\"row_heading level0 row2\" >2</th>\n",
       "      <td id=\"T_a2a8b_row2_col0\" class=\"data row2 col0\" >LHR</td>\n",
       "      <td id=\"T_a2a8b_row2_col1\" class=\"data row2 col1\" >221</td>\n",
       "    </tr>\n",
       "    <tr>\n",
       "      <th id=\"T_a2a8b_level0_row3\" class=\"row_heading level0 row3\" >3</th>\n",
       "      <td id=\"T_a2a8b_row3_col0\" class=\"data row3 col0\" >LTN</td>\n",
       "      <td id=\"T_a2a8b_row3_col1\" class=\"data row3 col1\" >130</td>\n",
       "    </tr>\n",
       "    <tr>\n",
       "      <th id=\"T_a2a8b_level0_row4\" class=\"row_heading level0 row4\" >4</th>\n",
       "      <td id=\"T_a2a8b_row4_col0\" class=\"data row4 col0\" >STN</td>\n",
       "      <td id=\"T_a2a8b_row4_col1\" class=\"data row4 col1\" >211</td>\n",
       "    </tr>\n",
       "  </tbody>\n",
       "</table>\n"
      ],
      "text/plain": [
       "<pandas.io.formats.style.Styler at 0x11f54c520>"
      ]
     },
     "execution_count": 70,
     "metadata": {},
     "output_type": "execute_result"
    }
   ],
   "source": [
    "?[code, count(code)] := *airport{code, city: 'London', region: 'GB-ENG'}, *route{fr: code}"
   ]
  },
  {
   "cell_type": "markdown",
   "id": "19ecd6fa-04e0-4a03-9834-f0dfea861e9a",
   "metadata": {},
   "source": [
    "We need to specify the region, because there is another city called London, not in the UK.\n",
    "\n",
    "How many airports are reachable from London, UK in two hops?"
   ]
  },
  {
   "cell_type": "code",
   "execution_count": 71,
   "id": "0689fddc-e02d-4b4c-a621-b17f0431ccf4",
   "metadata": {},
   "outputs": [
    {
     "data": {
      "text/html": [
       "<style type=\"text/css\">\n",
       "#T_c8d7c_row0_col0 {\n",
       "  color: #307fc1;\n",
       "}\n",
       "</style>\n",
       "<table id=\"T_c8d7c\">\n",
       "  <thead>\n",
       "    <tr>\n",
       "      <th class=\"blank level0\" >&nbsp;</th>\n",
       "      <th id=\"T_c8d7c_level0_col0\" class=\"col_heading level0 col0\" >count_unique(a3)</th>\n",
       "    </tr>\n",
       "  </thead>\n",
       "  <tbody>\n",
       "    <tr>\n",
       "      <th id=\"T_c8d7c_level0_row0\" class=\"row_heading level0 row0\" >0</th>\n",
       "      <td id=\"T_c8d7c_row0_col0\" class=\"data row0 col0\" >2353</td>\n",
       "    </tr>\n",
       "  </tbody>\n",
       "</table>\n"
      ],
      "text/plain": [
       "<pandas.io.formats.style.Styler at 0x11f54ee90>"
      ]
     },
     "execution_count": 71,
     "metadata": {},
     "output_type": "execute_result"
    }
   ],
   "source": [
    "lon_uk_airports[code] := *airport{code, city: 'London', region: 'GB-ENG'}\n",
    "one_hop[to] := lon_uk_airports[fr], *route{fr, to}, not lon_uk_airports[to];\n",
    "?[count_unique(a3)] := one_hop[a2], *route{fr: a2, to: a3}, not lon_uk_airports[a3];"
   ]
  },
  {
   "cell_type": "markdown",
   "id": "4be5b2d5-8aa9-4109-94f4-ccb75e109935",
   "metadata": {},
   "source": [
    "What are the cities directly reachable from LGW (London Gatwick), but furthermost away?"
   ]
  },
  {
   "cell_type": "code",
   "execution_count": 72,
   "id": "9ac99669-84dc-4a7a-b985-d1e333a41065",
   "metadata": {},
   "outputs": [
    {
     "data": {
      "text/html": [
       "<style type=\"text/css\">\n",
       "#T_1705b_row0_col0, #T_1705b_row1_col0, #T_1705b_row2_col0, #T_1705b_row3_col0, #T_1705b_row4_col0, #T_1705b_row5_col0, #T_1705b_row6_col0, #T_1705b_row7_col0, #T_1705b_row8_col0, #T_1705b_row9_col0 {\n",
       "  color: black;\n",
       "}\n",
       "#T_1705b_row0_col1, #T_1705b_row1_col1, #T_1705b_row2_col1, #T_1705b_row3_col1, #T_1705b_row4_col1, #T_1705b_row5_col1, #T_1705b_row6_col1, #T_1705b_row7_col1, #T_1705b_row8_col1, #T_1705b_row9_col1 {\n",
       "  color: #307fc1;\n",
       "}\n",
       "</style>\n",
       "<table id=\"T_1705b\">\n",
       "  <thead>\n",
       "    <tr>\n",
       "      <th class=\"blank level0\" >&nbsp;</th>\n",
       "      <th id=\"T_1705b_level0_col0\" class=\"col_heading level0 col0\" >city</th>\n",
       "      <th id=\"T_1705b_level0_col1\" class=\"col_heading level0 col1\" >dist</th>\n",
       "    </tr>\n",
       "  </thead>\n",
       "  <tbody>\n",
       "    <tr>\n",
       "      <th id=\"T_1705b_level0_row0\" class=\"row_heading level0 row0\" >0</th>\n",
       "      <td id=\"T_1705b_row0_col0\" class=\"data row0 col0\" >Buenos Aires</td>\n",
       "      <td id=\"T_1705b_row0_col1\" class=\"data row0 col1\" >6908.000000</td>\n",
       "    </tr>\n",
       "    <tr>\n",
       "      <th id=\"T_1705b_level0_row1\" class=\"row_heading level0 row1\" >1</th>\n",
       "      <td id=\"T_1705b_row1_col0\" class=\"data row1 col0\" >Singapore</td>\n",
       "      <td id=\"T_1705b_row1_col1\" class=\"data row1 col1\" >6751.000000</td>\n",
       "    </tr>\n",
       "    <tr>\n",
       "      <th id=\"T_1705b_level0_row2\" class=\"row_heading level0 row2\" >2</th>\n",
       "      <td id=\"T_1705b_row2_col0\" class=\"data row2 col0\" >Langkawi</td>\n",
       "      <td id=\"T_1705b_row2_col1\" class=\"data row2 col1\" >6299.000000</td>\n",
       "    </tr>\n",
       "    <tr>\n",
       "      <th id=\"T_1705b_level0_row3\" class=\"row_heading level0 row3\" >3</th>\n",
       "      <td id=\"T_1705b_row3_col0\" class=\"data row3 col0\" >Duong Dong</td>\n",
       "      <td id=\"T_1705b_row3_col1\" class=\"data row3 col1\" >6264.000000</td>\n",
       "    </tr>\n",
       "    <tr>\n",
       "      <th id=\"T_1705b_level0_row4\" class=\"row_heading level0 row4\" >4</th>\n",
       "      <td id=\"T_1705b_row4_col0\" class=\"data row4 col0\" >Taipei</td>\n",
       "      <td id=\"T_1705b_row4_col1\" class=\"data row4 col1\" >6080.000000</td>\n",
       "    </tr>\n",
       "    <tr>\n",
       "      <th id=\"T_1705b_level0_row5\" class=\"row_heading level0 row5\" >5</th>\n",
       "      <td id=\"T_1705b_row5_col0\" class=\"data row5 col0\" >Port Louis</td>\n",
       "      <td id=\"T_1705b_row5_col1\" class=\"data row5 col1\" >6053.000000</td>\n",
       "    </tr>\n",
       "    <tr>\n",
       "      <th id=\"T_1705b_level0_row6\" class=\"row_heading level0 row6\" >6</th>\n",
       "      <td id=\"T_1705b_row6_col0\" class=\"data row6 col0\" >Rayong</td>\n",
       "      <td id=\"T_1705b_row6_col1\" class=\"data row6 col1\" >6008.000000</td>\n",
       "    </tr>\n",
       "    <tr>\n",
       "      <th id=\"T_1705b_level0_row7\" class=\"row_heading level0 row7\" >7</th>\n",
       "      <td id=\"T_1705b_row7_col0\" class=\"data row7 col0\" >Cape Town</td>\n",
       "      <td id=\"T_1705b_row7_col1\" class=\"data row7 col1\" >5987.000000</td>\n",
       "    </tr>\n",
       "    <tr>\n",
       "      <th id=\"T_1705b_level0_row8\" class=\"row_heading level0 row8\" >8</th>\n",
       "      <td id=\"T_1705b_row8_col0\" class=\"data row8 col0\" >Hong Kong</td>\n",
       "      <td id=\"T_1705b_row8_col1\" class=\"data row8 col1\" >5982.000000</td>\n",
       "    </tr>\n",
       "    <tr>\n",
       "      <th id=\"T_1705b_level0_row9\" class=\"row_heading level0 row9\" >9</th>\n",
       "      <td id=\"T_1705b_row9_col0\" class=\"data row9 col0\" >Shanghai</td>\n",
       "      <td id=\"T_1705b_row9_col1\" class=\"data row9 col1\" >5745.000000</td>\n",
       "    </tr>\n",
       "  </tbody>\n",
       "</table>\n"
      ],
      "text/plain": [
       "<pandas.io.formats.style.Styler at 0x11f55e350>"
      ]
     },
     "execution_count": 72,
     "metadata": {},
     "output_type": "execute_result"
    }
   ],
   "source": [
    "?[city, dist] := *route{fr: 'LGW', to, dist},\n",
    "                 *airport{code: to, city}\n",
    ":order -dist\n",
    ":limit 10"
   ]
  },
  {
   "cell_type": "markdown",
   "id": "121df2dd-1926-47eb-80d3-c90fe56b253d",
   "metadata": {},
   "source": [
    "What airports are within 0.1 degrees of the Greenwich meridian?"
   ]
  },
  {
   "cell_type": "code",
   "execution_count": 73,
   "id": "5ac6dee6-c475-4db9-824d-2cbcc774aa23",
   "metadata": {},
   "outputs": [
    {
     "data": {
      "text/html": [
       "<style type=\"text/css\">\n",
       "#T_1869f_row0_col0, #T_1869f_row0_col1, #T_1869f_row1_col0, #T_1869f_row1_col1, #T_1869f_row2_col0, #T_1869f_row2_col1, #T_1869f_row3_col0, #T_1869f_row3_col1 {\n",
       "  color: black;\n",
       "}\n",
       "#T_1869f_row0_col2, #T_1869f_row0_col3, #T_1869f_row1_col2, #T_1869f_row1_col3, #T_1869f_row2_col2, #T_1869f_row2_col3, #T_1869f_row3_col2, #T_1869f_row3_col3 {\n",
       "  color: #307fc1;\n",
       "}\n",
       "</style>\n",
       "<table id=\"T_1869f\">\n",
       "  <thead>\n",
       "    <tr>\n",
       "      <th class=\"blank level0\" >&nbsp;</th>\n",
       "      <th id=\"T_1869f_level0_col0\" class=\"col_heading level0 col0\" >code</th>\n",
       "      <th id=\"T_1869f_level0_col1\" class=\"col_heading level0 col1\" >desc</th>\n",
       "      <th id=\"T_1869f_level0_col2\" class=\"col_heading level0 col2\" >lon</th>\n",
       "      <th id=\"T_1869f_level0_col3\" class=\"col_heading level0 col3\" >lat</th>\n",
       "    </tr>\n",
       "  </thead>\n",
       "  <tbody>\n",
       "    <tr>\n",
       "      <th id=\"T_1869f_level0_row0\" class=\"row_heading level0 row0\" >0</th>\n",
       "      <td id=\"T_1869f_row0_col0\" class=\"data row0 col0\" >CDT</td>\n",
       "      <td id=\"T_1869f_row0_col1\" class=\"data row0 col1\" >Castellon De La Plana Airport</td>\n",
       "      <td id=\"T_1869f_row0_col2\" class=\"data row0 col2\" >0.026111</td>\n",
       "      <td id=\"T_1869f_row0_col3\" class=\"data row0 col3\" >39.999199</td>\n",
       "    </tr>\n",
       "    <tr>\n",
       "      <th id=\"T_1869f_level0_row1\" class=\"row_heading level0 row1\" >1</th>\n",
       "      <td id=\"T_1869f_row1_col0\" class=\"data row1 col0\" >LCY</td>\n",
       "      <td id=\"T_1869f_row1_col1\" class=\"data row1 col1\" >London City Airport</td>\n",
       "      <td id=\"T_1869f_row1_col2\" class=\"data row1 col2\" >0.055278</td>\n",
       "      <td id=\"T_1869f_row1_col3\" class=\"data row1 col3\" >51.505278</td>\n",
       "    </tr>\n",
       "    <tr>\n",
       "      <th id=\"T_1869f_level0_row2\" class=\"row_heading level0 row2\" >2</th>\n",
       "      <td id=\"T_1869f_row2_col0\" class=\"data row2 col0\" >LDE</td>\n",
       "      <td id=\"T_1869f_row2_col1\" class=\"data row2 col1\" >Tarbes-Lourdes-Pyrénées Airport</td>\n",
       "      <td id=\"T_1869f_row2_col2\" class=\"data row2 col2\" >-0.006439</td>\n",
       "      <td id=\"T_1869f_row2_col3\" class=\"data row2 col3\" >43.178699</td>\n",
       "    </tr>\n",
       "    <tr>\n",
       "      <th id=\"T_1869f_level0_row3\" class=\"row_heading level0 row3\" >3</th>\n",
       "      <td id=\"T_1869f_row3_col0\" class=\"data row3 col0\" >LEH</td>\n",
       "      <td id=\"T_1869f_row3_col1\" class=\"data row3 col1\" >Le Havre Octeville Airport</td>\n",
       "      <td id=\"T_1869f_row3_col2\" class=\"data row3 col2\" >0.088056</td>\n",
       "      <td id=\"T_1869f_row3_col3\" class=\"data row3 col3\" >49.533901</td>\n",
       "    </tr>\n",
       "  </tbody>\n",
       "</table>\n"
      ],
      "text/plain": [
       "<pandas.io.formats.style.Styler at 0x11f54cd00>"
      ]
     },
     "execution_count": 73,
     "metadata": {},
     "output_type": "execute_result"
    }
   ],
   "source": [
    "?[code, desc, lon, lat] := *airport{lon, lat, code, desc}, lon > -0.1, lon < 0.1"
   ]
  },
  {
   "cell_type": "markdown",
   "id": "015a1743-edd4-490d-b02f-462fa2506bed",
   "metadata": {},
   "source": [
    "Airports in a box drawn around London Heathrow, UK:"
   ]
  },
  {
   "cell_type": "code",
   "execution_count": 74,
   "id": "9ced92e0-ced4-4e55-a547-c8b06fa50756",
   "metadata": {},
   "outputs": [
    {
     "data": {
      "text/html": [
       "<style type=\"text/css\">\n",
       "#T_3b349_row0_col0, #T_3b349_row0_col1, #T_3b349_row1_col0, #T_3b349_row1_col1, #T_3b349_row2_col0, #T_3b349_row2_col1, #T_3b349_row3_col0, #T_3b349_row3_col1, #T_3b349_row4_col0, #T_3b349_row4_col1, #T_3b349_row5_col0, #T_3b349_row5_col1 {\n",
       "  color: black;\n",
       "}\n",
       "</style>\n",
       "<table id=\"T_3b349\">\n",
       "  <thead>\n",
       "    <tr>\n",
       "      <th class=\"blank level0\" >&nbsp;</th>\n",
       "      <th id=\"T_3b349_level0_col0\" class=\"col_heading level0 col0\" >code</th>\n",
       "      <th id=\"T_3b349_level0_col1\" class=\"col_heading level0 col1\" >desc</th>\n",
       "    </tr>\n",
       "  </thead>\n",
       "  <tbody>\n",
       "    <tr>\n",
       "      <th id=\"T_3b349_level0_row0\" class=\"row_heading level0 row0\" >0</th>\n",
       "      <td id=\"T_3b349_row0_col0\" class=\"data row0 col0\" >LCY</td>\n",
       "      <td id=\"T_3b349_row0_col1\" class=\"data row0 col1\" >London City Airport</td>\n",
       "    </tr>\n",
       "    <tr>\n",
       "      <th id=\"T_3b349_level0_row1\" class=\"row_heading level0 row1\" >1</th>\n",
       "      <td id=\"T_3b349_row1_col0\" class=\"data row1 col0\" >LGW</td>\n",
       "      <td id=\"T_3b349_row1_col1\" class=\"data row1 col1\" >London Gatwick</td>\n",
       "    </tr>\n",
       "    <tr>\n",
       "      <th id=\"T_3b349_level0_row2\" class=\"row_heading level0 row2\" >2</th>\n",
       "      <td id=\"T_3b349_row2_col0\" class=\"data row2 col0\" >LHR</td>\n",
       "      <td id=\"T_3b349_row2_col1\" class=\"data row2 col1\" >London Heathrow</td>\n",
       "    </tr>\n",
       "    <tr>\n",
       "      <th id=\"T_3b349_level0_row3\" class=\"row_heading level0 row3\" >3</th>\n",
       "      <td id=\"T_3b349_row3_col0\" class=\"data row3 col0\" >LTN</td>\n",
       "      <td id=\"T_3b349_row3_col1\" class=\"data row3 col1\" >London Luton Airport</td>\n",
       "    </tr>\n",
       "    <tr>\n",
       "      <th id=\"T_3b349_level0_row4\" class=\"row_heading level0 row4\" >4</th>\n",
       "      <td id=\"T_3b349_row4_col0\" class=\"data row4 col0\" >SOU</td>\n",
       "      <td id=\"T_3b349_row4_col1\" class=\"data row4 col1\" >Southampton Airport</td>\n",
       "    </tr>\n",
       "    <tr>\n",
       "      <th id=\"T_3b349_level0_row5\" class=\"row_heading level0 row5\" >5</th>\n",
       "      <td id=\"T_3b349_row5_col0\" class=\"data row5 col0\" >STN</td>\n",
       "      <td id=\"T_3b349_row5_col1\" class=\"data row5 col1\" >London Stansted Airport</td>\n",
       "    </tr>\n",
       "  </tbody>\n",
       "</table>\n"
      ],
      "text/plain": [
       "<pandas.io.formats.style.Styler at 0x11f54c8e0>"
      ]
     },
     "execution_count": 74,
     "metadata": {},
     "output_type": "execute_result"
    }
   ],
   "source": [
    "h_box[lon, lat] := *airport{code: 'LHR', lon, lat}\n",
    "?[code, desc] := h_box[lhr_lon, lhr_lat], *airport{code, lon, lat, desc},\n",
    "                 abs(lhr_lon - lon) < 1, abs(lhr_lat - lat) < 1"
   ]
  },
  {
   "cell_type": "markdown",
   "id": "20046b0e-cd8f-4de6-8f87-a49dcc8b8f7f",
   "metadata": {},
   "source": [
    "For some spherical geometry: what is the angle subtended by SFO and NRT on the surface of the earth?"
   ]
  },
  {
   "cell_type": "code",
   "execution_count": 75,
   "id": "6d133cc5-23cb-47c6-9cc0-2c6bebf049eb",
   "metadata": {},
   "outputs": [
    {
     "data": {
      "text/html": [
       "<style type=\"text/css\">\n",
       "#T_1677f_row0_col0 {\n",
       "  color: #307fc1;\n",
       "}\n",
       "</style>\n",
       "<table id=\"T_1677f\">\n",
       "  <thead>\n",
       "    <tr>\n",
       "      <th class=\"blank level0\" >&nbsp;</th>\n",
       "      <th id=\"T_1677f_level0_col0\" class=\"col_heading level0 col0\" >deg_diff</th>\n",
       "    </tr>\n",
       "  </thead>\n",
       "  <tbody>\n",
       "    <tr>\n",
       "      <th id=\"T_1677f_level0_row0\" class=\"row_heading level0 row0\" >0</th>\n",
       "      <td id=\"T_1677f_row0_col0\" class=\"data row0 col0\" >73.992112</td>\n",
       "    </tr>\n",
       "  </tbody>\n",
       "</table>\n"
      ],
      "text/plain": [
       "<pandas.io.formats.style.Styler at 0x11f57f4c0>"
      ]
     },
     "execution_count": 75,
     "metadata": {},
     "output_type": "execute_result"
    }
   ],
   "source": [
    "?[deg_diff] := *airport{code: 'SFO', lat: a_lat, lon: a_lon},\n",
    "               *airport{code: 'NRT', lat: b_lat, lon: b_lon},\n",
    "               deg_diff = rad_to_deg(haversine_deg_input(a_lat, a_lon, b_lat, b_lon))"
   ]
  },
  {
   "cell_type": "markdown",
   "id": "184bc863-b2a7-4dd3-9d27-648315098ec8",
   "metadata": {},
   "source": [
    "We mentioned before that aggregations in Cozo are powerful. They are powerful because they can be used in recursions (some restrictions apply).\n",
    "\n",
    "Let's find the distance of the _shortest route_ between two airports. One wayis to enumerate all the routes between the two airports, and then apply `min` aggregation to the results. This cannot be implemented as stated, since the routes may contain cycles and hence there can be an infinite number of routes between two airports.\n",
    "\n",
    "Instead, think recursively. If we already have all the shortest routes between all nodes, we derive an _equation_ satisfied by the shortest route: the shortest route between `a` and `b` is either the distance of a direct route, or the sum of the shortest distance from `a` to `c` and the distance of a direct route from `c` to `d`. We apply our `min` aggregation to this recursive set instead.\n",
    "\n",
    "Write it out and it works. For exmaple, the shortest routes between the airports `LHR` and `YPO`:"
   ]
  },
  {
   "cell_type": "code",
   "execution_count": 76,
   "id": "207a6e99-1e4a-466d-9492-859a680d9207",
   "metadata": {},
   "outputs": [
    {
     "data": {
      "text/html": [
       "<style type=\"text/css\">\n",
       "#T_901b9_row0_col0 {\n",
       "  color: #307fc1;\n",
       "}\n",
       "</style>\n",
       "<table id=\"T_901b9\">\n",
       "  <thead>\n",
       "    <tr>\n",
       "      <th class=\"blank level0\" >&nbsp;</th>\n",
       "      <th id=\"T_901b9_level0_col0\" class=\"col_heading level0 col0\" >dist</th>\n",
       "    </tr>\n",
       "  </thead>\n",
       "  <tbody>\n",
       "    <tr>\n",
       "      <th id=\"T_901b9_level0_row0\" class=\"row_heading level0 row0\" >0</th>\n",
       "      <td id=\"T_901b9_row0_col0\" class=\"data row0 col0\" >4147.000000</td>\n",
       "    </tr>\n",
       "  </tbody>\n",
       "</table>\n"
      ],
      "text/plain": [
       "<pandas.io.formats.style.Styler at 0x11f57f580>"
      ]
     },
     "execution_count": 76,
     "metadata": {},
     "output_type": "execute_result"
    }
   ],
   "source": [
    "shortest[b, min(dist)] := *route{fr: 'LHR', to: b, dist} \n",
    "                          # Start with the airport 'LHR', retrieve a direct route from 'LHR' to b\n",
    "\n",
    "shortest[b, min(dist)] := shortest[c, d1], # Start with an existing shortest route from 'LHR' to c\n",
    "                          *route{fr: c, to: b, dist: d2},  # Retrieve a direct route from c to b\n",
    "                          dist = d1 + d2 # Add the distances\n",
    "\n",
    "?[dist] := shortest['YPO', dist] # Extract the answer for 'YPO'. \n",
    "                                 # We chose it since it is the hardest airport to get to from 'LHR'."
   ]
  },
  {
   "cell_type": "markdown",
   "id": "5cd04dfe-6487-4c55-8580-6a5bd7f605a2",
   "metadata": {},
   "source": [
    "There is a caveat when you try to write similar queries. Say you try to write it in the following way (don't try to run it):\n",
    "\n",
    "```python\n",
    "shortest[a, b, min(dist)] := *route{fr: a, to: b, dist} \n",
    "shortest[a, b, min(dist)] := shortest[a, c, d1],\n",
    "                          *route{fr: c, to: b, dist: d2},\n",
    "                          dist = d1 + d2\n",
    "\n",
    "?[dist] := shortest['LHR', 'YPO', dist]\n",
    "```\n",
    "\n",
    "You will find that the query does not complete in a reasonable amount of time, despite it being equivalent to the original query. Why?\n",
    "\n",
    "In the changed query, you are asking the database to compute the all-pair shortest path, and then extract the answer to a particular shortest path. Normally Cozo would apply a technique called _magic set rewrite_ so that only the needed answer would be calculated. However, in the changed query the presence of the aggregation operator `min` prevents that. In this case, applying the rewrite to the variable `a` would still yield the correct answer, but rewriting in any other way would give complete nonsense, and in the more general case with recursive aggregations this is a can of worms.\n",
    "\n",
    "So as explained in the [manual](https://cozodb.github.io/current/manual/execution.html#magic-set-rewrites), magic set rewrites are only applied to rules without aggregations or recursions for the moment, until we are sure of the exact conditions under which the rewrites are safe. So for now at least the database executes the query as written, computing the result of the `shortest` rule containing more than ten million rows (to be exact, 3700 * 3700 = 13,690,000 rows) first!\n",
    "\n",
    "The bottom line is, be mindful of the cardinality of the return sets of recursive rules."
   ]
  },
  {
   "cell_type": "markdown",
   "id": "73d28120-ee91-4893-a796-6cddec3426ad",
   "metadata": {},
   "source": [
    "### A tour of graph algorithms\n",
    "\n",
    "Now let's investigate the graph using some graph algorithms.\n",
    "As we have mentioned before, the Cozo running in browsers through WASM does not have\n",
    "the graph algorithms module enabled, so to run the following examples you will \n",
    "need to use some other implementation (for example, [the Python one](https://github.com/cozodb/pycozo)).\n",
    "\n",
    "Since path-finding is such a common operation on graphs, Cozo has several fixed rules for that:"
   ]
  },
  {
   "cell_type": "code",
   "execution_count": 77,
   "id": "e1d8328f-87e5-4884-9f77-f6379c46465b",
   "metadata": {},
   "outputs": [
    {
     "data": {
      "text/html": [
       "<style type=\"text/css\">\n",
       "#T_06422_row0_col0, #T_06422_row0_col1 {\n",
       "  color: black;\n",
       "}\n",
       "#T_06422_row0_col2 {\n",
       "  color: #307fc1;\n",
       "}\n",
       "#T_06422_row0_col3 {\n",
       "  color: #bf5b3d;\n",
       "}\n",
       "</style>\n",
       "<table id=\"T_06422\">\n",
       "  <thead>\n",
       "    <tr>\n",
       "      <th class=\"blank level0\" >&nbsp;</th>\n",
       "      <th id=\"T_06422_level0_col0\" class=\"col_heading level0 col0\" >starting</th>\n",
       "      <th id=\"T_06422_level0_col1\" class=\"col_heading level0 col1\" >goal</th>\n",
       "      <th id=\"T_06422_level0_col2\" class=\"col_heading level0 col2\" >distance</th>\n",
       "      <th id=\"T_06422_level0_col3\" class=\"col_heading level0 col3\" >path</th>\n",
       "    </tr>\n",
       "  </thead>\n",
       "  <tbody>\n",
       "    <tr>\n",
       "      <th id=\"T_06422_level0_row0\" class=\"row_heading level0 row0\" >0</th>\n",
       "      <td id=\"T_06422_row0_col0\" class=\"data row0 col0\" >LHR</td>\n",
       "      <td id=\"T_06422_row0_col1\" class=\"data row0 col1\" >YPO</td>\n",
       "      <td id=\"T_06422_row0_col2\" class=\"data row0 col2\" >4147.000000</td>\n",
       "      <td id=\"T_06422_row0_col3\" class=\"data row0 col3\" >['LHR', 'YUL', 'YVO', 'YKQ', 'YMO', 'YFA', 'ZKE', 'YAT', 'YPO']</td>\n",
       "    </tr>\n",
       "  </tbody>\n",
       "</table>\n"
      ],
      "text/plain": [
       "<pandas.io.formats.style.Styler at 0x11f57d390>"
      ]
     },
     "execution_count": 77,
     "metadata": {},
     "output_type": "execute_result"
    }
   ],
   "source": [
    "starting[] <- [['LHR']]\n",
    "goal[] <- [['YPO']]\n",
    "?[starting, goal, distance, path] <~ ShortestPathDijkstra(*route[], starting[], goal[])"
   ]
  },
  {
   "cell_type": "markdown",
   "id": "af89a4d7-2260-466c-a119-bb0ae0a84ebf",
   "metadata": {},
   "source": [
    "Not only is it more efficient, but we also get a path for the shortest route.\n",
    "\n",
    "Not content with the shortest path, the following calculates ten the shortest paths:"
   ]
  },
  {
   "cell_type": "code",
   "execution_count": 78,
   "id": "050a7fe1-9b6f-4cc8-96b7-9cebac55bdbb",
   "metadata": {},
   "outputs": [
    {
     "data": {
      "text/html": [
       "<style type=\"text/css\">\n",
       "#T_8112c_row0_col0, #T_8112c_row0_col1, #T_8112c_row1_col0, #T_8112c_row1_col1, #T_8112c_row2_col0, #T_8112c_row2_col1, #T_8112c_row3_col0, #T_8112c_row3_col1, #T_8112c_row4_col0, #T_8112c_row4_col1, #T_8112c_row5_col0, #T_8112c_row5_col1, #T_8112c_row6_col0, #T_8112c_row6_col1, #T_8112c_row7_col0, #T_8112c_row7_col1, #T_8112c_row8_col0, #T_8112c_row8_col1, #T_8112c_row9_col0, #T_8112c_row9_col1 {\n",
       "  color: black;\n",
       "}\n",
       "#T_8112c_row0_col2, #T_8112c_row1_col2, #T_8112c_row2_col2, #T_8112c_row3_col2, #T_8112c_row4_col2, #T_8112c_row5_col2, #T_8112c_row6_col2, #T_8112c_row7_col2, #T_8112c_row8_col2, #T_8112c_row9_col2 {\n",
       "  color: #307fc1;\n",
       "}\n",
       "#T_8112c_row0_col3, #T_8112c_row1_col3, #T_8112c_row2_col3, #T_8112c_row3_col3, #T_8112c_row4_col3, #T_8112c_row5_col3, #T_8112c_row6_col3, #T_8112c_row7_col3, #T_8112c_row8_col3, #T_8112c_row9_col3 {\n",
       "  color: #bf5b3d;\n",
       "}\n",
       "</style>\n",
       "<table id=\"T_8112c\">\n",
       "  <thead>\n",
       "    <tr>\n",
       "      <th class=\"blank level0\" >&nbsp;</th>\n",
       "      <th id=\"T_8112c_level0_col0\" class=\"col_heading level0 col0\" >starting</th>\n",
       "      <th id=\"T_8112c_level0_col1\" class=\"col_heading level0 col1\" >goal</th>\n",
       "      <th id=\"T_8112c_level0_col2\" class=\"col_heading level0 col2\" >distance</th>\n",
       "      <th id=\"T_8112c_level0_col3\" class=\"col_heading level0 col3\" >path</th>\n",
       "    </tr>\n",
       "  </thead>\n",
       "  <tbody>\n",
       "    <tr>\n",
       "      <th id=\"T_8112c_level0_row0\" class=\"row_heading level0 row0\" >0</th>\n",
       "      <td id=\"T_8112c_row0_col0\" class=\"data row0 col0\" >LHR</td>\n",
       "      <td id=\"T_8112c_row0_col1\" class=\"data row0 col1\" >YPO</td>\n",
       "      <td id=\"T_8112c_row0_col2\" class=\"data row0 col2\" >4147.000000</td>\n",
       "      <td id=\"T_8112c_row0_col3\" class=\"data row0 col3\" >['LHR', 'YUL', 'YVO', 'YKQ', 'YMO', 'YFA', 'ZKE', 'YAT', 'YPO']</td>\n",
       "    </tr>\n",
       "    <tr>\n",
       "      <th id=\"T_8112c_level0_row1\" class=\"row_heading level0 row1\" >1</th>\n",
       "      <td id=\"T_8112c_row1_col0\" class=\"data row1 col0\" >LHR</td>\n",
       "      <td id=\"T_8112c_row1_col1\" class=\"data row1 col1\" >YPO</td>\n",
       "      <td id=\"T_8112c_row1_col2\" class=\"data row1 col2\" >4150.000000</td>\n",
       "      <td id=\"T_8112c_row1_col3\" class=\"data row1 col3\" >['LHR', 'DUB', 'YUL', 'YVO', 'YKQ', 'YMO', 'YFA', 'ZKE', 'YAT', 'YPO']</td>\n",
       "    </tr>\n",
       "    <tr>\n",
       "      <th id=\"T_8112c_level0_row2\" class=\"row_heading level0 row2\" >2</th>\n",
       "      <td id=\"T_8112c_row2_col0\" class=\"data row2 col0\" >LHR</td>\n",
       "      <td id=\"T_8112c_row2_col1\" class=\"data row2 col1\" >YPO</td>\n",
       "      <td id=\"T_8112c_row2_col2\" class=\"data row2 col2\" >4164.000000</td>\n",
       "      <td id=\"T_8112c_row2_col3\" class=\"data row2 col3\" >['LHR', 'YUL', 'YMT', 'YKQ', 'YMO', 'YFA', 'ZKE', 'YAT', 'YPO']</td>\n",
       "    </tr>\n",
       "    <tr>\n",
       "      <th id=\"T_8112c_level0_row3\" class=\"row_heading level0 row3\" >3</th>\n",
       "      <td id=\"T_8112c_row3_col0\" class=\"data row3 col0\" >LHR</td>\n",
       "      <td id=\"T_8112c_row3_col1\" class=\"data row3 col1\" >YPO</td>\n",
       "      <td id=\"T_8112c_row3_col2\" class=\"data row3 col2\" >4167.000000</td>\n",
       "      <td id=\"T_8112c_row3_col3\" class=\"data row3 col3\" >['LHR', 'DUB', 'YUL', 'YMT', 'YKQ', 'YMO', 'YFA', 'ZKE', 'YAT', 'YPO']</td>\n",
       "    </tr>\n",
       "    <tr>\n",
       "      <th id=\"T_8112c_level0_row4\" class=\"row_heading level0 row4\" >4</th>\n",
       "      <td id=\"T_8112c_row4_col0\" class=\"data row4 col0\" >LHR</td>\n",
       "      <td id=\"T_8112c_row4_col1\" class=\"data row4 col1\" >YPO</td>\n",
       "      <td id=\"T_8112c_row4_col2\" class=\"data row4 col2\" >4187.000000</td>\n",
       "      <td id=\"T_8112c_row4_col3\" class=\"data row4 col3\" >['LHR', 'MAN', 'DUB', 'YUL', 'YVO', 'YKQ', 'YMO', 'YFA', 'ZKE', 'YAT', 'YPO']</td>\n",
       "    </tr>\n",
       "    <tr>\n",
       "      <th id=\"T_8112c_level0_row5\" class=\"row_heading level0 row5\" >5</th>\n",
       "      <td id=\"T_8112c_row5_col0\" class=\"data row5 col0\" >LHR</td>\n",
       "      <td id=\"T_8112c_row5_col1\" class=\"data row5 col1\" >YPO</td>\n",
       "      <td id=\"T_8112c_row5_col2\" class=\"data row5 col2\" >4202.000000</td>\n",
       "      <td id=\"T_8112c_row5_col3\" class=\"data row5 col3\" >['LHR', 'IOM', 'DUB', 'YUL', 'YVO', 'YKQ', 'YMO', 'YFA', 'ZKE', 'YAT', 'YPO']</td>\n",
       "    </tr>\n",
       "    <tr>\n",
       "      <th id=\"T_8112c_level0_row6\" class=\"row_heading level0 row6\" >6</th>\n",
       "      <td id=\"T_8112c_row6_col0\" class=\"data row6 col0\" >LHR</td>\n",
       "      <td id=\"T_8112c_row6_col1\" class=\"data row6 col1\" >YPO</td>\n",
       "      <td id=\"T_8112c_row6_col2\" class=\"data row6 col2\" >4204.000000</td>\n",
       "      <td id=\"T_8112c_row6_col3\" class=\"data row6 col3\" >['LHR', 'MAN', 'DUB', 'YUL', 'YMT', 'YKQ', 'YMO', 'YFA', 'ZKE', 'YAT', 'YPO']</td>\n",
       "    </tr>\n",
       "    <tr>\n",
       "      <th id=\"T_8112c_level0_row7\" class=\"row_heading level0 row7\" >7</th>\n",
       "      <td id=\"T_8112c_row7_col0\" class=\"data row7 col0\" >LHR</td>\n",
       "      <td id=\"T_8112c_row7_col1\" class=\"data row7 col1\" >YPO</td>\n",
       "      <td id=\"T_8112c_row7_col2\" class=\"data row7 col2\" >4209.000000</td>\n",
       "      <td id=\"T_8112c_row7_col3\" class=\"data row7 col3\" >['LHR', 'YUL', 'YMT', 'YNS', 'YKQ', 'YMO', 'YFA', 'ZKE', 'YAT', 'YPO']</td>\n",
       "    </tr>\n",
       "    <tr>\n",
       "      <th id=\"T_8112c_level0_row8\" class=\"row_heading level0 row8\" >8</th>\n",
       "      <td id=\"T_8112c_row8_col0\" class=\"data row8 col0\" >LHR</td>\n",
       "      <td id=\"T_8112c_row8_col1\" class=\"data row8 col1\" >YPO</td>\n",
       "      <td id=\"T_8112c_row8_col2\" class=\"data row8 col2\" >4211.000000</td>\n",
       "      <td id=\"T_8112c_row8_col3\" class=\"data row8 col3\" >['LHR', 'MAN', 'IOM', 'DUB', 'YUL', 'YVO', 'YKQ', 'YMO', 'YFA', 'ZKE', 'YAT', 'YPO']</td>\n",
       "    </tr>\n",
       "    <tr>\n",
       "      <th id=\"T_8112c_level0_row9\" class=\"row_heading level0 row9\" >9</th>\n",
       "      <td id=\"T_8112c_row9_col0\" class=\"data row9 col0\" >LHR</td>\n",
       "      <td id=\"T_8112c_row9_col1\" class=\"data row9 col1\" >YPO</td>\n",
       "      <td id=\"T_8112c_row9_col2\" class=\"data row9 col2\" >4212.000000</td>\n",
       "      <td id=\"T_8112c_row9_col3\" class=\"data row9 col3\" >['LHR', 'DUB', 'YUL', 'YMT', 'YNS', 'YKQ', 'YMO', 'YFA', 'ZKE', 'YAT', 'YPO']</td>\n",
       "    </tr>\n",
       "  </tbody>\n",
       "</table>\n"
      ],
      "text/plain": [
       "<pandas.io.formats.style.Styler at 0x11f57f8b0>"
      ]
     },
     "execution_count": 78,
     "metadata": {},
     "output_type": "execute_result"
    }
   ],
   "source": [
    "starting[] <- [['LHR']]\n",
    "goal[] <- [['YPO']]\n",
    "?[starting, goal, distance, path] <~ KShortestPathYen(*route[], starting[], goal[], k: 10)"
   ]
  },
  {
   "cell_type": "markdown",
   "id": "5b3a398d-95ee-4e4f-91a7-5c95f82c8bd3",
   "metadata": {},
   "source": [
    "If efficiency is really important to you, you can use the A* algorithm with a good heuristic function:"
   ]
  },
  {
   "cell_type": "code",
   "execution_count": 79,
   "id": "311a46cf-ba33-483a-ae60-c9a4ff2a071b",
   "metadata": {},
   "outputs": [
    {
     "data": {
      "text/html": [
       "<style type=\"text/css\">\n",
       "#T_9ae30_row0_col0, #T_9ae30_row0_col1 {\n",
       "  color: black;\n",
       "}\n",
       "#T_9ae30_row0_col2 {\n",
       "  color: #307fc1;\n",
       "}\n",
       "#T_9ae30_row0_col3 {\n",
       "  color: #bf5b3d;\n",
       "}\n",
       "</style>\n",
       "<table id=\"T_9ae30\">\n",
       "  <thead>\n",
       "    <tr>\n",
       "      <th class=\"blank level0\" >&nbsp;</th>\n",
       "      <th id=\"T_9ae30_level0_col0\" class=\"col_heading level0 col0\" >_0</th>\n",
       "      <th id=\"T_9ae30_level0_col1\" class=\"col_heading level0 col1\" >_1</th>\n",
       "      <th id=\"T_9ae30_level0_col2\" class=\"col_heading level0 col2\" >_2</th>\n",
       "      <th id=\"T_9ae30_level0_col3\" class=\"col_heading level0 col3\" >_3</th>\n",
       "    </tr>\n",
       "  </thead>\n",
       "  <tbody>\n",
       "    <tr>\n",
       "      <th id=\"T_9ae30_level0_row0\" class=\"row_heading level0 row0\" >0</th>\n",
       "      <td id=\"T_9ae30_row0_col0\" class=\"data row0 col0\" >LHR</td>\n",
       "      <td id=\"T_9ae30_row0_col1\" class=\"data row0 col1\" >YPO</td>\n",
       "      <td id=\"T_9ae30_row0_col2\" class=\"data row0 col2\" >4147.000000</td>\n",
       "      <td id=\"T_9ae30_row0_col3\" class=\"data row0 col3\" >['LHR', 'YUL', 'YVO', 'YKQ', 'YMO', 'YFA', 'ZKE', 'YAT', 'YPO']</td>\n",
       "    </tr>\n",
       "  </tbody>\n",
       "</table>\n"
      ],
      "text/plain": [
       "<pandas.io.formats.style.Styler at 0x11f57cca0>"
      ]
     },
     "execution_count": 79,
     "metadata": {},
     "output_type": "execute_result"
    }
   ],
   "source": [
    "code_lat_lon[code, lat, lon] := *airport{code, lat, lon}\n",
    "starting[code, lat, lon] := code = 'LHR', *airport{code, lat, lon};\n",
    "goal[code, lat, lon] := code = 'YPO', *airport{code, lat, lon};\n",
    "?[] <~ ShortestPathAStar(*route[], \n",
    "                         code_lat_lon[node, lat1, lon1], \n",
    "                         starting[], \n",
    "                         goal[goal, lat2, lon2], \n",
    "                         heuristic: haversine_deg_input(lat1, lon1, lat2, lon2) * 3963);"
   ]
  },
  {
   "cell_type": "markdown",
   "id": "18a35f6d-7d31-412d-9ab0-abb79655b0d9",
   "metadata": {},
   "source": [
    "There's a lot more setup required in this case: we need to retrieve the latitudes and longitudes of airports and do processing on them first.\n",
    "The number `3963` above is the radius of the earth in miles.\n",
    "\n",
    "The most important airports, by PageRank:"
   ]
  },
  {
   "cell_type": "code",
   "execution_count": 82,
   "id": "a42d018b-ba09-4e27-9b1a-e780ca0bcc1e",
   "metadata": {},
   "outputs": [
    {
     "data": {
      "text/html": [
       "<style type=\"text/css\">\n",
       "#T_52db1_row0_col0, #T_52db1_row0_col1, #T_52db1_row1_col0, #T_52db1_row1_col1, #T_52db1_row2_col0, #T_52db1_row2_col1, #T_52db1_row3_col0, #T_52db1_row3_col1, #T_52db1_row4_col0, #T_52db1_row4_col1, #T_52db1_row5_col0, #T_52db1_row5_col1, #T_52db1_row6_col0, #T_52db1_row6_col1, #T_52db1_row7_col0, #T_52db1_row7_col1, #T_52db1_row8_col0, #T_52db1_row8_col1, #T_52db1_row9_col0, #T_52db1_row9_col1 {\n",
       "  color: black;\n",
       "}\n",
       "#T_52db1_row0_col2, #T_52db1_row1_col2, #T_52db1_row2_col2, #T_52db1_row3_col2, #T_52db1_row4_col2, #T_52db1_row5_col2, #T_52db1_row6_col2, #T_52db1_row7_col2, #T_52db1_row8_col2, #T_52db1_row9_col2 {\n",
       "  color: #307fc1;\n",
       "}\n",
       "</style>\n",
       "<table id=\"T_52db1\">\n",
       "  <thead>\n",
       "    <tr>\n",
       "      <th class=\"blank level0\" >&nbsp;</th>\n",
       "      <th id=\"T_52db1_level0_col0\" class=\"col_heading level0 col0\" >code</th>\n",
       "      <th id=\"T_52db1_level0_col1\" class=\"col_heading level0 col1\" >desc</th>\n",
       "      <th id=\"T_52db1_level0_col2\" class=\"col_heading level0 col2\" >score</th>\n",
       "    </tr>\n",
       "  </thead>\n",
       "  <tbody>\n",
       "    <tr>\n",
       "      <th id=\"T_52db1_level0_row0\" class=\"row_heading level0 row0\" >0</th>\n",
       "      <td id=\"T_52db1_row0_col0\" class=\"data row0 col0\" >IST</td>\n",
       "      <td id=\"T_52db1_row0_col1\" class=\"data row0 col1\" >Istanbul International Airport</td>\n",
       "      <td id=\"T_52db1_row0_col2\" class=\"data row0 col2\" >0.004889</td>\n",
       "    </tr>\n",
       "    <tr>\n",
       "      <th id=\"T_52db1_level0_row1\" class=\"row_heading level0 row1\" >1</th>\n",
       "      <td id=\"T_52db1_row1_col0\" class=\"data row1 col0\" >DFW</td>\n",
       "      <td id=\"T_52db1_row1_col1\" class=\"data row1 col1\" >Dallas/Fort Worth International Airport</td>\n",
       "      <td id=\"T_52db1_row1_col2\" class=\"data row1 col2\" >0.004696</td>\n",
       "    </tr>\n",
       "    <tr>\n",
       "      <th id=\"T_52db1_level0_row2\" class=\"row_heading level0 row2\" >2</th>\n",
       "      <td id=\"T_52db1_row2_col0\" class=\"data row2 col0\" >ORD</td>\n",
       "      <td id=\"T_52db1_row2_col1\" class=\"data row2 col1\" >Chicago O'Hare International Airport</td>\n",
       "      <td id=\"T_52db1_row2_col2\" class=\"data row2 col2\" >0.004452</td>\n",
       "    </tr>\n",
       "    <tr>\n",
       "      <th id=\"T_52db1_level0_row3\" class=\"row_heading level0 row3\" >3</th>\n",
       "      <td id=\"T_52db1_row3_col0\" class=\"data row3 col0\" >DEN</td>\n",
       "      <td id=\"T_52db1_row3_col1\" class=\"data row3 col1\" >Denver International Airport</td>\n",
       "      <td id=\"T_52db1_row3_col2\" class=\"data row3 col2\" >0.004252</td>\n",
       "    </tr>\n",
       "    <tr>\n",
       "      <th id=\"T_52db1_level0_row4\" class=\"row_heading level0 row4\" >4</th>\n",
       "      <td id=\"T_52db1_row4_col0\" class=\"data row4 col0\" >PEK</td>\n",
       "      <td id=\"T_52db1_row4_col1\" class=\"data row4 col1\" >Beijing Capital International Airport</td>\n",
       "      <td id=\"T_52db1_row4_col2\" class=\"data row4 col2\" >0.004044</td>\n",
       "    </tr>\n",
       "    <tr>\n",
       "      <th id=\"T_52db1_level0_row5\" class=\"row_heading level0 row5\" >5</th>\n",
       "      <td id=\"T_52db1_row5_col0\" class=\"data row5 col0\" >FRA</td>\n",
       "      <td id=\"T_52db1_row5_col1\" class=\"data row5 col1\" >Frankfurt am Main</td>\n",
       "      <td id=\"T_52db1_row5_col2\" class=\"data row5 col2\" >0.004027</td>\n",
       "    </tr>\n",
       "    <tr>\n",
       "      <th id=\"T_52db1_level0_row6\" class=\"row_heading level0 row6\" >6</th>\n",
       "      <td id=\"T_52db1_row6_col0\" class=\"data row6 col0\" >ATL</td>\n",
       "      <td id=\"T_52db1_row6_col1\" class=\"data row6 col1\" >Hartsfield - Jackson Atlanta International Airport</td>\n",
       "      <td id=\"T_52db1_row6_col2\" class=\"data row6 col2\" >0.004022</td>\n",
       "    </tr>\n",
       "    <tr>\n",
       "      <th id=\"T_52db1_level0_row7\" class=\"row_heading level0 row7\" >7</th>\n",
       "      <td id=\"T_52db1_row7_col0\" class=\"data row7 col0\" >DXB</td>\n",
       "      <td id=\"T_52db1_row7_col1\" class=\"data row7 col1\" >Dubai International Airport</td>\n",
       "      <td id=\"T_52db1_row7_col2\" class=\"data row7 col2\" >0.004002</td>\n",
       "    </tr>\n",
       "    <tr>\n",
       "      <th id=\"T_52db1_level0_row8\" class=\"row_heading level0 row8\" >8</th>\n",
       "      <td id=\"T_52db1_row8_col0\" class=\"data row8 col0\" >CDG</td>\n",
       "      <td id=\"T_52db1_row8_col1\" class=\"data row8 col1\" >Paris Charles de Gaulle</td>\n",
       "      <td id=\"T_52db1_row8_col2\" class=\"data row8 col2\" >0.003998</td>\n",
       "    </tr>\n",
       "    <tr>\n",
       "      <th id=\"T_52db1_level0_row9\" class=\"row_heading level0 row9\" >9</th>\n",
       "      <td id=\"T_52db1_row9_col0\" class=\"data row9 col0\" >DME</td>\n",
       "      <td id=\"T_52db1_row9_col1\" class=\"data row9 col1\" >Moscow, Domodedovo International Airport</td>\n",
       "      <td id=\"T_52db1_row9_col2\" class=\"data row9 col2\" >0.003817</td>\n",
       "    </tr>\n",
       "  </tbody>\n",
       "</table>\n"
      ],
      "text/plain": [
       "<pandas.io.formats.style.Styler at 0x11f57c400>"
      ]
     },
     "execution_count": 82,
     "metadata": {},
     "output_type": "execute_result"
    }
   ],
   "source": [
    "rank[code, score] <~ PageRank(*route[a, b])\n",
    "?[code, desc, score] := rank[code, score], *airport{code, desc}\n",
    "\n",
    ":limit 10;\n",
    ":order -score"
   ]
  },
  {
   "cell_type": "markdown",
   "id": "c2be4f97-5173-456e-a0d9-b7cf99bf9786",
   "metadata": {},
   "source": [
    "The following example takes a long time to run since it calculates the betweenness centrality: up to a few seconds, depending on your machine.\n",
    "Algorithms for calculating the betweenness centrality have high complexity."
   ]
  },
  {
   "cell_type": "code",
   "execution_count": 83,
   "id": "aaad3658-f2c2-4dde-bfe4-9b52e2b3f589",
   "metadata": {},
   "outputs": [
    {
     "data": {
      "text/html": [
       "<style type=\"text/css\">\n",
       "#T_57877_row0_col0, #T_57877_row0_col1, #T_57877_row1_col0, #T_57877_row1_col1, #T_57877_row2_col0, #T_57877_row2_col1, #T_57877_row3_col0, #T_57877_row3_col1, #T_57877_row4_col0, #T_57877_row4_col1, #T_57877_row5_col0, #T_57877_row5_col1, #T_57877_row6_col0, #T_57877_row6_col1, #T_57877_row7_col0, #T_57877_row7_col1, #T_57877_row8_col0, #T_57877_row8_col1, #T_57877_row9_col0, #T_57877_row9_col1 {\n",
       "  color: black;\n",
       "}\n",
       "#T_57877_row0_col2, #T_57877_row1_col2, #T_57877_row2_col2, #T_57877_row3_col2, #T_57877_row4_col2, #T_57877_row5_col2, #T_57877_row6_col2, #T_57877_row7_col2, #T_57877_row8_col2, #T_57877_row9_col2 {\n",
       "  color: #307fc1;\n",
       "}\n",
       "</style>\n",
       "<table id=\"T_57877\">\n",
       "  <thead>\n",
       "    <tr>\n",
       "      <th class=\"blank level0\" >&nbsp;</th>\n",
       "      <th id=\"T_57877_level0_col0\" class=\"col_heading level0 col0\" >code</th>\n",
       "      <th id=\"T_57877_level0_col1\" class=\"col_heading level0 col1\" >desc</th>\n",
       "      <th id=\"T_57877_level0_col2\" class=\"col_heading level0 col2\" >score</th>\n",
       "    </tr>\n",
       "  </thead>\n",
       "  <tbody>\n",
       "    <tr>\n",
       "      <th id=\"T_57877_level0_row0\" class=\"row_heading level0 row0\" >0</th>\n",
       "      <td id=\"T_57877_row0_col0\" class=\"data row0 col0\" >ANC</td>\n",
       "      <td id=\"T_57877_row0_col1\" class=\"data row0 col1\" >Anchorage Ted Stevens</td>\n",
       "      <td id=\"T_57877_row0_col2\" class=\"data row0 col2\" >1074868.250000</td>\n",
       "    </tr>\n",
       "    <tr>\n",
       "      <th id=\"T_57877_level0_row1\" class=\"row_heading level0 row1\" >1</th>\n",
       "      <td id=\"T_57877_row1_col0\" class=\"data row1 col0\" >KEF</td>\n",
       "      <td id=\"T_57877_row1_col1\" class=\"data row1 col1\" >Reykjavik, Keflavik International Airport</td>\n",
       "      <td id=\"T_57877_row1_col2\" class=\"data row1 col2\" >928450.437500</td>\n",
       "    </tr>\n",
       "    <tr>\n",
       "      <th id=\"T_57877_level0_row2\" class=\"row_heading level0 row2\" >2</th>\n",
       "      <td id=\"T_57877_row2_col0\" class=\"data row2 col0\" >HEL</td>\n",
       "      <td id=\"T_57877_row2_col1\" class=\"data row2 col1\" >Helsinki Ventaa</td>\n",
       "      <td id=\"T_57877_row2_col2\" class=\"data row2 col2\" >581588.500000</td>\n",
       "    </tr>\n",
       "    <tr>\n",
       "      <th id=\"T_57877_level0_row3\" class=\"row_heading level0 row3\" >3</th>\n",
       "      <td id=\"T_57877_row3_col0\" class=\"data row3 col0\" >PEK</td>\n",
       "      <td id=\"T_57877_row3_col1\" class=\"data row3 col1\" >Beijing Capital International Airport</td>\n",
       "      <td id=\"T_57877_row3_col2\" class=\"data row3 col2\" >532021.062500</td>\n",
       "    </tr>\n",
       "    <tr>\n",
       "      <th id=\"T_57877_level0_row4\" class=\"row_heading level0 row4\" >4</th>\n",
       "      <td id=\"T_57877_row4_col0\" class=\"data row4 col0\" >DEL</td>\n",
       "      <td id=\"T_57877_row4_col1\" class=\"data row4 col1\" >Indira Gandhi International Airport</td>\n",
       "      <td id=\"T_57877_row4_col2\" class=\"data row4 col2\" >472979.968750</td>\n",
       "    </tr>\n",
       "    <tr>\n",
       "      <th id=\"T_57877_level0_row5\" class=\"row_heading level0 row5\" >5</th>\n",
       "      <td id=\"T_57877_row5_col0\" class=\"data row5 col0\" >IST</td>\n",
       "      <td id=\"T_57877_row5_col1\" class=\"data row5 col1\" >Istanbul International Airport</td>\n",
       "      <td id=\"T_57877_row5_col2\" class=\"data row5 col2\" >457882.156250</td>\n",
       "    </tr>\n",
       "    <tr>\n",
       "      <th id=\"T_57877_level0_row6\" class=\"row_heading level0 row6\" >6</th>\n",
       "      <td id=\"T_57877_row6_col0\" class=\"data row6 col0\" >PKC</td>\n",
       "      <td id=\"T_57877_row6_col1\" class=\"data row6 col1\" >Yelizovo Airport</td>\n",
       "      <td id=\"T_57877_row6_col2\" class=\"data row6 col2\" >408571.000000</td>\n",
       "    </tr>\n",
       "    <tr>\n",
       "      <th id=\"T_57877_level0_row7\" class=\"row_heading level0 row7\" >7</th>\n",
       "      <td id=\"T_57877_row7_col0\" class=\"data row7 col0\" >MSP</td>\n",
       "      <td id=\"T_57877_row7_col1\" class=\"data row7 col1\" >Minneapolis-St.Paul International Airport</td>\n",
       "      <td id=\"T_57877_row7_col2\" class=\"data row7 col2\" >396433.250000</td>\n",
       "    </tr>\n",
       "    <tr>\n",
       "      <th id=\"T_57877_level0_row8\" class=\"row_heading level0 row8\" >8</th>\n",
       "      <td id=\"T_57877_row8_col0\" class=\"data row8 col0\" >LAX</td>\n",
       "      <td id=\"T_57877_row8_col1\" class=\"data row8 col1\" >Los Angeles International Airport</td>\n",
       "      <td id=\"T_57877_row8_col2\" class=\"data row8 col2\" >393309.968750</td>\n",
       "    </tr>\n",
       "    <tr>\n",
       "      <th id=\"T_57877_level0_row9\" class=\"row_heading level0 row9\" >9</th>\n",
       "      <td id=\"T_57877_row9_col0\" class=\"data row9 col0\" >DEN</td>\n",
       "      <td id=\"T_57877_row9_col1\" class=\"data row9 col1\" >Denver International Airport</td>\n",
       "      <td id=\"T_57877_row9_col2\" class=\"data row9 col2\" >374339.531250</td>\n",
       "    </tr>\n",
       "  </tbody>\n",
       "</table>\n"
      ],
      "text/plain": [
       "<pandas.io.formats.style.Styler at 0x11f57e0e0>"
      ]
     },
     "execution_count": 83,
     "metadata": {},
     "output_type": "execute_result"
    }
   ],
   "source": [
    "centrality[code, score] <~ BetweennessCentrality(*route[a, b])\n",
    "?[code, desc, score] := centrality[code, score], *airport{code, desc}\n",
    "\n",
    ":limit 10;\n",
    ":order -score"
   ]
  },
  {
   "cell_type": "markdown",
   "id": "02ef7f3e-50c5-41bd-8879-17127a0369cc",
   "metadata": {},
   "source": [
    "These are the airports that, if disconnected from the network, cause the most disruption.\n",
    "As this example shows, some of the algorithms really struggle when you go beyond small or medium sized dataset.\n",
    "\n",
    "Community detection can collapse a graph into a _supergraph_.\n",
    "Here we store the result, since it has too many rows to display nicely:"
   ]
  },
  {
   "cell_type": "code",
   "execution_count": 84,
   "id": "4968276a-e871-409e-9470-987b10a73f9a",
   "metadata": {},
   "outputs": [
    {
     "data": {
      "text/html": [
       "<style type=\"text/css\">\n",
       "#T_8555d_row0_col0 {\n",
       "  color: black;\n",
       "}\n",
       "</style>\n",
       "<table id=\"T_8555d\">\n",
       "  <thead>\n",
       "    <tr>\n",
       "      <th class=\"blank level0\" >&nbsp;</th>\n",
       "      <th id=\"T_8555d_level0_col0\" class=\"col_heading level0 col0\" >status</th>\n",
       "    </tr>\n",
       "  </thead>\n",
       "  <tbody>\n",
       "    <tr>\n",
       "      <th id=\"T_8555d_level0_row0\" class=\"row_heading level0 row0\" >0</th>\n",
       "      <td id=\"T_8555d_row0_col0\" class=\"data row0 col0\" >OK</td>\n",
       "    </tr>\n",
       "  </tbody>\n",
       "</table>\n"
      ],
      "text/plain": [
       "<pandas.io.formats.style.Styler at 0x11f54f7c0>"
      ]
     },
     "execution_count": 84,
     "metadata": {},
     "output_type": "execute_result"
    }
   ],
   "source": [
    "community[detailed_cluster, code] <~ CommunityDetectionLouvain(*route[a, b])\n",
    "?[code, cluster, detailed_cluster] := community[detailed_cluster, code], cluster = first(detailed_cluster)\n",
    "\n",
    ":replace community {code => cluster, detailed_cluster}"
   ]
  },
  {
   "cell_type": "markdown",
   "id": "a315fd3f-326d-4376-907b-c5cf96191d5c",
   "metadata": {},
   "source": [
    "We can look at the supernodes containing specific nodes. For example, the supernode for London Gatwick consists of mainly UK and other European airports, as you would expect:"
   ]
  },
  {
   "cell_type": "code",
   "execution_count": 85,
   "id": "b41de092-a40d-463d-89f2-db3e62cbf93f",
   "metadata": {},
   "outputs": [
    {
     "data": {
      "text/html": [
       "<style type=\"text/css\">\n",
       "#T_07ac4_row0_col0, #T_07ac4_row1_col0, #T_07ac4_row2_col0, #T_07ac4_row3_col0, #T_07ac4_row4_col0 {\n",
       "  color: black;\n",
       "}\n",
       "#T_07ac4_row0_col1, #T_07ac4_row1_col1, #T_07ac4_row2_col1, #T_07ac4_row3_col1, #T_07ac4_row4_col1 {\n",
       "  color: #307fc1;\n",
       "}\n",
       "</style>\n",
       "<table id=\"T_07ac4\">\n",
       "  <thead>\n",
       "    <tr>\n",
       "      <th class=\"blank level0\" >&nbsp;</th>\n",
       "      <th id=\"T_07ac4_level0_col0\" class=\"col_heading level0 col0\" >country</th>\n",
       "      <th id=\"T_07ac4_level0_col1\" class=\"col_heading level0 col1\" >count(code)</th>\n",
       "    </tr>\n",
       "  </thead>\n",
       "  <tbody>\n",
       "    <tr>\n",
       "      <th id=\"T_07ac4_level0_row0\" class=\"row_heading level0 row0\" >0</th>\n",
       "      <td id=\"T_07ac4_row0_col0\" class=\"data row0 col0\" >United Kingdom</td>\n",
       "      <td id=\"T_07ac4_row0_col1\" class=\"data row0 col1\" >54</td>\n",
       "    </tr>\n",
       "    <tr>\n",
       "      <th id=\"T_07ac4_level0_row1\" class=\"row_heading level0 row1\" >1</th>\n",
       "      <td id=\"T_07ac4_row1_col0\" class=\"data row1 col0\" >France</td>\n",
       "      <td id=\"T_07ac4_row1_col1\" class=\"data row1 col1\" >50</td>\n",
       "    </tr>\n",
       "    <tr>\n",
       "      <th id=\"T_07ac4_level0_row2\" class=\"row_heading level0 row2\" >2</th>\n",
       "      <td id=\"T_07ac4_row2_col0\" class=\"data row2 col0\" >Norway</td>\n",
       "      <td id=\"T_07ac4_row2_col1\" class=\"data row2 col1\" >49</td>\n",
       "    </tr>\n",
       "    <tr>\n",
       "      <th id=\"T_07ac4_level0_row3\" class=\"row_heading level0 row3\" >3</th>\n",
       "      <td id=\"T_07ac4_row3_col0\" class=\"data row3 col0\" >Spain</td>\n",
       "      <td id=\"T_07ac4_row3_col1\" class=\"data row3 col1\" >40</td>\n",
       "    </tr>\n",
       "    <tr>\n",
       "      <th id=\"T_07ac4_level0_row4\" class=\"row_heading level0 row4\" >4</th>\n",
       "      <td id=\"T_07ac4_row4_col0\" class=\"data row4 col0\" >Greece</td>\n",
       "      <td id=\"T_07ac4_row4_col1\" class=\"data row4 col1\" >38</td>\n",
       "    </tr>\n",
       "  </tbody>\n",
       "</table>\n"
      ],
      "text/plain": [
       "<pandas.io.formats.style.Styler at 0x11f54ca90>"
      ]
     },
     "execution_count": 85,
     "metadata": {},
     "output_type": "execute_result"
    }
   ],
   "source": [
    "community[code] := *community{code: 'LGW', cluster}, *community{code, cluster}\n",
    "?[country, count(code)] := \n",
    "    community[code], \n",
    "    *airport{code, desc, country: country_code}, \n",
    "    *country{code: country_code, desc: country},\n",
    "\n",
    ":order -count(code)\n",
    ":limit 5"
   ]
  },
  {
   "cell_type": "markdown",
   "id": "2e3f13b7-0fc9-4585-ac68-9354c2fc1f5c",
   "metadata": {},
   "source": [
    "For `JFK` on the other hand, its supernode consists of mainly US airports:"
   ]
  },
  {
   "cell_type": "code",
   "execution_count": 86,
   "id": "65ed109d-146d-4d3d-8ea5-9cd5de2c6400",
   "metadata": {},
   "outputs": [
    {
     "data": {
      "text/html": [
       "<style type=\"text/css\">\n",
       "#T_ab485_row0_col0, #T_ab485_row1_col0, #T_ab485_row2_col0, #T_ab485_row3_col0, #T_ab485_row4_col0 {\n",
       "  color: black;\n",
       "}\n",
       "#T_ab485_row0_col1, #T_ab485_row1_col1, #T_ab485_row2_col1, #T_ab485_row3_col1, #T_ab485_row4_col1 {\n",
       "  color: #307fc1;\n",
       "}\n",
       "</style>\n",
       "<table id=\"T_ab485\">\n",
       "  <thead>\n",
       "    <tr>\n",
       "      <th class=\"blank level0\" >&nbsp;</th>\n",
       "      <th id=\"T_ab485_level0_col0\" class=\"col_heading level0 col0\" >country</th>\n",
       "      <th id=\"T_ab485_level0_col1\" class=\"col_heading level0 col1\" >count(code)</th>\n",
       "    </tr>\n",
       "  </thead>\n",
       "  <tbody>\n",
       "    <tr>\n",
       "      <th id=\"T_ab485_level0_row0\" class=\"row_heading level0 row0\" >0</th>\n",
       "      <td id=\"T_ab485_row0_col0\" class=\"data row0 col0\" >United States</td>\n",
       "      <td id=\"T_ab485_row0_col1\" class=\"data row0 col1\" >444</td>\n",
       "    </tr>\n",
       "    <tr>\n",
       "      <th id=\"T_ab485_level0_row1\" class=\"row_heading level0 row1\" >1</th>\n",
       "      <td id=\"T_ab485_row1_col0\" class=\"data row1 col0\" >Canada</td>\n",
       "      <td id=\"T_ab485_row1_col1\" class=\"data row1 col1\" >111</td>\n",
       "    </tr>\n",
       "    <tr>\n",
       "      <th id=\"T_ab485_level0_row2\" class=\"row_heading level0 row2\" >2</th>\n",
       "      <td id=\"T_ab485_row2_col0\" class=\"data row2 col0\" >Brazil</td>\n",
       "      <td id=\"T_ab485_row2_col1\" class=\"data row2 col1\" >108</td>\n",
       "    </tr>\n",
       "    <tr>\n",
       "      <th id=\"T_ab485_level0_row3\" class=\"row_heading level0 row3\" >3</th>\n",
       "      <td id=\"T_ab485_row3_col0\" class=\"data row3 col0\" >Mexico</td>\n",
       "      <td id=\"T_ab485_row3_col1\" class=\"data row3 col1\" >57</td>\n",
       "    </tr>\n",
       "    <tr>\n",
       "      <th id=\"T_ab485_level0_row4\" class=\"row_heading level0 row4\" >4</th>\n",
       "      <td id=\"T_ab485_row4_col0\" class=\"data row4 col0\" >Colombia</td>\n",
       "      <td id=\"T_ab485_row4_col1\" class=\"data row4 col1\" >50</td>\n",
       "    </tr>\n",
       "  </tbody>\n",
       "</table>\n"
      ],
      "text/plain": [
       "<pandas.io.formats.style.Styler at 0x11f57f430>"
      ]
     },
     "execution_count": 86,
     "metadata": {},
     "output_type": "execute_result"
    }
   ],
   "source": [
    "community[code] := *community{code: 'JFK', cluster}, *community{code, cluster}\n",
    "?[country, count(code)] := \n",
    "    community[code], \n",
    "    *airport{code, desc, country: country_code}, \n",
    "    *country{code: country_code, desc: country},\n",
    "\n",
    ":order -count(code)\n",
    ":limit 5"
   ]
  },
  {
   "cell_type": "markdown",
   "id": "be5890a8-94b3-4093-afe6-4b7cba1faeb4",
   "metadata": {},
   "source": [
    "But it does not always work according to geography. For example, Frankfurt airport is in Germany:"
   ]
  },
  {
   "cell_type": "code",
   "execution_count": 87,
   "id": "938dd92b-f59f-4008-a486-828443bca18f",
   "metadata": {},
   "outputs": [
    {
     "data": {
      "text/html": [
       "<style type=\"text/css\">\n",
       "#T_654c9_row0_col0, #T_654c9_row0_col1 {\n",
       "  color: black;\n",
       "}\n",
       "</style>\n",
       "<table id=\"T_654c9\">\n",
       "  <thead>\n",
       "    <tr>\n",
       "      <th class=\"blank level0\" >&nbsp;</th>\n",
       "      <th id=\"T_654c9_level0_col0\" class=\"col_heading level0 col0\" >desc</th>\n",
       "      <th id=\"T_654c9_level0_col1\" class=\"col_heading level0 col1\" >country_desc</th>\n",
       "    </tr>\n",
       "  </thead>\n",
       "  <tbody>\n",
       "    <tr>\n",
       "      <th id=\"T_654c9_level0_row0\" class=\"row_heading level0 row0\" >0</th>\n",
       "      <td id=\"T_654c9_row0_col0\" class=\"data row0 col0\" >Frankfurt am Main</td>\n",
       "      <td id=\"T_654c9_row0_col1\" class=\"data row0 col1\" >Germany</td>\n",
       "    </tr>\n",
       "  </tbody>\n",
       "</table>\n"
      ],
      "text/plain": [
       "<pandas.io.formats.style.Styler at 0x11f57e440>"
      ]
     },
     "execution_count": 87,
     "metadata": {},
     "output_type": "execute_result"
    }
   ],
   "source": [
    "?[desc, country_desc] := *airport{code: 'FRA', desc, country: country_code}, *country{code: country_code, desc: country_desc}"
   ]
  },
  {
   "cell_type": "markdown",
   "id": "961e4cc5-f55d-45be-a554-4a8d7b276b0c",
   "metadata": {},
   "source": [
    "But its supernode:"
   ]
  },
  {
   "cell_type": "code",
   "execution_count": 88,
   "id": "2ab311ba-b925-46b4-8c96-cb8a5e6bd3bd",
   "metadata": {},
   "outputs": [
    {
     "data": {
      "text/html": [
       "<style type=\"text/css\">\n",
       "#T_515ac_row0_col0, #T_515ac_row1_col0, #T_515ac_row2_col0, #T_515ac_row3_col0, #T_515ac_row4_col0 {\n",
       "  color: black;\n",
       "}\n",
       "#T_515ac_row0_col1, #T_515ac_row1_col1, #T_515ac_row2_col1, #T_515ac_row3_col1, #T_515ac_row4_col1 {\n",
       "  color: #307fc1;\n",
       "}\n",
       "</style>\n",
       "<table id=\"T_515ac\">\n",
       "  <thead>\n",
       "    <tr>\n",
       "      <th class=\"blank level0\" >&nbsp;</th>\n",
       "      <th id=\"T_515ac_level0_col0\" class=\"col_heading level0 col0\" >country</th>\n",
       "      <th id=\"T_515ac_level0_col1\" class=\"col_heading level0 col1\" >count(code)</th>\n",
       "    </tr>\n",
       "  </thead>\n",
       "  <tbody>\n",
       "    <tr>\n",
       "      <th id=\"T_515ac_level0_row0\" class=\"row_heading level0 row0\" >0</th>\n",
       "      <td id=\"T_515ac_row0_col0\" class=\"data row0 col0\" >United States</td>\n",
       "      <td id=\"T_515ac_row0_col1\" class=\"data row0 col1\" >444</td>\n",
       "    </tr>\n",
       "    <tr>\n",
       "      <th id=\"T_515ac_level0_row1\" class=\"row_heading level0 row1\" >1</th>\n",
       "      <td id=\"T_515ac_row1_col0\" class=\"data row1 col0\" >Canada</td>\n",
       "      <td id=\"T_515ac_row1_col1\" class=\"data row1 col1\" >111</td>\n",
       "    </tr>\n",
       "    <tr>\n",
       "      <th id=\"T_515ac_level0_row2\" class=\"row_heading level0 row2\" >2</th>\n",
       "      <td id=\"T_515ac_row2_col0\" class=\"data row2 col0\" >Brazil</td>\n",
       "      <td id=\"T_515ac_row2_col1\" class=\"data row2 col1\" >108</td>\n",
       "    </tr>\n",
       "    <tr>\n",
       "      <th id=\"T_515ac_level0_row3\" class=\"row_heading level0 row3\" >3</th>\n",
       "      <td id=\"T_515ac_row3_col0\" class=\"data row3 col0\" >Mexico</td>\n",
       "      <td id=\"T_515ac_row3_col1\" class=\"data row3 col1\" >57</td>\n",
       "    </tr>\n",
       "    <tr>\n",
       "      <th id=\"T_515ac_level0_row4\" class=\"row_heading level0 row4\" >4</th>\n",
       "      <td id=\"T_515ac_row4_col0\" class=\"data row4 col0\" >Colombia</td>\n",
       "      <td id=\"T_515ac_row4_col1\" class=\"data row4 col1\" >50</td>\n",
       "    </tr>\n",
       "  </tbody>\n",
       "</table>\n"
      ],
      "text/plain": [
       "<pandas.io.formats.style.Styler at 0x11f57d9c0>"
      ]
     },
     "execution_count": 88,
     "metadata": {},
     "output_type": "execute_result"
    }
   ],
   "source": [
    "community[code] := *community{code: 'FRA', cluster}, *community{code, cluster}\n",
    "?[country, count(code)] := \n",
    "    community[code], \n",
    "    *airport{code, desc, country: country_code}, \n",
    "    *country{code: country_code, desc: country},\n",
    "\n",
    ":order -count(code)\n",
    ":limit 5"
   ]
  },
  {
   "cell_type": "markdown",
   "id": "78a7d1cf-8051-40cd-b9d9-df7c0822f4b8",
   "metadata": {},
   "source": [
    "Germany does not even appear in the top five. In fact, `FRA` is in the same supernode as `JFK`. What matters is the connectivity in the graph, not the geography.\n",
    "As another example:"
   ]
  },
  {
   "cell_type": "code",
   "execution_count": 89,
   "id": "84284f9d-f7e7-4675-9c1e-f83cb4f7cae9",
   "metadata": {},
   "outputs": [
    {
     "data": {
      "text/html": [
       "<style type=\"text/css\">\n",
       "#T_190e2_row0_col0, #T_190e2_row1_col0, #T_190e2_row2_col0, #T_190e2_row3_col0, #T_190e2_row4_col0 {\n",
       "  color: black;\n",
       "}\n",
       "#T_190e2_row0_col1, #T_190e2_row1_col1, #T_190e2_row2_col1, #T_190e2_row3_col1, #T_190e2_row4_col1 {\n",
       "  color: #307fc1;\n",
       "}\n",
       "</style>\n",
       "<table id=\"T_190e2\">\n",
       "  <thead>\n",
       "    <tr>\n",
       "      <th class=\"blank level0\" >&nbsp;</th>\n",
       "      <th id=\"T_190e2_level0_col0\" class=\"col_heading level0 col0\" >country</th>\n",
       "      <th id=\"T_190e2_level0_col1\" class=\"col_heading level0 col1\" >count(code)</th>\n",
       "    </tr>\n",
       "  </thead>\n",
       "  <tbody>\n",
       "    <tr>\n",
       "      <th id=\"T_190e2_level0_row0\" class=\"row_heading level0 row0\" >0</th>\n",
       "      <td id=\"T_190e2_row0_col0\" class=\"data row0 col0\" >China</td>\n",
       "      <td id=\"T_190e2_row0_col1\" class=\"data row0 col1\" >216</td>\n",
       "    </tr>\n",
       "    <tr>\n",
       "      <th id=\"T_190e2_level0_row1\" class=\"row_heading level0 row1\" >1</th>\n",
       "      <td id=\"T_190e2_row1_col0\" class=\"data row1 col0\" >Australia</td>\n",
       "      <td id=\"T_190e2_row1_col1\" class=\"data row1 col1\" >125</td>\n",
       "    </tr>\n",
       "    <tr>\n",
       "      <th id=\"T_190e2_level0_row2\" class=\"row_heading level0 row2\" >2</th>\n",
       "      <td id=\"T_190e2_row2_col0\" class=\"data row2 col0\" >Indonesia</td>\n",
       "      <td id=\"T_190e2_row2_col1\" class=\"data row2 col1\" >68</td>\n",
       "    </tr>\n",
       "    <tr>\n",
       "      <th id=\"T_190e2_level0_row3\" class=\"row_heading level0 row3\" >3</th>\n",
       "      <td id=\"T_190e2_row3_col0\" class=\"data row3 col0\" >Japan</td>\n",
       "      <td id=\"T_190e2_row3_col1\" class=\"data row3 col1\" >65</td>\n",
       "    </tr>\n",
       "    <tr>\n",
       "      <th id=\"T_190e2_level0_row4\" class=\"row_heading level0 row4\" >4</th>\n",
       "      <td id=\"T_190e2_row4_col0\" class=\"data row4 col0\" >Philippines</td>\n",
       "      <td id=\"T_190e2_row4_col1\" class=\"data row4 col1\" >40</td>\n",
       "    </tr>\n",
       "  </tbody>\n",
       "</table>\n"
      ],
      "text/plain": [
       "<pandas.io.formats.style.Styler at 0x11f57fd00>"
      ]
     },
     "execution_count": 89,
     "metadata": {},
     "output_type": "execute_result"
    }
   ],
   "source": [
    "community[code] := *community{code: 'SIN', cluster}, *community{code, cluster}\n",
    "?[country, count(code)] := \n",
    "    community[code], \n",
    "    *airport{code, desc, country: country_code}, \n",
    "    *country{code: country_code, desc: country},\n",
    "\n",
    ":order -count(code)\n",
    ":limit 5"
   ]
  },
  {
   "cell_type": "markdown",
   "id": "1dc2a5cc-62f9-488b-8520-570122148ec7",
   "metadata": {},
   "source": [
    "You'd expect `SIN` to be a Chinese airport. Wrong:"
   ]
  },
  {
   "cell_type": "code",
   "execution_count": 90,
   "id": "d2adbdb9-14b9-4b07-83e8-9888ee984ff9",
   "metadata": {},
   "outputs": [
    {
     "data": {
      "text/html": [
       "<style type=\"text/css\">\n",
       "#T_91a48_row0_col0, #T_91a48_row0_col1 {\n",
       "  color: black;\n",
       "}\n",
       "</style>\n",
       "<table id=\"T_91a48\">\n",
       "  <thead>\n",
       "    <tr>\n",
       "      <th class=\"blank level0\" >&nbsp;</th>\n",
       "      <th id=\"T_91a48_level0_col0\" class=\"col_heading level0 col0\" >desc</th>\n",
       "      <th id=\"T_91a48_level0_col1\" class=\"col_heading level0 col1\" >country_desc</th>\n",
       "    </tr>\n",
       "  </thead>\n",
       "  <tbody>\n",
       "    <tr>\n",
       "      <th id=\"T_91a48_level0_row0\" class=\"row_heading level0 row0\" >0</th>\n",
       "      <td id=\"T_91a48_row0_col0\" class=\"data row0 col0\" >Singapore, Changi International Airport</td>\n",
       "      <td id=\"T_91a48_row0_col1\" class=\"data row0 col1\" >Singapore</td>\n",
       "    </tr>\n",
       "  </tbody>\n",
       "</table>\n"
      ],
      "text/plain": [
       "<pandas.io.formats.style.Styler at 0x11f870b50>"
      ]
     },
     "execution_count": 90,
     "metadata": {},
     "output_type": "execute_result"
    }
   ],
   "source": [
    "?[desc, country_desc] := *airport{code: 'SIN', desc, country: country_code}, *country{code: country_code, desc: country_desc}"
   ]
  },
  {
   "cell_type": "markdown",
   "id": "fd567d89-778a-4ff0-95a2-22e81506ce11",
   "metadata": {},
   "source": [
    "Finally, let's collapse the `route` relation into `super_route`:"
   ]
  },
  {
   "cell_type": "code",
   "execution_count": 91,
   "id": "a36fc591-b596-4f1e-b890-cd3d09c177fe",
   "metadata": {},
   "outputs": [
    {
     "data": {
      "text/html": [
       "<style type=\"text/css\">\n",
       "#T_48bf9_row0_col0 {\n",
       "  color: black;\n",
       "}\n",
       "</style>\n",
       "<table id=\"T_48bf9\">\n",
       "  <thead>\n",
       "    <tr>\n",
       "      <th class=\"blank level0\" >&nbsp;</th>\n",
       "      <th id=\"T_48bf9_level0_col0\" class=\"col_heading level0 col0\" >status</th>\n",
       "    </tr>\n",
       "  </thead>\n",
       "  <tbody>\n",
       "    <tr>\n",
       "      <th id=\"T_48bf9_level0_row0\" class=\"row_heading level0 row0\" >0</th>\n",
       "      <td id=\"T_48bf9_row0_col0\" class=\"data row0 col0\" >OK</td>\n",
       "    </tr>\n",
       "  </tbody>\n",
       "</table>\n"
      ],
      "text/plain": [
       "<pandas.io.formats.style.Styler at 0x11f871690>"
      ]
     },
     "execution_count": 91,
     "metadata": {},
     "output_type": "execute_result"
    }
   ],
   "source": [
    "?[fr_cluster, to_cluster, count(dist), sum(dist)] := *route{fr, to, dist}, \n",
    "                                                     *community{code: fr, cluster: fr_cluster},\n",
    "                                                     *community{code: to, cluster: to_cluster}\n",
    ":replace super_route {fr_cluster, to_cluster => n_routes=count(dist), total_distance=sum(dist)}"
   ]
  },
  {
   "cell_type": "markdown",
   "id": "048a4168-71e9-4c44-860e-5ed3e8d456e7",
   "metadata": {},
   "source": [
    "As expected, the \"diagonals\" where `fr_cluster == to_cluster` are larger in the `super_route` graph:"
   ]
  },
  {
   "cell_type": "code",
   "execution_count": 92,
   "id": "d75f055d-5f7a-4add-81c3-4fbfe7ae3073",
   "metadata": {},
   "outputs": [
    {
     "data": {
      "text/html": [
       "<style type=\"text/css\">\n",
       "#T_90539_row0_col0, #T_90539_row0_col1, #T_90539_row0_col2, #T_90539_row0_col3, #T_90539_row1_col0, #T_90539_row1_col1, #T_90539_row1_col2, #T_90539_row1_col3, #T_90539_row2_col0, #T_90539_row2_col1, #T_90539_row2_col2, #T_90539_row2_col3, #T_90539_row3_col0, #T_90539_row3_col1, #T_90539_row3_col2, #T_90539_row3_col3, #T_90539_row4_col0, #T_90539_row4_col1, #T_90539_row4_col2, #T_90539_row4_col3, #T_90539_row5_col0, #T_90539_row5_col1, #T_90539_row5_col2, #T_90539_row5_col3, #T_90539_row6_col0, #T_90539_row6_col1, #T_90539_row6_col2, #T_90539_row6_col3, #T_90539_row7_col0, #T_90539_row7_col1, #T_90539_row7_col2, #T_90539_row7_col3, #T_90539_row8_col0, #T_90539_row8_col1, #T_90539_row8_col2, #T_90539_row8_col3, #T_90539_row9_col0, #T_90539_row9_col1, #T_90539_row9_col2, #T_90539_row9_col3, #T_90539_row10_col0, #T_90539_row10_col1, #T_90539_row10_col2, #T_90539_row10_col3, #T_90539_row11_col0, #T_90539_row11_col1, #T_90539_row11_col2, #T_90539_row11_col3, #T_90539_row12_col0, #T_90539_row12_col1, #T_90539_row12_col2, #T_90539_row12_col3, #T_90539_row13_col0, #T_90539_row13_col1, #T_90539_row13_col2, #T_90539_row13_col3, #T_90539_row14_col0, #T_90539_row14_col1, #T_90539_row14_col2, #T_90539_row14_col3, #T_90539_row15_col0, #T_90539_row15_col1, #T_90539_row15_col2, #T_90539_row15_col3 {\n",
       "  color: #307fc1;\n",
       "}\n",
       "</style>\n",
       "<table id=\"T_90539\">\n",
       "  <thead>\n",
       "    <tr>\n",
       "      <th class=\"blank level0\" >&nbsp;</th>\n",
       "      <th id=\"T_90539_level0_col0\" class=\"col_heading level0 col0\" >fr_cluster</th>\n",
       "      <th id=\"T_90539_level0_col1\" class=\"col_heading level0 col1\" >to_cluster</th>\n",
       "      <th id=\"T_90539_level0_col2\" class=\"col_heading level0 col2\" >n_routes</th>\n",
       "      <th id=\"T_90539_level0_col3\" class=\"col_heading level0 col3\" >total_distance</th>\n",
       "    </tr>\n",
       "  </thead>\n",
       "  <tbody>\n",
       "    <tr>\n",
       "      <th id=\"T_90539_level0_row0\" class=\"row_heading level0 row0\" >0</th>\n",
       "      <td id=\"T_90539_row0_col0\" class=\"data row0 col0\" >0</td>\n",
       "      <td id=\"T_90539_row0_col1\" class=\"data row0 col1\" >0</td>\n",
       "      <td id=\"T_90539_row0_col2\" class=\"data row0 col2\" >9041</td>\n",
       "      <td id=\"T_90539_row0_col3\" class=\"data row0 col3\" >8933554.000000</td>\n",
       "    </tr>\n",
       "    <tr>\n",
       "      <th id=\"T_90539_level0_row1\" class=\"row_heading level0 row1\" >1</th>\n",
       "      <td id=\"T_90539_row1_col0\" class=\"data row1 col0\" >0</td>\n",
       "      <td id=\"T_90539_row1_col1\" class=\"data row1 col1\" >1</td>\n",
       "      <td id=\"T_90539_row1_col2\" class=\"data row1 col2\" >434</td>\n",
       "      <td id=\"T_90539_row1_col3\" class=\"data row1 col3\" >1695379.000000</td>\n",
       "    </tr>\n",
       "    <tr>\n",
       "      <th id=\"T_90539_level0_row2\" class=\"row_heading level0 row2\" >2</th>\n",
       "      <td id=\"T_90539_row2_col0\" class=\"data row2 col0\" >0</td>\n",
       "      <td id=\"T_90539_row2_col1\" class=\"data row2 col1\" >2</td>\n",
       "      <td id=\"T_90539_row2_col2\" class=\"data row2 col2\" >228</td>\n",
       "      <td id=\"T_90539_row2_col3\" class=\"data row2 col3\" >761661.000000</td>\n",
       "    </tr>\n",
       "    <tr>\n",
       "      <th id=\"T_90539_level0_row3\" class=\"row_heading level0 row3\" >3</th>\n",
       "      <td id=\"T_90539_row3_col0\" class=\"data row3 col0\" >0</td>\n",
       "      <td id=\"T_90539_row3_col1\" class=\"data row3 col1\" >3</td>\n",
       "      <td id=\"T_90539_row3_col2\" class=\"data row3 col2\" >530</td>\n",
       "      <td id=\"T_90539_row3_col3\" class=\"data row3 col3\" >1681865.000000</td>\n",
       "    </tr>\n",
       "    <tr>\n",
       "      <th id=\"T_90539_level0_row4\" class=\"row_heading level0 row4\" >4</th>\n",
       "      <td id=\"T_90539_row4_col0\" class=\"data row4 col0\" >0</td>\n",
       "      <td id=\"T_90539_row4_col1\" class=\"data row4 col1\" >4</td>\n",
       "      <td id=\"T_90539_row4_col2\" class=\"data row4 col2\" >163</td>\n",
       "      <td id=\"T_90539_row4_col3\" class=\"data row4 col3\" >391892.000000</td>\n",
       "    </tr>\n",
       "    <tr>\n",
       "      <th id=\"T_90539_level0_row5\" class=\"row_heading level0 row5\" >5</th>\n",
       "      <td id=\"T_90539_row5_col0\" class=\"data row5 col0\" >0</td>\n",
       "      <td id=\"T_90539_row5_col1\" class=\"data row5 col1\" >8</td>\n",
       "      <td id=\"T_90539_row5_col2\" class=\"data row5 col2\" >3</td>\n",
       "      <td id=\"T_90539_row5_col3\" class=\"data row5 col3\" >300.000000</td>\n",
       "    </tr>\n",
       "    <tr>\n",
       "      <th id=\"T_90539_level0_row6\" class=\"row_heading level0 row6\" >6</th>\n",
       "      <td id=\"T_90539_row6_col0\" class=\"data row6 col0\" >0</td>\n",
       "      <td id=\"T_90539_row6_col1\" class=\"data row6 col1\" >11</td>\n",
       "      <td id=\"T_90539_row6_col2\" class=\"data row6 col2\" >2</td>\n",
       "      <td id=\"T_90539_row6_col3\" class=\"data row6 col3\" >283.000000</td>\n",
       "    </tr>\n",
       "    <tr>\n",
       "      <th id=\"T_90539_level0_row7\" class=\"row_heading level0 row7\" >7</th>\n",
       "      <td id=\"T_90539_row7_col0\" class=\"data row7 col0\" >0</td>\n",
       "      <td id=\"T_90539_row7_col1\" class=\"data row7 col1\" >19</td>\n",
       "      <td id=\"T_90539_row7_col2\" class=\"data row7 col2\" >1</td>\n",
       "      <td id=\"T_90539_row7_col3\" class=\"data row7 col3\" >238.000000</td>\n",
       "    </tr>\n",
       "    <tr>\n",
       "      <th id=\"T_90539_level0_row8\" class=\"row_heading level0 row8\" >8</th>\n",
       "      <td id=\"T_90539_row8_col0\" class=\"data row8 col0\" >0</td>\n",
       "      <td id=\"T_90539_row8_col1\" class=\"data row8 col1\" >21</td>\n",
       "      <td id=\"T_90539_row8_col2\" class=\"data row8 col2\" >2</td>\n",
       "      <td id=\"T_90539_row8_col3\" class=\"data row8 col3\" >705.000000</td>\n",
       "    </tr>\n",
       "    <tr>\n",
       "      <th id=\"T_90539_level0_row9\" class=\"row_heading level0 row9\" >9</th>\n",
       "      <td id=\"T_90539_row9_col0\" class=\"data row9 col0\" >0</td>\n",
       "      <td id=\"T_90539_row9_col1\" class=\"data row9 col1\" >22</td>\n",
       "      <td id=\"T_90539_row9_col2\" class=\"data row9 col2\" >1</td>\n",
       "      <td id=\"T_90539_row9_col3\" class=\"data row9 col3\" >975.000000</td>\n",
       "    </tr>\n",
       "    <tr>\n",
       "      <th id=\"T_90539_level0_row10\" class=\"row_heading level0 row10\" >10</th>\n",
       "      <td id=\"T_90539_row10_col0\" class=\"data row10 col0\" >1</td>\n",
       "      <td id=\"T_90539_row10_col1\" class=\"data row10 col1\" >0</td>\n",
       "      <td id=\"T_90539_row10_col2\" class=\"data row10 col2\" >434</td>\n",
       "      <td id=\"T_90539_row10_col3\" class=\"data row10 col3\" >1696858.000000</td>\n",
       "    </tr>\n",
       "    <tr>\n",
       "      <th id=\"T_90539_level0_row11\" class=\"row_heading level0 row11\" >11</th>\n",
       "      <td id=\"T_90539_row11_col0\" class=\"data row11 col0\" >1</td>\n",
       "      <td id=\"T_90539_row11_col1\" class=\"data row11 col1\" >1</td>\n",
       "      <td id=\"T_90539_row11_col2\" class=\"data row11 col2\" >4474</td>\n",
       "      <td id=\"T_90539_row11_col3\" class=\"data row11 col3\" >5142452.000000</td>\n",
       "    </tr>\n",
       "    <tr>\n",
       "      <th id=\"T_90539_level0_row12\" class=\"row_heading level0 row12\" >12</th>\n",
       "      <td id=\"T_90539_row12_col0\" class=\"data row12 col0\" >1</td>\n",
       "      <td id=\"T_90539_row12_col1\" class=\"data row12 col1\" >2</td>\n",
       "      <td id=\"T_90539_row12_col2\" class=\"data row12 col2\" >1160</td>\n",
       "      <td id=\"T_90539_row12_col3\" class=\"data row12 col3\" >1492734.000000</td>\n",
       "    </tr>\n",
       "    <tr>\n",
       "      <th id=\"T_90539_level0_row13\" class=\"row_heading level0 row13\" >13</th>\n",
       "      <td id=\"T_90539_row13_col0\" class=\"data row13 col0\" >1</td>\n",
       "      <td id=\"T_90539_row13_col1\" class=\"data row13 col1\" >3</td>\n",
       "      <td id=\"T_90539_row13_col2\" class=\"data row13 col2\" >526</td>\n",
       "      <td id=\"T_90539_row13_col3\" class=\"data row13 col3\" >1724591.000000</td>\n",
       "    </tr>\n",
       "    <tr>\n",
       "      <th id=\"T_90539_level0_row14\" class=\"row_heading level0 row14\" >14</th>\n",
       "      <td id=\"T_90539_row14_col0\" class=\"data row14 col0\" >1</td>\n",
       "      <td id=\"T_90539_row14_col1\" class=\"data row14 col1\" >4</td>\n",
       "      <td id=\"T_90539_row14_col2\" class=\"data row14 col2\" >223</td>\n",
       "      <td id=\"T_90539_row14_col3\" class=\"data row14 col3\" >361986.000000</td>\n",
       "    </tr>\n",
       "    <tr>\n",
       "      <th id=\"T_90539_level0_row15\" class=\"row_heading level0 row15\" >15</th>\n",
       "      <td id=\"T_90539_row15_col0\" class=\"data row15 col0\" >1</td>\n",
       "      <td id=\"T_90539_row15_col1\" class=\"data row15 col1\" >9</td>\n",
       "      <td id=\"T_90539_row15_col2\" class=\"data row15 col2\" >1</td>\n",
       "      <td id=\"T_90539_row15_col3\" class=\"data row15 col3\" >808.000000</td>\n",
       "    </tr>\n",
       "  </tbody>\n",
       "</table>\n"
      ],
      "text/plain": [
       "<pandas.io.formats.style.Styler at 0x11f870b20>"
      ]
     },
     "execution_count": 92,
     "metadata": {},
     "output_type": "execute_result"
    }
   ],
   "source": [
    "?[fr_cluster, to_cluster, n_routes, total_distance] := *super_route{fr_cluster, to_cluster, n_routes, total_distance}, fr_cluster < 2"
   ]
  },
  {
   "cell_type": "markdown",
   "id": "6ae4a226-9ad2-4a9e-bd42-0372e45eeae2",
   "metadata": {},
   "source": [
    "Now the super graph is small enough that all analytics algorithms return instantly:"
   ]
  },
  {
   "cell_type": "code",
   "execution_count": 93,
   "id": "76148aef-3f03-4334-b8de-13e53e1f7419",
   "metadata": {},
   "outputs": [
    {
     "data": {
      "text/html": [
       "<style type=\"text/css\">\n",
       "#T_0a93f_row0_col0, #T_0a93f_row0_col1, #T_0a93f_row1_col0, #T_0a93f_row1_col1, #T_0a93f_row2_col0, #T_0a93f_row2_col1, #T_0a93f_row3_col0, #T_0a93f_row3_col1, #T_0a93f_row4_col0, #T_0a93f_row4_col1 {\n",
       "  color: #307fc1;\n",
       "}\n",
       "</style>\n",
       "<table id=\"T_0a93f\">\n",
       "  <thead>\n",
       "    <tr>\n",
       "      <th class=\"blank level0\" >&nbsp;</th>\n",
       "      <th id=\"T_0a93f_level0_col0\" class=\"col_heading level0 col0\" >cluster</th>\n",
       "      <th id=\"T_0a93f_level0_col1\" class=\"col_heading level0 col1\" >score</th>\n",
       "    </tr>\n",
       "  </thead>\n",
       "  <tbody>\n",
       "    <tr>\n",
       "      <th id=\"T_0a93f_level0_row0\" class=\"row_heading level0 row0\" >0</th>\n",
       "      <td id=\"T_0a93f_row0_col0\" class=\"data row0 col0\" >3</td>\n",
       "      <td id=\"T_0a93f_row0_col1\" class=\"data row0 col1\" >0.173309</td>\n",
       "    </tr>\n",
       "    <tr>\n",
       "      <th id=\"T_0a93f_level0_row1\" class=\"row_heading level0 row1\" >1</th>\n",
       "      <td id=\"T_0a93f_row1_col0\" class=\"data row1 col0\" >0</td>\n",
       "      <td id=\"T_0a93f_row1_col1\" class=\"data row1 col1\" >0.093072</td>\n",
       "    </tr>\n",
       "    <tr>\n",
       "      <th id=\"T_0a93f_level0_row2\" class=\"row_heading level0 row2\" >2</th>\n",
       "      <td id=\"T_0a93f_row2_col0\" class=\"data row2 col0\" >1</td>\n",
       "      <td id=\"T_0a93f_row2_col1\" class=\"data row2 col1\" >0.053465</td>\n",
       "    </tr>\n",
       "    <tr>\n",
       "      <th id=\"T_0a93f_level0_row3\" class=\"row_heading level0 row3\" >3</th>\n",
       "      <td id=\"T_0a93f_row3_col0\" class=\"data row3 col0\" >2</td>\n",
       "      <td id=\"T_0a93f_row3_col1\" class=\"data row3 col1\" >0.053389</td>\n",
       "    </tr>\n",
       "    <tr>\n",
       "      <th id=\"T_0a93f_level0_row4\" class=\"row_heading level0 row4\" >4</th>\n",
       "      <td id=\"T_0a93f_row4_col0\" class=\"data row4 col0\" >4</td>\n",
       "      <td id=\"T_0a93f_row4_col1\" class=\"data row4 col1\" >0.044654</td>\n",
       "    </tr>\n",
       "  </tbody>\n",
       "</table>\n"
      ],
      "text/plain": [
       "<pandas.io.formats.style.Styler at 0x11f872230>"
      ]
     },
     "execution_count": 93,
     "metadata": {},
     "output_type": "execute_result"
    }
   ],
   "source": [
    "?[cluster, score] <~ PageRank(*super_route[])\n",
    ":order -score\n",
    ":limit 5"
   ]
  },
  {
   "cell_type": "markdown",
   "id": "ac852ff2-63d2-4f44-b8b3-675b34e2cad1",
   "metadata": {},
   "source": [
    "You can now go on to investigate the supernodes, give real-world interpretations to them, etc. \n",
    "For example, a naïve interpretation of the above PageRank result is that \n",
    "North America is (still) the most prosperous part of the world,\n",
    "followed by East Asia in the second place, South Asia in the third place, and Europe in the fourth place.\n",
    "\n",
    "That's it for the tutorial. Now, continue learning with the [Manual](https://cozodb.github.io/current/manual/index.html)!"
   ]
  },
  {
   "cell_type": "code",
   "execution_count": null,
   "id": "4f2c6f0c-e6a4-4eeb-b33b-288bdfc8863d",
   "metadata": {},
   "outputs": [],
   "source": []
  }
 ],
 "metadata": {
  "kernelspec": {
   "display_name": "Python 3 (ipykernel)",
   "language": "python",
   "name": "python3"
  },
  "language_info": {
   "codemirror_mode": {
    "name": "ipython",
    "version": 3
   },
   "file_extension": ".py",
   "mimetype": "text/x-python",
   "name": "python",
   "nbconvert_exporter": "python",
   "pygments_lexer": "ipython3",
   "version": "3.10.6"
  }
 },
 "nbformat": 4,
 "nbformat_minor": 5
}
